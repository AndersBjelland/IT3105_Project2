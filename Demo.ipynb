{
 "cells": [
  {
   "cell_type": "markdown",
   "metadata": {},
   "source": [
    "# Demo 2 AI-prog"
   ]
  },
  {
   "cell_type": "code",
   "execution_count": 1,
   "metadata": {},
   "outputs": [
    {
     "name": "stdout",
     "output_type": "stream",
     "text": [
      "Collecting git+https://github.com/AndersBjelland/IT3105_Project2.git@dev\n",
      "  Cloning https://github.com/AndersBjelland/IT3105_Project2.git (to revision dev) to /private/var/folders/dm/8497wlxs7d34zt6c6wdjfh500000gn/T/pip-req-build-ahsuahjd\n",
      "Building wheels for collected packages: Project2\n",
      "  Building wheel for Project2 (setup.py) ... \u001b[?25ldone\n",
      "\u001b[?25h  Created wheel for Project2: filename=Project2-1.0-py3-none-any.whl size=25680 sha256=0a6665a38d81b60fe462a15af8f170f603325cbd9e61602aa60367f053eb58c8\n",
      "  Stored in directory: /private/var/folders/dm/8497wlxs7d34zt6c6wdjfh500000gn/T/pip-ephem-wheel-cache-u4esecm1/wheels/b2/24/99/8fa89aec957ae3920f431ef10ca7ed9e2e3743c4e806a2fbf0\n",
      "Successfully built Project2\n",
      "Installing collected packages: Project2\n",
      "  Attempting uninstall: Project2\n",
      "    Found existing installation: Project2 1.0\n",
      "    Uninstalling Project2-1.0:\n",
      "      Successfully uninstalled Project2-1.0\n",
      "Successfully installed Project2-1.0\n"
     ]
    }
   ],
   "source": [
    "import sys\n",
    "!{sys.executable} -m pip install --upgrade git+https://github.com/AndersBjelland/IT3105_Project2.git@dev"
   ]
  },
  {
   "cell_type": "code",
   "execution_count": 1,
   "metadata": {},
   "outputs": [],
   "source": [
    "import matplotlib.pyplot as plt\n",
    "from ipywidgets import interact,fixed"
   ]
  },
  {
   "cell_type": "code",
   "execution_count": 2,
   "metadata": {},
   "outputs": [],
   "source": [
    "# our code\n",
    "from src import *"
   ]
  },
  {
   "cell_type": "markdown",
   "metadata": {},
   "source": [
    "alpha zero ran 800 simulations in mcts"
   ]
  },
  {
   "cell_type": "markdown",
   "metadata": {},
   "source": [
    "## Train a simple agent and show improvement"
   ]
  },
  {
   "cell_type": "code",
   "execution_count": 3,
   "metadata": {},
   "outputs": [
    {
     "data": {
      "image/png": "[encoded data removed]",
      "text/plain": [
       "<Figure size 432x288 with 1 Axes>"
      ]
     },
     "metadata": {},
     "output_type": "display_data"
    }
   ],
   "source": [
    "%matplotlib inline\n",
    "hex = Hex((4,4))\n",
    "hex.display_board()"
   ]
  },
  {
   "cell_type": "code",
   "execution_count": 3,
   "metadata": {},
   "outputs": [],
   "source": [
    "hex = Hex((4,4))\n",
    "\n",
    "encoder = DemoEncoder()\n",
    "\n",
    "actor = Actor(learning_rate=0.001,\n",
    "             epsilon=0.0,\n",
    "             end_epsilon=0.0,\n",
    "             nn_shape=(33,128, 64,16),\n",
    "             filters=(),\n",
    "             kernel_sizes=(),\n",
    "                nn_opt='Adam',\n",
    "              nn_activation='relu',\n",
    "              nn_last_activation='softmax',\n",
    "              nn_loss= 'categorical_crossentropy',\n",
    "              encoder=encoder\n",
    "             )\n",
    "\n",
    "critic = Critic(learning_rate=0.001,\n",
    "             \n",
    "             nn_shape=(33,128, 64,1),\n",
    "             filters=(),\n",
    "             kernel_sizes=(),\n",
    "                nn_opt='SGD',\n",
    "              nn_activation='relu',\n",
    "              nn_last_activation='sigmoid',\n",
    "              nn_loss= 'mse',\n",
    "              encoder=encoder\n",
    "             )\n",
    "\n",
    "hex.set_encoder(encoder)            \n",
    "            \n",
    "agent = Agent(actor,critic)  \n",
    "mcts = MCTS(agent.actor, hex, agent.critic)"
   ]
  },
  {
   "cell_type": "code",
   "execution_count": 4,
   "metadata": {
    "scrolled": true
   },
   "outputs": [
    {
     "name": "stderr",
     "output_type": "stream",
     "text": [
      "\r",
      "  0%|          | 0/15 [00:00<?, ?it/s]"
     ]
    },
    {
     "name": "stdout",
     "output_type": "stream",
     "text": [
      "--------------actor-------------\n",
      "Epoch 1/10\n",
      "1/1 [==============================] - 1s 875ms/step - loss: 2.8201 - accuracy: 0.0000e+00\n",
      "Epoch 2/10\n",
      "1/1 [==============================] - 0s 11ms/step - loss: 2.7839 - accuracy: 0.0000e+00\n",
      "Epoch 3/10\n",
      "1/1 [==============================] - 0s 8ms/step - loss: 2.7503 - accuracy: 0.0000e+00\n",
      "Epoch 4/10\n",
      "1/1 [==============================] - 0s 20ms/step - loss: 2.7190 - accuracy: 0.0000e+00\n",
      "Epoch 5/10\n",
      "1/1 [==============================] - 0s 4ms/step - loss: 2.6910 - accuracy: 0.0909\n",
      "Epoch 6/10\n",
      "1/1 [==============================] - 0s 64ms/step - loss: 2.6641 - accuracy: 0.2727\n",
      "Epoch 7/10\n",
      "1/1 [==============================] - 0s 25ms/step - loss: 2.6393 - accuracy: 0.2727\n",
      "Epoch 8/10\n",
      "1/1 [==============================] - ETA: 0s - loss: 2.6162 - accuracy: 0.27 - 0s 4ms/step - loss: 2.6162 - accuracy: 0.2727\n",
      "Epoch 9/10\n",
      "1/1 [==============================] - ETA: 0s - loss: 2.5939 - accuracy: 0.27 - 0s 41ms/step - loss: 2.5939 - accuracy: 0.2727\n",
      "Epoch 10/10\n",
      "1/1 [==============================] - 0s 4ms/step - loss: 2.5722 - accuracy: 0.2727\n",
      "--------------critic------------\n",
      "first replay:  3\n",
      "Epoch 1/10\n",
      "1/1 [==============================] - 1s 569ms/step - loss: 0.2547 - accuracy: 0.2727\n",
      "Epoch 2/10\n",
      "1/1 [==============================] - 0s 5ms/step - loss: 0.2547 - accuracy: 0.2727\n",
      "Epoch 3/10\n",
      "1/1 [==============================] - 0s 9ms/step - loss: 0.2547 - accuracy: 0.2727\n",
      "Epoch 4/10\n",
      "1/1 [==============================] - 0s 16ms/step - loss: 0.2546 - accuracy: 0.2727\n",
      "Epoch 5/10\n",
      "1/1 [==============================] - 0s 11ms/step - loss: 0.2546 - accuracy: 0.2727\n",
      "Epoch 6/10\n",
      "1/1 [==============================] - 0s 4ms/step - loss: 0.2546 - accuracy: 0.2727\n",
      "Epoch 7/10\n",
      "1/1 [==============================] - 0s 7ms/step - loss: 0.2546 - accuracy: 0.2727\n",
      "Epoch 8/10\n",
      "1/1 [==============================] - 0s 5ms/step - loss: 0.2546 - accuracy: 0.2727\n",
      "Epoch 9/10\n",
      "1/1 [==============================] - 0s 9ms/step - loss: 0.2545 - accuracy: 0.2727\n",
      "Epoch 10/10\n",
      "1/1 [==============================] - 0s 5ms/step - loss: 0.2545 - accuracy: 0.2727\n"
     ]
    },
    {
     "name": "stderr",
     "output_type": "stream",
     "text": [
      "\r",
      "  7%|▋         | 1/15 [00:19<04:32, 19.43s/it]"
     ]
    },
    {
     "name": "stdout",
     "output_type": "stream",
     "text": [
      "--------------actor-------------\n",
      "Epoch 1/10\n",
      "1/1 [==============================] - 0s 4ms/step - loss: 2.7495 - accuracy: 0.1200\n",
      "Epoch 2/10\n",
      "1/1 [==============================] - 0s 3ms/step - loss: 2.7416 - accuracy: 0.1200\n",
      "Epoch 3/10\n",
      "1/1 [==============================] - 0s 3ms/step - loss: 2.7311 - accuracy: 0.1200\n",
      "Epoch 4/10\n",
      "1/1 [==============================] - 0s 3ms/step - loss: 2.7188 - accuracy: 0.1200\n",
      "Epoch 5/10\n",
      "1/1 [==============================] - 0s 6ms/step - loss: 2.7050 - accuracy: 0.1200\n",
      "Epoch 6/10\n",
      "1/1 [==============================] - 0s 4ms/step - loss: 2.6904 - accuracy: 0.1200\n",
      "Epoch 7/10\n",
      "1/1 [==============================] - 0s 14ms/step - loss: 2.6757 - accuracy: 0.1200\n",
      "Epoch 8/10\n",
      "1/1 [==============================] - 0s 22ms/step - loss: 2.6606 - accuracy: 0.1200\n",
      "Epoch 9/10\n",
      "1/1 [==============================] - 0s 24ms/step - loss: 2.6455 - accuracy: 0.1200\n",
      "Epoch 10/10\n",
      "1/1 [==============================] - 0s 3ms/step - loss: 2.6304 - accuracy: 0.1200\n",
      "--------------critic------------\n",
      "first replay:  3\n",
      "Epoch 1/10\n",
      "1/1 [==============================] - 0s 3ms/step - loss: 0.2506 - accuracy: 0.4400\n",
      "Epoch 2/10\n",
      "1/1 [==============================] - 0s 11ms/step - loss: 0.2506 - accuracy: 0.4400\n",
      "Epoch 3/10\n",
      "1/1 [==============================] - 0s 3ms/step - loss: 0.2506 - accuracy: 0.4400\n",
      "Epoch 4/10\n",
      "1/1 [==============================] - 0s 7ms/step - loss: 0.2506 - accuracy: 0.4400\n",
      "Epoch 5/10\n",
      "1/1 [==============================] - 0s 3ms/step - loss: 0.2506 - accuracy: 0.4400\n",
      "Epoch 6/10\n",
      "1/1 [==============================] - 0s 3ms/step - loss: 0.2506 - accuracy: 0.4400\n",
      "Epoch 7/10\n",
      "1/1 [==============================] - 0s 4ms/step - loss: 0.2506 - accuracy: 0.4400\n",
      "Epoch 8/10\n",
      "1/1 [==============================] - 0s 5ms/step - loss: 0.2506 - accuracy: 0.4400\n",
      "Epoch 9/10\n",
      "1/1 [==============================] - 0s 3ms/step - loss: 0.2506 - accuracy: 0.4400\n",
      "Epoch 10/10\n",
      "1/1 [==============================] - 0s 9ms/step - loss: 0.2506 - accuracy: 0.4400\n"
     ]
    },
    {
     "name": "stderr",
     "output_type": "stream",
     "text": [
      "\r",
      " 13%|█▎        | 2/15 [00:49<04:55, 22.73s/it]"
     ]
    },
    {
     "name": "stdout",
     "output_type": "stream",
     "text": [
      "--------------actor-------------\n",
      "Epoch 1/10\n",
      "1/1 [==============================] - 0s 4ms/step - loss: 2.6708 - accuracy: 0.0811\n",
      "Epoch 2/10\n",
      "1/1 [==============================] - 0s 3ms/step - loss: 2.6594 - accuracy: 0.0811\n",
      "Epoch 3/10\n",
      "1/1 [==============================] - 0s 3ms/step - loss: 2.6474 - accuracy: 0.0811\n",
      "Epoch 4/10\n",
      "1/1 [==============================] - 0s 4ms/step - loss: 2.6347 - accuracy: 0.0811\n",
      "Epoch 5/10\n",
      "1/1 [==============================] - 0s 3ms/step - loss: 2.6218 - accuracy: 0.1351\n",
      "Epoch 6/10\n",
      "1/1 [==============================] - 0s 4ms/step - loss: 2.6088 - accuracy: 0.1622\n",
      "Epoch 7/10\n",
      "1/1 [==============================] - 0s 4ms/step - loss: 2.5955 - accuracy: 0.2162\n",
      "Epoch 8/10\n",
      "1/1 [==============================] - 0s 3ms/step - loss: 2.5822 - accuracy: 0.2432\n",
      "Epoch 9/10\n",
      "1/1 [==============================] - 0s 3ms/step - loss: 2.5695 - accuracy: 0.2432\n",
      "Epoch 10/10\n",
      "1/1 [==============================] - 0s 6ms/step - loss: 2.5575 - accuracy: 0.2432\n",
      "--------------critic------------\n",
      "first replay:  3\n",
      "Epoch 1/10\n",
      "1/1 [==============================] - 0s 4ms/step - loss: 0.2479 - accuracy: 0.4595\n",
      "Epoch 2/10\n",
      "1/1 [==============================] - 0s 2ms/step - loss: 0.2479 - accuracy: 0.4595\n",
      "Epoch 3/10\n",
      "1/1 [==============================] - 0s 3ms/step - loss: 0.2479 - accuracy: 0.4595\n",
      "Epoch 4/10\n",
      "1/1 [==============================] - 0s 3ms/step - loss: 0.2479 - accuracy: 0.4595\n",
      "Epoch 5/10\n",
      "1/1 [==============================] - 0s 9ms/step - loss: 0.2479 - accuracy: 0.4595\n",
      "Epoch 6/10\n",
      "1/1 [==============================] - 0s 5ms/step - loss: 0.2478 - accuracy: 0.4595\n",
      "Epoch 7/10\n",
      "1/1 [==============================] - 0s 5ms/step - loss: 0.2478 - accuracy: 0.4595\n",
      "Epoch 8/10\n",
      "1/1 [==============================] - 0s 3ms/step - loss: 0.2478 - accuracy: 0.4595\n",
      "Epoch 9/10\n",
      "1/1 [==============================] - 0s 6ms/step - loss: 0.2478 - accuracy: 0.4595\n",
      "Epoch 10/10\n",
      "1/1 [==============================] - 0s 3ms/step - loss: 0.2478 - accuracy: 0.4595\n"
     ]
    },
    {
     "name": "stderr",
     "output_type": "stream",
     "text": [
      "\r",
      " 20%|██        | 3/15 [01:09<04:20, 21.67s/it]"
     ]
    },
    {
     "name": "stdout",
     "output_type": "stream",
     "text": [
      "--------------actor-------------\n",
      "Epoch 1/10\n",
      "1/1 [==============================] - 0s 3ms/step - loss: 2.6037 - accuracy: 0.2609\n",
      "Epoch 2/10\n",
      "1/1 [==============================] - 0s 3ms/step - loss: 2.5946 - accuracy: 0.2609\n",
      "Epoch 3/10\n",
      "1/1 [==============================] - 0s 5ms/step - loss: 2.5854 - accuracy: 0.2826\n",
      "Epoch 4/10\n",
      "1/1 [==============================] - 0s 4ms/step - loss: 2.5762 - accuracy: 0.2826\n",
      "Epoch 5/10\n",
      "1/1 [==============================] - 0s 7ms/step - loss: 2.5669 - accuracy: 0.2826\n",
      "Epoch 6/10\n",
      "1/1 [==============================] - 0s 3ms/step - loss: 2.5574 - accuracy: 0.2826\n",
      "Epoch 7/10\n",
      "1/1 [==============================] - 0s 3ms/step - loss: 2.5478 - accuracy: 0.3261\n",
      "Epoch 8/10\n",
      "1/1 [==============================] - 0s 8ms/step - loss: 2.5380 - accuracy: 0.3261\n",
      "Epoch 9/10\n",
      "1/1 [==============================] - 0s 5ms/step - loss: 2.5281 - accuracy: 0.3261\n",
      "Epoch 10/10\n",
      "1/1 [==============================] - 0s 6ms/step - loss: 2.5181 - accuracy: 0.3261\n",
      "--------------critic------------\n",
      "first replay:  3\n",
      "Epoch 1/10\n",
      "1/1 [==============================] - 0s 4ms/step - loss: 0.2504 - accuracy: 0.4565\n",
      "Epoch 2/10\n",
      "1/1 [==============================] - 0s 5ms/step - loss: 0.2504 - accuracy: 0.4565\n",
      "Epoch 3/10\n",
      "1/1 [==============================] - 0s 3ms/step - loss: 0.2504 - accuracy: 0.4565\n",
      "Epoch 4/10\n",
      "1/1 [==============================] - 0s 4ms/step - loss: 0.2504 - accuracy: 0.4565\n",
      "Epoch 5/10\n",
      "1/1 [==============================] - 0s 8ms/step - loss: 0.2504 - accuracy: 0.4565\n",
      "Epoch 6/10\n",
      "1/1 [==============================] - 0s 7ms/step - loss: 0.2504 - accuracy: 0.4565\n",
      "Epoch 7/10\n",
      "1/1 [==============================] - 0s 25ms/step - loss: 0.2504 - accuracy: 0.4565\n",
      "Epoch 8/10\n",
      "1/1 [==============================] - 0s 9ms/step - loss: 0.2504 - accuracy: 0.4565\n",
      "Epoch 9/10\n",
      "1/1 [==============================] - 0s 24ms/step - loss: 0.2504 - accuracy: 0.4565\n",
      "Epoch 10/10\n",
      "1/1 [==============================] - 0s 12ms/step - loss: 0.2504 - accuracy: 0.4565\n"
     ]
    },
    {
     "name": "stderr",
     "output_type": "stream",
     "text": [
      "\r",
      " 27%|██▋       | 4/15 [01:26<03:45, 20.50s/it]"
     ]
    },
    {
     "name": "stdout",
     "output_type": "stream",
     "text": [
      "--------------actor-------------\n",
      "Epoch 1/10\n",
      "1/1 [==============================] - 0s 3ms/step - loss: 2.5247 - accuracy: 0.3167\n",
      "Epoch 2/10\n",
      "1/1 [==============================] - 0s 5ms/step - loss: 2.5152 - accuracy: 0.3333\n",
      "Epoch 3/10\n",
      "1/1 [==============================] - 0s 6ms/step - loss: 2.5048 - accuracy: 0.3333\n",
      "Epoch 4/10\n",
      "1/1 [==============================] - 0s 10ms/step - loss: 2.4940 - accuracy: 0.3333\n",
      "Epoch 5/10\n",
      "1/1 [==============================] - 0s 11ms/step - loss: 2.4832 - accuracy: 0.3500\n",
      "Epoch 6/10\n",
      "1/1 [==============================] - 0s 4ms/step - loss: 2.4729 - accuracy: 0.3833\n",
      "Epoch 7/10\n",
      "1/1 [==============================] - 0s 9ms/step - loss: 2.4631 - accuracy: 0.3833\n",
      "Epoch 8/10\n",
      "1/1 [==============================] - 0s 4ms/step - loss: 2.4544 - accuracy: 0.3833\n",
      "Epoch 9/10\n",
      "1/1 [==============================] - 0s 6ms/step - loss: 2.4463 - accuracy: 0.3833\n",
      "Epoch 10/10\n",
      "1/1 [==============================] - 0s 3ms/step - loss: 2.4386 - accuracy: 0.4000\n",
      "--------------critic------------\n",
      "first replay:  3\n",
      "Epoch 1/10\n",
      "1/1 [==============================] - 0s 4ms/step - loss: 0.2508 - accuracy: 0.4667\n",
      "Epoch 2/10\n",
      "1/1 [==============================] - 0s 4ms/step - loss: 0.2508 - accuracy: 0.4667\n",
      "Epoch 3/10\n",
      "1/1 [==============================] - 0s 6ms/step - loss: 0.2508 - accuracy: 0.4667\n",
      "Epoch 4/10\n",
      "1/1 [==============================] - 0s 12ms/step - loss: 0.2508 - accuracy: 0.4667\n",
      "Epoch 5/10\n",
      "1/1 [==============================] - 0s 7ms/step - loss: 0.2507 - accuracy: 0.4667\n",
      "Epoch 6/10\n",
      "1/1 [==============================] - 0s 8ms/step - loss: 0.2507 - accuracy: 0.4667\n",
      "Epoch 7/10\n",
      "1/1 [==============================] - 0s 4ms/step - loss: 0.2507 - accuracy: 0.4667\n",
      "Epoch 8/10\n",
      "1/1 [==============================] - 0s 12ms/step - loss: 0.2507 - accuracy: 0.4667\n",
      "Epoch 9/10\n",
      "1/1 [==============================] - 0s 4ms/step - loss: 0.2507 - accuracy: 0.4667\n",
      "Epoch 10/10\n",
      "1/1 [==============================] - 0s 4ms/step - loss: 0.2507 - accuracy: 0.4667\n"
     ]
    },
    {
     "name": "stderr",
     "output_type": "stream",
     "text": [
      "\r",
      " 33%|███▎      | 5/15 [01:42<03:09, 18.94s/it]"
     ]
    },
    {
     "name": "stdout",
     "output_type": "stream",
     "text": [
      "--------------actor-------------\n",
      "Epoch 1/10\n",
      "1/1 [==============================] - 0s 3ms/step - loss: 2.4612 - accuracy: 0.3731\n",
      "Epoch 2/10\n",
      "1/1 [==============================] - 0s 5ms/step - loss: 2.4543 - accuracy: 0.3731\n",
      "Epoch 3/10\n",
      "1/1 [==============================] - 0s 5ms/step - loss: 2.4471 - accuracy: 0.3731\n",
      "Epoch 4/10\n",
      "1/1 [==============================] - 0s 7ms/step - loss: 2.4398 - accuracy: 0.3881\n",
      "Epoch 5/10\n",
      "1/1 [==============================] - 0s 18ms/step - loss: 2.4326 - accuracy: 0.3582\n",
      "Epoch 6/10\n",
      "1/1 [==============================] - 0s 11ms/step - loss: 2.4256 - accuracy: 0.3731\n",
      "Epoch 7/10\n",
      "1/1 [==============================] - 0s 10ms/step - loss: 2.4189 - accuracy: 0.3582\n",
      "Epoch 8/10\n",
      "1/1 [==============================] - 0s 5ms/step - loss: 2.4124 - accuracy: 0.3731\n",
      "Epoch 9/10\n",
      "1/1 [==============================] - 0s 4ms/step - loss: 2.4060 - accuracy: 0.3731\n",
      "Epoch 10/10\n",
      "1/1 [==============================] - 0s 4ms/step - loss: 2.3995 - accuracy: 0.3731\n",
      "--------------critic------------\n",
      "first replay:  3\n",
      "Epoch 1/10\n",
      "1/1 [==============================] - 0s 4ms/step - loss: 0.2514 - accuracy: 0.4627\n",
      "Epoch 2/10\n",
      "1/1 [==============================] - 0s 3ms/step - loss: 0.2514 - accuracy: 0.4627\n",
      "Epoch 3/10\n",
      "1/1 [==============================] - 0s 6ms/step - loss: 0.2514 - accuracy: 0.4627\n",
      "Epoch 4/10\n",
      "1/1 [==============================] - 0s 5ms/step - loss: 0.2514 - accuracy: 0.4627\n",
      "Epoch 5/10\n",
      "1/1 [==============================] - 0s 9ms/step - loss: 0.2514 - accuracy: 0.4627\n",
      "Epoch 6/10\n",
      "1/1 [==============================] - 0s 3ms/step - loss: 0.2514 - accuracy: 0.4627\n",
      "Epoch 7/10\n",
      "1/1 [==============================] - 0s 4ms/step - loss: 0.2514 - accuracy: 0.4776\n",
      "Epoch 8/10\n",
      "1/1 [==============================] - 0s 8ms/step - loss: 0.2514 - accuracy: 0.4776\n",
      "Epoch 9/10\n",
      "1/1 [==============================] - 0s 5ms/step - loss: 0.2514 - accuracy: 0.4776\n",
      "Epoch 10/10\n",
      "1/1 [==============================] - 0s 8ms/step - loss: 0.2514 - accuracy: 0.4776\n"
     ]
    },
    {
     "name": "stderr",
     "output_type": "stream",
     "text": [
      "\r",
      " 40%|████      | 6/15 [01:50<02:23, 15.92s/it]"
     ]
    },
    {
     "name": "stdout",
     "output_type": "stream",
     "text": [
      "--------------actor-------------\n",
      "Epoch 1/10\n",
      "1/1 [==============================] - 0s 3ms/step - loss: 2.4548 - accuracy: 0.3418\n",
      "Epoch 2/10\n",
      "1/1 [==============================] - 0s 5ms/step - loss: 2.4468 - accuracy: 0.3544\n",
      "Epoch 3/10\n",
      "1/1 [==============================] - 0s 7ms/step - loss: 2.4381 - accuracy: 0.3544\n",
      "Epoch 4/10\n",
      "1/1 [==============================] - 0s 12ms/step - loss: 2.4293 - accuracy: 0.3544\n",
      "Epoch 5/10\n",
      "1/1 [==============================] - 0s 19ms/step - loss: 2.4206 - accuracy: 0.3671\n",
      "Epoch 6/10\n",
      "1/1 [==============================] - 0s 17ms/step - loss: 2.4124 - accuracy: 0.3671\n",
      "Epoch 7/10\n",
      "1/1 [==============================] - 0s 11ms/step - loss: 2.4048 - accuracy: 0.3671\n",
      "Epoch 8/10\n",
      "1/1 [==============================] - 0s 10ms/step - loss: 2.3978 - accuracy: 0.3671\n",
      "Epoch 9/10\n",
      "1/1 [==============================] - 0s 7ms/step - loss: 2.3910 - accuracy: 0.3797\n",
      "Epoch 10/10\n",
      "1/1 [==============================] - 0s 8ms/step - loss: 2.3843 - accuracy: 0.3797\n",
      "--------------critic------------\n",
      "first replay:  3\n",
      "Epoch 1/10\n",
      "1/1 [==============================] - 0s 5ms/step - loss: 0.2496 - accuracy: 0.4937\n",
      "Epoch 2/10\n",
      "1/1 [==============================] - 0s 12ms/step - loss: 0.2496 - accuracy: 0.4937\n",
      "Epoch 3/10\n",
      "1/1 [==============================] - 0s 11ms/step - loss: 0.2496 - accuracy: 0.4937\n",
      "Epoch 4/10\n",
      "1/1 [==============================] - 0s 4ms/step - loss: 0.2496 - accuracy: 0.4937\n",
      "Epoch 5/10\n",
      "1/1 [==============================] - 0s 3ms/step - loss: 0.2496 - accuracy: 0.4937\n",
      "Epoch 6/10\n",
      "1/1 [==============================] - 0s 3ms/step - loss: 0.2496 - accuracy: 0.4937\n",
      "Epoch 7/10\n",
      "1/1 [==============================] - 0s 7ms/step - loss: 0.2496 - accuracy: 0.4937\n",
      "Epoch 8/10\n",
      "1/1 [==============================] - 0s 3ms/step - loss: 0.2496 - accuracy: 0.4937\n",
      "Epoch 9/10\n",
      "1/1 [==============================] - 0s 12ms/step - loss: 0.2496 - accuracy: 0.4937\n",
      "Epoch 10/10\n",
      "1/1 [==============================] - 0s 10ms/step - loss: 0.2496 - accuracy: 0.4937\n"
     ]
    },
    {
     "name": "stderr",
     "output_type": "stream",
     "text": [
      "\r",
      " 47%|████▋     | 7/15 [02:01<01:54, 14.36s/it]"
     ]
    },
    {
     "name": "stdout",
     "output_type": "stream",
     "text": [
      "--------------actor-------------\n",
      "Epoch 1/10\n",
      "1/1 [==============================] - 0s 3ms/step - loss: 2.3979 - accuracy: 0.3511\n",
      "Epoch 2/10\n",
      "1/1 [==============================] - 0s 3ms/step - loss: 2.3910 - accuracy: 0.3511\n",
      "Epoch 3/10\n",
      "1/1 [==============================] - 0s 5ms/step - loss: 2.3824 - accuracy: 0.3511\n",
      "Epoch 4/10\n",
      "1/1 [==============================] - 0s 7ms/step - loss: 2.3732 - accuracy: 0.3723\n",
      "Epoch 5/10\n",
      "1/1 [==============================] - 0s 11ms/step - loss: 2.3642 - accuracy: 0.3617\n",
      "Epoch 6/10\n",
      "1/1 [==============================] - 0s 12ms/step - loss: 2.3556 - accuracy: 0.3617\n",
      "Epoch 7/10\n",
      "1/1 [==============================] - 0s 14ms/step - loss: 2.3473 - accuracy: 0.3936\n",
      "Epoch 8/10\n",
      "1/1 [==============================] - 0s 11ms/step - loss: 2.3391 - accuracy: 0.3830\n",
      "Epoch 9/10\n",
      "1/1 [==============================] - 0s 4ms/step - loss: 2.3306 - accuracy: 0.3936\n",
      "Epoch 10/10\n",
      "1/1 [==============================] - 0s 6ms/step - loss: 2.3223 - accuracy: 0.3936\n",
      "--------------critic------------\n",
      "first replay:  3\n",
      "Epoch 1/10\n",
      "1/1 [==============================] - 0s 5ms/step - loss: 0.2510 - accuracy: 0.4894\n",
      "Epoch 2/10\n",
      "1/1 [==============================] - 0s 3ms/step - loss: 0.2510 - accuracy: 0.4894\n",
      "Epoch 3/10\n",
      "1/1 [==============================] - 0s 4ms/step - loss: 0.2510 - accuracy: 0.4894\n",
      "Epoch 4/10\n",
      "1/1 [==============================] - 0s 7ms/step - loss: 0.2510 - accuracy: 0.4894\n",
      "Epoch 5/10\n",
      "1/1 [==============================] - 0s 9ms/step - loss: 0.2510 - accuracy: 0.4894\n",
      "Epoch 6/10\n",
      "1/1 [==============================] - 0s 3ms/step - loss: 0.2510 - accuracy: 0.4894\n",
      "Epoch 7/10\n",
      "1/1 [==============================] - 0s 9ms/step - loss: 0.2510 - accuracy: 0.4894\n",
      "Epoch 8/10\n",
      "1/1 [==============================] - 0s 3ms/step - loss: 0.2510 - accuracy: 0.4894\n",
      "Epoch 9/10\n",
      "1/1 [==============================] - 0s 5ms/step - loss: 0.2510 - accuracy: 0.4894\n",
      "Epoch 10/10\n",
      "1/1 [==============================] - 0s 5ms/step - loss: 0.2510 - accuracy: 0.4894\n"
     ]
    },
    {
     "name": "stderr",
     "output_type": "stream",
     "text": [
      "\r",
      " 53%|█████▎    | 8/15 [02:10<01:28, 12.70s/it]"
     ]
    },
    {
     "name": "stdout",
     "output_type": "stream",
     "text": [
      "--------------actor-------------\n",
      "Epoch 1/10\n",
      "1/1 [==============================] - 0s 5ms/step - loss: 2.3404 - accuracy: 0.3458\n",
      "Epoch 2/10\n",
      "1/1 [==============================] - 0s 20ms/step - loss: 2.3332 - accuracy: 0.3364\n",
      "Epoch 3/10\n",
      "1/1 [==============================] - 0s 9ms/step - loss: 2.3254 - accuracy: 0.3645\n",
      "Epoch 4/10\n",
      "1/1 [==============================] - 0s 6ms/step - loss: 2.3178 - accuracy: 0.3551\n",
      "Epoch 5/10\n",
      "1/1 [==============================] - 0s 12ms/step - loss: 2.3105 - accuracy: 0.3738\n",
      "Epoch 6/10\n",
      "1/1 [==============================] - 0s 21ms/step - loss: 2.3032 - accuracy: 0.3645\n",
      "Epoch 7/10\n",
      "1/1 [==============================] - 0s 5ms/step - loss: 2.2962 - accuracy: 0.3645\n",
      "Epoch 8/10\n",
      "1/1 [==============================] - 0s 9ms/step - loss: 2.2897 - accuracy: 0.3738\n",
      "Epoch 9/10\n",
      "1/1 [==============================] - 0s 10ms/step - loss: 2.2839 - accuracy: 0.3738\n",
      "Epoch 10/10\n",
      "1/1 [==============================] - 0s 3ms/step - loss: 2.2785 - accuracy: 0.3832\n",
      "--------------critic------------\n",
      "first replay:  3\n",
      "Epoch 1/10\n",
      "1/1 [==============================] - 0s 3ms/step - loss: 0.2515 - accuracy: 0.4860\n",
      "Epoch 2/10\n",
      "1/1 [==============================] - 0s 10ms/step - loss: 0.2515 - accuracy: 0.4860\n",
      "Epoch 3/10\n",
      "1/1 [==============================] - 0s 5ms/step - loss: 0.2515 - accuracy: 0.4860\n",
      "Epoch 4/10\n",
      "1/1 [==============================] - 0s 8ms/step - loss: 0.2515 - accuracy: 0.4860\n",
      "Epoch 5/10\n",
      "1/1 [==============================] - 0s 3ms/step - loss: 0.2515 - accuracy: 0.4860\n",
      "Epoch 6/10\n",
      "1/1 [==============================] - 0s 15ms/step - loss: 0.2515 - accuracy: 0.4860\n",
      "Epoch 7/10\n",
      "1/1 [==============================] - 0s 11ms/step - loss: 0.2515 - accuracy: 0.4860\n",
      "Epoch 8/10\n",
      "1/1 [==============================] - 0s 4ms/step - loss: 0.2515 - accuracy: 0.4860\n",
      "Epoch 9/10\n",
      "1/1 [==============================] - 0s 6ms/step - loss: 0.2515 - accuracy: 0.4860\n",
      "Epoch 10/10\n",
      "1/1 [==============================] - 0s 4ms/step - loss: 0.2515 - accuracy: 0.4860\n"
     ]
    },
    {
     "name": "stderr",
     "output_type": "stream",
     "text": [
      "\r",
      " 60%|██████    | 9/15 [02:19<01:09, 11.56s/it]"
     ]
    },
    {
     "name": "stdout",
     "output_type": "stream",
     "text": [
      "--------------actor-------------\n",
      "Epoch 1/10\n",
      "1/1 [==============================] - 0s 4ms/step - loss: 2.3109 - accuracy: 0.3652\n",
      "Epoch 2/10\n",
      "1/1 [==============================] - 0s 11ms/step - loss: 2.3043 - accuracy: 0.3826\n",
      "Epoch 3/10\n",
      "1/1 [==============================] - 0s 12ms/step - loss: 2.2970 - accuracy: 0.3913\n",
      "Epoch 4/10\n",
      "1/1 [==============================] - 0s 19ms/step - loss: 2.2900 - accuracy: 0.3739\n",
      "Epoch 5/10\n",
      "1/1 [==============================] - 0s 10ms/step - loss: 2.2836 - accuracy: 0.3826\n",
      "Epoch 6/10\n",
      "1/1 [==============================] - 0s 11ms/step - loss: 2.2772 - accuracy: 0.3826\n",
      "Epoch 7/10\n",
      "1/1 [==============================] - 0s 6ms/step - loss: 2.2705 - accuracy: 0.3913\n",
      "Epoch 8/10\n",
      "1/1 [==============================] - 0s 6ms/step - loss: 2.2634 - accuracy: 0.4000\n",
      "Epoch 9/10\n",
      "1/1 [==============================] - 0s 6ms/step - loss: 2.2565 - accuracy: 0.4174\n",
      "Epoch 10/10\n",
      "1/1 [==============================] - 0s 5ms/step - loss: 2.2500 - accuracy: 0.4174\n",
      "--------------critic------------\n",
      "first replay:  3\n",
      "Epoch 1/10\n",
      "1/1 [==============================] - 0s 7ms/step - loss: 0.2507 - accuracy: 0.5043\n",
      "Epoch 2/10\n",
      "1/1 [==============================] - 0s 5ms/step - loss: 0.2507 - accuracy: 0.5043\n",
      "Epoch 3/10\n",
      "1/1 [==============================] - 0s 122ms/step - loss: 0.2507 - accuracy: 0.5043\n",
      "Epoch 4/10\n",
      "1/1 [==============================] - 0s 5ms/step - loss: 0.2507 - accuracy: 0.5043\n",
      "Epoch 5/10\n",
      "1/1 [==============================] - 0s 4ms/step - loss: 0.2507 - accuracy: 0.5043\n",
      "Epoch 6/10\n",
      "1/1 [==============================] - 0s 4ms/step - loss: 0.2507 - accuracy: 0.5043\n",
      "Epoch 7/10\n",
      "1/1 [==============================] - 0s 5ms/step - loss: 0.2507 - accuracy: 0.5043\n",
      "Epoch 8/10\n",
      "1/1 [==============================] - 0s 4ms/step - loss: 0.2507 - accuracy: 0.5043\n",
      "Epoch 9/10\n",
      "1/1 [==============================] - 0s 12ms/step - loss: 0.2507 - accuracy: 0.5043\n",
      "Epoch 10/10\n",
      "1/1 [==============================] - 0s 7ms/step - loss: 0.2507 - accuracy: 0.5043\n"
     ]
    },
    {
     "name": "stderr",
     "output_type": "stream",
     "text": [
      "\r",
      " 67%|██████▋   | 10/15 [02:29<00:56, 11.25s/it]"
     ]
    },
    {
     "name": "stdout",
     "output_type": "stream",
     "text": [
      "--------------actor-------------\n",
      "Epoch 1/10\n",
      "2/2 [==============================] - 0s 3ms/step - loss: 2.2941 - accuracy: 0.4000\n",
      "Epoch 2/10\n",
      "2/2 [==============================] - 0s 3ms/step - loss: 2.2822 - accuracy: 0.4154\n",
      "Epoch 3/10\n",
      "2/2 [==============================] - 0s 6ms/step - loss: 2.2919 - accuracy: 0.4077\n",
      "Epoch 4/10\n",
      "2/2 [==============================] - 0s 11ms/step - loss: 2.2978 - accuracy: 0.4000\n",
      "Epoch 5/10\n",
      "2/2 [==============================] - 0s 7ms/step - loss: 2.2855 - accuracy: 0.4231\n",
      "Epoch 6/10\n",
      "2/2 [==============================] - 0s 3ms/step - loss: 2.2728 - accuracy: 0.4462\n",
      "Epoch 7/10\n",
      "2/2 [==============================] - 0s 17ms/step - loss: 2.2676 - accuracy: 0.4231\n",
      "Epoch 8/10\n",
      "2/2 [==============================] - 0s 8ms/step - loss: 2.2651 - accuracy: 0.4231\n",
      "Epoch 9/10\n",
      "2/2 [==============================] - 0s 10ms/step - loss: 2.2644 - accuracy: 0.4077\n",
      "Epoch 10/10\n",
      "2/2 [==============================] - 0s 4ms/step - loss: 2.2506 - accuracy: 0.4308\n",
      "--------------critic------------\n",
      "first replay:  3\n",
      "Epoch 1/10\n",
      "2/2 [==============================] - 0s 8ms/step - loss: 0.2516 - accuracy: 0.5000\n",
      "Epoch 2/10\n",
      "2/2 [==============================] - 0s 18ms/step - loss: 0.2516 - accuracy: 0.5000\n",
      "Epoch 3/10\n",
      "2/2 [==============================] - 0s 25ms/step - loss: 0.2516 - accuracy: 0.5000\n",
      "Epoch 4/10\n",
      "2/2 [==============================] - 0s 31ms/step - loss: 0.2516 - accuracy: 0.4923\n",
      "Epoch 5/10\n",
      "2/2 [==============================] - 0s 14ms/step - loss: 0.2516 - accuracy: 0.4923\n",
      "Epoch 6/10\n",
      "2/2 [==============================] - 0s 29ms/step - loss: 0.2516 - accuracy: 0.4923\n",
      "Epoch 7/10\n",
      "2/2 [==============================] - 0s 12ms/step - loss: 0.2516 - accuracy: 0.4923\n",
      "Epoch 8/10\n",
      "2/2 [==============================] - 0s 33ms/step - loss: 0.2516 - accuracy: 0.4923\n",
      "Epoch 9/10\n",
      "2/2 [==============================] - 0s 11ms/step - loss: 0.2516 - accuracy: 0.4846\n",
      "Epoch 10/10\n",
      "2/2 [==============================] - 0s 9ms/step - loss: 0.2516 - accuracy: 0.4846\n"
     ]
    },
    {
     "name": "stderr",
     "output_type": "stream",
     "text": [
      "\r",
      " 73%|███████▎  | 11/15 [02:41<00:45, 11.44s/it]"
     ]
    },
    {
     "name": "stdout",
     "output_type": "stream",
     "text": [
      "--------------actor-------------\n",
      "Epoch 1/10\n",
      "2/2 [==============================] - 0s 3ms/step - loss: 2.2931 - accuracy: 0.4097\n",
      "Epoch 2/10\n",
      "2/2 [==============================] - 0s 4ms/step - loss: 2.2904 - accuracy: 0.4028\n",
      "Epoch 3/10\n",
      "2/2 [==============================] - 0s 6ms/step - loss: 2.2848 - accuracy: 0.3750\n",
      "Epoch 4/10\n",
      "2/2 [==============================] - 0s 11ms/step - loss: 2.2766 - accuracy: 0.3611\n",
      "Epoch 5/10\n",
      "2/2 [==============================] - 0s 8ms/step - loss: 2.2692 - accuracy: 0.3611\n",
      "Epoch 6/10\n",
      "2/2 [==============================] - 0s 5ms/step - loss: 2.2593 - accuracy: 0.3472\n",
      "Epoch 7/10\n",
      "2/2 [==============================] - 0s 5ms/step - loss: 2.2474 - accuracy: 0.3472\n",
      "Epoch 8/10\n",
      "2/2 [==============================] - 0s 4ms/step - loss: 2.2335 - accuracy: 0.3681\n",
      "Epoch 9/10\n",
      "2/2 [==============================] - 0s 5ms/step - loss: 2.2236 - accuracy: 0.4167\n",
      "Epoch 10/10\n",
      "2/2 [==============================] - 0s 4ms/step - loss: 2.2174 - accuracy: 0.4167\n",
      "--------------critic------------\n",
      "first replay:  3\n",
      "Epoch 1/10\n",
      "2/2 [==============================] - 0s 5ms/step - loss: 0.2509 - accuracy: 0.5000\n",
      "Epoch 2/10\n",
      "2/2 [==============================] - 0s 10ms/step - loss: 0.2509 - accuracy: 0.5000\n",
      "Epoch 3/10\n",
      "2/2 [==============================] - 0s 47ms/step - loss: 0.2509 - accuracy: 0.5000\n",
      "Epoch 4/10\n",
      "2/2 [==============================] - 0s 10ms/step - loss: 0.2509 - accuracy: 0.5000\n",
      "Epoch 5/10\n",
      "2/2 [==============================] - 0s 40ms/step - loss: 0.2509 - accuracy: 0.5000\n",
      "Epoch 6/10\n",
      "2/2 [==============================] - 0s 8ms/step - loss: 0.2509 - accuracy: 0.5000\n",
      "Epoch 7/10\n",
      "2/2 [==============================] - 0s 26ms/step - loss: 0.2509 - accuracy: 0.5000\n",
      "Epoch 8/10\n",
      "2/2 [==============================] - 0s 14ms/step - loss: 0.2509 - accuracy: 0.5069\n",
      "Epoch 9/10\n",
      "2/2 [==============================] - 0s 62ms/step - loss: 0.2509 - accuracy: 0.5000\n",
      "Epoch 10/10\n",
      "2/2 [==============================] - 0s 6ms/step - loss: 0.2509 - accuracy: 0.5069\n"
     ]
    },
    {
     "name": "stderr",
     "output_type": "stream",
     "text": [
      "\r",
      " 80%|████████  | 12/15 [02:52<00:33, 11.22s/it]"
     ]
    },
    {
     "name": "stdout",
     "output_type": "stream",
     "text": [
      "--------------actor-------------\n",
      "Epoch 1/10\n",
      "2/2 [==============================] - 0s 4ms/step - loss: 2.2382 - accuracy: 0.3922\n",
      "Epoch 2/10\n",
      "2/2 [==============================] - 0s 4ms/step - loss: 2.2320 - accuracy: 0.4052\n",
      "Epoch 3/10\n",
      "2/2 [==============================] - 0s 7ms/step - loss: 2.2251 - accuracy: 0.4052\n",
      "Epoch 4/10\n",
      "2/2 [==============================] - 0s 9ms/step - loss: 2.2201 - accuracy: 0.4118\n",
      "Epoch 5/10\n",
      "2/2 [==============================] - 0s 6ms/step - loss: 2.2134 - accuracy: 0.4248\n",
      "Epoch 6/10\n",
      "2/2 [==============================] - 0s 12ms/step - loss: 2.2056 - accuracy: 0.4248\n",
      "Epoch 7/10\n",
      "2/2 [==============================] - 0s 7ms/step - loss: 2.1978 - accuracy: 0.4510\n",
      "Epoch 8/10\n",
      "2/2 [==============================] - 0s 5ms/step - loss: 2.1922 - accuracy: 0.4575\n",
      "Epoch 9/10\n",
      "2/2 [==============================] - 0s 3ms/step - loss: 2.1874 - accuracy: 0.4575\n",
      "Epoch 10/10\n",
      "2/2 [==============================] - 0s 3ms/step - loss: 2.1828 - accuracy: 0.4510\n",
      "--------------critic------------\n",
      "first replay:  3\n",
      "Epoch 1/10\n",
      "2/2 [==============================] - 0s 6ms/step - loss: 0.2513 - accuracy: 0.4967\n",
      "Epoch 2/10\n",
      "2/2 [==============================] - 0s 3ms/step - loss: 0.2513 - accuracy: 0.4967\n",
      "Epoch 3/10\n",
      "2/2 [==============================] - 0s 6ms/step - loss: 0.2513 - accuracy: 0.4967\n",
      "Epoch 4/10\n",
      "2/2 [==============================] - 0s 3ms/step - loss: 0.2513 - accuracy: 0.4967\n",
      "Epoch 5/10\n",
      "2/2 [==============================] - 0s 4ms/step - loss: 0.2513 - accuracy: 0.4967\n",
      "Epoch 6/10\n",
      "2/2 [==============================] - 0s 4ms/step - loss: 0.2513 - accuracy: 0.4967\n",
      "Epoch 7/10\n",
      "2/2 [==============================] - 0s 5ms/step - loss: 0.2513 - accuracy: 0.4967\n",
      "Epoch 8/10\n",
      "2/2 [==============================] - 0s 4ms/step - loss: 0.2513 - accuracy: 0.4967\n",
      "Epoch 9/10\n",
      "2/2 [==============================] - 0s 3ms/step - loss: 0.2513 - accuracy: 0.4967\n",
      "Epoch 10/10\n",
      "2/2 [==============================] - 0s 9ms/step - loss: 0.2513 - accuracy: 0.4967\n"
     ]
    },
    {
     "name": "stderr",
     "output_type": "stream",
     "text": [
      "\r",
      " 87%|████████▋ | 13/15 [03:03<00:22, 11.06s/it]"
     ]
    },
    {
     "name": "stdout",
     "output_type": "stream",
     "text": [
      "--------------actor-------------\n",
      "Epoch 1/10\n",
      "2/2 [==============================] - 0s 4ms/step - loss: 2.2343 - accuracy: 0.4201\n",
      "Epoch 2/10\n",
      "2/2 [==============================] - 0s 5ms/step - loss: 2.2236 - accuracy: 0.4260\n",
      "Epoch 3/10\n",
      "2/2 [==============================] - 0s 7ms/step - loss: 2.2147 - accuracy: 0.4083\n",
      "Epoch 4/10\n",
      "2/2 [==============================] - 0s 8ms/step - loss: 2.2062 - accuracy: 0.4142\n",
      "Epoch 5/10\n",
      "2/2 [==============================] - 0s 3ms/step - loss: 2.1975 - accuracy: 0.4260\n",
      "Epoch 6/10\n",
      "2/2 [==============================] - 0s 5ms/step - loss: 2.1886 - accuracy: 0.4497\n",
      "Epoch 7/10\n",
      "2/2 [==============================] - 0s 6ms/step - loss: 2.1830 - accuracy: 0.4615\n",
      "Epoch 8/10\n",
      "2/2 [==============================] - 0s 7ms/step - loss: 2.1772 - accuracy: 0.4497\n",
      "Epoch 9/10\n",
      "2/2 [==============================] - 0s 5ms/step - loss: 2.1700 - accuracy: 0.4379\n",
      "Epoch 10/10\n",
      "2/2 [==============================] - 0s 6ms/step - loss: 2.1635 - accuracy: 0.4556\n",
      "--------------critic------------\n",
      "first replay:  3\n",
      "Epoch 1/10\n",
      "2/2 [==============================] - 0s 3ms/step - loss: 0.2511 - accuracy: 0.4970\n",
      "Epoch 2/10\n",
      "2/2 [==============================] - 0s 6ms/step - loss: 0.2511 - accuracy: 0.4970\n",
      "Epoch 3/10\n",
      "2/2 [==============================] - 0s 9ms/step - loss: 0.2511 - accuracy: 0.4970\n",
      "Epoch 4/10\n",
      "2/2 [==============================] - 0s 7ms/step - loss: 0.2511 - accuracy: 0.4970\n",
      "Epoch 5/10\n",
      "2/2 [==============================] - 0s 6ms/step - loss: 0.2511 - accuracy: 0.4970\n",
      "Epoch 6/10\n",
      "2/2 [==============================] - 0s 3ms/step - loss: 0.2511 - accuracy: 0.4970\n",
      "Epoch 7/10\n",
      "2/2 [==============================] - 0s 6ms/step - loss: 0.2511 - accuracy: 0.4970\n",
      "Epoch 8/10\n",
      "2/2 [==============================] - 0s 4ms/step - loss: 0.2511 - accuracy: 0.4970\n",
      "Epoch 9/10\n",
      "2/2 [==============================] - 0s 6ms/step - loss: 0.2511 - accuracy: 0.4970\n",
      "Epoch 10/10\n",
      "2/2 [==============================] - 0s 4ms/step - loss: 0.2511 - accuracy: 0.4970\n"
     ]
    },
    {
     "name": "stderr",
     "output_type": "stream",
     "text": [
      "\r",
      " 93%|█████████▎| 14/15 [03:18<00:12, 12.42s/it]"
     ]
    },
    {
     "name": "stdout",
     "output_type": "stream",
     "text": [
      "--------------actor-------------\n",
      "Epoch 1/10\n",
      "2/2 [==============================] - 0s 3ms/step - loss: 2.1990 - accuracy: 0.4167\n",
      "Epoch 2/10\n",
      "2/2 [==============================] - 0s 4ms/step - loss: 2.1927 - accuracy: 0.4333\n",
      "Epoch 3/10\n",
      "2/2 [==============================] - 0s 9ms/step - loss: 2.1852 - accuracy: 0.4222\n",
      "Epoch 4/10\n",
      "2/2 [==============================] - 0s 13ms/step - loss: 2.1800 - accuracy: 0.4222\n",
      "Epoch 5/10\n",
      "2/2 [==============================] - 0s 10ms/step - loss: 2.1741 - accuracy: 0.4278\n",
      "Epoch 6/10\n",
      "2/2 [==============================] - 0s 9ms/step - loss: 2.1688 - accuracy: 0.4333\n",
      "Epoch 7/10\n",
      "2/2 [==============================] - 0s 4ms/step - loss: 2.1634 - accuracy: 0.4333\n",
      "Epoch 8/10\n",
      "2/2 [==============================] - 0s 5ms/step - loss: 2.1583 - accuracy: 0.4500\n",
      "Epoch 9/10\n",
      "2/2 [==============================] - 0s 8ms/step - loss: 2.1527 - accuracy: 0.4444\n",
      "Epoch 10/10\n",
      "2/2 [==============================] - 0s 4ms/step - loss: 2.1487 - accuracy: 0.4444\n",
      "--------------critic------------\n",
      "first replay:  3\n",
      "Epoch 1/10\n",
      "2/2 [==============================] - 0s 3ms/step - loss: 0.2512 - accuracy: 0.5000\n",
      "Epoch 2/10\n",
      "2/2 [==============================] - 0s 7ms/step - loss: 0.2512 - accuracy: 0.5000\n",
      "Epoch 3/10\n",
      "2/2 [==============================] - 0s 3ms/step - loss: 0.2512 - accuracy: 0.5000\n",
      "Epoch 4/10\n",
      "2/2 [==============================] - 0s 3ms/step - loss: 0.2512 - accuracy: 0.5000\n",
      "Epoch 5/10\n",
      "2/2 [==============================] - 0s 10ms/step - loss: 0.2512 - accuracy: 0.5000\n",
      "Epoch 6/10\n",
      "2/2 [==============================] - 0s 6ms/step - loss: 0.2512 - accuracy: 0.5000\n",
      "Epoch 7/10\n",
      "2/2 [==============================] - 0s 6ms/step - loss: 0.2512 - accuracy: 0.5000\n",
      "Epoch 8/10\n",
      "2/2 [==============================] - 0s 8ms/step - loss: 0.2512 - accuracy: 0.5000\n",
      "Epoch 9/10\n",
      "2/2 [==============================] - 0s 4ms/step - loss: 0.2512 - accuracy: 0.5000\n",
      "Epoch 10/10\n",
      "2/2 [==============================] - 0s 12ms/step - loss: 0.2512 - accuracy: 0.5000\n"
     ]
    },
    {
     "name": "stderr",
     "output_type": "stream",
     "text": [
      "100%|██████████| 15/15 [03:28<00:00, 13.93s/it]\n"
     ]
    }
   ],
   "source": [
    "random.seed(0)\n",
    "agent.train_agent(hex,\n",
    "                  n_episodes=15,\n",
    "                  n_simulations=100,\n",
    "                  epochs=10,\n",
    "                  M=5,\n",
    "                  start_rollout_prob=1,\n",
    "                  end_rollout_prob=1,\n",
    "                  file_path='demo_models/')"
   ]
  },
  {
   "cell_type": "markdown",
   "metadata": {},
   "source": [
    "## Visualize training episodes"
   ]
  },
  {
   "cell_type": "code",
   "execution_count": 18,
   "metadata": {},
   "outputs": [],
   "source": [
    "with open('demo_models/episodes.pkl', 'rb') as f:\n",
    "    replay = pickle.load(f)\n",
    "    \n",
    "# separate into episodes\n",
    "episodes = []\n",
    "indices = []\n",
    "for i in range(len(replay)):\n",
    "    env = replay[i][0]\n",
    "    if (env.board == np.zeros(env.size)).all():\n",
    "        indices.append(i)\n",
    "        \n",
    "for i in range(len(indices)):\n",
    "    \n",
    "    j = -1 if i == len(indices)-1 else i+1\n",
    "    if j == -1:\n",
    "        episodes.append([e[0] for e in replay[indices[i]:]])\n",
    "    else:\n",
    "        episodes.append([e[0] for e in replay[indices[i]:indices[j]]])  "
   ]
  },
  {
   "cell_type": "code",
   "execution_count": 17,
   "metadata": {},
   "outputs": [
    {
     "ename": "NameError",
     "evalue": "name 'episodes' is not defined",
     "output_type": "error",
     "traceback": [
      "\u001b[0;31m---------------------------------------------------------------------------\u001b[0m",
      "\u001b[0;31mNameError\u001b[0m                                 Traceback (most recent call last)",
      "\u001b[0;32m<ipython-input-17-9e9b19993f8a>\u001b[0m in \u001b[0;36m<module>\u001b[0;34m\u001b[0m\n\u001b[1;32m      9\u001b[0m \u001b[0;34m\u001b[0m\u001b[0m\n\u001b[1;32m     10\u001b[0m \u001b[0;34m\u001b[0m\u001b[0m\n\u001b[0;32m---> 11\u001b[0;31m \u001b[0mvisualize\u001b[0m\u001b[0;34m(\u001b[0m\u001b[0;36m14\u001b[0m\u001b[0;34m,\u001b[0m \u001b[0mepisodes\u001b[0m\u001b[0;34m)\u001b[0m\u001b[0;34m\u001b[0m\u001b[0;34m\u001b[0m\u001b[0m\n\u001b[0m",
      "\u001b[0;31mNameError\u001b[0m: name 'episodes' is not defined"
     ]
    }
   ],
   "source": [
    "def display(steps, step):\n",
    "    steps[step].display_board()\n",
    "\n",
    "def visualize(episode_number, episodes):\n",
    "    episode = episodes[episode_number]\n",
    "    steps = len(episode)\n",
    "    \n",
    "    interact(display, steps=fixed(episode), step=(0,steps-1))\n",
    "\n",
    "    \n",
    "visualize(14, episodes)"
   ]
  },
  {
   "cell_type": "code",
   "execution_count": 3,
   "metadata": {},
   "outputs": [],
   "source": [
    "encoder = DemoEncoder()\n",
    "\n",
    "actor1 = Actor(learning_rate=0.01,\n",
    "             epsilon=0,\n",
    "             end_epsilon=0,\n",
    "               encoder=encoder,\n",
    "               load_from='demo_models/0.h5'\n",
    "             )\n",
    "\n",
    "critic1 = Critic(learning_rate=0.01,\n",
    "             nn_loss='mse',\n",
    "            encoder=encoder,\n",
    "               load_from='demo_models/_critic_0.h5',\n",
    "             )\n",
    "\n",
    "actor2 = Actor(learning_rate=0.01,\n",
    "             epsilon=0,\n",
    "             end_epsilon=0,\n",
    "              encoder=encoder,\n",
    "               load_from='demo_models/5.h5'\n",
    "             )\n",
    "\n",
    "critic2 = Critic(learning_rate=0.01,\n",
    "             nn_loss='mse',\n",
    "              encoder=encoder,\n",
    "               load_from='demo_models/_critic_5.h5'\n",
    "             )\n",
    "\n",
    "actor3 = Actor(learning_rate=0.01,\n",
    "             epsilon=0,\n",
    "             end_epsilon=0,\n",
    "              encoder=encoder,\n",
    "               load_from='demo_models/15.h5'\n",
    "             )\n",
    "\n",
    "critic3 = Critic(learning_rate=0.01,\n",
    "             nn_loss='mse',\n",
    "              encoder=encoder,\n",
    "               load_from='demo_models/_critic_15.h5'\n",
    "             )\n",
    "\n",
    "agent1 = Agent(actor1,critic1)\n",
    "agent2 = Agent(actor2, critic2)\n",
    "agent3 = Agent(actor3, critic3)"
   ]
  },
  {
   "cell_type": "code",
   "execution_count": 4,
   "metadata": {},
   "outputs": [
    {
     "name": "stderr",
     "output_type": "stream",
     "text": [
      "/Users/andersbjelland/vscodeProjects/IT3105/Project2/src/hex.py:241: FutureWarning: Using a non-tuple sequence for multidimensional indexing is deprecated; use `arr[tuple(seq)]` instead of `arr[seq]`. In the future this will be interpreted as an array index, `arr[np.array(seq)]`, which will result either in an error or a different result.\n",
      "  return self.board[coordinate]\n"
     ]
    },
    {
     "ename": "ValueError",
     "evalue": "The truth value of an array with more than one element is ambiguous. Use a.any() or a.all()",
     "output_type": "error",
     "traceback": [
      "\u001b[0;31m---------------------------------------------------------------------------\u001b[0m",
      "\u001b[0;31mValueError\u001b[0m                                Traceback (most recent call last)",
      "\u001b[0;32m<ipython-input-4-22f1767dc968>\u001b[0m in \u001b[0;36m<module>\u001b[0;34m\u001b[0m\n\u001b[1;32m      3\u001b[0m \u001b[0mh\u001b[0m\u001b[0;34m.\u001b[0m\u001b[0mset_encoder\u001b[0m\u001b[0;34m(\u001b[0m\u001b[0mDemoEncoder\u001b[0m\u001b[0;34m(\u001b[0m\u001b[0;34m)\u001b[0m\u001b[0;34m)\u001b[0m\u001b[0;34m\u001b[0m\u001b[0;34m\u001b[0m\u001b[0m\n\u001b[1;32m      4\u001b[0m \u001b[0mtopp\u001b[0m \u001b[0;34m=\u001b[0m \u001b[0mTopp\u001b[0m\u001b[0;34m(\u001b[0m\u001b[0magents\u001b[0m\u001b[0;34m=\u001b[0m\u001b[0magents\u001b[0m\u001b[0;34m,\u001b[0m \u001b[0menv\u001b[0m\u001b[0;34m=\u001b[0m\u001b[0mh\u001b[0m\u001b[0;34m,\u001b[0m \u001b[0mnumber_of_games\u001b[0m\u001b[0;34m=\u001b[0m\u001b[0;36m100\u001b[0m\u001b[0;34m)\u001b[0m\u001b[0;34m\u001b[0m\u001b[0;34m\u001b[0m\u001b[0m\n\u001b[0;32m----> 5\u001b[0;31m \u001b[0mresult\u001b[0m \u001b[0;34m=\u001b[0m \u001b[0mtopp\u001b[0m\u001b[0;34m.\u001b[0m\u001b[0mtopp\u001b[0m\u001b[0;34m(\u001b[0m\u001b[0;34m)\u001b[0m\u001b[0;34m\u001b[0m\u001b[0;34m\u001b[0m\u001b[0m\n\u001b[0m\u001b[1;32m      6\u001b[0m \u001b[0mresult\u001b[0m\u001b[0;34m\u001b[0m\u001b[0;34m\u001b[0m\u001b[0m\n",
      "\u001b[0;32m~/vscodeProjects/IT3105/Project2/src/topp.py\u001b[0m in \u001b[0;36mtopp\u001b[0;34m(self, stochastic)\u001b[0m\n\u001b[1;32m     48\u001b[0m                 \u001b[0magent1\u001b[0m \u001b[0;34m=\u001b[0m \u001b[0mself\u001b[0m\u001b[0;34m.\u001b[0m\u001b[0magents\u001b[0m\u001b[0;34m[\u001b[0m\u001b[0mplayer1\u001b[0m\u001b[0;34m]\u001b[0m\u001b[0;34m\u001b[0m\u001b[0;34m\u001b[0m\u001b[0m\n\u001b[1;32m     49\u001b[0m                 \u001b[0magent2\u001b[0m \u001b[0;34m=\u001b[0m \u001b[0mself\u001b[0m\u001b[0;34m.\u001b[0m\u001b[0magents\u001b[0m\u001b[0;34m[\u001b[0m\u001b[0mplayer2\u001b[0m\u001b[0;34m]\u001b[0m\u001b[0;34m\u001b[0m\u001b[0;34m\u001b[0m\u001b[0m\n\u001b[0;32m---> 50\u001b[0;31m                 \u001b[0mresult\u001b[0m \u001b[0;34m=\u001b[0m \u001b[0mself\u001b[0m\u001b[0;34m.\u001b[0m\u001b[0mplay_games\u001b[0m\u001b[0;34m(\u001b[0m\u001b[0magent1\u001b[0m\u001b[0;34m,\u001b[0m \u001b[0magent2\u001b[0m\u001b[0;34m,\u001b[0m \u001b[0mself\u001b[0m\u001b[0;34m.\u001b[0m\u001b[0menv\u001b[0m\u001b[0;34m,\u001b[0m \u001b[0mstochastic\u001b[0m\u001b[0;34m=\u001b[0m\u001b[0mstochastic\u001b[0m\u001b[0;34m)\u001b[0m\u001b[0;34m\u001b[0m\u001b[0;34m\u001b[0m\u001b[0m\n\u001b[0m\u001b[1;32m     51\u001b[0m \u001b[0;34m\u001b[0m\u001b[0m\n\u001b[1;32m     52\u001b[0m                 \u001b[0;31m# update winner scores\u001b[0m\u001b[0;34m\u001b[0m\u001b[0;34m\u001b[0m\u001b[0;34m\u001b[0m\u001b[0m\n",
      "\u001b[0;32m~/vscodeProjects/IT3105/Project2/src/topp.py\u001b[0m in \u001b[0;36mplay_games\u001b[0;34m(self, agent1, agent2, env, stochastic)\u001b[0m\n\u001b[1;32m     34\u001b[0m             \u001b[0mplayer1\u001b[0m \u001b[0;34m=\u001b[0m \u001b[0mplayers\u001b[0m\u001b[0;34m[\u001b[0m\u001b[0;36m0\u001b[0m\u001b[0;34m]\u001b[0m\u001b[0;34m\u001b[0m\u001b[0;34m\u001b[0m\u001b[0m\n\u001b[1;32m     35\u001b[0m             \u001b[0mplayer2\u001b[0m \u001b[0;34m=\u001b[0m \u001b[0mplayers\u001b[0m\u001b[0;34m[\u001b[0m\u001b[0;36m1\u001b[0m\u001b[0;34m]\u001b[0m\u001b[0;34m\u001b[0m\u001b[0;34m\u001b[0m\u001b[0m\n\u001b[0;32m---> 36\u001b[0;31m             \u001b[0mwinner\u001b[0m \u001b[0;34m=\u001b[0m \u001b[0mself\u001b[0m\u001b[0;34m.\u001b[0m\u001b[0mplay\u001b[0m\u001b[0;34m(\u001b[0m\u001b[0mplayer1\u001b[0m\u001b[0;34m,\u001b[0m \u001b[0mplayer2\u001b[0m\u001b[0;34m,\u001b[0m \u001b[0menv\u001b[0m\u001b[0;34m,\u001b[0m \u001b[0mstochastic\u001b[0m\u001b[0;34m)\u001b[0m\u001b[0;34m\u001b[0m\u001b[0;34m\u001b[0m\u001b[0m\n\u001b[0m\u001b[1;32m     37\u001b[0m             \u001b[0;32mif\u001b[0m \u001b[0mwinner\u001b[0m \u001b[0;34m==\u001b[0m \u001b[0;36m1\u001b[0m\u001b[0;34m:\u001b[0m\u001b[0;34m\u001b[0m\u001b[0;34m\u001b[0m\u001b[0m\n\u001b[1;32m     38\u001b[0m                 \u001b[0mwinner_scores\u001b[0m\u001b[0;34m[\u001b[0m\u001b[0mplayer1\u001b[0m\u001b[0;34m]\u001b[0m \u001b[0;34m+=\u001b[0m \u001b[0;36m1\u001b[0m\u001b[0;34m\u001b[0m\u001b[0;34m\u001b[0m\u001b[0m\n",
      "\u001b[0;32m~/vscodeProjects/IT3105/Project2/src/topp.py\u001b[0m in \u001b[0;36mplay\u001b[0;34m(self, agent1, agent2, env, stochastic)\u001b[0m\n\u001b[1;32m     20\u001b[0m                 \u001b[0maction\u001b[0m \u001b[0;34m=\u001b[0m \u001b[0magent2\u001b[0m\u001b[0;34m.\u001b[0m\u001b[0mactor\u001b[0m\u001b[0;34m.\u001b[0m\u001b[0mget_action\u001b[0m\u001b[0;34m(\u001b[0m\u001b[0menv\u001b[0m\u001b[0;34m,\u001b[0m \u001b[0mstochastic\u001b[0m\u001b[0;34m=\u001b[0m\u001b[0mstochastic\u001b[0m\u001b[0;34m)\u001b[0m\u001b[0;34m\u001b[0m\u001b[0;34m\u001b[0m\u001b[0m\n\u001b[1;32m     21\u001b[0m \u001b[0;34m\u001b[0m\u001b[0m\n\u001b[0;32m---> 22\u001b[0;31m             \u001b[0menv\u001b[0m\u001b[0;34m.\u001b[0m\u001b[0mmake_action\u001b[0m\u001b[0;34m(\u001b[0m\u001b[0maction\u001b[0m\u001b[0;34m)\u001b[0m\u001b[0;34m\u001b[0m\u001b[0;34m\u001b[0m\u001b[0m\n\u001b[0m\u001b[1;32m     23\u001b[0m         \u001b[0mwinner\u001b[0m \u001b[0;34m=\u001b[0m \u001b[0menv\u001b[0m\u001b[0;34m.\u001b[0m\u001b[0mget_winner\u001b[0m\u001b[0;34m(\u001b[0m\u001b[0;34m)\u001b[0m\u001b[0;34m\u001b[0m\u001b[0;34m\u001b[0m\u001b[0m\n\u001b[1;32m     24\u001b[0m         \u001b[0menv\u001b[0m\u001b[0;34m.\u001b[0m\u001b[0mreset\u001b[0m\u001b[0;34m(\u001b[0m\u001b[0;34m)\u001b[0m\u001b[0;34m\u001b[0m\u001b[0;34m\u001b[0m\u001b[0m\n",
      "\u001b[0;32m~/vscodeProjects/IT3105/Project2/src/hex.py\u001b[0m in \u001b[0;36mmake_action\u001b[0;34m(self, coordinate, update_encoding)\u001b[0m\n\u001b[1;32m    122\u001b[0m \u001b[0;34m\u001b[0m\u001b[0m\n\u001b[1;32m    123\u001b[0m     \u001b[0;32mdef\u001b[0m \u001b[0mmake_action\u001b[0m\u001b[0;34m(\u001b[0m\u001b[0mself\u001b[0m\u001b[0;34m,\u001b[0m \u001b[0mcoordinate\u001b[0m\u001b[0;34m:\u001b[0m \u001b[0mTuple\u001b[0m\u001b[0;34m,\u001b[0m \u001b[0mupdate_encoding\u001b[0m\u001b[0;34m=\u001b[0m\u001b[0;32mTrue\u001b[0m\u001b[0;34m)\u001b[0m\u001b[0;34m:\u001b[0m\u001b[0;34m\u001b[0m\u001b[0;34m\u001b[0m\u001b[0m\n\u001b[0;32m--> 124\u001b[0;31m         \u001b[0;32mif\u001b[0m \u001b[0mself\u001b[0m\u001b[0;34m.\u001b[0m\u001b[0mvalue_of\u001b[0m\u001b[0;34m(\u001b[0m\u001b[0mcoordinate\u001b[0m\u001b[0;34m)\u001b[0m \u001b[0;34m!=\u001b[0m \u001b[0mEMPTY\u001b[0m\u001b[0;34m:\u001b[0m\u001b[0;34m\u001b[0m\u001b[0;34m\u001b[0m\u001b[0m\n\u001b[0m\u001b[1;32m    125\u001b[0m             \u001b[0mprint\u001b[0m\u001b[0;34m(\u001b[0m\u001b[0;34m\"tried this action {} on this board\"\u001b[0m\u001b[0;34m.\u001b[0m\u001b[0mformat\u001b[0m\u001b[0;34m(\u001b[0m\u001b[0mcoordinate\u001b[0m\u001b[0;34m)\u001b[0m\u001b[0;34m)\u001b[0m\u001b[0;34m\u001b[0m\u001b[0;34m\u001b[0m\u001b[0m\n\u001b[1;32m    126\u001b[0m             \u001b[0mself\u001b[0m\u001b[0;34m.\u001b[0m\u001b[0mdisplay_board\u001b[0m\u001b[0;34m(\u001b[0m\u001b[0;34m)\u001b[0m\u001b[0;34m\u001b[0m\u001b[0;34m\u001b[0m\u001b[0m\n",
      "\u001b[0;31mValueError\u001b[0m: The truth value of an array with more than one element is ambiguous. Use a.any() or a.all()"
     ]
    }
   ],
   "source": [
    "agents = [agent1, agent2, agent3]\n",
    "h = Hex((4,4))\n",
    "h.set_encoder(DemoEncoder())\n",
    "topp = Topp(agents=agents, env=h, number_of_games=100)\n",
    "result = topp.topp()\n",
    "result"
   ]
  },
  {
   "cell_type": "code",
   "execution_count": 19,
   "metadata": {},
   "outputs": [
    {
     "data": {
      "image/png": "[encoded data removed]",
      "text/plain": [
       "<Figure size 432x288 with 1 Axes>"
      ]
     },
     "metadata": {
      "needs_background": "light"
     },
     "output_type": "display_data"
    }
   ],
   "source": [
    "x = ['agent'+str(i+1) for i in range(len(agents))]\n",
    "y = [result[agents[i]] for i in range(len(agents))]\n",
    "plt.bar(x,y)\n",
    "for index, value in enumerate(y):\n",
    "    plt.text(index, value, str(value))\n",
    "    \n",
    "plt.ylabel('Wins')\n",
    "plt.title(\"Result of TOPP\")\n",
    "plt.show()"
   ]
  },
  {
   "cell_type": "markdown",
   "metadata": {},
   "source": [
    "## TOPP of pretrained models"
   ]
  },
  {
   "cell_type": "code",
   "execution_count": 3,
   "metadata": {},
   "outputs": [],
   "source": [
    "encoder = SimpleHexEncoder(padding=0)\n",
    "\n",
    "actor1 = Actor(learning_rate=0.01,\n",
    "             epsilon=0,\n",
    "             end_epsilon=0,\n",
    "               encoder=encoder,\n",
    "               load_from='demo11/0.h5'\n",
    "             )\n",
    "\n",
    "critic1 = Critic(learning_rate=0.01,\n",
    "             nn_loss='mse',\n",
    "            encoder=encoder,\n",
    "               load_from='demo11/_critic_0.h5',\n",
    "             )\n",
    "\n",
    "actor2 = Actor(learning_rate=0.01,\n",
    "             epsilon=0,\n",
    "             end_epsilon=0,\n",
    "              encoder=encoder,\n",
    "               load_from='demo11/100.h5'\n",
    "             )\n",
    "\n",
    "critic2 = Critic(learning_rate=0.01,\n",
    "             nn_loss='mse',\n",
    "              encoder=encoder,\n",
    "               load_from='demo11/_critic_100.h5'\n",
    "             )\n",
    "\n",
    "actor3 = Actor(learning_rate=0.01,\n",
    "             epsilon=0,\n",
    "             end_epsilon=0,\n",
    "              encoder=encoder,\n",
    "               load_from='demo11/300.h5'\n",
    "             )\n",
    "\n",
    "critic3 = Critic(learning_rate=0.01,\n",
    "             nn_loss='mse',\n",
    "              encoder=encoder,\n",
    "               load_from='demo11/_critic_300.h5'\n",
    "             )\n",
    "actor4 = Actor(learning_rate=0.01,\n",
    "             epsilon=0,\n",
    "             end_epsilon=0,\n",
    "              encoder=encoder,\n",
    "               load_from='demo11/450.h5'\n",
    "             )\n",
    "\n",
    "critic4 = Critic(learning_rate=0.01,\n",
    "             nn_loss='mse',\n",
    "              encoder=encoder,\n",
    "               load_from='demo11/_critic_450.h5'\n",
    "             )\n",
    "\n",
    "agent1 = Agent(actor1,critic1)\n",
    "agent2 = Agent(actor2, critic2)\n",
    "agent3 = Agent(actor3, critic3)\n",
    "agent4 = Agent(actor4, critic4)\n",
    "\n"
   ]
  },
  {
   "cell_type": "code",
   "execution_count": 4,
   "metadata": {},
   "outputs": [
    {
     "data": {
      "text/plain": [
       "{<src.agent.Agent at 0x13ddb4fd0>: 64,\n",
       " <src.agent.Agent at 0x13ddb44c0>: 147,\n",
       " <src.agent.Agent at 0x13dfa3e50>: 183,\n",
       " <src.agent.Agent at 0x13dfa32b0>: 206}"
      ]
     },
     "execution_count": 4,
     "metadata": {},
     "output_type": "execute_result"
    }
   ],
   "source": [
    "random.seed(1)\n",
    "agents = [agent1, agent2, agent3, agent4]\n",
    "h = Hex((4,4))\n",
    "h.set_encoder(SimpleHexEncoder(padding=0))\n",
    "topp = Topp(agents=agents, env=h, number_of_games=100)\n",
    "result, games_dict = topp.topp(stochastic=True)\n",
    "result"
   ]
  },
  {
   "cell_type": "code",
   "execution_count": 5,
   "metadata": {},
   "outputs": [
    {
     "data": {
      "image/png": "[encoded data removed]",
      "text/plain": [
       "<Figure size 432x288 with 1 Axes>"
      ]
     },
     "metadata": {
      "needs_background": "light"
     },
     "output_type": "display_data"
    }
   ],
   "source": [
    "x = ['agent'+str(i+1) for i in range(len(agents))]\n",
    "y = [result[agents[i]] for i in range(len(agents))]\n",
    "plt.bar(x,y)\n",
    "for index, value in enumerate(y):\n",
    "    plt.text(index, value, str(value))\n",
    "    \n",
    "plt.ylabel('Wins')\n",
    "plt.title(\"Result of TOPP\")\n",
    "plt.show()"
   ]
  },
  {
   "cell_type": "markdown",
   "metadata": {},
   "source": [
    "## Visualize topp"
   ]
  },
  {
   "cell_type": "code",
   "execution_count": 7,
   "metadata": {},
   "outputs": [
    {
     "data": {
      "text/plain": [
       "list"
      ]
     },
     "execution_count": 7,
     "metadata": {},
     "output_type": "execute_result"
    }
   ],
   "source": [
    "type(games_dict[(agent1, agent2)])"
   ]
  },
  {
   "cell_type": "code",
   "execution_count": 16,
   "metadata": {},
   "outputs": [
    {
     "data": {
      "text/plain": [
       "[<src.hex.Hex at 0x13bb5e700>,\n",
       " <src.hex.Hex at 0x13bb5ea00>,\n",
       " <src.hex.Hex at 0x13bb5eb50>,\n",
       " <src.hex.Hex at 0x13bb5eca0>,\n",
       " <src.hex.Hex at 0x13bb5edf0>,\n",
       " <src.hex.Hex at 0x13bb5ef40>,\n",
       " <src.hex.Hex at 0x13bb5ee50>,\n",
       " <src.hex.Hex at 0x13bb5e7f0>,\n",
       " <src.hex.Hex at 0x13bb5efa0>,\n",
       " <src.hex.Hex at 0x13bb5ed30>,\n",
       " <src.hex.Hex at 0x13bb76610>,\n",
       " <src.hex.Hex at 0x13bb76520>,\n",
       " <src.hex.Hex at 0x13bb76670>,\n",
       " <src.hex.Hex at 0x13bb76a00>,\n",
       " <src.hex.Hex at 0x13bb76820>,\n",
       " <src.hex.Hex at 0x13bb76af0>]"
      ]
     },
     "execution_count": 16,
     "metadata": {},
     "output_type": "execute_result"
    }
   ],
   "source": [
    "games_dict[(agent1, agent2)][5]"
   ]
  },
  {
   "cell_type": "code",
   "execution_count": 25,
   "metadata": {},
   "outputs": [
    {
     "data": {
      "application/vnd.jupyter.widget-view+json": {
       "model_id": "977909c89bfc4b8d833a486f537f9989",
       "version_major": 2,
       "version_minor": 0
      },
      "text/plain": [
       "interactive(children=(IntSlider(value=7, description='step', max=15), Output()), _dom_classes=('widget-interac…"
      ]
     },
     "metadata": {},
     "output_type": "display_data"
    }
   ],
   "source": [
    "visualize(49,games_dict[(agent3,agent4)])"
   ]
  },
  {
   "cell_type": "code",
   "execution_count": null,
   "metadata": {},
   "outputs": [],
   "source": []
  }
 ],
 "metadata": {
  "kernelspec": {
   "display_name": "Python 3",
   "language": "python",
   "name": "python3"
  },
  "language_info": {
   "codemirror_mode": {
    "name": "ipython",
    "version": 3
   },
   "file_extension": ".py",
   "mimetype": "text/x-python",
   "name": "python",
   "nbconvert_exporter": "python",
   "pygments_lexer": "ipython3",
   "version": "3.8.5"
  }
 },
 "nbformat": 4,
 "nbformat_minor": 4
}
