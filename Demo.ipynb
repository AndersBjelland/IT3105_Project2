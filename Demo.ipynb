{
 "cells": [
  {
   "cell_type": "markdown",
   "metadata": {},
   "source": [
    "# Demo 2 AI-prog"
   ]
  },
  {
   "cell_type": "code",
   "execution_count": 1,
   "metadata": {},
   "outputs": [
    {
     "name": "stdout",
     "output_type": "stream",
     "text": [
      "Collecting git+https://github.com/AndersBjelland/IT3105_Project2.git@dev\n",
      "  Cloning https://github.com/AndersBjelland/IT3105_Project2.git (to revision dev) to /private/var/folders/dm/8497wlxs7d34zt6c6wdjfh500000gn/T/pip-req-build-s5cv9bca\n",
      "Building wheels for collected packages: Project2\n",
      "  Building wheel for Project2 (setup.py) ... \u001b[?25ldone\n",
      "\u001b[?25h  Created wheel for Project2: filename=Project2-1.0-py3-none-any.whl size=14953 sha256=5e13453c5dbe26f594f07e36df72b20b893ab32b59ca00c39c703285589132a0\n",
      "  Stored in directory: /private/var/folders/dm/8497wlxs7d34zt6c6wdjfh500000gn/T/pip-ephem-wheel-cache-ppbz0ass/wheels/b2/24/99/8fa89aec957ae3920f431ef10ca7ed9e2e3743c4e806a2fbf0\n",
      "Successfully built Project2\n",
      "Installing collected packages: Project2\n",
      "  Attempting uninstall: Project2\n",
      "    Found existing installation: Project2 1.0\n",
      "    Uninstalling Project2-1.0:\n",
      "      Successfully uninstalled Project2-1.0\n",
      "Successfully installed Project2-1.0\n"
     ]
    }
   ],
   "source": [
    "import sys\n",
    "!{sys.executable} -m pip install --upgrade git+https://github.com/AndersBjelland/IT3105_Project2.git@dev"
   ]
  },
  {
   "cell_type": "code",
   "execution_count": 1,
   "metadata": {},
   "outputs": [],
   "source": [
    "import matplotlib.pyplot as plt"
   ]
  },
  {
   "cell_type": "code",
   "execution_count": 1,
   "metadata": {},
   "outputs": [],
   "source": [
    "# our code\n",
    "from src import *"
   ]
  },
  {
   "cell_type": "markdown",
   "metadata": {},
   "source": [
    "alpha zero ran 800 simulations in mcts"
   ]
  },
  {
   "cell_type": "markdown",
   "metadata": {},
   "source": [
    "## Train a simple agent and show improvement"
   ]
  },
  {
   "cell_type": "code",
   "execution_count": 2,
   "metadata": {},
   "outputs": [
    {
     "data": {
      "image/png": "[encoded data removed]",
      "text/plain": [
       "<Figure size 432x288 with 1 Axes>"
      ]
     },
     "metadata": {},
     "output_type": "display_data"
    }
   ],
   "source": [
    "%matplotlib inline\n",
    "hex = Hex((4,4))\n",
    "hex.display_board()"
   ]
  },
  {
   "cell_type": "code",
   "execution_count": 11,
   "metadata": {},
   "outputs": [],
   "source": [
    "hex = Hex((4,4))\n",
    "\n",
    "encoder = DemoEncoder()\n",
    "\n",
    "actor = Actor(learning_rate=0.001,\n",
    "             epsilon=0.0,\n",
    "             end_epsilon=0.0,\n",
    "             nn_shape=(33,128, 64,16),\n",
    "             filters=(),\n",
    "             kernel_sizes=(),\n",
    "                nn_opt='Adam',\n",
    "              nn_activation='relu',\n",
    "              nn_last_activation='softmax',\n",
    "              nn_loss= 'categorical_crossentropy',\n",
    "              encoder=encoder\n",
    "             )\n",
    "\n",
    "critic = Critic(learning_rate=0.001,\n",
    "             \n",
    "             nn_shape=(33,128, 64,1),\n",
    "             filters=(),\n",
    "             kernel_sizes=(),\n",
    "                nn_opt='SGD',\n",
    "              nn_activation='relu',\n",
    "              nn_last_activation='sigmoid',\n",
    "              nn_loss= 'mse',\n",
    "              encoder=encoder\n",
    "             )\n",
    "\n",
    "hex.set_encoder(encoder)            \n",
    "            \n",
    "agent = Agent(actor,critic)  \n",
    "mcts = MCTS(agent.actor, hex, agent.critic)"
   ]
  },
  {
   "cell_type": "code",
   "execution_count": 12,
   "metadata": {
    "scrolled": true
   },
   "outputs": [
    {
     "name": "stderr",
     "output_type": "stream",
     "text": [
      "\r",
      "  0%|          | 0/15 [00:00<?, ?it/s]"
     ]
    },
    {
     "name": "stdout",
     "output_type": "stream",
     "text": [
      "--------------actor-------------\n",
      "Epoch 1/10\n",
      "1/1 [==============================] - 1s 525ms/step - loss: 2.7658 - accuracy: 0.0833\n",
      "Epoch 2/10\n",
      "1/1 [==============================] - 0s 5ms/step - loss: 2.7473 - accuracy: 0.0833\n",
      "Epoch 3/10\n",
      "1/1 [==============================] - 0s 4ms/step - loss: 2.7303 - accuracy: 0.0833\n",
      "Epoch 4/10\n",
      "1/1 [==============================] - 0s 5ms/step - loss: 2.7146 - accuracy: 0.0833\n",
      "Epoch 5/10\n",
      "1/1 [==============================] - 0s 15ms/step - loss: 2.6991 - accuracy: 0.1667\n",
      "Epoch 6/10\n",
      "1/1 [==============================] - 0s 10ms/step - loss: 2.6837 - accuracy: 0.1667\n",
      "Epoch 7/10\n",
      "1/1 [==============================] - 0s 17ms/step - loss: 2.6689 - accuracy: 0.1667\n",
      "Epoch 8/10\n",
      "1/1 [==============================] - 0s 9ms/step - loss: 2.6545 - accuracy: 0.1667\n",
      "Epoch 9/10\n",
      "1/1 [==============================] - 0s 11ms/step - loss: 2.6400 - accuracy: 0.1667\n",
      "Epoch 10/10\n",
      "1/1 [==============================] - 0s 5ms/step - loss: 2.6259 - accuracy: 0.2500\n",
      "--------------critic------------\n",
      "first replay:  3\n",
      "Epoch 1/10\n",
      "1/1 [==============================] - 1s 619ms/step - loss: 0.2604 - accuracy: 0.4167\n",
      "Epoch 2/10\n",
      "1/1 [==============================] - 0s 3ms/step - loss: 0.2604 - accuracy: 0.4167\n",
      "Epoch 3/10\n",
      "1/1 [==============================] - 0s 12ms/step - loss: 0.2603 - accuracy: 0.4167\n",
      "Epoch 4/10\n",
      "1/1 [==============================] - 0s 9ms/step - loss: 0.2603 - accuracy: 0.4167\n",
      "Epoch 5/10\n",
      "1/1 [==============================] - 0s 12ms/step - loss: 0.2603 - accuracy: 0.4167\n",
      "Epoch 6/10\n",
      "1/1 [==============================] - 0s 9ms/step - loss: 0.2602 - accuracy: 0.4167\n",
      "Epoch 7/10\n",
      "1/1 [==============================] - 0s 29ms/step - loss: 0.2602 - accuracy: 0.4167\n",
      "Epoch 8/10\n",
      "1/1 [==============================] - 0s 6ms/step - loss: 0.2602 - accuracy: 0.4167\n",
      "Epoch 9/10\n",
      "1/1 [==============================] - 0s 8ms/step - loss: 0.2602 - accuracy: 0.4167\n",
      "Epoch 10/10\n",
      "1/1 [==============================] - 0s 6ms/step - loss: 0.2601 - accuracy: 0.4167\n"
     ]
    },
    {
     "name": "stderr",
     "output_type": "stream",
     "text": [
      "\r",
      "  7%|▋         | 1/15 [00:16<03:49, 16.42s/it]"
     ]
    },
    {
     "name": "stdout",
     "output_type": "stream",
     "text": [
      "--------------actor-------------\n",
      "Epoch 1/10\n",
      "1/1 [==============================] - 0s 3ms/step - loss: 2.7156 - accuracy: 0.1600\n",
      "Epoch 2/10\n",
      "1/1 [==============================] - 0s 4ms/step - loss: 2.7057 - accuracy: 0.1600\n",
      "Epoch 3/10\n",
      "1/1 [==============================] - 0s 7ms/step - loss: 2.6940 - accuracy: 0.1600\n",
      "Epoch 4/10\n",
      "1/1 [==============================] - 0s 10ms/step - loss: 2.6811 - accuracy: 0.1600\n",
      "Epoch 5/10\n",
      "1/1 [==============================] - 0s 7ms/step - loss: 2.6674 - accuracy: 0.2000\n",
      "Epoch 6/10\n",
      "1/1 [==============================] - 0s 6ms/step - loss: 2.6533 - accuracy: 0.2000\n",
      "Epoch 7/10\n",
      "1/1 [==============================] - 0s 6ms/step - loss: 2.6391 - accuracy: 0.2000\n",
      "Epoch 8/10\n",
      "1/1 [==============================] - 0s 4ms/step - loss: 2.6248 - accuracy: 0.2000\n",
      "Epoch 9/10\n",
      "1/1 [==============================] - 0s 6ms/step - loss: 2.6106 - accuracy: 0.2000\n",
      "Epoch 10/10\n",
      "1/1 [==============================] - 0s 3ms/step - loss: 2.5965 - accuracy: 0.2000\n",
      "--------------critic------------\n",
      "first replay:  3\n",
      "Epoch 1/10\n",
      "1/1 [==============================] - 0s 3ms/step - loss: 0.2572 - accuracy: 0.4400\n",
      "Epoch 2/10\n",
      "1/1 [==============================] - 0s 3ms/step - loss: 0.2572 - accuracy: 0.4400\n",
      "Epoch 3/10\n",
      "1/1 [==============================] - 0s 6ms/step - loss: 0.2572 - accuracy: 0.4400\n",
      "Epoch 4/10\n",
      "1/1 [==============================] - 0s 2ms/step - loss: 0.2572 - accuracy: 0.4400\n",
      "Epoch 5/10\n",
      "1/1 [==============================] - 0s 3ms/step - loss: 0.2572 - accuracy: 0.4400\n",
      "Epoch 6/10\n",
      "1/1 [==============================] - 0s 3ms/step - loss: 0.2571 - accuracy: 0.4400\n",
      "Epoch 7/10\n",
      "1/1 [==============================] - 0s 5ms/step - loss: 0.2571 - accuracy: 0.4400\n",
      "Epoch 8/10\n",
      "1/1 [==============================] - 0s 7ms/step - loss: 0.2571 - accuracy: 0.4400\n",
      "Epoch 9/10\n",
      "1/1 [==============================] - 0s 3ms/step - loss: 0.2571 - accuracy: 0.4400\n",
      "Epoch 10/10\n",
      "1/1 [==============================] - 0s 3ms/step - loss: 0.2571 - accuracy: 0.4400\n"
     ]
    },
    {
     "name": "stderr",
     "output_type": "stream",
     "text": [
      "\r",
      " 13%|█▎        | 2/15 [00:29<03:20, 15.41s/it]"
     ]
    },
    {
     "name": "stdout",
     "output_type": "stream",
     "text": [
      "--------------actor-------------\n",
      "Epoch 1/10\n",
      "1/1 [==============================] - 0s 3ms/step - loss: 2.6241 - accuracy: 0.1471\n",
      "Epoch 2/10\n",
      "1/1 [==============================] - 0s 4ms/step - loss: 2.6106 - accuracy: 0.1471\n",
      "Epoch 3/10\n",
      "1/1 [==============================] - 0s 6ms/step - loss: 2.5969 - accuracy: 0.1471\n",
      "Epoch 4/10\n",
      "1/1 [==============================] - 0s 8ms/step - loss: 2.5826 - accuracy: 0.1471\n",
      "Epoch 5/10\n",
      "1/1 [==============================] - 0s 5ms/step - loss: 2.5684 - accuracy: 0.2059\n",
      "Epoch 6/10\n",
      "1/1 [==============================] - 0s 6ms/step - loss: 2.5543 - accuracy: 0.2353\n",
      "Epoch 7/10\n",
      "1/1 [==============================] - 0s 11ms/step - loss: 2.5410 - accuracy: 0.2647\n",
      "Epoch 8/10\n",
      "1/1 [==============================] - 0s 7ms/step - loss: 2.5282 - accuracy: 0.2941\n",
      "Epoch 9/10\n",
      "1/1 [==============================] - 0s 8ms/step - loss: 2.5155 - accuracy: 0.2941\n",
      "Epoch 10/10\n",
      "1/1 [==============================] - 0s 6ms/step - loss: 2.5035 - accuracy: 0.3529\n",
      "--------------critic------------\n",
      "first replay:  3\n",
      "Epoch 1/10\n",
      "1/1 [==============================] - 0s 4ms/step - loss: 0.2571 - accuracy: 0.4706\n",
      "Epoch 2/10\n",
      "1/1 [==============================] - 0s 5ms/step - loss: 0.2571 - accuracy: 0.4706\n",
      "Epoch 3/10\n",
      "1/1 [==============================] - 0s 10ms/step - loss: 0.2571 - accuracy: 0.4706\n",
      "Epoch 4/10\n",
      "1/1 [==============================] - 0s 5ms/step - loss: 0.2571 - accuracy: 0.4706\n",
      "Epoch 5/10\n",
      "1/1 [==============================] - 0s 4ms/step - loss: 0.2570 - accuracy: 0.4706\n",
      "Epoch 6/10\n",
      "1/1 [==============================] - 0s 7ms/step - loss: 0.2570 - accuracy: 0.4706\n",
      "Epoch 7/10\n",
      "1/1 [==============================] - 0s 7ms/step - loss: 0.2570 - accuracy: 0.4706\n",
      "Epoch 8/10\n",
      "1/1 [==============================] - 0s 4ms/step - loss: 0.2570 - accuracy: 0.4706\n",
      "Epoch 9/10\n",
      "1/1 [==============================] - 0s 10ms/step - loss: 0.2570 - accuracy: 0.4706\n",
      "Epoch 10/10\n",
      "1/1 [==============================] - 0s 17ms/step - loss: 0.2570 - accuracy: 0.4706\n"
     ]
    },
    {
     "name": "stderr",
     "output_type": "stream",
     "text": [
      "\r",
      " 20%|██        | 3/15 [00:38<02:41, 13.43s/it]"
     ]
    },
    {
     "name": "stdout",
     "output_type": "stream",
     "text": [
      "--------------actor-------------\n",
      "Epoch 1/10\n",
      "1/1 [==============================] - 0s 4ms/step - loss: 2.5421 - accuracy: 0.2927\n",
      "Epoch 2/10\n",
      "1/1 [==============================] - 0s 4ms/step - loss: 2.5326 - accuracy: 0.2927\n",
      "Epoch 3/10\n",
      "1/1 [==============================] - 0s 6ms/step - loss: 2.5232 - accuracy: 0.2927\n",
      "Epoch 4/10\n",
      "1/1 [==============================] - 0s 7ms/step - loss: 2.5139 - accuracy: 0.3171\n",
      "Epoch 5/10\n",
      "1/1 [==============================] - 0s 6ms/step - loss: 2.5044 - accuracy: 0.3415\n",
      "Epoch 6/10\n",
      "1/1 [==============================] - 0s 4ms/step - loss: 2.4947 - accuracy: 0.3415\n",
      "Epoch 7/10\n",
      "1/1 [==============================] - 0s 4ms/step - loss: 2.4851 - accuracy: 0.3171\n",
      "Epoch 8/10\n",
      "1/1 [==============================] - 0s 6ms/step - loss: 2.4757 - accuracy: 0.3171\n",
      "Epoch 9/10\n",
      "1/1 [==============================] - 0s 5ms/step - loss: 2.4664 - accuracy: 0.3171\n",
      "Epoch 10/10\n",
      "1/1 [==============================] - 0s 5ms/step - loss: 2.4574 - accuracy: 0.3415\n",
      "--------------critic------------\n",
      "first replay:  3\n",
      "Epoch 1/10\n",
      "1/1 [==============================] - 0s 3ms/step - loss: 0.2561 - accuracy: 0.5122\n",
      "Epoch 2/10\n",
      "1/1 [==============================] - 0s 2ms/step - loss: 0.2561 - accuracy: 0.5122\n",
      "Epoch 3/10\n",
      "1/1 [==============================] - 0s 3ms/step - loss: 0.2560 - accuracy: 0.5122\n",
      "Epoch 4/10\n",
      "1/1 [==============================] - 0s 5ms/step - loss: 0.2560 - accuracy: 0.4878\n",
      "Epoch 5/10\n",
      "1/1 [==============================] - 0s 4ms/step - loss: 0.2560 - accuracy: 0.4878\n",
      "Epoch 6/10\n",
      "1/1 [==============================] - 0s 6ms/step - loss: 0.2560 - accuracy: 0.4878\n",
      "Epoch 7/10\n",
      "1/1 [==============================] - 0s 7ms/step - loss: 0.2560 - accuracy: 0.4878\n",
      "Epoch 8/10\n",
      "1/1 [==============================] - 0s 7ms/step - loss: 0.2560 - accuracy: 0.4878\n",
      "Epoch 9/10\n",
      "1/1 [==============================] - 0s 18ms/step - loss: 0.2560 - accuracy: 0.4878\n",
      "Epoch 10/10\n",
      "1/1 [==============================] - 0s 9ms/step - loss: 0.2560 - accuracy: 0.4878\n"
     ]
    },
    {
     "name": "stderr",
     "output_type": "stream",
     "text": [
      "\r",
      " 27%|██▋       | 4/15 [00:45<02:08, 11.64s/it]"
     ]
    },
    {
     "name": "stdout",
     "output_type": "stream",
     "text": [
      "--------------actor-------------\n",
      "Epoch 1/10\n",
      "1/1 [==============================] - 0s 5ms/step - loss: 2.5543 - accuracy: 0.3333\n",
      "Epoch 2/10\n",
      "1/1 [==============================] - 0s 4ms/step - loss: 2.5430 - accuracy: 0.3333\n",
      "Epoch 3/10\n",
      "1/1 [==============================] - 0s 8ms/step - loss: 2.5296 - accuracy: 0.3333\n",
      "Epoch 4/10\n",
      "1/1 [==============================] - 0s 5ms/step - loss: 2.5153 - accuracy: 0.3333\n",
      "Epoch 5/10\n",
      "1/1 [==============================] - 0s 4ms/step - loss: 2.5011 - accuracy: 0.3333\n",
      "Epoch 6/10\n",
      "1/1 [==============================] - 0s 11ms/step - loss: 2.4877 - accuracy: 0.3333\n",
      "Epoch 7/10\n",
      "1/1 [==============================] - 0s 5ms/step - loss: 2.4752 - accuracy: 0.3148\n",
      "Epoch 8/10\n",
      "1/1 [==============================] - 0s 13ms/step - loss: 2.4638 - accuracy: 0.3333\n",
      "Epoch 9/10\n",
      "1/1 [==============================] - 0s 6ms/step - loss: 2.4537 - accuracy: 0.2963\n",
      "Epoch 10/10\n",
      "1/1 [==============================] - 0s 7ms/step - loss: 2.4442 - accuracy: 0.3148\n",
      "--------------critic------------\n",
      "first replay:  3\n",
      "Epoch 1/10\n",
      "1/1 [==============================] - 0s 3ms/step - loss: 0.2544 - accuracy: 0.5000\n",
      "Epoch 2/10\n",
      "1/1 [==============================] - 0s 3ms/step - loss: 0.2544 - accuracy: 0.5000\n",
      "Epoch 3/10\n",
      "1/1 [==============================] - 0s 6ms/step - loss: 0.2544 - accuracy: 0.5000\n",
      "Epoch 4/10\n",
      "1/1 [==============================] - 0s 11ms/step - loss: 0.2544 - accuracy: 0.5000\n",
      "Epoch 5/10\n",
      "1/1 [==============================] - 0s 8ms/step - loss: 0.2544 - accuracy: 0.5000\n",
      "Epoch 6/10\n",
      "1/1 [==============================] - 0s 10ms/step - loss: 0.2543 - accuracy: 0.5000\n",
      "Epoch 7/10\n",
      "1/1 [==============================] - 0s 11ms/step - loss: 0.2543 - accuracy: 0.5000\n",
      "Epoch 8/10\n",
      "1/1 [==============================] - 0s 3ms/step - loss: 0.2543 - accuracy: 0.5000\n",
      "Epoch 9/10\n",
      "1/1 [==============================] - 0s 9ms/step - loss: 0.2543 - accuracy: 0.5000\n",
      "Epoch 10/10\n",
      "1/1 [==============================] - 0s 3ms/step - loss: 0.2543 - accuracy: 0.5000\n"
     ]
    },
    {
     "name": "stderr",
     "output_type": "stream",
     "text": [
      "\r",
      " 33%|███▎      | 5/15 [00:59<02:03, 12.37s/it]"
     ]
    },
    {
     "name": "stdout",
     "output_type": "stream",
     "text": [
      "--------------actor-------------\n",
      "Epoch 1/10\n",
      "1/1 [==============================] - 0s 4ms/step - loss: 2.5328 - accuracy: 0.2615\n",
      "Epoch 2/10\n",
      "1/1 [==============================] - 0s 6ms/step - loss: 2.5228 - accuracy: 0.2615\n",
      "Epoch 3/10\n",
      "1/1 [==============================] - 0s 11ms/step - loss: 2.5112 - accuracy: 0.2615\n",
      "Epoch 4/10\n",
      "1/1 [==============================] - 0s 8ms/step - loss: 2.4984 - accuracy: 0.2615\n",
      "Epoch 5/10\n",
      "1/1 [==============================] - 0s 9ms/step - loss: 2.4849 - accuracy: 0.2923\n",
      "Epoch 6/10\n",
      "1/1 [==============================] - 0s 3ms/step - loss: 2.4711 - accuracy: 0.2923\n",
      "Epoch 7/10\n",
      "1/1 [==============================] - 0s 6ms/step - loss: 2.4577 - accuracy: 0.3077\n",
      "Epoch 8/10\n",
      "1/1 [==============================] - 0s 7ms/step - loss: 2.4450 - accuracy: 0.3077\n",
      "Epoch 9/10\n",
      "1/1 [==============================] - 0s 4ms/step - loss: 2.4338 - accuracy: 0.3077\n",
      "Epoch 10/10\n",
      "1/1 [==============================] - 0s 11ms/step - loss: 2.4235 - accuracy: 0.3077\n",
      "--------------critic------------\n",
      "first replay:  3\n",
      "Epoch 1/10\n",
      "1/1 [==============================] - 0s 6ms/step - loss: 0.2531 - accuracy: 0.5077\n",
      "Epoch 2/10\n",
      "1/1 [==============================] - 0s 8ms/step - loss: 0.2531 - accuracy: 0.5077\n",
      "Epoch 3/10\n",
      "1/1 [==============================] - 0s 14ms/step - loss: 0.2531 - accuracy: 0.5077\n",
      "Epoch 4/10\n",
      "1/1 [==============================] - 0s 10ms/step - loss: 0.2531 - accuracy: 0.5077\n",
      "Epoch 5/10\n",
      "1/1 [==============================] - 0s 4ms/step - loss: 0.2530 - accuracy: 0.5077\n",
      "Epoch 6/10\n",
      "1/1 [==============================] - 0s 6ms/step - loss: 0.2530 - accuracy: 0.5077\n",
      "Epoch 7/10\n",
      "1/1 [==============================] - 0s 3ms/step - loss: 0.2530 - accuracy: 0.5077\n",
      "Epoch 8/10\n",
      "1/1 [==============================] - 0s 5ms/step - loss: 0.2530 - accuracy: 0.5077\n",
      "Epoch 9/10\n",
      "1/1 [==============================] - 0s 8ms/step - loss: 0.2530 - accuracy: 0.5077\n",
      "Epoch 10/10\n",
      "1/1 [==============================] - 0s 6ms/step - loss: 0.2530 - accuracy: 0.5077\n"
     ]
    },
    {
     "name": "stderr",
     "output_type": "stream",
     "text": [
      "\r",
      " 40%|████      | 6/15 [01:09<01:44, 11.65s/it]"
     ]
    },
    {
     "name": "stdout",
     "output_type": "stream",
     "text": [
      "--------------actor-------------\n",
      "Epoch 1/10\n",
      "1/1 [==============================] - 0s 4ms/step - loss: 2.4660 - accuracy: 0.2667\n",
      "Epoch 2/10\n",
      "1/1 [==============================] - 0s 11ms/step - loss: 2.4562 - accuracy: 0.2800\n",
      "Epoch 3/10\n",
      "1/1 [==============================] - 0s 9ms/step - loss: 2.4459 - accuracy: 0.3067\n",
      "Epoch 4/10\n",
      "1/1 [==============================] - 0s 8ms/step - loss: 2.4352 - accuracy: 0.3200\n",
      "Epoch 5/10\n",
      "1/1 [==============================] - 0s 9ms/step - loss: 2.4249 - accuracy: 0.3467\n",
      "Epoch 6/10\n",
      "1/1 [==============================] - 0s 6ms/step - loss: 2.4151 - accuracy: 0.3733\n",
      "Epoch 7/10\n",
      "1/1 [==============================] - 0s 8ms/step - loss: 2.4059 - accuracy: 0.3867\n",
      "Epoch 8/10\n",
      "1/1 [==============================] - 0s 5ms/step - loss: 2.3973 - accuracy: 0.3867\n",
      "Epoch 9/10\n",
      "1/1 [==============================] - 0s 5ms/step - loss: 2.3890 - accuracy: 0.3733\n",
      "Epoch 10/10\n",
      "1/1 [==============================] - 0s 8ms/step - loss: 2.3810 - accuracy: 0.3600\n",
      "--------------critic------------\n",
      "first replay:  3\n",
      "Epoch 1/10\n",
      "1/1 [==============================] - 0s 4ms/step - loss: 0.2529 - accuracy: 0.5067\n",
      "Epoch 2/10\n",
      "1/1 [==============================] - 0s 32ms/step - loss: 0.2529 - accuracy: 0.5067\n",
      "Epoch 3/10\n",
      "1/1 [==============================] - 0s 14ms/step - loss: 0.2529 - accuracy: 0.5067\n",
      "Epoch 4/10\n",
      "1/1 [==============================] - 0s 11ms/step - loss: 0.2529 - accuracy: 0.5067\n",
      "Epoch 5/10\n",
      "1/1 [==============================] - 0s 18ms/step - loss: 0.2529 - accuracy: 0.5067\n",
      "Epoch 6/10\n",
      "1/1 [==============================] - 0s 10ms/step - loss: 0.2529 - accuracy: 0.5067\n",
      "Epoch 7/10\n",
      "1/1 [==============================] - 0s 12ms/step - loss: 0.2528 - accuracy: 0.5067\n",
      "Epoch 8/10\n",
      "1/1 [==============================] - 0s 8ms/step - loss: 0.2528 - accuracy: 0.5067\n",
      "Epoch 9/10\n",
      "1/1 [==============================] - 0s 5ms/step - loss: 0.2528 - accuracy: 0.5067\n",
      "Epoch 10/10\n",
      "1/1 [==============================] - 0s 4ms/step - loss: 0.2528 - accuracy: 0.5067\n"
     ]
    },
    {
     "name": "stderr",
     "output_type": "stream",
     "text": [
      "\r",
      " 47%|████▋     | 7/15 [01:18<01:25, 10.64s/it]"
     ]
    },
    {
     "name": "stdout",
     "output_type": "stream",
     "text": [
      "--------------actor-------------\n",
      "Epoch 1/10\n",
      "1/1 [==============================] - 0s 3ms/step - loss: 2.4304 - accuracy: 0.3529\n",
      "Epoch 2/10\n",
      "1/1 [==============================] - 0s 5ms/step - loss: 2.4225 - accuracy: 0.3529\n",
      "Epoch 3/10\n",
      "1/1 [==============================] - 0s 11ms/step - loss: 2.4136 - accuracy: 0.3412\n",
      "Epoch 4/10\n",
      "1/1 [==============================] - 0s 7ms/step - loss: 2.4042 - accuracy: 0.3412\n",
      "Epoch 5/10\n",
      "1/1 [==============================] - 0s 8ms/step - loss: 2.3951 - accuracy: 0.3294\n",
      "Epoch 6/10\n",
      "1/1 [==============================] - 0s 10ms/step - loss: 2.3867 - accuracy: 0.3412\n",
      "Epoch 7/10\n",
      "1/1 [==============================] - 0s 10ms/step - loss: 2.3790 - accuracy: 0.3529\n",
      "Epoch 8/10\n",
      "1/1 [==============================] - 0s 3ms/step - loss: 2.3716 - accuracy: 0.3529\n",
      "Epoch 9/10\n",
      "1/1 [==============================] - 0s 7ms/step - loss: 2.3643 - accuracy: 0.3412\n",
      "Epoch 10/10\n",
      "1/1 [==============================] - 0s 9ms/step - loss: 2.3567 - accuracy: 0.3412\n",
      "--------------critic------------\n",
      "first replay:  3\n",
      "Epoch 1/10\n",
      "1/1 [==============================] - 0s 3ms/step - loss: 0.2524 - accuracy: 0.4941\n",
      "Epoch 2/10\n",
      "1/1 [==============================] - 0s 6ms/step - loss: 0.2524 - accuracy: 0.4941\n",
      "Epoch 3/10\n",
      "1/1 [==============================] - 0s 5ms/step - loss: 0.2524 - accuracy: 0.4941\n",
      "Epoch 4/10\n",
      "1/1 [==============================] - 0s 8ms/step - loss: 0.2524 - accuracy: 0.4941\n",
      "Epoch 5/10\n",
      "1/1 [==============================] - 0s 3ms/step - loss: 0.2524 - accuracy: 0.4941\n",
      "Epoch 6/10\n",
      "1/1 [==============================] - 0s 6ms/step - loss: 0.2524 - accuracy: 0.4941\n",
      "Epoch 7/10\n",
      "1/1 [==============================] - 0s 5ms/step - loss: 0.2524 - accuracy: 0.4941\n",
      "Epoch 8/10\n",
      "1/1 [==============================] - 0s 15ms/step - loss: 0.2524 - accuracy: 0.4941\n",
      "Epoch 9/10\n",
      "1/1 [==============================] - 0s 6ms/step - loss: 0.2523 - accuracy: 0.4941\n",
      "Epoch 10/10\n",
      "1/1 [==============================] - 0s 3ms/step - loss: 0.2523 - accuracy: 0.4941\n"
     ]
    },
    {
     "name": "stderr",
     "output_type": "stream",
     "text": [
      "\r",
      " 53%|█████▎    | 8/15 [01:26<01:10, 10.07s/it]"
     ]
    },
    {
     "name": "stdout",
     "output_type": "stream",
     "text": [
      "--------------actor-------------\n",
      "Epoch 1/10\n",
      "1/1 [==============================] - 0s 3ms/step - loss: 2.3954 - accuracy: 0.3229\n",
      "Epoch 2/10\n",
      "1/1 [==============================] - 0s 4ms/step - loss: 2.3870 - accuracy: 0.3333\n",
      "Epoch 3/10\n",
      "1/1 [==============================] - 0s 12ms/step - loss: 2.3782 - accuracy: 0.3438\n",
      "Epoch 4/10\n",
      "1/1 [==============================] - 0s 9ms/step - loss: 2.3694 - accuracy: 0.3542\n",
      "Epoch 5/10\n",
      "1/1 [==============================] - 0s 9ms/step - loss: 2.3608 - accuracy: 0.3750\n",
      "Epoch 6/10\n",
      "1/1 [==============================] - 0s 2ms/step - loss: 2.3524 - accuracy: 0.3750\n",
      "Epoch 7/10\n",
      "1/1 [==============================] - 0s 9ms/step - loss: 2.3442 - accuracy: 0.3854\n",
      "Epoch 8/10\n",
      "1/1 [==============================] - 0s 3ms/step - loss: 2.3362 - accuracy: 0.3958\n",
      "Epoch 9/10\n",
      "1/1 [==============================] - 0s 4ms/step - loss: 2.3283 - accuracy: 0.3958\n",
      "Epoch 10/10\n",
      "1/1 [==============================] - 0s 5ms/step - loss: 2.3206 - accuracy: 0.4167\n",
      "--------------critic------------\n",
      "first replay:  3\n",
      "Epoch 1/10\n",
      "1/1 [==============================] - 0s 4ms/step - loss: 0.2522 - accuracy: 0.5000\n",
      "Epoch 2/10\n",
      "1/1 [==============================] - 0s 3ms/step - loss: 0.2521 - accuracy: 0.5000\n",
      "Epoch 3/10\n",
      "1/1 [==============================] - 0s 14ms/step - loss: 0.2521 - accuracy: 0.5000\n",
      "Epoch 4/10\n",
      "1/1 [==============================] - 0s 7ms/step - loss: 0.2521 - accuracy: 0.5000\n",
      "Epoch 5/10\n",
      "1/1 [==============================] - 0s 6ms/step - loss: 0.2521 - accuracy: 0.5000\n",
      "Epoch 6/10\n",
      "1/1 [==============================] - 0s 5ms/step - loss: 0.2521 - accuracy: 0.5000\n",
      "Epoch 7/10\n",
      "1/1 [==============================] - 0s 8ms/step - loss: 0.2521 - accuracy: 0.5000\n",
      "Epoch 8/10\n",
      "1/1 [==============================] - 0s 7ms/step - loss: 0.2521 - accuracy: 0.5000\n",
      "Epoch 9/10\n",
      "1/1 [==============================] - 0s 4ms/step - loss: 0.2521 - accuracy: 0.5000\n",
      "Epoch 10/10\n",
      "1/1 [==============================] - 0s 9ms/step - loss: 0.2521 - accuracy: 0.5000\n"
     ]
    },
    {
     "name": "stderr",
     "output_type": "stream",
     "text": [
      "\r",
      " 60%|██████    | 9/15 [01:35<00:58,  9.79s/it]"
     ]
    },
    {
     "name": "stdout",
     "output_type": "stream",
     "text": [
      "--------------actor-------------\n",
      "Epoch 1/10\n",
      "1/1 [==============================] - 0s 4ms/step - loss: 2.3507 - accuracy: 0.3810\n",
      "Epoch 2/10\n",
      "1/1 [==============================] - 0s 7ms/step - loss: 2.3440 - accuracy: 0.3714\n",
      "Epoch 3/10\n",
      "1/1 [==============================] - 0s 11ms/step - loss: 2.3372 - accuracy: 0.3619\n",
      "Epoch 4/10\n",
      "1/1 [==============================] - 0s 11ms/step - loss: 2.3304 - accuracy: 0.3714\n",
      "Epoch 5/10\n",
      "1/1 [==============================] - 0s 7ms/step - loss: 2.3238 - accuracy: 0.3714\n",
      "Epoch 6/10\n",
      "1/1 [==============================] - 0s 7ms/step - loss: 2.3173 - accuracy: 0.3905\n",
      "Epoch 7/10\n",
      "1/1 [==============================] - 0s 3ms/step - loss: 2.3110 - accuracy: 0.4000\n",
      "Epoch 8/10\n",
      "1/1 [==============================] - 0s 13ms/step - loss: 2.3047 - accuracy: 0.4000\n",
      "Epoch 9/10\n",
      "1/1 [==============================] - 0s 7ms/step - loss: 2.2983 - accuracy: 0.4000\n",
      "Epoch 10/10\n",
      "1/1 [==============================] - 0s 7ms/step - loss: 2.2919 - accuracy: 0.4095\n",
      "--------------critic------------\n",
      "first replay:  3\n",
      "Epoch 1/10\n",
      "1/1 [==============================] - 0s 4ms/step - loss: 0.2518 - accuracy: 0.5048\n",
      "Epoch 2/10\n",
      "1/1 [==============================] - 0s 6ms/step - loss: 0.2518 - accuracy: 0.5048\n",
      "Epoch 3/10\n",
      "1/1 [==============================] - 0s 8ms/step - loss: 0.2518 - accuracy: 0.5048\n",
      "Epoch 4/10\n",
      "1/1 [==============================] - 0s 9ms/step - loss: 0.2518 - accuracy: 0.5048\n",
      "Epoch 5/10\n",
      "1/1 [==============================] - 0s 4ms/step - loss: 0.2518 - accuracy: 0.5048\n",
      "Epoch 6/10\n",
      "1/1 [==============================] - 0s 11ms/step - loss: 0.2518 - accuracy: 0.5048\n",
      "Epoch 7/10\n",
      "1/1 [==============================] - 0s 8ms/step - loss: 0.2518 - accuracy: 0.5048\n",
      "Epoch 8/10\n",
      "1/1 [==============================] - 0s 5ms/step - loss: 0.2518 - accuracy: 0.5048\n",
      "Epoch 9/10\n",
      "1/1 [==============================] - 0s 8ms/step - loss: 0.2518 - accuracy: 0.5048\n",
      "Epoch 10/10\n",
      "1/1 [==============================] - 0s 13ms/step - loss: 0.2518 - accuracy: 0.5048\n"
     ]
    },
    {
     "name": "stderr",
     "output_type": "stream",
     "text": [
      "\r",
      " 67%|██████▋   | 10/15 [01:45<00:48,  9.75s/it]"
     ]
    },
    {
     "name": "stdout",
     "output_type": "stream",
     "text": [
      "--------------actor-------------\n",
      "Epoch 1/10\n",
      "1/1 [==============================] - 0s 3ms/step - loss: 2.3283 - accuracy: 0.3772\n",
      "Epoch 2/10\n",
      "1/1 [==============================] - 0s 4ms/step - loss: 2.3219 - accuracy: 0.3860\n",
      "Epoch 3/10\n",
      "1/1 [==============================] - 0s 12ms/step - loss: 2.3152 - accuracy: 0.3947\n",
      "Epoch 4/10\n",
      "1/1 [==============================] - 0s 13ms/step - loss: 2.3087 - accuracy: 0.4035\n",
      "Epoch 5/10\n",
      "1/1 [==============================] - 0s 5ms/step - loss: 2.3026 - accuracy: 0.4211\n",
      "Epoch 6/10\n",
      "1/1 [==============================] - 0s 6ms/step - loss: 2.2967 - accuracy: 0.4474\n",
      "Epoch 7/10\n",
      "1/1 [==============================] - 0s 9ms/step - loss: 2.2908 - accuracy: 0.4474\n",
      "Epoch 8/10\n",
      "1/1 [==============================] - 0s 3ms/step - loss: 2.2848 - accuracy: 0.4474\n",
      "Epoch 9/10\n",
      "1/1 [==============================] - 0s 10ms/step - loss: 2.2789 - accuracy: 0.4298\n",
      "Epoch 10/10\n",
      "1/1 [==============================] - 0s 9ms/step - loss: 2.2732 - accuracy: 0.4298\n",
      "--------------critic------------\n",
      "first replay:  3\n",
      "Epoch 1/10\n",
      "1/1 [==============================] - 0s 3ms/step - loss: 0.2522 - accuracy: 0.5088\n",
      "Epoch 2/10\n",
      "1/1 [==============================] - 0s 3ms/step - loss: 0.2522 - accuracy: 0.5088\n",
      "Epoch 3/10\n",
      "1/1 [==============================] - 0s 5ms/step - loss: 0.2522 - accuracy: 0.5088\n",
      "Epoch 4/10\n",
      "1/1 [==============================] - 0s 7ms/step - loss: 0.2522 - accuracy: 0.5088\n",
      "Epoch 5/10\n",
      "1/1 [==============================] - 0s 10ms/step - loss: 0.2521 - accuracy: 0.5088\n",
      "Epoch 6/10\n",
      "1/1 [==============================] - 0s 7ms/step - loss: 0.2521 - accuracy: 0.5088\n",
      "Epoch 7/10\n",
      "1/1 [==============================] - 0s 13ms/step - loss: 0.2521 - accuracy: 0.5088\n",
      "Epoch 8/10\n",
      "1/1 [==============================] - 0s 8ms/step - loss: 0.2521 - accuracy: 0.5088\n",
      "Epoch 9/10\n",
      "1/1 [==============================] - 0s 3ms/step - loss: 0.2521 - accuracy: 0.5175\n",
      "Epoch 10/10\n",
      "1/1 [==============================] - 0s 6ms/step - loss: 0.2521 - accuracy: 0.5175\n"
     ]
    },
    {
     "name": "stderr",
     "output_type": "stream",
     "text": [
      "\r",
      " 73%|███████▎  | 11/15 [01:54<00:37,  9.39s/it]"
     ]
    },
    {
     "name": "stdout",
     "output_type": "stream",
     "text": [
      "--------------actor-------------\n",
      "Epoch 1/10\n",
      "1/1 [==============================] - 0s 3ms/step - loss: 2.2971 - accuracy: 0.4050\n",
      "Epoch 2/10\n",
      "1/1 [==============================] - 0s 4ms/step - loss: 2.2919 - accuracy: 0.3967\n",
      "Epoch 3/10\n",
      "1/1 [==============================] - 0s 10ms/step - loss: 2.2867 - accuracy: 0.3967\n",
      "Epoch 4/10\n",
      "1/1 [==============================] - 0s 11ms/step - loss: 2.2816 - accuracy: 0.4050\n",
      "Epoch 5/10\n",
      "1/1 [==============================] - 0s 6ms/step - loss: 2.2766 - accuracy: 0.4050\n",
      "Epoch 6/10\n",
      "1/1 [==============================] - 0s 6ms/step - loss: 2.2716 - accuracy: 0.4380\n",
      "Epoch 7/10\n",
      "1/1 [==============================] - 0s 8ms/step - loss: 2.2668 - accuracy: 0.4463\n",
      "Epoch 8/10\n",
      "1/1 [==============================] - 0s 6ms/step - loss: 2.2620 - accuracy: 0.4545\n",
      "Epoch 9/10\n",
      "1/1 [==============================] - 0s 7ms/step - loss: 2.2574 - accuracy: 0.4628\n",
      "Epoch 10/10\n",
      "1/1 [==============================] - 0s 8ms/step - loss: 2.2530 - accuracy: 0.4628\n",
      "--------------critic------------\n",
      "first replay:  3\n",
      "Epoch 1/10\n",
      "1/1 [==============================] - 0s 3ms/step - loss: 0.2519 - accuracy: 0.5124\n",
      "Epoch 2/10\n",
      "1/1 [==============================] - 0s 5ms/step - loss: 0.2519 - accuracy: 0.5124\n",
      "Epoch 3/10\n",
      "1/1 [==============================] - 0s 7ms/step - loss: 0.2519 - accuracy: 0.5124\n",
      "Epoch 4/10\n",
      "1/1 [==============================] - 0s 16ms/step - loss: 0.2519 - accuracy: 0.5124\n",
      "Epoch 5/10\n",
      "1/1 [==============================] - 0s 3ms/step - loss: 0.2519 - accuracy: 0.5124\n",
      "Epoch 6/10\n",
      "1/1 [==============================] - 0s 5ms/step - loss: 0.2519 - accuracy: 0.5124\n",
      "Epoch 7/10\n",
      "1/1 [==============================] - 0s 9ms/step - loss: 0.2519 - accuracy: 0.5124\n",
      "Epoch 8/10\n",
      "1/1 [==============================] - 0s 7ms/step - loss: 0.2519 - accuracy: 0.5124\n",
      "Epoch 9/10\n",
      "1/1 [==============================] - 0s 3ms/step - loss: 0.2519 - accuracy: 0.5124\n",
      "Epoch 10/10\n",
      "1/1 [==============================] - 0s 7ms/step - loss: 0.2519 - accuracy: 0.5124\n"
     ]
    },
    {
     "name": "stderr",
     "output_type": "stream",
     "text": [
      "\r",
      " 80%|████████  | 12/15 [02:01<00:26,  8.68s/it]"
     ]
    },
    {
     "name": "stdout",
     "output_type": "stream",
     "text": [
      "--------------actor-------------\n",
      "Epoch 1/10\n",
      "2/2 [==============================] - 0s 7ms/step - loss: 2.2728 - accuracy: 0.4478\n",
      "Epoch 2/10\n",
      "2/2 [==============================] - 0s 29ms/step - loss: 2.2641 - accuracy: 0.4403\n",
      "Epoch 3/10\n",
      "2/2 [==============================] - 0s 2ms/step - loss: 2.2590 - accuracy: 0.4403\n",
      "Epoch 4/10\n",
      "2/2 [==============================] - 0s 6ms/step - loss: 2.2573 - accuracy: 0.4179\n",
      "Epoch 5/10\n",
      "2/2 [==============================] - 0s 6ms/step - loss: 2.2550 - accuracy: 0.4403\n",
      "Epoch 6/10\n",
      "2/2 [==============================] - 0s 3ms/step - loss: 2.2493 - accuracy: 0.4701\n",
      "Epoch 7/10\n",
      "2/2 [==============================] - 0s 4ms/step - loss: 2.2481 - accuracy: 0.4776\n",
      "Epoch 8/10\n",
      "2/2 [==============================] - 0s 7ms/step - loss: 2.2471 - accuracy: 0.4478\n",
      "Epoch 9/10\n",
      "2/2 [==============================] - 0s 3ms/step - loss: 2.2398 - accuracy: 0.4552\n",
      "Epoch 10/10\n",
      "2/2 [==============================] - 0s 5ms/step - loss: 2.2374 - accuracy: 0.4925\n",
      "--------------critic------------\n",
      "first replay:  3\n",
      "Epoch 1/10\n",
      "2/2 [==============================] - 0s 3ms/step - loss: 0.2520 - accuracy: 0.5075\n",
      "Epoch 2/10\n",
      "2/2 [==============================] - 0s 5ms/step - loss: 0.2519 - accuracy: 0.5075\n",
      "Epoch 3/10\n",
      "2/2 [==============================] - 0s 4ms/step - loss: 0.2519 - accuracy: 0.5075\n",
      "Epoch 4/10\n",
      "2/2 [==============================] - 0s 4ms/step - loss: 0.2519 - accuracy: 0.5075\n",
      "Epoch 5/10\n",
      "2/2 [==============================] - 0s 7ms/step - loss: 0.2519 - accuracy: 0.5000\n",
      "Epoch 6/10\n",
      "2/2 [==============================] - 0s 9ms/step - loss: 0.2518 - accuracy: 0.4851\n",
      "Epoch 7/10\n",
      "2/2 [==============================] - 0s 9ms/step - loss: 0.2518 - accuracy: 0.4851\n",
      "Epoch 8/10\n",
      "2/2 [==============================] - 0s 4ms/step - loss: 0.2518 - accuracy: 0.4851\n",
      "Epoch 9/10\n",
      "2/2 [==============================] - 0s 4ms/step - loss: 0.2518 - accuracy: 0.4776\n",
      "Epoch 10/10\n",
      "2/2 [==============================] - 0s 7ms/step - loss: 0.2518 - accuracy: 0.4851\n"
     ]
    },
    {
     "name": "stderr",
     "output_type": "stream",
     "text": [
      "\r",
      " 87%|████████▋ | 13/15 [02:09<00:16,  8.50s/it]"
     ]
    },
    {
     "name": "stdout",
     "output_type": "stream",
     "text": [
      "--------------actor-------------\n",
      "Epoch 1/10\n",
      "2/2 [==============================] - 0s 4ms/step - loss: 2.2670 - accuracy: 0.4681\n",
      "Epoch 2/10\n",
      "2/2 [==============================] - 0s 11ms/step - loss: 2.2662 - accuracy: 0.4539\n",
      "Epoch 3/10\n",
      "2/2 [==============================] - 0s 6ms/step - loss: 2.2609 - accuracy: 0.4539\n",
      "Epoch 4/10\n",
      "2/2 [==============================] - 0s 5ms/step - loss: 2.2520 - accuracy: 0.4397\n",
      "Epoch 5/10\n",
      "2/2 [==============================] - 0s 9ms/step - loss: 2.2523 - accuracy: 0.4113\n",
      "Epoch 6/10\n",
      "2/2 [==============================] - 0s 7ms/step - loss: 2.2529 - accuracy: 0.4043\n",
      "Epoch 7/10\n",
      "2/2 [==============================] - 0s 2ms/step - loss: 2.2480 - accuracy: 0.4184\n",
      "Epoch 8/10\n",
      "2/2 [==============================] - 0s 6ms/step - loss: 2.2370 - accuracy: 0.4468\n",
      "Epoch 9/10\n",
      "2/2 [==============================] - 0s 4ms/step - loss: 2.2292 - accuracy: 0.4823\n",
      "Epoch 10/10\n",
      "2/2 [==============================] - 0s 7ms/step - loss: 2.2289 - accuracy: 0.4823\n",
      "--------------critic------------\n",
      "first replay:  3\n",
      "Epoch 1/10\n",
      "2/2 [==============================] - 0s 3ms/step - loss: 0.2518 - accuracy: 0.4894\n",
      "Epoch 2/10\n",
      "2/2 [==============================] - 0s 3ms/step - loss: 0.2518 - accuracy: 0.4894\n",
      "Epoch 3/10\n",
      "2/2 [==============================] - 0s 4ms/step - loss: 0.2518 - accuracy: 0.4894\n",
      "Epoch 4/10\n",
      "2/2 [==============================] - 0s 7ms/step - loss: 0.2518 - accuracy: 0.4894\n",
      "Epoch 5/10\n",
      "2/2 [==============================] - 0s 4ms/step - loss: 0.2517 - accuracy: 0.4894\n",
      "Epoch 6/10\n",
      "2/2 [==============================] - 0s 8ms/step - loss: 0.2517 - accuracy: 0.4894\n",
      "Epoch 7/10\n",
      "2/2 [==============================] - 0s 7ms/step - loss: 0.2517 - accuracy: 0.4894\n",
      "Epoch 8/10\n",
      "2/2 [==============================] - 0s 6ms/step - loss: 0.2517 - accuracy: 0.4894\n",
      "Epoch 9/10\n",
      "2/2 [==============================] - 0s 4ms/step - loss: 0.2517 - accuracy: 0.4965\n",
      "Epoch 10/10\n",
      "2/2 [==============================] - 0s 4ms/step - loss: 0.2517 - accuracy: 0.4965\n"
     ]
    },
    {
     "name": "stderr",
     "output_type": "stream",
     "text": [
      "\r",
      " 93%|█████████▎| 14/15 [02:16<00:08,  8.01s/it]"
     ]
    },
    {
     "name": "stdout",
     "output_type": "stream",
     "text": [
      "--------------actor-------------\n",
      "Epoch 1/10\n",
      "2/2 [==============================] - 0s 2ms/step - loss: 2.2716 - accuracy: 0.4408\n",
      "Epoch 2/10\n",
      "2/2 [==============================] - 0s 3ms/step - loss: 2.2651 - accuracy: 0.4408\n",
      "Epoch 3/10\n",
      "2/2 [==============================] - 0s 5ms/step - loss: 2.2602 - accuracy: 0.4145\n",
      "Epoch 4/10\n",
      "2/2 [==============================] - 0s 6ms/step - loss: 2.2517 - accuracy: 0.4474\n",
      "Epoch 5/10\n",
      "2/2 [==============================] - 0s 15ms/step - loss: 2.2439 - accuracy: 0.4474\n",
      "Epoch 6/10\n",
      "2/2 [==============================] - 0s 12ms/step - loss: 2.2378 - accuracy: 0.4671\n",
      "Epoch 7/10\n",
      "2/2 [==============================] - 0s 42ms/step - loss: 2.2329 - accuracy: 0.4737\n",
      "Epoch 8/10\n",
      "2/2 [==============================] - 0s 7ms/step - loss: 2.2271 - accuracy: 0.4342\n",
      "Epoch 9/10\n",
      "2/2 [==============================] - 0s 14ms/step - loss: 2.2230 - accuracy: 0.4276\n",
      "Epoch 10/10\n",
      "2/2 [==============================] - 0s 4ms/step - loss: 2.2188 - accuracy: 0.4408\n",
      "--------------critic------------\n",
      "first replay:  3\n",
      "Epoch 1/10\n",
      "2/2 [==============================] - 0s 3ms/step - loss: 0.2510 - accuracy: 0.5066\n",
      "Epoch 2/10\n",
      "2/2 [==============================] - 0s 4ms/step - loss: 0.2509 - accuracy: 0.5066\n",
      "Epoch 3/10\n",
      "2/2 [==============================] - 0s 5ms/step - loss: 0.2509 - accuracy: 0.5066\n",
      "Epoch 4/10\n",
      "2/2 [==============================] - 0s 3ms/step - loss: 0.2509 - accuracy: 0.5066\n",
      "Epoch 5/10\n",
      "2/2 [==============================] - 0s 7ms/step - loss: 0.2509 - accuracy: 0.5066\n",
      "Epoch 6/10\n",
      "2/2 [==============================] - 0s 4ms/step - loss: 0.2509 - accuracy: 0.5066\n",
      "Epoch 7/10\n",
      "2/2 [==============================] - 0s 6ms/step - loss: 0.2508 - accuracy: 0.5066\n",
      "Epoch 8/10\n",
      "2/2 [==============================] - 0s 3ms/step - loss: 0.2508 - accuracy: 0.5066\n",
      "Epoch 9/10\n",
      "2/2 [==============================] - 0s 5ms/step - loss: 0.2508 - accuracy: 0.5066\n",
      "Epoch 10/10\n",
      "2/2 [==============================] - ETA: 0s - loss: 0.2493 - accuracy: 0.51 - 0s 3ms/step - loss: 0.2508 - accuracy: 0.5066\n"
     ]
    },
    {
     "name": "stderr",
     "output_type": "stream",
     "text": [
      "100%|██████████| 15/15 [02:28<00:00,  9.90s/it]\n"
     ]
    }
   ],
   "source": [
    "random.seed(0)\n",
    "agent.train_agent(hex,\n",
    "                  n_episodes=15,\n",
    "                  n_simulations=100,\n",
    "                  epochs=10,\n",
    "                  M=5,\n",
    "                  start_rollout_prob=1,\n",
    "                  end_rollout_prob=1,\n",
    "                  file_path='demo_models/')"
   ]
  },
  {
   "cell_type": "code",
   "execution_count": 13,
   "metadata": {},
   "outputs": [],
   "source": [
    "encoder = DemoEncoder()\n",
    "\n",
    "actor1 = Actor(learning_rate=0.01,\n",
    "             epsilon=0,\n",
    "             end_epsilon=0,\n",
    "               encoder=encoder,\n",
    "               load_from='demo_models/0.h5'\n",
    "             )\n",
    "\n",
    "critic1 = Critic(learning_rate=0.01,\n",
    "             nn_loss='mse',\n",
    "            encoder=encoder,\n",
    "               load_from='demo_models/_critic_0.h5',\n",
    "             )\n",
    "\n",
    "actor2 = Actor(learning_rate=0.01,\n",
    "             epsilon=0,\n",
    "             end_epsilon=0,\n",
    "              encoder=encoder,\n",
    "               load_from='demo_models/5.h5'\n",
    "             )\n",
    "\n",
    "critic2 = Critic(learning_rate=0.01,\n",
    "             nn_loss='mse',\n",
    "              encoder=encoder,\n",
    "               load_from='demo_models/_critic_5.h5'\n",
    "             )\n",
    "\n",
    "actor3 = Actor(learning_rate=0.01,\n",
    "             epsilon=0,\n",
    "             end_epsilon=0,\n",
    "              encoder=encoder,\n",
    "               load_from='demo_models/15.h5'\n",
    "             )\n",
    "\n",
    "critic3 = Critic(learning_rate=0.01,\n",
    "             nn_loss='mse',\n",
    "              encoder=encoder,\n",
    "               load_from='demo_models/_critic_15.h5'\n",
    "             )\n",
    "\n",
    "agent1 = Agent(actor1,critic1)\n",
    "agent2 = Agent(actor2, critic2)\n",
    "agent3 = Agent(actor3, critic3)"
   ]
  },
  {
   "cell_type": "code",
   "execution_count": 18,
   "metadata": {},
   "outputs": [
    {
     "data": {
      "text/plain": [
       "{<src.agent.Agent at 0x10825bd30>: 0,\n",
       " <src.agent.Agent at 0x13e0bd250>: 100,\n",
       " <src.agent.Agent at 0x13eb66a30>: 200}"
      ]
     },
     "execution_count": 18,
     "metadata": {},
     "output_type": "execute_result"
    }
   ],
   "source": [
    "agents = [agent1, agent2, agent3]\n",
    "h = Hex((4,4))\n",
    "h.set_encoder(DemoEncoder())\n",
    "topp = Topp(agents=agents, env=h, number_of_games=100)\n",
    "result = topp.topp()\n",
    "result"
   ]
  },
  {
   "cell_type": "code",
   "execution_count": 19,
   "metadata": {},
   "outputs": [
    {
     "data": {
      "image/png": "[encoded data removed]",
      "text/plain": [
       "<Figure size 432x288 with 1 Axes>"
      ]
     },
     "metadata": {
      "needs_background": "light"
     },
     "output_type": "display_data"
    }
   ],
   "source": [
    "x = ['agent'+str(i+1) for i in range(len(agents))]\n",
    "y = [result[agents[i]] for i in range(len(agents))]\n",
    "plt.bar(x,y)\n",
    "for index, value in enumerate(y):\n",
    "    plt.text(index, value, str(value))\n",
    "    \n",
    "plt.ylabel('Wins')\n",
    "plt.title(\"Result of TOPP\")\n",
    "plt.show()"
   ]
  },
  {
   "cell_type": "markdown",
   "metadata": {},
   "source": [
    "## TOPP of pretrained models"
   ]
  },
  {
   "cell_type": "code",
   "execution_count": 47,
   "metadata": {},
   "outputs": [],
   "source": [
    "encoder = SimpleHexEncoder(padding=0)\n",
    "\n",
    "actor1 = Actor(learning_rate=0.01,\n",
    "             epsilon=0,\n",
    "             end_epsilon=0,\n",
    "               encoder=encoder,\n",
    "               load_from='demo11/0.h5'\n",
    "             )\n",
    "\n",
    "critic1 = Critic(learning_rate=0.01,\n",
    "             nn_loss='mse',\n",
    "            encoder=encoder,\n",
    "               load_from='demo11/_critic_0.h5',\n",
    "             )\n",
    "\n",
    "actor2 = Actor(learning_rate=0.01,\n",
    "             epsilon=0,\n",
    "             end_epsilon=0,\n",
    "              encoder=encoder,\n",
    "               load_from='demo11/100.h5'\n",
    "             )\n",
    "\n",
    "critic2 = Critic(learning_rate=0.01,\n",
    "             nn_loss='mse',\n",
    "              encoder=encoder,\n",
    "               load_from='demo11/_critic_100.h5'\n",
    "             )\n",
    "\n",
    "actor3 = Actor(learning_rate=0.01,\n",
    "             epsilon=0,\n",
    "             end_epsilon=0,\n",
    "              encoder=encoder,\n",
    "               load_from='demo11/300.h5'\n",
    "             )\n",
    "\n",
    "critic3 = Critic(learning_rate=0.01,\n",
    "             nn_loss='mse',\n",
    "              encoder=encoder,\n",
    "               load_from='demo11/_critic_300.h5'\n",
    "             )\n",
    "actor4 = Actor(learning_rate=0.01,\n",
    "             epsilon=0,\n",
    "             end_epsilon=0,\n",
    "              encoder=encoder,\n",
    "               load_from='demo11/450.h5'\n",
    "             )\n",
    "\n",
    "critic4 = Critic(learning_rate=0.01,\n",
    "             nn_loss='mse',\n",
    "              encoder=encoder,\n",
    "               load_from='demo11/_critic_450.h5'\n",
    "             )\n",
    "\n",
    "agent1 = Agent(actor1,critic1)\n",
    "agent2 = Agent(actor2, critic2)\n",
    "agent3 = Agent(actor3, critic3)\n",
    "agent4 = Agent(actor4, critic4)\n",
    "\n"
   ]
  },
  {
   "cell_type": "code",
   "execution_count": 48,
   "metadata": {},
   "outputs": [
    {
     "data": {
      "text/plain": [
       "{<src.agent.Agent at 0x142cc4790>: 0,\n",
       " <src.agent.Agent at 0x142e66e20>: 100,\n",
       " <src.agent.Agent at 0x142e9bdf0>: 250,\n",
       " <src.agent.Agent at 0x142e9c040>: 250}"
      ]
     },
     "execution_count": 48,
     "metadata": {},
     "output_type": "execute_result"
    }
   ],
   "source": [
    "agents = [agent1, agent2, agent3, agent4]\n",
    "h = Hex((4,4))\n",
    "h.set_encoder(SimpleHexEncoder(padding=0))\n",
    "topp = Topp(agents=agents, env=h, number_of_games=100)\n",
    "result = topp.topp()\n",
    "result"
   ]
  },
  {
   "cell_type": "code",
   "execution_count": 49,
   "metadata": {},
   "outputs": [
    {
     "data": {
      "image/png": "[encoded data removed]",
      "text/plain": [
       "<Figure size 432x288 with 1 Axes>"
      ]
     },
     "metadata": {
      "needs_background": "light"
     },
     "output_type": "display_data"
    }
   ],
   "source": [
    "x = ['agent'+str(i+1) for i in range(len(agents))]\n",
    "y = [result[agents[i]] for i in range(len(agents))]\n",
    "plt.bar(x,y)\n",
    "for index, value in enumerate(y):\n",
    "    plt.text(index, value, str(value))\n",
    "    \n",
    "plt.ylabel('Wins')\n",
    "plt.title(\"Result of TOPP\")\n",
    "plt.show()"
   ]
  },
  {
   "cell_type": "code",
   "execution_count": null,
   "metadata": {},
   "outputs": [],
   "source": []
  }
 ],
 "metadata": {
  "kernelspec": {
   "display_name": "Python 3",
   "language": "python",
   "name": "python3"
  },
  "language_info": {
   "codemirror_mode": {
    "name": "ipython",
    "version": 3
   },
   "file_extension": ".py",
   "mimetype": "text/x-python",
   "name": "python",
   "nbconvert_exporter": "python",
   "pygments_lexer": "ipython3",
   "version": "3.8.5"
  }
 },
 "nbformat": 4,
 "nbformat_minor": 4
}
