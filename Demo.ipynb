{
 "cells": [
  {
   "cell_type": "code",
   "execution_count": 1,
   "metadata": {},
   "outputs": [
    {
     "name": "stdout",
     "output_type": "stream",
     "text": [
      "Collecting git+https://github.com/AndersBjelland/IT3105_Project2.git@dev\n",
      "  Cloning https://github.com/AndersBjelland/IT3105_Project2.git (to revision dev) to /private/var/folders/dm/8497wlxs7d34zt6c6wdjfh500000gn/T/pip-req-build-s5cv9bca\n",
      "Building wheels for collected packages: Project2\n",
      "  Building wheel for Project2 (setup.py) ... \u001b[?25ldone\n",
      "\u001b[?25h  Created wheel for Project2: filename=Project2-1.0-py3-none-any.whl size=14953 sha256=5e13453c5dbe26f594f07e36df72b20b893ab32b59ca00c39c703285589132a0\n",
      "  Stored in directory: /private/var/folders/dm/8497wlxs7d34zt6c6wdjfh500000gn/T/pip-ephem-wheel-cache-ppbz0ass/wheels/b2/24/99/8fa89aec957ae3920f431ef10ca7ed9e2e3743c4e806a2fbf0\n",
      "Successfully built Project2\n",
      "Installing collected packages: Project2\n",
      "  Attempting uninstall: Project2\n",
      "    Found existing installation: Project2 1.0\n",
      "    Uninstalling Project2-1.0:\n",
      "      Successfully uninstalled Project2-1.0\n",
      "Successfully installed Project2-1.0\n"
     ]
    }
   ],
   "source": [
    "import sys\n",
    "!{sys.executable} -m pip install --upgrade git+https://github.com/AndersBjelland/IT3105_Project2.git@dev"
   ]
  },
  {
   "cell_type": "code",
   "execution_count": 1,
   "metadata": {},
   "outputs": [],
   "source": [
    "# our code\n",
    "from src import *"
   ]
  },
  {
   "cell_type": "markdown",
   "metadata": {},
   "source": [
    "alpha zero ran 800 simulations in mcts"
   ]
  },
  {
   "cell_type": "code",
   "execution_count": 2,
   "metadata": {},
   "outputs": [
    {
     "data": {
      "image/png": "[encoded data removed]",
      "text/plain": [
       "<Figure size 432x288 with 1 Axes>"
      ]
     },
     "metadata": {},
     "output_type": "display_data"
    }
   ],
   "source": [
    "%matplotlib inline\n",
    "hex = Hex((4,4))\n",
    "hex.display_board()"
   ]
  },
  {
   "cell_type": "code",
   "execution_count": 3,
   "metadata": {},
   "outputs": [
    {
     "ename": "AttributeError",
     "evalue": "module 'src.encoder' has no attribute 'create_padded_env'",
     "output_type": "error",
     "traceback": [
      "\u001b[0;31m---------------------------------------------------------------------------\u001b[0m",
      "\u001b[0;31mAttributeError\u001b[0m                            Traceback (most recent call last)",
      "\u001b[0;32m<ipython-input-3-15e742c44742>\u001b[0m in \u001b[0;36m<module>\u001b[0;34m\u001b[0m\n\u001b[0;32m----> 1\u001b[0;31m \u001b[0mencoder\u001b[0m\u001b[0;34m.\u001b[0m\u001b[0mcreate_padded_env\u001b[0m\u001b[0;34m(\u001b[0m\u001b[0mhex\u001b[0m\u001b[0;34m,\u001b[0m \u001b[0mpadding\u001b[0m\u001b[0;34m=\u001b[0m\u001b[0;36m2\u001b[0m\u001b[0;34m)\u001b[0m\u001b[0;34m.\u001b[0m\u001b[0mdisplay_board\u001b[0m\u001b[0;34m(\u001b[0m\u001b[0;34m)\u001b[0m\u001b[0;34m\u001b[0m\u001b[0;34m\u001b[0m\u001b[0m\n\u001b[0m",
      "\u001b[0;31mAttributeError\u001b[0m: module 'src.encoder' has no attribute 'create_padded_env'"
     ]
    }
   ],
   "source": [
    "encoder.create_padded_env(hex, padding=2).display_board()"
   ]
  },
  {
   "cell_type": "code",
   "execution_count": 7,
   "metadata": {},
   "outputs": [],
   "source": [
    "hex = Hex((4,4))\n",
    "encoder = HexEncoder(padding=2)\n",
    "\n",
    "actor = Actor(learning_rate=0.001,\n",
    "             epsilon=0.25,\n",
    "             end_epsilon=0.05,\n",
    "             nn_shape=(90,50,16),\n",
    "             filters=(128, 128, 64),\n",
    "             kernel_sizes=((4,4),(3,3),(1,1)),\n",
    "                nn_opt='Adam',\n",
    "              nn_activation='relu',\n",
    "              nn_last_activation='softmax',\n",
    "              nn_loss= 'categorical_crossentropy',\n",
    "              encoder=encoder\n",
    "             )\n",
    "              \n",
    "            \n",
    "                "
   ]
  },
  {
   "cell_type": "code",
   "execution_count": 7,
   "metadata": {},
   "outputs": [],
   "source": [
    "#mcts = MCTS(target_policy=actor)\n",
    "agent = Agent(actor)"
   ]
  },
  {
   "cell_type": "code",
   "execution_count": null,
   "metadata": {
    "scrolled": true
   },
   "outputs": [
    {
     "name": "stderr",
     "output_type": "stream",
     "text": [
      "\r",
      "  0%|          | 0/6 [00:00<?, ?it/s]"
     ]
    }
   ],
   "source": [
    "agent.train_agent(hex, n_episodes=6, n_simulations=100, epochs=10, M=2)"
   ]
  },
  {
   "cell_type": "code",
   "execution_count": 8,
   "metadata": {},
   "outputs": [],
   "source": [
    "from tensorflow import keras as KER \n",
    "actor1 = Actor(learning_rate=0.01,\n",
    "             epsilon=0,\n",
    "             end_epsilon=0,\n",
    "              encoder=encoder,\n",
    "               load_from='models/second_ex_model_50.h5'\n",
    "             )\n",
    "actor2 = Actor(learning_rate=0.01,\n",
    "             epsilon=0,\n",
    "             end_epsilon=0,\n",
    "              encoder=encoder,\n",
    "               load_from='models/second_ex_model_200.h5'\n",
    "             )\n",
    "\n",
    "agent1 = Agent(actor1)\n",
    "agent2 = Agent(actor2)"
   ]
  },
  {
   "cell_type": "code",
   "execution_count": 13,
   "metadata": {},
   "outputs": [],
   "source": [
    "def play(agent1, agent2, env):\n",
    "    \n",
    "    while env.get_winner() == 0:\n",
    "        if env.current_player == 1:\n",
    "            action = agent1.actor.get_action(env)\n",
    "            \n",
    "        else:\n",
    "            action = agent2.actor.get_action(env)\n",
    "        \n",
    "        env.make_action(action)\n",
    "        \n",
    "            \n",
    "        #env.display_board()\n",
    "    winner = env.get_winner()\n",
    "    env.reset()\n",
    "    return winner"
   ]
  },
  {
   "cell_type": "code",
   "execution_count": 14,
   "metadata": {},
   "outputs": [
    {
     "name": "stdout",
     "output_type": "stream",
     "text": [
      "blue winner: 0\n",
      "red winner: 100\n"
     ]
    }
   ],
   "source": [
    "blue_winner = 0\n",
    "red_winner = 0\n",
    "for i in range(100):\n",
    "    winner = play(agent1, agent2, hex)\n",
    "    if winner == 1:\n",
    "        blue_winner += 1\n",
    "    elif winner == 2:\n",
    "        red_winner += 1\n",
    "print(\"blue winner: {}\".format(blue_winner))\n",
    "print(\"red winner: {}\".format(red_winner))"
   ]
  },
  {
   "cell_type": "code",
   "execution_count": 4,
   "metadata": {},
   "outputs": [],
   "source": [
    "def onclick(event, board):\n",
    "    global ix, iy\n",
    "    ix, iy = event.xdata, event.ydata\n",
    "    ix, iy = rotate_coordinate([ix,iy], -board.get_angle())\n",
    "    ix, iy = round(ix), round(iy)\n",
    "    action = (ix, iy)\n",
    "    actions.append(action)\n",
    "    board.make_action(action)\n",
    "    board.display_board()\n",
    "    fig.canvas.mpl_disconnect(connection)\n",
    "\n",
    "def set_piece(board) -> List[Tuple[int, int]]:\n",
    "    board = board.copy()\n",
    "    global actions, connection, fig\n",
    "    actions = []\n",
    "    fig = plt.figure()\n",
    "    connection = fig.canvas.mpl_connect('button_press_event', lambda event: onclick(event, board))\n",
    "    \n",
    "    board.display_board()\n",
    "    \n",
    "    plt.show()\n",
    "    return actions"
   ]
  },
  {
   "cell_type": "code",
   "execution_count": 91,
   "metadata": {},
   "outputs": [],
   "source": [
    "%matplotlib qt\n",
    "action = set_piece(Hex((5,5)))\n"
   ]
  },
  {
   "cell_type": "code",
   "execution_count": 92,
   "metadata": {},
   "outputs": [
    {
     "data": {
      "text/plain": [
       "[(3, 1)]"
      ]
     },
     "execution_count": 92,
     "metadata": {},
     "output_type": "execute_result"
    }
   ],
   "source": [
    "action"
   ]
  },
  {
   "cell_type": "code",
   "execution_count": 19,
   "metadata": {},
   "outputs": [
    {
     "ename": "KeyboardInterrupt",
     "evalue": "Interrupted by user",
     "output_type": "error",
     "traceback": [
      "\u001b[0;31m---------------------------------------------------------------------------\u001b[0m",
      "\u001b[0;31mKeyboardInterrupt\u001b[0m                         Traceback (most recent call last)",
      "\u001b[0;32m<ipython-input-19-a87818eb45e2>\u001b[0m in \u001b[0;36m<module>\u001b[0;34m\u001b[0m\n\u001b[1;32m     32\u001b[0m \u001b[0;34m\u001b[0m\u001b[0m\n\u001b[1;32m     33\u001b[0m \u001b[0mhex\u001b[0m \u001b[0;34m=\u001b[0m \u001b[0mHex\u001b[0m\u001b[0;34m(\u001b[0m\u001b[0;34m(\u001b[0m\u001b[0;36m4\u001b[0m\u001b[0;34m,\u001b[0m\u001b[0;36m4\u001b[0m\u001b[0;34m)\u001b[0m\u001b[0;34m)\u001b[0m\u001b[0;34m\u001b[0m\u001b[0;34m\u001b[0m\u001b[0m\n\u001b[0;32m---> 34\u001b[0;31m \u001b[0mman_vs_machine\u001b[0m\u001b[0;34m(\u001b[0m\u001b[0magent1\u001b[0m\u001b[0;34m,\u001b[0m \u001b[0;34m\"meg\"\u001b[0m\u001b[0;34m,\u001b[0m \u001b[0mhex\u001b[0m\u001b[0;34m,\u001b[0m \u001b[0mn_simulations\u001b[0m\u001b[0;34m=\u001b[0m\u001b[0;36m100\u001b[0m\u001b[0;34m)\u001b[0m\u001b[0;34m\u001b[0m\u001b[0;34m\u001b[0m\u001b[0m\n\u001b[0m\u001b[1;32m     35\u001b[0m \u001b[0;34m\u001b[0m\u001b[0m\n",
      "\u001b[0;32m<ipython-input-19-a87818eb45e2>\u001b[0m in \u001b[0;36mman_vs_machine\u001b[0;34m(player1, player2, env, n_simulations)\u001b[0m\n\u001b[1;32m     17\u001b[0m         \u001b[0;32melse\u001b[0m\u001b[0;34m:\u001b[0m\u001b[0;34m\u001b[0m\u001b[0;34m\u001b[0m\u001b[0m\n\u001b[1;32m     18\u001b[0m             \u001b[0;31m#actions = set_piece(env)\u001b[0m\u001b[0;34m\u001b[0m\u001b[0;34m\u001b[0m\u001b[0;34m\u001b[0m\u001b[0m\n\u001b[0;32m---> 19\u001b[0;31m             \u001b[0maction\u001b[0m \u001b[0;34m=\u001b[0m \u001b[0minput\u001b[0m\u001b[0;34m(\u001b[0m\u001b[0;34m\"Enter move as int,int\"\u001b[0m\u001b[0;34m)\u001b[0m\u001b[0;34m\u001b[0m\u001b[0;34m\u001b[0m\u001b[0m\n\u001b[0m\u001b[1;32m     20\u001b[0m             \u001b[0maction\u001b[0m \u001b[0;34m=\u001b[0m \u001b[0maction\u001b[0m\u001b[0;34m.\u001b[0m\u001b[0msplit\u001b[0m\u001b[0;34m(\u001b[0m\u001b[0;34m','\u001b[0m\u001b[0;34m)\u001b[0m\u001b[0;34m\u001b[0m\u001b[0;34m\u001b[0m\u001b[0m\n\u001b[1;32m     21\u001b[0m             \u001b[0maction\u001b[0m \u001b[0;34m=\u001b[0m \u001b[0;34m(\u001b[0m\u001b[0mint\u001b[0m\u001b[0;34m(\u001b[0m\u001b[0maction\u001b[0m\u001b[0;34m[\u001b[0m\u001b[0;36m0\u001b[0m\u001b[0;34m]\u001b[0m\u001b[0;34m)\u001b[0m\u001b[0;34m,\u001b[0m \u001b[0mint\u001b[0m\u001b[0;34m(\u001b[0m\u001b[0maction\u001b[0m\u001b[0;34m[\u001b[0m\u001b[0;36m1\u001b[0m\u001b[0;34m]\u001b[0m\u001b[0;34m)\u001b[0m\u001b[0;34m)\u001b[0m\u001b[0;34m\u001b[0m\u001b[0;34m\u001b[0m\u001b[0m\n",
      "\u001b[0;32m~/opt/anaconda3/lib/python3.8/site-packages/ipykernel/kernelbase.py\u001b[0m in \u001b[0;36mraw_input\u001b[0;34m(self, prompt)\u001b[0m\n\u001b[1;32m    858\u001b[0m                 \u001b[0;34m\"raw_input was called, but this frontend does not support input requests.\"\u001b[0m\u001b[0;34m\u001b[0m\u001b[0;34m\u001b[0m\u001b[0m\n\u001b[1;32m    859\u001b[0m             )\n\u001b[0;32m--> 860\u001b[0;31m         return self._input_request(str(prompt),\n\u001b[0m\u001b[1;32m    861\u001b[0m             \u001b[0mself\u001b[0m\u001b[0;34m.\u001b[0m\u001b[0m_parent_ident\u001b[0m\u001b[0;34m,\u001b[0m\u001b[0;34m\u001b[0m\u001b[0;34m\u001b[0m\u001b[0m\n\u001b[1;32m    862\u001b[0m             \u001b[0mself\u001b[0m\u001b[0;34m.\u001b[0m\u001b[0m_parent_header\u001b[0m\u001b[0;34m,\u001b[0m\u001b[0;34m\u001b[0m\u001b[0;34m\u001b[0m\u001b[0m\n",
      "\u001b[0;32m~/opt/anaconda3/lib/python3.8/site-packages/ipykernel/kernelbase.py\u001b[0m in \u001b[0;36m_input_request\u001b[0;34m(self, prompt, ident, parent, password)\u001b[0m\n\u001b[1;32m    902\u001b[0m             \u001b[0;32mexcept\u001b[0m \u001b[0mKeyboardInterrupt\u001b[0m\u001b[0;34m:\u001b[0m\u001b[0;34m\u001b[0m\u001b[0;34m\u001b[0m\u001b[0m\n\u001b[1;32m    903\u001b[0m                 \u001b[0;31m# re-raise KeyboardInterrupt, to truncate traceback\u001b[0m\u001b[0;34m\u001b[0m\u001b[0;34m\u001b[0m\u001b[0;34m\u001b[0m\u001b[0m\n\u001b[0;32m--> 904\u001b[0;31m                 \u001b[0;32mraise\u001b[0m \u001b[0mKeyboardInterrupt\u001b[0m\u001b[0;34m(\u001b[0m\u001b[0;34m\"Interrupted by user\"\u001b[0m\u001b[0;34m)\u001b[0m \u001b[0;32mfrom\u001b[0m \u001b[0;32mNone\u001b[0m\u001b[0;34m\u001b[0m\u001b[0;34m\u001b[0m\u001b[0m\n\u001b[0m\u001b[1;32m    905\u001b[0m             \u001b[0;32mexcept\u001b[0m \u001b[0mException\u001b[0m \u001b[0;32mas\u001b[0m \u001b[0me\u001b[0m\u001b[0;34m:\u001b[0m\u001b[0;34m\u001b[0m\u001b[0;34m\u001b[0m\u001b[0m\n\u001b[1;32m    906\u001b[0m                 \u001b[0mself\u001b[0m\u001b[0;34m.\u001b[0m\u001b[0mlog\u001b[0m\u001b[0;34m.\u001b[0m\u001b[0mwarning\u001b[0m\u001b[0;34m(\u001b[0m\u001b[0;34m\"Invalid Message:\"\u001b[0m\u001b[0;34m,\u001b[0m \u001b[0mexc_info\u001b[0m\u001b[0;34m=\u001b[0m\u001b[0;32mTrue\u001b[0m\u001b[0;34m)\u001b[0m\u001b[0;34m\u001b[0m\u001b[0;34m\u001b[0m\u001b[0m\n",
      "\u001b[0;31mKeyboardInterrupt\u001b[0m: Interrupted by user"
     ]
    }
   ],
   "source": [
    "%matplotlib qt\n",
    "def man_vs_machine(player1, player2, env, n_simulations):\n",
    "    current = player1\n",
    "    if isinstance(player1, Agent):\n",
    "        mcts = MCTS(player1.actor, env)\n",
    "    else:\n",
    "        mcts = MCTS(player2, env)\n",
    "    \n",
    "    while env.get_winner() == 0:\n",
    "        env.display_board()\n",
    "        if isinstance(current, Agent):\n",
    "            distribution = mcts.search(n_simulations)\n",
    "            # Choose action greedily\n",
    "            action = max(distribution, key=distribution.get)\n",
    "            mcts.set_new_root(action)\n",
    "            \n",
    "        else:\n",
    "            #actions = set_piece(env)\n",
    "            action = input(\"Enter move as int,int\")\n",
    "            action = action.split(',')\n",
    "            action = (int(action[0]), int(action[1]))\n",
    "            #action = actions[0]\n",
    "            #plt.show()\n",
    "            mcts.set_new_root(action)\n",
    "            \n",
    "        env.make_action(action)\n",
    "        current = player1 if current != player1 else player2\n",
    "    winner = env.get_winner()\n",
    "    env.display_board()\n",
    "    env.reset()\n",
    "    return winner\n",
    "\n",
    "hex = Hex((4,4))\n",
    "man_vs_machine(agent1, \"meg\", hex, n_simulations=100)\n",
    "\n"
   ]
  },
  {
   "cell_type": "code",
   "execution_count": 29,
   "metadata": {},
   "outputs": [
    {
     "name": "stdout",
     "output_type": "stream",
     "text": [
      "skirv:3,3\n"
     ]
    }
   ],
   "source": [
    "x = input(\"skirv:\")"
   ]
  },
  {
   "cell_type": "code",
   "execution_count": 30,
   "metadata": {},
   "outputs": [
    {
     "data": {
      "text/plain": [
       "(3, 3)"
      ]
     },
     "execution_count": 30,
     "metadata": {},
     "output_type": "execute_result"
    }
   ],
   "source": [
    "\n",
    "y = x.split(',')\n",
    "(int(y[0]),int(y[1]))"
   ]
  },
  {
   "cell_type": "code",
   "execution_count": 6,
   "metadata": {},
   "outputs": [
    {
     "ename": "OSError",
     "evalue": "SavedModel file does not exist at: model1.h5/{saved_model.pbtxt|saved_model.pb}",
     "output_type": "error",
     "traceback": [
      "\u001b[0;31m---------------------------------------------------------------------------\u001b[0m",
      "\u001b[0;31mOSError\u001b[0m                                   Traceback (most recent call last)",
      "\u001b[0;32m<ipython-input-6-6bc5be2683af>\u001b[0m in \u001b[0;36m<module>\u001b[0;34m\u001b[0m\n\u001b[1;32m     12\u001b[0m               \u001b[0mencoder\u001b[0m\u001b[0;34m=\u001b[0m\u001b[0mencoder\u001b[0m\u001b[0;34m\u001b[0m\u001b[0;34m\u001b[0m\u001b[0m\n\u001b[1;32m     13\u001b[0m              )\n\u001b[0;32m---> 14\u001b[0;31m \u001b[0mactor1\u001b[0m\u001b[0;34m.\u001b[0m\u001b[0mmodel\u001b[0m \u001b[0;34m=\u001b[0m \u001b[0mKER\u001b[0m\u001b[0;34m.\u001b[0m\u001b[0mmodels\u001b[0m\u001b[0;34m.\u001b[0m\u001b[0mload_model\u001b[0m\u001b[0;34m(\u001b[0m\u001b[0;34m'model1.h5'\u001b[0m\u001b[0;34m)\u001b[0m\u001b[0;34m\u001b[0m\u001b[0;34m\u001b[0m\u001b[0m\n\u001b[0m\u001b[1;32m     15\u001b[0m \u001b[0;34m\u001b[0m\u001b[0m\n\u001b[1;32m     16\u001b[0m actor2 = Actor(learning_rate=0.01,\n",
      "\u001b[0;32m~/opt/anaconda3/lib/python3.8/site-packages/tensorflow/python/keras/saving/save.py\u001b[0m in \u001b[0;36mload_model\u001b[0;34m(filepath, custom_objects, compile, options)\u001b[0m\n\u001b[1;32m    209\u001b[0m       \u001b[0mfilepath\u001b[0m \u001b[0;34m=\u001b[0m \u001b[0mpath_to_string\u001b[0m\u001b[0;34m(\u001b[0m\u001b[0mfilepath\u001b[0m\u001b[0;34m)\u001b[0m\u001b[0;34m\u001b[0m\u001b[0;34m\u001b[0m\u001b[0m\n\u001b[1;32m    210\u001b[0m       \u001b[0;32mif\u001b[0m \u001b[0misinstance\u001b[0m\u001b[0;34m(\u001b[0m\u001b[0mfilepath\u001b[0m\u001b[0;34m,\u001b[0m \u001b[0msix\u001b[0m\u001b[0;34m.\u001b[0m\u001b[0mstring_types\u001b[0m\u001b[0;34m)\u001b[0m\u001b[0;34m:\u001b[0m\u001b[0;34m\u001b[0m\u001b[0;34m\u001b[0m\u001b[0m\n\u001b[0;32m--> 211\u001b[0;31m         \u001b[0mloader_impl\u001b[0m\u001b[0;34m.\u001b[0m\u001b[0mparse_saved_model\u001b[0m\u001b[0;34m(\u001b[0m\u001b[0mfilepath\u001b[0m\u001b[0;34m)\u001b[0m\u001b[0;34m\u001b[0m\u001b[0;34m\u001b[0m\u001b[0m\n\u001b[0m\u001b[1;32m    212\u001b[0m         \u001b[0;32mreturn\u001b[0m \u001b[0msaved_model_load\u001b[0m\u001b[0;34m.\u001b[0m\u001b[0mload\u001b[0m\u001b[0;34m(\u001b[0m\u001b[0mfilepath\u001b[0m\u001b[0;34m,\u001b[0m \u001b[0mcompile\u001b[0m\u001b[0;34m,\u001b[0m \u001b[0moptions\u001b[0m\u001b[0;34m)\u001b[0m\u001b[0;34m\u001b[0m\u001b[0;34m\u001b[0m\u001b[0m\n\u001b[1;32m    213\u001b[0m \u001b[0;34m\u001b[0m\u001b[0m\n",
      "\u001b[0;32m~/opt/anaconda3/lib/python3.8/site-packages/tensorflow/python/saved_model/loader_impl.py\u001b[0m in \u001b[0;36mparse_saved_model\u001b[0;34m(export_dir)\u001b[0m\n\u001b[1;32m    109\u001b[0m       \u001b[0;32mraise\u001b[0m \u001b[0mIOError\u001b[0m\u001b[0;34m(\u001b[0m\u001b[0;34m\"Cannot parse file %s: %s.\"\u001b[0m \u001b[0;34m%\u001b[0m \u001b[0;34m(\u001b[0m\u001b[0mpath_to_pbtxt\u001b[0m\u001b[0;34m,\u001b[0m \u001b[0mstr\u001b[0m\u001b[0;34m(\u001b[0m\u001b[0me\u001b[0m\u001b[0;34m)\u001b[0m\u001b[0;34m)\u001b[0m\u001b[0;34m)\u001b[0m\u001b[0;34m\u001b[0m\u001b[0;34m\u001b[0m\u001b[0m\n\u001b[1;32m    110\u001b[0m   \u001b[0;32melse\u001b[0m\u001b[0;34m:\u001b[0m\u001b[0;34m\u001b[0m\u001b[0;34m\u001b[0m\u001b[0m\n\u001b[0;32m--> 111\u001b[0;31m     raise IOError(\"SavedModel file does not exist at: %s/{%s|%s}\" %\n\u001b[0m\u001b[1;32m    112\u001b[0m                   (export_dir,\n\u001b[1;32m    113\u001b[0m                    \u001b[0mconstants\u001b[0m\u001b[0;34m.\u001b[0m\u001b[0mSAVED_MODEL_FILENAME_PBTXT\u001b[0m\u001b[0;34m,\u001b[0m\u001b[0;34m\u001b[0m\u001b[0;34m\u001b[0m\u001b[0m\n",
      "\u001b[0;31mOSError\u001b[0m: SavedModel file does not exist at: model1.h5/{saved_model.pbtxt|saved_model.pb}"
     ]
    }
   ],
   "source": [
    "from tensorflow import keras as KER \n",
    "actor1 = Actor(learning_rate=0.01,\n",
    "             epsilon=0.1,\n",
    "             end_epsilon=0.1,\n",
    "             nn_shape=(30,15,16),\n",
    "             filters=(10,),\n",
    "             kernel_sizes=((2,2),),\n",
    "                nn_opt='Adam',\n",
    "              nn_activation='relu',\n",
    "              nn_last_activation='softmax',\n",
    "              nn_loss= 'categorical_crossentropy',\n",
    "              encoder=encoder\n",
    "             )\n",
    "actor1.model = KER.models.load_model('model1.h5')\n",
    "\n",
    "actor2 = Actor(learning_rate=0.01,\n",
    "             epsilon=0.1,\n",
    "             end_epsilon=0.1,\n",
    "             nn_shape=(30,15,16),\n",
    "             filters=(10,),\n",
    "             kernel_sizes=((2,2),),\n",
    "                nn_opt='Adam',\n",
    "              nn_activation='relu',\n",
    "              nn_last_activation='softmax',\n",
    "              nn_loss= 'categorical_crossentropy',\n",
    "              encoder=encoder\n",
    "             )\n",
    "actor2.model = KER.models.load_model('model2.h5')\n",
    "\n",
    "\n",
    "agent1 = Agent(actor1)\n",
    "agent2 = Agent(actor2)\n",
    "\n",
    "def play(agent1, agent2, env, n_simulations):\n",
    "    mcts1 = MCTS(actor1, env)\n",
    "    mcts2 = MCTS(actor2, env)\n",
    "    \n",
    "    while env.get_winner() == 0:\n",
    "        if env.current_player == 1:\n",
    "            distribution = mcts1.search(n_simulations)\n",
    "            # Choose action greedily\n",
    "            action = max(distribution, key=distribution.get)\n",
    "            mcts1.set_new_root(action)\n",
    "            mcts2.set_new_root(action)\n",
    "            \n",
    "        else:\n",
    "            \n",
    "            distribution = mcts2.search(n_simulations)\n",
    "            \n",
    "            # Choose action greedily\n",
    "            action = max(distribution, key=distribution.get)\n",
    "            mcts2.set_new_root(action)\n",
    "            mcts1.set_new_root(action)\n",
    "        \n",
    "        env.make_action(action)\n",
    "        \n",
    "            \n",
    "        #env.display_board()\n",
    "    winner = env.get_winner()\n",
    "    env.reset()\n",
    "    return winner\n",
    "    "
   ]
  },
  {
   "cell_type": "code",
   "execution_count": 11,
   "metadata": {},
   "outputs": [
    {
     "name": "stdout",
     "output_type": "stream",
     "text": [
      "0\n",
      "1\n",
      "2\n",
      "3\n",
      "4\n",
      "5\n",
      "6\n",
      "7\n",
      "8\n",
      "9\n",
      "10\n",
      "11\n",
      "12\n",
      "13\n",
      "14\n",
      "15\n",
      "16\n",
      "17\n",
      "18\n",
      "19\n"
     ]
    },
    {
     "data": {
      "text/plain": [
       "11"
      ]
     },
     "execution_count": 11,
     "metadata": {},
     "output_type": "execute_result"
    }
   ],
   "source": [
    "blue_vic = 0\n",
    "vics = []\n",
    "for i in range(20):\n",
    "    print(i)\n",
    "    vic = play(agent1, agent2, hex, 100)\n",
    "    if vic == 1:\n",
    "        blue_vic += 1\n",
    "    vics.append(vic)\n",
    "blue_vic"
   ]
  },
  {
   "cell_type": "code",
   "execution_count": 9,
   "metadata": {},
   "outputs": [],
   "source": [
    "mcts = MCTS(env = hex, target_policy=agent2.actor)"
   ]
  },
  {
   "cell_type": "code",
   "execution_count": 14,
   "metadata": {},
   "outputs": [
    {
     "name": "stdout",
     "output_type": "stream",
     "text": [
      "CPU times: user 4.33 s, sys: 112 ms, total: 4.44 s\n",
      "Wall time: 4.23 s\n"
     ]
    },
    {
     "data": {
      "text/plain": [
       "{(1, 0): 0.023333333333333334,\n",
       " (0, 1): 0.060000000000000005,\n",
       " (0, 0): 0.04666666666666667,\n",
       " (3, 0): 0.16666666666666669,\n",
       " (2, 3): 0.09000000000000001,\n",
       " (0, 3): 0.006666666666666667,\n",
       " (2, 2): 0.006666666666666667,\n",
       " (2, 0): 0.07666666666666667,\n",
       " (3, 2): 0.08,\n",
       " (1, 3): 0.006666666666666667,\n",
       " (3, 3): 0.006666666666666667,\n",
       " (0, 2): 0.043333333333333335,\n",
       " (1, 1): 0.023333333333333334,\n",
       " (2, 1): 0.3066666666666667,\n",
       " (3, 1): 0.04,\n",
       " (1, 2): 0.016666666666666666}"
      ]
     },
     "execution_count": 14,
     "metadata": {},
     "output_type": "execute_result"
    }
   ],
   "source": [
    "\n",
    "%time mcts.search(100)"
   ]
  },
  {
   "cell_type": "code",
   "execution_count": 58,
   "metadata": {},
   "outputs": [],
   "source": [
    "data = np.asarray(Image.open(path))"
   ]
  },
  {
   "cell_type": "code",
   "execution_count": 59,
   "metadata": {},
   "outputs": [
    {
     "data": {
      "text/plain": [
       "(575, 1024, 3)"
      ]
     },
     "execution_count": 59,
     "metadata": {},
     "output_type": "execute_result"
    }
   ],
   "source": [
    "data.shape"
   ]
  },
  {
   "cell_type": "code",
   "execution_count": 53,
   "metadata": {},
   "outputs": [],
   "source": [
    "import cProfile\n"
   ]
  },
  {
   "cell_type": "code",
   "execution_count": 27,
   "metadata": {},
   "outputs": [],
   "source": []
  },
  {
   "cell_type": "code",
   "execution_count": 69,
   "metadata": {},
   "outputs": [],
   "source": [
    "encoder = SimpleHexEncoder(padding=0)"
   ]
  },
  {
   "cell_type": "code",
   "execution_count": 70,
   "metadata": {},
   "outputs": [],
   "source": [
    "h = Hex((4,4))"
   ]
  },
  {
   "cell_type": "code",
   "execution_count": 71,
   "metadata": {},
   "outputs": [],
   "source": [
    "actor = Actor(learning_rate=0.001,\n",
    "             epsilon=0.25,\n",
    "             end_epsilon=0.05,\n",
    "             nn_shape=(64, 16),\n",
    "             filters=(56,56),\n",
    "             kernel_sizes=((3,3),(1,1)),\n",
    "                nn_opt='Adam',\n",
    "              nn_activation='relu',\n",
    "              nn_last_activation='softmax',\n",
    "              nn_loss= 'categorical_crossentropy',\n",
    "              encoder=encoder\n",
    "             )\n",
    "agent = Agent(actor=actor)"
   ]
  },
  {
   "cell_type": "code",
   "execution_count": 72,
   "metadata": {},
   "outputs": [
    {
     "data": {
      "text/plain": [
       "TensorShape([1, 4, 4, 5])"
      ]
     },
     "execution_count": 72,
     "metadata": {},
     "output_type": "execute_result"
    }
   ],
   "source": [
    "encoder.encode(h).shape"
   ]
  },
  {
   "cell_type": "code",
   "execution_count": 73,
   "metadata": {},
   "outputs": [],
   "source": [
    "mcts = MCTS(agent.actor, h)"
   ]
  },
  {
   "cell_type": "code",
   "execution_count": 74,
   "metadata": {},
   "outputs": [
    {
     "name": "stdout",
     "output_type": "stream",
     "text": [
      "CPU times: user 2.12 s, sys: 11.1 ms, total: 2.13 s\n",
      "Wall time: 2.18 s\n"
     ]
    },
    {
     "data": {
      "text/plain": [
       "{(1, 0): 0.22,\n",
       " (2, 0): 0.07,\n",
       " (0, 3): 0.01,\n",
       " (1, 3): 0.05,\n",
       " (1, 2): 0.1,\n",
       " (0, 1): 0.01,\n",
       " (2, 1): 0.09,\n",
       " (3, 1): 0.04,\n",
       " (2, 3): 0.05,\n",
       " (3, 2): 0.11,\n",
       " (0, 2): 0.01,\n",
       " (1, 1): 0.13,\n",
       " (0, 0): 0.04,\n",
       " (3, 0): 0.01,\n",
       " (3, 3): 0.03,\n",
       " (2, 2): 0.03}"
      ]
     },
     "execution_count": 74,
     "metadata": {},
     "output_type": "execute_result"
    }
   ],
   "source": [
    "%time mcts.search(100)"
   ]
  },
  {
   "cell_type": "code",
   "execution_count": 54,
   "metadata": {},
   "outputs": [
    {
     "name": "stdout",
     "output_type": "stream",
     "text": [
      "         9201361 function calls (9183676 primitive calls) in 7.931 seconds\n",
      "\n",
      "   Ordered by: standard name\n",
      "\n",
      "   ncalls  tottime  percall  cumtime  percall filename:lineno(function)\n",
      "     1965    0.003    0.000    0.019    0.000 <__array_function__ internals>:2(concatenate)\n",
      "    11790    0.011    0.000    0.143    0.000 <__array_function__ internals>:2(expand_dims)\n",
      "        1    0.000    0.000    7.986    7.986 <string>:1(<module>)\n",
      "    11790    0.005    0.000    0.011    0.000 _asarray.py:86(asanyarray)\n",
      "    78600    0.027    0.000    0.061    0.000 abc.py:96(__instancecheck__)\n",
      "     5895    0.011    0.000    0.137    0.000 activations.py:268(relu)\n",
      "     1965    0.008    0.000    0.109    0.000 activations.py:44(softmax)\n",
      "     1965    0.043    0.000    7.597    0.004 actor.py:59(get_action)\n",
      "     1965    0.017    0.000    0.017    0.000 actor.py:68(<dictcomp>)\n",
      "    11790    0.020    0.000    0.020    0.000 autocast_variable.py:526(__init__)\n",
      "    11790    0.012    0.000    0.017    0.000 autocast_variable.py:531(__enter__)\n",
      "    11790    0.011    0.000    0.011    0.000 autocast_variable.py:535(__exit__)\n",
      "     1965    0.003    0.000    0.003    0.000 backend.py:370(global_learning_phase_is_set)\n",
      "     5895    0.018    0.000    0.120    0.000 backend.py:4661(relu)\n",
      "     5895    0.001    0.000    0.001    0.000 backend_config.py:67(floatx)\n",
      "     1965    0.007    0.000    0.143    0.000 base.py:513(_method_wrapper)\n",
      "    11790    0.019    0.000    0.041    0.000 base_layer.py:1186(_set_training_mode)\n",
      "    11790    0.003    0.000    0.003    0.000 base_layer.py:1252(name)\n",
      "    13755    0.004    0.000    0.004    0.000 base_layer.py:1299(input_spec)\n",
      "     1965    0.018    0.000    0.073    0.000 base_layer.py:1606(_clear_losses)\n",
      "     9825    0.035    0.000    0.321    0.000 base_layer.py:2405(_maybe_cast_inputs)\n",
      "    11790    0.029    0.000    0.081    0.000 base_layer.py:2433(_should_cast_single_input)\n",
      "     1965    0.005    0.000    0.171    0.000 base_layer.py:2439(_cast_single_input)\n",
      "     5895    0.021    0.000    0.050    0.000 base_layer.py:2524(_set_mask_metadata)\n",
      "     7860    0.005    0.000    0.005    0.000 base_layer.py:2535(<genexpr>)\n",
      "    11790    0.024    0.000    0.039    0.000 base_layer.py:2562(_get_input_masks)\n",
      "     5895    0.004    0.000    0.005    0.000 base_layer.py:2572(<listcomp>)\n",
      "    11790    0.003    0.000    0.003    0.000 base_layer.py:2573(<genexpr>)\n",
      "     7860    0.003    0.000    0.003    0.000 base_layer.py:2582(_call_arg_was_passed)\n",
      "     1965    0.006    0.000    0.013    0.000 base_layer.py:2605(_set_call_arg_value)\n",
      "     3930    0.008    0.000    0.008    0.000 base_layer.py:2823(__setattr__)\n",
      "    70740    0.098    0.000    0.200    0.000 base_layer.py:2913(_flatten_layers)\n",
      "    11790    0.011    0.000    0.011    0.000 base_layer.py:3036(_split_out_first_arg)\n",
      "    11790    0.031    0.000    0.159    0.000 base_layer.py:3278(_in_functional_construction_mode)\n",
      "    23580    0.011    0.000    0.016    0.000 base_layer.py:3283(<genexpr>)\n",
      "     3930    0.001    0.000    0.001    0.000 base_layer.py:879(compute_mask)\n",
      "11790/1965    0.271    0.000    3.918    0.002 base_layer.py:901(__call__)\n",
      "    23580    0.015    0.000    0.046    0.000 base_layer.py:958(<genexpr>)\n",
      "    11790    0.007    0.000    0.014    0.000 base_layer_utils.py:411(call_context)\n",
      "    11790    0.018    0.000    0.029    0.000 base_layer_utils.py:453(enter)\n",
      "    11790    0.006    0.000    0.006    0.000 base_layer_utils.py:487(training)\n",
      "    11790    0.011    0.000    0.011    0.000 base_layer_utils.py:515(__init__)\n",
      "    11790    0.011    0.000    0.011    0.000 base_layer_utils.py:520(__enter__)\n",
      "    11790    0.015    0.000    0.015    0.000 base_layer_utils.py:536(__exit__)\n",
      "     1965    0.002    0.000    0.005    0.000 base_layer_utils.py:854(has_weights)\n",
      "     3930    0.004    0.000    0.087    0.000 constant_op.py:166(constant)\n",
      "     3930    0.009    0.000    0.082    0.000 constant_op.py:268(_constant_impl)\n",
      "     3930    0.004    0.000    0.063    0.000 constant_op.py:299(_constant_eager_impl)\n",
      "     3930    0.048    0.000    0.059    0.000 constant_op.py:70(convert_to_eager_tensor)\n",
      "    74670    0.013    0.000    0.013    0.000 context.py:1849(context_safe)\n",
      "    53055    0.051    0.000    0.131    0.000 context.py:1874(executing_eagerly)\n",
      "     1965    0.002    0.000    0.008    0.000 context.py:2401(_tmp_in_graph_mode)\n",
      "     3930    0.003    0.000    0.003    0.000 context.py:501(ensure_initialized)\n",
      "     3930    0.002    0.000    0.002    0.000 context.py:773(_handle)\n",
      "    72705    0.103    0.000    0.103    0.000 context.py:815(executing_eagerly)\n",
      "    11790    0.013    0.000    0.013    0.000 context.py:827(scope_name)\n",
      "    23580    0.037    0.000    0.037    0.000 context.py:832(scope_name)\n",
      "     3930    0.005    0.000    0.005    0.000 context.py:837(device_name)\n",
      "     3930    0.040    0.000    0.839    0.000 convolutional.py:244(call)\n",
      "     3930    0.009    0.000    0.614    0.000 core.py:1206(call)\n",
      "     3930    0.038    0.000    0.605    0.000 core.py:30(dense)\n",
      "     1965    0.011    0.000    0.105    0.000 core.py:661(call)\n",
      "     1965    0.005    0.000    0.080    0.000 deprecation.py:504(new_func)\n",
      "     1965    0.001    0.000    0.001    0.000 deprecation.py:614(deprecated_argument_lookup)\n",
      "     3930    0.001    0.000    0.001    0.000 device_context.py:21(enclosing_tpu_context)\n",
      "33405/25545    0.042    0.000    1.342    0.000 dispatch.py:198(wrapper)\n",
      "    21615    0.041    0.000    0.041    0.000 dtypes.py:192(__eq__)\n",
      "    17685    0.011    0.000    0.046    0.000 dtypes.py:205(__ne__)\n",
      "     3930    0.007    0.000    0.008    0.000 dtypes.py:606(as_dtype)\n",
      "    13755    0.014    0.000    0.014    0.000 dtypes.py:71(_is_ref_dtype)\n",
      "    13755    0.008    0.000    0.022    0.000 dtypes.py:84(base_dtype)\n",
      "     3930    0.026    0.000    0.081    0.000 encoder.py:102(<listcomp>)\n",
      "     1965    0.132    0.000    2.856    0.001 encoder.py:18(create_padded_env)\n",
      "     1965    0.039    0.000    3.482    0.002 encoder.py:182(encode)\n",
      "    49125    0.014    0.000    0.014    0.000 encoder.py:23(<lambda>)\n",
      "     5895    0.023    0.000    0.186    0.000 encoder.py:77(player_stones_encoding)\n",
      "     5895    0.037    0.000    0.037    0.000 encoder.py:93(<listcomp>)\n",
      "     3930    0.007    0.000    0.160    0.000 encoder.py:97(to_play_endocing)\n",
      "     1965    0.008    0.000    3.273    0.002 functional.py:406(call)\n",
      "     1965    0.124    0.000    3.265    0.002 functional.py:516(_run_internal_graph)\n",
      "    19650    0.007    0.000    0.007    0.000 functional.py:556(<genexpr>)\n",
      "     1965    0.003    0.000    0.008    0.000 functional.py:574(_flatten_to_reference_inputs)\n",
      "     1965    0.013    0.000    0.049    0.000 functional.py:608(_conform_to_reference_input)\n",
      "     1965    0.006    0.000    0.040    0.000 gen_array_ops.py:8288(reshape)\n",
      "     1965    0.005    0.000    0.082    0.000 gen_math_ops.py:1807(cast)\n",
      "     3930    0.011    0.000    0.192    0.000 gen_math_ops.py:5500(mat_mul)\n",
      "     5895    0.017    0.000    0.087    0.000 gen_nn_ops.py:10442(relu)\n",
      "     1965    0.004    0.000    0.041    0.000 gen_nn_ops.py:10827(softmax)\n",
      "     7860    0.017    0.000    0.276    0.000 gen_nn_ops.py:646(bias_add)\n",
      "     3930    0.011    0.000    0.295    0.000 gen_nn_ops.py:860(conv2d)\n",
      "     6195    0.022    0.000    0.028    0.000 hex.py:102(get_NW_coordinates)\n",
      "     6195    0.016    0.000    0.021    0.000 hex.py:109(get_NE_coordinates)\n",
      "     6195    0.021    0.000    0.025    0.000 hex.py:116(get_SW_coordinates)\n",
      "     6195    0.022    0.000    0.027    0.000 hex.py:123(get_SE_coordinates)\n",
      "    21500    0.073    0.000    0.155    0.000 hex.py:131(_search_from)\n",
      "    13897    0.025    0.000    0.034    0.000 hex.py:147(<listcomp>)\n",
      "    21500    0.014    0.000    0.019    0.000 hex.py:155(<listcomp>)\n",
      "     2265    0.055    0.000    0.249    0.000 hex.py:158(get_winner)\n",
      "      322    0.001    0.000    0.012    0.000 hex.py:173(available_actions)\n",
      "      322    0.008    0.000    0.011    0.000 hex.py:174(<listcomp>)\n",
      "     1965    0.006    0.000    0.095    0.000 hex.py:176(available_actions_binary)\n",
      "     1965    0.058    0.000    0.086    0.000 hex.py:180(<listcomp>)\n",
      "     5895    0.012    0.000    0.057    0.000 hex.py:182(get_state)\n",
      "     5895    0.041    0.000    0.041    0.000 hex.py:187(<listcomp>)\n",
      "   174885    0.162    0.000    0.265    0.000 hex.py:196(set_piece)\n",
      "     2065    0.050    0.000    2.393    0.001 hex.py:54(__init__)\n",
      "      100    0.006    0.000    0.047    0.000 hex.py:75(copy)\n",
      "      200    0.000    0.000    0.000    0.000 hex.py:82(get_current_player)\n",
      "   213384    0.035    0.000    0.035    0.000 hex.py:86(get_board)\n",
      "     5895    0.001    0.000    0.001    0.000 hex.py:89(get_size)\n",
      "     2187    0.007    0.000    0.011    0.000 hex.py:92(make_action)\n",
      "   161665    0.086    0.000    0.086    0.000 hexagonal_grid.py:108(get_neighbouring_indecies)\n",
      "   828640    0.275    0.000    0.371    0.000 hexagonal_grid.py:15(add_neighbour)\n",
      "   284096    0.051    0.000    0.051    0.000 hexagonal_grid.py:24(get_row)\n",
      "   284096    0.047    0.000    0.047    0.000 hexagonal_grid.py:27(get_column)\n",
      "   842537    0.127    0.000    0.127    0.000 hexagonal_grid.py:30(get_neighbours)\n",
      "   341237    0.058    0.000    0.058    0.000 hexagonal_grid.py:33(set_piece)\n",
      "   191839    0.032    0.000    0.032    0.000 hexagonal_grid.py:36(get_piece)\n",
      "   161665    0.034    0.000    0.034    0.000 hexagonal_grid.py:39(__hash__)\n",
      "     2065    0.001    0.000    0.001    0.000 hexagonal_grid.py:45(__init__)\n",
      "     2065    1.037    0.001    1.972    0.001 hexagonal_grid.py:48(generate_neighbours)\n",
      "  1171062    0.353    0.000    0.353    0.000 hexagonal_grid.py:62(get_cell)\n",
      "    14377    0.009    0.000    0.012    0.000 hexagonal_grid.py:73(get_cells)\n",
      "   161665    0.134    0.000    0.134    0.000 hexagonal_grid.py:8(__init__)\n",
      "     2065    0.173    0.000    2.315    0.001 hexagonal_grid.py:98(__init__)\n",
      "    11790    0.138    0.000    0.405    0.000 input_spec.py:159(assert_input_compatibility)\n",
      "     1965    0.002    0.000    0.002    0.000 keras_tensor.py:157(shape)\n",
      "     1965    0.001    0.000    0.001    0.000 keras_tensor.py:340(dtype)\n",
      "    11790    0.011    0.000    0.050    0.000 keras_tensor.py:51(keras_tensors_enabled)\n",
      "     1965    0.003    0.000    0.007    0.000 layer_utils.py:461(wrapped)\n",
      "     3930    0.032    0.000    0.174    0.000 math_ops.py:907(cast)\n",
      "      222    0.001    0.000    0.010    0.000 monte_carlo_ts.py:107(_is_leaf_node)\n",
      "     3028    0.019    0.000    0.026    0.000 monte_carlo_ts.py:122(_utc)\n",
      "      122    0.001    0.000    0.037    0.000 monte_carlo_ts.py:129(tree_policy)\n",
      "      122    0.001    0.000    0.001    0.000 monte_carlo_ts.py:133(<listcomp>)\n",
      "      122    0.003    0.000    0.030    0.000 monte_carlo_ts.py:134(<dictcomp>)\n",
      "     3028    0.001    0.000    0.003    0.000 monte_carlo_ts.py:136(<lambda>)\n",
      "      100    0.001    0.000    7.985    0.080 monte_carlo_ts.py:152(perform_simulation)\n",
      "        1    0.000    0.000    7.986    7.986 monte_carlo_ts.py:160(search)\n",
      "     3028    0.002    0.000    0.027    0.000 monte_carlo_ts.py:162(<lambda>)\n",
      "        1    0.000    0.000    0.000    0.000 monte_carlo_ts.py:182(<dictcomp>)\n",
      "        1    0.000    0.000    0.000    0.000 monte_carlo_ts.py:184(<dictcomp>)\n",
      "      100    0.001    0.000    0.048    0.000 monte_carlo_ts.py:55(_traverse_to_leaf)\n",
      "      100    0.001    0.000    0.018    0.000 monte_carlo_ts.py:65(_expand)\n",
      "      100    0.001    0.000    0.004    0.000 monte_carlo_ts.py:71(<listcomp>)\n",
      "      100    0.022    0.000    7.918    0.079 monte_carlo_ts.py:78(_rollout)\n",
      "      100    0.001    0.000    0.001    0.000 monte_carlo_ts.py:90(_back_prop)\n",
      "     1965    0.001    0.000    0.001    0.000 multiarray.py:143(concatenate)\n",
      "    68775    0.050    0.000    0.177    0.000 nest.py:274(flatten)\n",
      "     3930    0.008    0.000    0.019    0.000 nest.py:505(_pack_sequence_as)\n",
      "     3930    0.004    0.000    0.023    0.000 nest.py:545(pack_sequence_as)\n",
      "     1965    0.016    0.000    0.209    0.000 nest.py:582(map_structure)\n",
      "     3930    0.002    0.000    0.005    0.000 nest.py:655(<genexpr>)\n",
      "     1965    0.003    0.000    0.174    0.000 nest.py:659(<listcomp>)\n",
      "     3930    0.006    0.000    0.422    0.000 nn_ops.py:1003(convolution_v2)\n",
      "     3930    0.048    0.000    0.417    0.000 nn_ops.py:1029(convolution_internal)\n",
      "    19650    0.005    0.000    0.005    0.000 nn_ops.py:1116(<genexpr>)\n",
      "     3930    0.011    0.000    0.310    0.000 nn_ops.py:2583(_conv2d_expanded_batch)\n",
      "     7860    0.004    0.000    0.004    0.000 nn_ops.py:3306(_tf_deterministic_ops)\n",
      "     7860    0.050    0.000    0.397    0.000 nn_ops.py:3319(bias_add)\n",
      "     1965    0.007    0.000    0.060    0.000 nn_ops.py:3578(_wrap_2d_function)\n",
      "     1965    0.006    0.000    0.067    0.000 nn_ops.py:3664(softmax)\n",
      "     7860    0.013    0.000    0.015    0.000 nn_ops.py:68(_get_sequence)\n",
      "     9825    0.014    0.000    0.016    0.000 node.py:146(map_arguments)\n",
      "     5873    0.001    0.000    0.001    0.000 node.py:24(get_children)\n",
      "      100    0.000    0.000    0.000    0.000 node.py:27(set_parent)\n",
      "      100    0.000    0.000    0.001    0.000 node.py:3(__init__)\n",
      "      100    0.000    0.000    0.000    0.000 node.py:32(set_depth)\n",
      "      100    0.000    0.000    0.000    0.000 node.py:38(add_child)\n",
      "     5528    0.010    0.000    0.011    0.000 node.py:41(get_child)\n",
      "    11790    0.021    0.000    0.035    0.000 numeric.py:1308(normalize_axis_tuple)\n",
      "    11790    0.006    0.000    0.011    0.000 numeric.py:1358(<listcomp>)\n",
      "     1965    0.002    0.000    0.013    0.000 ops.py:1035(_numpy)\n",
      "    35370    0.029    0.000    0.038    0.000 ops.py:1041(dtype)\n",
      "     1965    0.006    0.000    0.026    0.000 ops.py:1047(numpy)\n",
      "    60915    0.056    0.000    0.180    0.000 ops.py:1168(shape)\n",
      "     1965    0.001    0.000    0.002    0.000 ops.py:1181(get_shape)\n",
      "     1965    0.002    0.000    0.071    0.000 ops.py:1340(convert_to_tensor_v2_with_dispatch)\n",
      "     1965    0.003    0.000    0.070    0.000 ops.py:1408(convert_to_tensor_v2)\n",
      "     5895    0.018    0.000    0.078    0.000 ops.py:1481(convert_to_tensor)\n",
      "    13755    0.003    0.000    0.003    0.000 ops.py:169(__init__)\n",
      "    13755    0.003    0.000    0.003    0.000 ops.py:172(__enter__)\n",
      "    13755    0.003    0.000    0.003    0.000 ops.py:175(__exit__)\n",
      "    13755    0.011    0.000    0.046    0.000 ops.py:5744(executing_eagerly_outside_functions)\n",
      "    13755    0.026    0.000    0.068    0.000 ops.py:6402(name_scope)\n",
      "    11790    0.012    0.000    0.014    0.000 ops.py:6602(__init__)\n",
      "    11790    0.056    0.000    0.107    0.000 ops.py:6620(__enter__)\n",
      "    11790    0.012    0.000    0.034    0.000 ops.py:6644(_restore_name_scope)\n",
      "    11790    0.021    0.000    0.061    0.000 ops.py:6654(__exit__)\n",
      "      602    0.001    0.000    0.002    0.000 random.py:250(_randbelow_with_getrandbits)\n",
      "      602    0.001    0.000    0.003    0.000 random.py:285(choice)\n",
      "     3930    0.002    0.000    0.002    0.000 resource_variable_ops.py:528(shape)\n",
      "     7860    0.015    0.000    0.183    0.000 sequential.py:146(layers)\n",
      "     1965    0.016    0.000    0.095    0.000 sequential.py:263(_build_graph_network_for_inferred_shape)\n",
      "     1965    0.012    0.000    3.434    0.002 sequential.py:354(call)\n",
      "     1965    0.007    0.000    0.144    0.000 sequential.py:500(input_spec)\n",
      "     1965    0.007    0.000    0.011    0.000 sequential.py:541(relax_input_shape)\n",
      "     9825    0.003    0.000    0.003    0.000 sequential.py:546(<genexpr>)\n",
      "    11790    0.002    0.000    0.002    0.000 shape_base.py:508(_expand_dims_dispatcher)\n",
      "    11790    0.043    0.000    0.119    0.000 shape_base.py:512(expand_dims)\n",
      "    11790    0.011    0.000    0.015    0.000 shape_base.py:600(<listcomp>)\n",
      "     1965    0.002    0.000    0.002    0.000 tensor_conversion_registry.py:114(get)\n",
      "     1965    0.003    0.000    0.047    0.000 tensor_conversion_registry.py:50(_default_conversion_function)\n",
      "    11790    0.011    0.000    0.037    0.000 tensor_shape.py:1180(as_list)\n",
      "    11790    0.017    0.000    0.025    0.000 tensor_shape.py:1191(<listcomp>)\n",
      "    58950    0.032    0.000    0.040    0.000 tensor_shape.py:187(__init__)\n",
      "    49125    0.010    0.000    0.010    0.000 tensor_shape.py:249(value)\n",
      "    29475    0.050    0.000    0.147    0.000 tensor_shape.py:748(__init__)\n",
      "    17685    0.037    0.000    0.077    0.000 tensor_shape.py:758(<listcomp>)\n",
      "     3930    0.001    0.000    0.001    0.000 tensor_shape.py:792(_v2_behavior)\n",
      "    49125    0.025    0.000    0.033    0.000 tensor_shape.py:821(rank)\n",
      "    11790    0.004    0.000    0.004    0.000 tensor_shape.py:828(dims)\n",
      "     1965    0.001    0.000    0.002    0.000 tensor_shape.py:845(__len__)\n",
      "     1965    0.004    0.000    0.005    0.000 tensor_shape.py:858(__iter__)\n",
      "     9825    0.004    0.000    0.006    0.000 tensor_shape.py:864(<genexpr>)\n",
      "     1965    0.004    0.000    0.006    0.000 tensor_shape.py:868(__getitem__)\n",
      "     1965    0.002    0.000    0.002    0.000 tensor_util.py:992(is_tensor)\n",
      "     1965    0.001    0.000    0.001    0.000 tf2.py:42(enabled)\n",
      "     5895    0.007    0.000    0.085    0.000 trace.py:158(wrapped)\n",
      "     7860    0.022    0.000    0.167    0.000 training.py:2386(layers)\n",
      "     3930    0.014    0.000    0.041    0.000 training.py:306(__setattr__)\n",
      "     3930    0.005    0.000    0.011    0.000 training.py:311(<genexpr>)\n",
      "     1965    0.003    0.000    0.004    0.000 weakref.py:419(get)\n",
      "    78600    0.034    0.000    0.034    0.000 {built-in method _abc._abc_instancecheck}\n",
      "    11790    0.009    0.000    0.026    0.000 {built-in method builtins.all}\n",
      "    47160    0.047    0.000    0.190    0.000 {built-in method builtins.any}\n",
      "     1965    0.000    0.000    0.000    0.000 {built-in method builtins.callable}\n",
      "        1    0.000    0.000    7.986    7.986 {built-in method builtins.exec}\n",
      "    78600    0.032    0.000    0.040    0.000 {built-in method builtins.getattr}\n",
      "    39300    0.021    0.000    0.128    0.000 {built-in method builtins.hasattr}\n",
      "    62880    0.011    0.000    0.011    0.000 {built-in method builtins.id}\n",
      "   369420    0.106    0.000    0.167    0.000 {built-in method builtins.isinstance}\n",
      "     1965    0.001    0.000    0.001    0.000 {built-in method builtins.issubclass}\n",
      "    13755    0.002    0.000    0.002    0.000 {built-in method builtins.iter}\n",
      "   194050    0.031    0.000    0.031    0.000 {built-in method builtins.len}\n",
      "     1585    0.008    0.000    0.010    0.000 {built-in method builtins.max}\n",
      "    25545    0.004    0.000    0.004    0.000 {built-in method builtins.next}\n",
      "     3029    0.002    0.000    0.002    0.000 {built-in method builtins.sum}\n",
      "    21615    0.139    0.000    0.139    0.000 {built-in method numpy.array}\n",
      "    13755    0.027    0.000    0.146    0.000 {built-in method numpy.core._multiarray_umath.implement_array_function}\n",
      "    11790    0.005    0.000    0.005    0.000 {built-in method numpy.core._multiarray_umath.normalize_axis_index}\n",
      "    27510    0.944    0.000    0.944    0.000 {built-in method tensorflow.python._pywrap_tfe.TFE_Py_FastPathExecute}\n",
      "    68775    0.128    0.000    0.128    0.000 {built-in method tensorflow.python._pywrap_utils.Flatten}\n",
      "     7860    0.010    0.000    0.010    0.000 {built-in method tensorflow.python._pywrap_utils.IsSequence}\n",
      "    35370    0.008    0.000    0.008    0.000 {method '_datatype_enum' of 'tensorflow.python.framework.ops.EagerTensor' objects}\n",
      "     1965    0.011    0.000    0.011    0.000 {method '_numpy_internal' of 'tensorflow.python.framework.ops.EagerTensor' objects}\n",
      "    17685    0.015    0.000    0.015    0.000 {method '_shape_tuple' of 'tensorflow.python.framework.ops.EagerTensor' objects}\n",
      "    58950    0.010    0.000    0.010    0.000 {method 'add' of 'set' objects}\n",
      "  1031717    0.122    0.000    0.122    0.000 {method 'append' of 'list' objects}\n",
      "     1965    0.005    0.000    0.005    0.000 {method 'astype' of 'numpy.ndarray' objects}\n",
      "      602    0.000    0.000    0.000    0.000 {method 'bit_length' of 'int' objects}\n",
      "     1965    0.006    0.000    0.006    0.000 {method 'copy' of 'numpy.ndarray' objects}\n",
      "        1    0.000    0.000    0.000    0.000 {method 'disable' of '_lsprof.Profiler' objects}\n",
      "     3930    0.002    0.000    0.002    0.000 {method 'endswith' of 'str' objects}\n",
      "     3930    0.002    0.000    0.002    0.000 {method 'get' of 'dict' objects}\n",
      "      984    0.000    0.000    0.000    0.000 {method 'getrandbits' of '_random.Random' objects}\n",
      "     9826    0.002    0.000    0.002    0.000 {method 'items' of 'dict' objects}\n",
      "     2589    0.001    0.000    0.001    0.000 {method 'keys' of 'dict' objects}\n",
      "     3930    0.001    0.000    0.001    0.000 {method 'pop' of 'dict' objects}\n",
      "    37477    0.011    0.000    0.011    0.000 {method 'pop' of 'list' objects}\n",
      "    58950    0.007    0.000    0.007    0.000 {method 'popleft' of 'collections.deque' objects}\n",
      "     1965    0.001    0.000    0.001    0.000 {method 'random' of '_random.Random' objects}\n",
      "    19650    0.018    0.000    0.018    0.000 {method 'reshape' of 'numpy.ndarray' objects}\n",
      "     1965    0.002    0.000    0.002    0.000 {method 'sort' of 'list' objects}\n",
      "     7860    0.005    0.000    0.005    0.000 {method 'startswith' of 'str' objects}\n",
      "    14378    0.004    0.000    0.004    0.000 {method 'values' of 'dict' objects}\n",
      "\n",
      "\n"
     ]
    }
   ],
   "source": [
    "cProfile.run('mcts.search(100)')"
   ]
  },
  {
   "cell_type": "code",
   "execution_count": null,
   "metadata": {},
   "outputs": [],
   "source": []
  }
 ],
 "metadata": {
  "kernelspec": {
   "display_name": "Python 3",
   "language": "python",
   "name": "python3"
  },
  "language_info": {
   "codemirror_mode": {
    "name": "ipython",
    "version": 3
   },
   "file_extension": ".py",
   "mimetype": "text/x-python",
   "name": "python",
   "nbconvert_exporter": "python",
   "pygments_lexer": "ipython3",
   "version": "3.8.5"
  }
 },
 "nbformat": 4,
 "nbformat_minor": 4
}
