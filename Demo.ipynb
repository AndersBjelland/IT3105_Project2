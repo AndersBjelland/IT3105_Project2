{
 "cells": [
  {
   "cell_type": "markdown",
   "metadata": {},
   "source": [
    "# Demo 2 AI-prog"
   ]
  },
  {
   "cell_type": "code",
   "execution_count": 1,
   "metadata": {},
   "outputs": [
    {
     "name": "stdout",
     "output_type": "stream",
     "text": [
      "Collecting git+https://github.com/AndersBjelland/IT3105_Project2.git@dev\n",
      "  Cloning https://github.com/AndersBjelland/IT3105_Project2.git (to revision dev) to /private/var/folders/dm/8497wlxs7d34zt6c6wdjfh500000gn/T/pip-req-build-s5cv9bca\n",
      "Building wheels for collected packages: Project2\n",
      "  Building wheel for Project2 (setup.py) ... \u001b[?25ldone\n",
      "\u001b[?25h  Created wheel for Project2: filename=Project2-1.0-py3-none-any.whl size=14953 sha256=5e13453c5dbe26f594f07e36df72b20b893ab32b59ca00c39c703285589132a0\n",
      "  Stored in directory: /private/var/folders/dm/8497wlxs7d34zt6c6wdjfh500000gn/T/pip-ephem-wheel-cache-ppbz0ass/wheels/b2/24/99/8fa89aec957ae3920f431ef10ca7ed9e2e3743c4e806a2fbf0\n",
      "Successfully built Project2\n",
      "Installing collected packages: Project2\n",
      "  Attempting uninstall: Project2\n",
      "    Found existing installation: Project2 1.0\n",
      "    Uninstalling Project2-1.0:\n",
      "      Successfully uninstalled Project2-1.0\n",
      "Successfully installed Project2-1.0\n"
     ]
    }
   ],
   "source": [
    "import sys\n",
    "!{sys.executable} -m pip install --upgrade git+https://github.com/AndersBjelland/IT3105_Project2.git@dev"
   ]
  },
  {
   "cell_type": "code",
   "execution_count": 1,
   "metadata": {},
   "outputs": [],
   "source": [
    "import matplotlib.pyplot as plt"
   ]
  },
  {
   "cell_type": "code",
   "execution_count": 2,
   "metadata": {},
   "outputs": [],
   "source": [
    "# our code\n",
    "from src import *"
   ]
  },
  {
   "cell_type": "markdown",
   "metadata": {},
   "source": [
    "alpha zero ran 800 simulations in mcts"
   ]
  },
  {
   "cell_type": "markdown",
   "metadata": {},
   "source": [
    "## Train a simple agent and show improvement"
   ]
  },
  {
   "cell_type": "code",
   "execution_count": 3,
   "metadata": {},
   "outputs": [
    {
     "data": {
      "image/png": "[encoded data removed]",
      "text/plain": [
       "<Figure size 432x288 with 1 Axes>"
      ]
     },
     "metadata": {},
     "output_type": "display_data"
    }
   ],
   "source": [
    "%matplotlib inline\n",
    "hex = Hex((4,4))\n",
    "hex.display_board()"
   ]
  },
  {
   "cell_type": "code",
   "execution_count": 4,
   "metadata": {},
   "outputs": [],
   "source": [
    "hex = Hex((4,4))\n",
    "\n",
    "encoder = DemoEncoder(padding=0)\n",
    "\n",
    "actor = Actor(learning_rate=0.001,\n",
    "             epsilon=0.25,\n",
    "             end_epsilon=0.05,\n",
    "             nn_shape=(32,128,16),\n",
    "             filters=(),\n",
    "             kernel_sizes=(),\n",
    "                nn_opt='Adam',\n",
    "              nn_activation='relu',\n",
    "              nn_last_activation='softmax',\n",
    "              nn_loss= 'categorical_crossentropy',\n",
    "              encoder=encoder\n",
    "             )\n",
    "hex.set_encoder(encoder)            \n",
    "            \n",
    "agent = Agent(actor)  \n",
    "mcts = MCTS(agent.actor, hex)"
   ]
  },
  {
   "cell_type": "code",
   "execution_count": 16,
   "metadata": {},
   "outputs": [
    {
     "data": {
      "text/plain": [
       "<tf.Tensor: shape=(1, 16), dtype=float32, numpy=\n",
       "array([[1.4926128e-03, 9.7755787e-05, 7.3293817e-01, 8.7997701e-05,\n",
       "        1.7485085e-03, 9.0498507e-02, 6.2929176e-02, 2.7391460e-04,\n",
       "        3.3903014e-04, 9.5150426e-06, 3.6829095e-02, 4.0763564e-02,\n",
       "        5.7314493e-04, 1.1288967e-03, 2.5188250e-03, 2.7771229e-02]],\n",
       "      dtype=float32)>"
      ]
     },
     "execution_count": 16,
     "metadata": {},
     "output_type": "execute_result"
    }
   ],
   "source": [
    "feat = hex.encoder.get_encoding()\n",
    "actor.model(feat)"
   ]
  },
  {
   "cell_type": "code",
   "execution_count": 15,
   "metadata": {},
   "outputs": [
    {
     "data": {
      "text/plain": [
       "<tf.Tensor: shape=(100, 16), dtype=float32, numpy=\n",
       "array([[1.4926140e-03, 9.7755772e-05, 7.3293805e-01, ..., 1.1288965e-03,\n",
       "        2.5188259e-03, 2.7771223e-02],\n",
       "       [1.4926140e-03, 9.7755772e-05, 7.3293805e-01, ..., 1.1288965e-03,\n",
       "        2.5188259e-03, 2.7771223e-02],\n",
       "       [1.4926140e-03, 9.7755772e-05, 7.3293805e-01, ..., 1.1288965e-03,\n",
       "        2.5188259e-03, 2.7771223e-02],\n",
       "       ...,\n",
       "       [1.4926140e-03, 9.7755772e-05, 7.3293805e-01, ..., 1.1288965e-03,\n",
       "        2.5188259e-03, 2.7771223e-02],\n",
       "       [1.4926140e-03, 9.7755772e-05, 7.3293805e-01, ..., 1.1288965e-03,\n",
       "        2.5188259e-03, 2.7771223e-02],\n",
       "       [1.4926140e-03, 9.7755772e-05, 7.3293805e-01, ..., 1.1288965e-03,\n",
       "        2.5188259e-03, 2.7771223e-02]], dtype=float32)>"
      ]
     },
     "execution_count": 15,
     "metadata": {},
     "output_type": "execute_result"
    }
   ],
   "source": [
    "import tensorflow as tf\n",
    "feat = tf.concat([hex.encoder.get_encoding() for i in range(100)], 0)\n",
    "actor.model(feat)"
   ]
  },
  {
   "cell_type": "code",
   "execution_count": 5,
   "metadata": {},
   "outputs": [
    {
     "name": "stdout",
     "output_type": "stream",
     "text": [
      "CPU times: user 1.6 s, sys: 27.1 ms, total: 1.63 s\n",
      "Wall time: 1.72 s\n"
     ]
    },
    {
     "data": {
      "text/plain": [
       "{(2, 2): 0.02,\n",
       " (2, 3): 0.06,\n",
       " (0, 3): 0.35000000000000003,\n",
       " (3, 1): 0.08,\n",
       " (0, 1): 0.04,\n",
       " (2, 0): 0.02,\n",
       " (3, 0): 0.02,\n",
       " (3, 2): 0.02,\n",
       " (2, 1): 0.02,\n",
       " (1, 0): 0.02,\n",
       " (0, 0): 0.08,\n",
       " (3, 3): 0.08,\n",
       " (1, 1): 0.08,\n",
       " (1, 2): 0.02,\n",
       " (1, 3): 0.08,\n",
       " (0, 2): 0.01}"
      ]
     },
     "execution_count": 5,
     "metadata": {},
     "output_type": "execute_result"
    }
   ],
   "source": [
    "%time mcts.search(100)"
   ]
  },
  {
   "cell_type": "code",
   "execution_count": 6,
   "metadata": {
    "scrolled": true
   },
   "outputs": [
    {
     "name": "stderr",
     "output_type": "stream",
     "text": [
      "\r",
      "  0%|          | 0/40 [00:00<?, ?it/s]"
     ]
    },
    {
     "name": "stdout",
     "output_type": "stream",
     "text": [
      "Epoch 1/10\n",
      "1/1 [==============================] - 1s 540ms/step - loss: 2.7898 - accuracy: 0.0000e+00\n",
      "Epoch 2/10\n",
      "1/1 [==============================] - 0s 5ms/step - loss: 2.7603 - accuracy: 0.0000e+00\n",
      "Epoch 3/10\n",
      "1/1 [==============================] - 0s 4ms/step - loss: 2.7320 - accuracy: 0.0000e+00\n",
      "Epoch 4/10\n",
      "1/1 [==============================] - 0s 4ms/step - loss: 2.7049 - accuracy: 0.0000e+00\n",
      "Epoch 5/10\n",
      "1/1 [==============================] - 0s 11ms/step - loss: 2.6783 - accuracy: 0.0909\n",
      "Epoch 6/10\n",
      "1/1 [==============================] - 0s 3ms/step - loss: 2.6524 - accuracy: 0.1818\n",
      "Epoch 7/10\n",
      "1/1 [==============================] - 0s 3ms/step - loss: 2.6271 - accuracy: 0.1818\n",
      "Epoch 8/10\n",
      "1/1 [==============================] - 0s 24ms/step - loss: 2.6021 - accuracy: 0.2727\n",
      "Epoch 9/10\n",
      "1/1 [==============================] - 0s 3ms/step - loss: 2.5774 - accuracy: 0.2727\n",
      "Epoch 10/10\n",
      "1/1 [==============================] - 0s 15ms/step - loss: 2.5527 - accuracy: 0.2727\n"
     ]
    },
    {
     "name": "stderr",
     "output_type": "stream",
     "text": [
      "\r",
      "  2%|▎         | 1/40 [00:09<06:06,  9.39s/it]"
     ]
    },
    {
     "name": "stdout",
     "output_type": "stream",
     "text": [
      "Epoch 1/10\n",
      "1/1 [==============================] - 0s 3ms/step - loss: 2.7104 - accuracy: 0.1364\n",
      "Epoch 2/10\n",
      "1/1 [==============================] - 0s 5ms/step - loss: 2.6966 - accuracy: 0.1818\n",
      "Epoch 3/10\n",
      "1/1 [==============================] - 0s 6ms/step - loss: 2.6818 - accuracy: 0.1818\n",
      "Epoch 4/10\n",
      "1/1 [==============================] - 0s 9ms/step - loss: 2.6664 - accuracy: 0.1818\n",
      "Epoch 5/10\n",
      "1/1 [==============================] - 0s 9ms/step - loss: 2.6507 - accuracy: 0.1818\n",
      "Epoch 6/10\n",
      "1/1 [==============================] - 0s 16ms/step - loss: 2.6347 - accuracy: 0.1818\n",
      "Epoch 7/10\n",
      "1/1 [==============================] - 0s 12ms/step - loss: 2.6186 - accuracy: 0.1818\n",
      "Epoch 8/10\n",
      "1/1 [==============================] - 0s 13ms/step - loss: 2.6025 - accuracy: 0.1818\n",
      "Epoch 9/10\n",
      "1/1 [==============================] - 0s 11ms/step - loss: 2.5864 - accuracy: 0.1818\n",
      "Epoch 10/10\n",
      "1/1 [==============================] - 0s 6ms/step - loss: 2.5704 - accuracy: 0.1818\n"
     ]
    },
    {
     "name": "stderr",
     "output_type": "stream",
     "text": [
      "\r",
      "  5%|▌         | 2/40 [00:18<05:49,  9.19s/it]"
     ]
    },
    {
     "name": "stdout",
     "output_type": "stream",
     "text": [
      "Epoch 1/10\n",
      "1/1 [==============================] - 0s 3ms/step - loss: 2.6655 - accuracy: 0.1316\n",
      "Epoch 2/10\n",
      "1/1 [==============================] - 0s 6ms/step - loss: 2.6536 - accuracy: 0.1316\n",
      "Epoch 3/10\n",
      "1/1 [==============================] - 0s 8ms/step - loss: 2.6396 - accuracy: 0.1316\n",
      "Epoch 4/10\n",
      "1/1 [==============================] - 0s 12ms/step - loss: 2.6242 - accuracy: 0.1316\n",
      "Epoch 5/10\n",
      "1/1 [==============================] - 0s 13ms/step - loss: 2.6077 - accuracy: 0.1316\n",
      "Epoch 6/10\n",
      "1/1 [==============================] - 0s 8ms/step - loss: 2.5907 - accuracy: 0.1316\n",
      "Epoch 7/10\n",
      "1/1 [==============================] - 0s 9ms/step - loss: 2.5734 - accuracy: 0.1316\n",
      "Epoch 8/10\n",
      "1/1 [==============================] - 0s 12ms/step - loss: 2.5560 - accuracy: 0.1316\n",
      "Epoch 9/10\n",
      "1/1 [==============================] - 0s 9ms/step - loss: 2.5391 - accuracy: 0.1316\n",
      "Epoch 10/10\n",
      "1/1 [==============================] - 0s 6ms/step - loss: 2.5229 - accuracy: 0.1842\n"
     ]
    },
    {
     "name": "stderr",
     "output_type": "stream",
     "text": [
      "\r",
      "  8%|▊         | 3/40 [00:25<05:25,  8.78s/it]"
     ]
    },
    {
     "name": "stdout",
     "output_type": "stream",
     "text": [
      "Epoch 1/10\n",
      "1/1 [==============================] - 0s 4ms/step - loss: 2.5844 - accuracy: 0.1875\n",
      "Epoch 2/10\n",
      "1/1 [==============================] - 0s 4ms/step - loss: 2.5724 - accuracy: 0.1875\n",
      "Epoch 3/10\n",
      "1/1 [==============================] - 0s 5ms/step - loss: 2.5608 - accuracy: 0.2083\n",
      "Epoch 4/10\n",
      "1/1 [==============================] - 0s 10ms/step - loss: 2.5497 - accuracy: 0.2083\n",
      "Epoch 5/10\n",
      "1/1 [==============================] - 0s 8ms/step - loss: 2.5391 - accuracy: 0.2292\n",
      "Epoch 6/10\n",
      "1/1 [==============================] - 0s 12ms/step - loss: 2.5289 - accuracy: 0.2500\n",
      "Epoch 7/10\n",
      "1/1 [==============================] - 0s 9ms/step - loss: 2.5190 - accuracy: 0.2708\n",
      "Epoch 8/10\n",
      "1/1 [==============================] - 0s 9ms/step - loss: 2.5094 - accuracy: 0.2917\n",
      "Epoch 9/10\n",
      "1/1 [==============================] - 0s 10ms/step - loss: 2.5002 - accuracy: 0.3333\n",
      "Epoch 10/10\n",
      "1/1 [==============================] - 0s 3ms/step - loss: 2.4911 - accuracy: 0.3333\n"
     ]
    },
    {
     "name": "stderr",
     "output_type": "stream",
     "text": [
      "\r",
      " 10%|█         | 4/40 [00:33<05:02,  8.40s/it]"
     ]
    },
    {
     "name": "stdout",
     "output_type": "stream",
     "text": [
      "Epoch 1/10\n",
      "1/1 [==============================] - 0s 3ms/step - loss: 2.5214 - accuracy: 0.3036\n",
      "Epoch 2/10\n",
      "1/1 [==============================] - 0s 5ms/step - loss: 2.5137 - accuracy: 0.2857\n",
      "Epoch 3/10\n",
      "1/1 [==============================] - 0s 4ms/step - loss: 2.5062 - accuracy: 0.3036\n",
      "Epoch 4/10\n",
      "1/1 [==============================] - 0s 12ms/step - loss: 2.4987 - accuracy: 0.3036\n",
      "Epoch 5/10\n",
      "1/1 [==============================] - 0s 19ms/step - loss: 2.4911 - accuracy: 0.3036\n",
      "Epoch 6/10\n",
      "1/1 [==============================] - 0s 8ms/step - loss: 2.4834 - accuracy: 0.3036\n",
      "Epoch 7/10\n",
      "1/1 [==============================] - 0s 8ms/step - loss: 2.4758 - accuracy: 0.3393\n",
      "Epoch 8/10\n",
      "1/1 [==============================] - 0s 12ms/step - loss: 2.4680 - accuracy: 0.3393\n",
      "Epoch 9/10\n",
      "1/1 [==============================] - 0s 9ms/step - loss: 2.4602 - accuracy: 0.3393\n",
      "Epoch 10/10\n",
      "1/1 [==============================] - 0s 4ms/step - loss: 2.4522 - accuracy: 0.3393\n"
     ]
    },
    {
     "name": "stderr",
     "output_type": "stream",
     "text": [
      "\r",
      " 12%|█▎        | 5/40 [00:40<04:34,  7.85s/it]"
     ]
    },
    {
     "name": "stdout",
     "output_type": "stream",
     "text": [
      "Epoch 1/10\n",
      "1/1 [==============================] - 0s 3ms/step - loss: 2.4703 - accuracy: 0.3175\n",
      "Epoch 2/10\n",
      "1/1 [==============================] - 0s 4ms/step - loss: 2.4628 - accuracy: 0.3175\n",
      "Epoch 3/10\n",
      "1/1 [==============================] - 0s 5ms/step - loss: 2.4553 - accuracy: 0.3492\n",
      "Epoch 4/10\n",
      "1/1 [==============================] - 0s 12ms/step - loss: 2.4478 - accuracy: 0.3492\n",
      "Epoch 5/10\n",
      "1/1 [==============================] - 0s 9ms/step - loss: 2.4403 - accuracy: 0.3651\n",
      "Epoch 6/10\n",
      "1/1 [==============================] - 0s 4ms/step - loss: 2.4327 - accuracy: 0.3968\n",
      "Epoch 7/10\n",
      "1/1 [==============================] - 0s 15ms/step - loss: 2.4251 - accuracy: 0.4127\n",
      "Epoch 8/10\n",
      "1/1 [==============================] - 0s 10ms/step - loss: 2.4174 - accuracy: 0.4286\n",
      "Epoch 9/10\n",
      "1/1 [==============================] - 0s 4ms/step - loss: 2.4097 - accuracy: 0.4603\n",
      "Epoch 10/10\n",
      "1/1 [==============================] - 0s 2ms/step - loss: 2.4021 - accuracy: 0.4762\n"
     ]
    },
    {
     "name": "stderr",
     "output_type": "stream",
     "text": [
      "\r",
      " 15%|█▌        | 6/40 [00:45<03:58,  7.02s/it]"
     ]
    },
    {
     "name": "stdout",
     "output_type": "stream",
     "text": [
      "Epoch 1/10\n",
      "1/1 [==============================] - 0s 3ms/step - loss: 2.4634 - accuracy: 0.4459\n",
      "Epoch 2/10\n",
      "1/1 [==============================] - 0s 4ms/step - loss: 2.4567 - accuracy: 0.4595\n",
      "Epoch 3/10\n",
      "1/1 [==============================] - 0s 4ms/step - loss: 2.4498 - accuracy: 0.4459\n",
      "Epoch 4/10\n",
      "1/1 [==============================] - 0s 11ms/step - loss: 2.4428 - accuracy: 0.4324\n",
      "Epoch 5/10\n",
      "1/1 [==============================] - 0s 8ms/step - loss: 2.4356 - accuracy: 0.4324\n",
      "Epoch 6/10\n",
      "1/1 [==============================] - 0s 12ms/step - loss: 2.4284 - accuracy: 0.4189\n",
      "Epoch 7/10\n",
      "1/1 [==============================] - 0s 10ms/step - loss: 2.4212 - accuracy: 0.4189\n",
      "Epoch 8/10\n",
      "1/1 [==============================] - 0s 12ms/step - loss: 2.4139 - accuracy: 0.4054\n",
      "Epoch 9/10\n",
      "1/1 [==============================] - 0s 13ms/step - loss: 2.4068 - accuracy: 0.4189\n",
      "Epoch 10/10\n",
      "1/1 [==============================] - 0s 7ms/step - loss: 2.3998 - accuracy: 0.4189\n"
     ]
    },
    {
     "name": "stderr",
     "output_type": "stream",
     "text": [
      "\r",
      " 18%|█▊        | 7/40 [00:52<03:52,  7.05s/it]"
     ]
    },
    {
     "name": "stdout",
     "output_type": "stream",
     "text": [
      "Epoch 1/10\n",
      "1/1 [==============================] - 0s 3ms/step - loss: 2.4605 - accuracy: 0.3721\n",
      "Epoch 2/10\n",
      "1/1 [==============================] - 0s 2ms/step - loss: 2.4540 - accuracy: 0.3721\n",
      "Epoch 3/10\n",
      "1/1 [==============================] - 0s 3ms/step - loss: 2.4470 - accuracy: 0.3721\n",
      "Epoch 4/10\n",
      "1/1 [==============================] - 0s 4ms/step - loss: 2.4397 - accuracy: 0.3837\n",
      "Epoch 5/10\n",
      "1/1 [==============================] - 0s 7ms/step - loss: 2.4322 - accuracy: 0.3721\n",
      "Epoch 6/10\n",
      "1/1 [==============================] - 0s 3ms/step - loss: 2.4244 - accuracy: 0.3721\n",
      "Epoch 7/10\n",
      "1/1 [==============================] - 0s 15ms/step - loss: 2.4166 - accuracy: 0.3721\n",
      "Epoch 8/10\n",
      "1/1 [==============================] - 0s 7ms/step - loss: 2.4088 - accuracy: 0.3721\n",
      "Epoch 9/10\n",
      "1/1 [==============================] - 0s 4ms/step - loss: 2.4009 - accuracy: 0.3605\n",
      "Epoch 10/10\n",
      "1/1 [==============================] - 0s 10ms/step - loss: 2.3932 - accuracy: 0.3605\n"
     ]
    },
    {
     "name": "stderr",
     "output_type": "stream",
     "text": [
      "\r",
      " 20%|██        | 8/40 [01:01<04:09,  7.81s/it]"
     ]
    },
    {
     "name": "stdout",
     "output_type": "stream",
     "text": [
      "Epoch 1/10\n",
      "1/1 [==============================] - 0s 3ms/step - loss: 2.4229 - accuracy: 0.3232\n",
      "Epoch 2/10\n",
      "1/1 [==============================] - 0s 4ms/step - loss: 2.4163 - accuracy: 0.3434\n",
      "Epoch 3/10\n",
      "1/1 [==============================] - 0s 12ms/step - loss: 2.4096 - accuracy: 0.3434\n",
      "Epoch 4/10\n",
      "1/1 [==============================] - 0s 18ms/step - loss: 2.4028 - accuracy: 0.3535\n",
      "Epoch 5/10\n",
      "1/1 [==============================] - 0s 13ms/step - loss: 2.3959 - accuracy: 0.3535\n",
      "Epoch 6/10\n",
      "1/1 [==============================] - 0s 29ms/step - loss: 2.3891 - accuracy: 0.3636\n",
      "Epoch 7/10\n",
      "1/1 [==============================] - 0s 9ms/step - loss: 2.3823 - accuracy: 0.3838\n",
      "Epoch 8/10\n",
      "1/1 [==============================] - 0s 13ms/step - loss: 2.3756 - accuracy: 0.4040\n",
      "Epoch 9/10\n",
      "1/1 [==============================] - 0s 4ms/step - loss: 2.3689 - accuracy: 0.4141\n",
      "Epoch 10/10\n",
      "1/1 [==============================] - 0s 3ms/step - loss: 2.3623 - accuracy: 0.4141\n"
     ]
    },
    {
     "name": "stderr",
     "output_type": "stream",
     "text": [
      "\r",
      " 22%|██▎       | 9/40 [01:11<04:18,  8.33s/it]"
     ]
    },
    {
     "name": "stdout",
     "output_type": "stream",
     "text": [
      "Epoch 1/10\n",
      "1/1 [==============================] - 0s 4ms/step - loss: 2.3945 - accuracy: 0.4000\n",
      "Epoch 2/10\n",
      "1/1 [==============================] - 0s 5ms/step - loss: 2.3886 - accuracy: 0.3909\n",
      "Epoch 3/10\n",
      "1/1 [==============================] - 0s 11ms/step - loss: 2.3825 - accuracy: 0.3909\n",
      "Epoch 4/10\n",
      "1/1 [==============================] - 0s 10ms/step - loss: 2.3763 - accuracy: 0.3909\n",
      "Epoch 5/10\n",
      "1/1 [==============================] - 0s 11ms/step - loss: 2.3699 - accuracy: 0.3909\n",
      "Epoch 6/10\n",
      "1/1 [==============================] - 0s 9ms/step - loss: 2.3634 - accuracy: 0.4000\n",
      "Epoch 7/10\n",
      "1/1 [==============================] - 0s 5ms/step - loss: 2.3569 - accuracy: 0.4000\n",
      "Epoch 8/10\n",
      "1/1 [==============================] - 0s 10ms/step - loss: 2.3502 - accuracy: 0.4000\n",
      "Epoch 9/10\n",
      "1/1 [==============================] - 0s 4ms/step - loss: 2.3436 - accuracy: 0.4000\n",
      "Epoch 10/10\n",
      "1/1 [==============================] - 0s 7ms/step - loss: 2.3370 - accuracy: 0.4091\n"
     ]
    },
    {
     "name": "stderr",
     "output_type": "stream",
     "text": [
      "\r",
      " 25%|██▌       | 10/40 [01:17<03:51,  7.73s/it]"
     ]
    },
    {
     "name": "stdout",
     "output_type": "stream",
     "text": [
      "Epoch 1/10\n",
      "1/1 [==============================] - 0s 4ms/step - loss: 2.3697 - accuracy: 0.3871\n",
      "Epoch 2/10\n",
      "1/1 [==============================] - 0s 3ms/step - loss: 2.3634 - accuracy: 0.3952\n",
      "Epoch 3/10\n",
      "1/1 [==============================] - 0s 3ms/step - loss: 2.3569 - accuracy: 0.4032\n",
      "Epoch 4/10\n",
      "1/1 [==============================] - 0s 7ms/step - loss: 2.3501 - accuracy: 0.4113\n",
      "Epoch 5/10\n",
      "1/1 [==============================] - 0s 7ms/step - loss: 2.3434 - accuracy: 0.4032\n",
      "Epoch 6/10\n",
      "1/1 [==============================] - 0s 9ms/step - loss: 2.3366 - accuracy: 0.4032\n",
      "Epoch 7/10\n",
      "1/1 [==============================] - 0s 10ms/step - loss: 2.3299 - accuracy: 0.4113\n",
      "Epoch 8/10\n",
      "1/1 [==============================] - 0s 11ms/step - loss: 2.3234 - accuracy: 0.4113\n",
      "Epoch 9/10\n",
      "1/1 [==============================] - 0s 9ms/step - loss: 2.3170 - accuracy: 0.4274\n",
      "Epoch 10/10\n",
      "1/1 [==============================] - 0s 6ms/step - loss: 2.3107 - accuracy: 0.4274\n"
     ]
    },
    {
     "name": "stderr",
     "output_type": "stream",
     "text": [
      "\r",
      " 28%|██▊       | 11/40 [01:32<04:47,  9.92s/it]"
     ]
    },
    {
     "name": "stdout",
     "output_type": "stream",
     "text": [
      "Epoch 1/10\n",
      "2/2 [==============================] - 0s 2ms/step - loss: 2.3509 - accuracy: 0.3869\n",
      "Epoch 2/10\n",
      "2/2 [==============================] - 0s 3ms/step - loss: 2.3401 - accuracy: 0.4015\n",
      "Epoch 3/10\n",
      "2/2 [==============================] - 0s 3ms/step - loss: 2.3305 - accuracy: 0.4161\n",
      "Epoch 4/10\n",
      "2/2 [==============================] - 0s 3ms/step - loss: 2.3223 - accuracy: 0.4234\n",
      "Epoch 5/10\n",
      "2/2 [==============================] - 0s 3ms/step - loss: 2.3152 - accuracy: 0.4380\n",
      "Epoch 6/10\n",
      "2/2 [==============================] - 0s 2ms/step - loss: 2.3088 - accuracy: 0.4453\n",
      "Epoch 7/10\n",
      "2/2 [==============================] - 0s 3ms/step - loss: 2.3018 - accuracy: 0.4453\n",
      "Epoch 8/10\n",
      "2/2 [==============================] - 0s 3ms/step - loss: 2.2947 - accuracy: 0.4234\n",
      "Epoch 9/10\n",
      "2/2 [==============================] - 0s 7ms/step - loss: 2.2897 - accuracy: 0.4234\n",
      "Epoch 10/10\n",
      "2/2 [==============================] - 0s 4ms/step - loss: 2.2849 - accuracy: 0.4161\n"
     ]
    },
    {
     "name": "stderr",
     "output_type": "stream",
     "text": [
      "\r",
      " 30%|███       | 12/40 [01:43<04:48, 10.32s/it]"
     ]
    },
    {
     "name": "stdout",
     "output_type": "stream",
     "text": [
      "Epoch 1/10\n",
      "2/2 [==============================] - 0s 2ms/step - loss: 2.3192 - accuracy: 0.3716\n",
      "Epoch 2/10\n",
      "2/2 [==============================] - 0s 3ms/step - loss: 2.3137 - accuracy: 0.4054\n",
      "Epoch 3/10\n",
      "2/2 [==============================] - 0s 3ms/step - loss: 2.3056 - accuracy: 0.4189\n",
      "Epoch 4/10\n",
      "2/2 [==============================] - 0s 2ms/step - loss: 2.2977 - accuracy: 0.4257\n",
      "Epoch 5/10\n",
      "2/2 [==============================] - 0s 2ms/step - loss: 2.2903 - accuracy: 0.4257\n",
      "Epoch 6/10\n",
      "2/2 [==============================] - 0s 3ms/step - loss: 2.2832 - accuracy: 0.4257\n",
      "Epoch 7/10\n",
      "2/2 [==============================] - 0s 2ms/step - loss: 2.2764 - accuracy: 0.4189\n",
      "Epoch 8/10\n",
      "2/2 [==============================] - 0s 2ms/step - loss: 2.2702 - accuracy: 0.4257\n",
      "Epoch 9/10\n",
      "2/2 [==============================] - 0s 2ms/step - loss: 2.2643 - accuracy: 0.4257\n",
      "Epoch 10/10\n",
      "2/2 [==============================] - 0s 3ms/step - loss: 2.2583 - accuracy: 0.4324\n"
     ]
    },
    {
     "name": "stderr",
     "output_type": "stream",
     "text": [
      "\r",
      " 32%|███▎      | 13/40 [01:51<04:15,  9.45s/it]"
     ]
    },
    {
     "name": "stdout",
     "output_type": "stream",
     "text": [
      "Epoch 1/10\n",
      "2/2 [==============================] - 0s 2ms/step - loss: 2.2774 - accuracy: 0.4329\n",
      "Epoch 2/10\n",
      "2/2 [==============================] - 0s 3ms/step - loss: 2.2723 - accuracy: 0.4268\n",
      "Epoch 3/10\n",
      "2/2 [==============================] - 0s 2ms/step - loss: 2.2660 - accuracy: 0.4329\n",
      "Epoch 4/10\n",
      "2/2 [==============================] - 0s 3ms/step - loss: 2.2588 - accuracy: 0.4268\n",
      "Epoch 5/10\n",
      "2/2 [==============================] - 0s 3ms/step - loss: 2.2508 - accuracy: 0.4268\n",
      "Epoch 6/10\n",
      "2/2 [==============================] - 0s 3ms/step - loss: 2.2432 - accuracy: 0.4146\n",
      "Epoch 7/10\n",
      "2/2 [==============================] - 0s 5ms/step - loss: 2.2363 - accuracy: 0.4268\n",
      "Epoch 8/10\n",
      "2/2 [==============================] - 0s 7ms/step - loss: 2.2301 - accuracy: 0.4451\n",
      "Epoch 9/10\n",
      "2/2 [==============================] - 0s 4ms/step - loss: 2.2243 - accuracy: 0.4390\n",
      "Epoch 10/10\n",
      "2/2 [==============================] - 0s 4ms/step - loss: 2.2181 - accuracy: 0.4390\n"
     ]
    },
    {
     "name": "stderr",
     "output_type": "stream",
     "text": [
      "\r",
      " 35%|███▌      | 14/40 [01:59<03:55,  9.06s/it]"
     ]
    },
    {
     "name": "stdout",
     "output_type": "stream",
     "text": [
      "Epoch 1/10\n",
      "2/2 [==============================] - 0s 3ms/step - loss: 2.2457 - accuracy: 0.4229\n",
      "Epoch 2/10\n",
      "2/2 [==============================] - 0s 3ms/step - loss: 2.2392 - accuracy: 0.4229\n",
      "Epoch 3/10\n",
      "2/2 [==============================] - 0s 2ms/step - loss: 2.2332 - accuracy: 0.4171\n",
      "Epoch 4/10\n",
      "2/2 [==============================] - 0s 3ms/step - loss: 2.2274 - accuracy: 0.4286\n",
      "Epoch 5/10\n",
      "2/2 [==============================] - 0s 3ms/step - loss: 2.2211 - accuracy: 0.4286\n",
      "Epoch 6/10\n",
      "2/2 [==============================] - 0s 3ms/step - loss: 2.2155 - accuracy: 0.4400\n",
      "Epoch 7/10\n",
      "2/2 [==============================] - 0s 3ms/step - loss: 2.2100 - accuracy: 0.4343\n",
      "Epoch 8/10\n",
      "2/2 [==============================] - 0s 3ms/step - loss: 2.2045 - accuracy: 0.4457\n",
      "Epoch 9/10\n",
      "2/2 [==============================] - 0s 2ms/step - loss: 2.1997 - accuracy: 0.4457\n",
      "Epoch 10/10\n",
      "2/2 [==============================] - 0s 3ms/step - loss: 2.1947 - accuracy: 0.4629\n"
     ]
    },
    {
     "name": "stderr",
     "output_type": "stream",
     "text": [
      "\r",
      " 38%|███▊      | 15/40 [02:07<03:35,  8.61s/it]"
     ]
    },
    {
     "name": "stdout",
     "output_type": "stream",
     "text": [
      "Epoch 1/10\n",
      "2/2 [==============================] - 0s 3ms/step - loss: 2.2147 - accuracy: 0.4481\n",
      "Epoch 2/10\n",
      "2/2 [==============================] - 0s 4ms/step - loss: 2.2098 - accuracy: 0.4426\n",
      "Epoch 3/10\n",
      "2/2 [==============================] - 0s 3ms/step - loss: 2.2045 - accuracy: 0.4426\n",
      "Epoch 4/10\n",
      "2/2 [==============================] - 0s 6ms/step - loss: 2.2001 - accuracy: 0.4372\n",
      "Epoch 5/10\n",
      "2/2 [==============================] - 0s 3ms/step - loss: 2.1957 - accuracy: 0.4426\n",
      "Epoch 6/10\n",
      "2/2 [==============================] - 0s 3ms/step - loss: 2.1912 - accuracy: 0.4536\n",
      "Epoch 7/10\n",
      "2/2 [==============================] - 0s 7ms/step - loss: 2.1865 - accuracy: 0.4481\n",
      "Epoch 8/10\n",
      "2/2 [==============================] - 0s 3ms/step - loss: 2.1818 - accuracy: 0.4426\n",
      "Epoch 9/10\n",
      "2/2 [==============================] - 0s 2ms/step - loss: 2.1778 - accuracy: 0.4262\n",
      "Epoch 10/10\n",
      "2/2 [==============================] - 0s 5ms/step - loss: 2.1738 - accuracy: 0.4208\n"
     ]
    },
    {
     "name": "stderr",
     "output_type": "stream",
     "text": [
      "\r",
      " 40%|████      | 16/40 [02:13<03:13,  8.08s/it]"
     ]
    },
    {
     "name": "stdout",
     "output_type": "stream",
     "text": [
      "Epoch 1/10\n",
      "2/2 [==============================] - 0s 3ms/step - loss: 2.1959 - accuracy: 0.4235\n",
      "Epoch 2/10\n",
      "2/2 [==============================] - 0s 2ms/step - loss: 2.1911 - accuracy: 0.4235\n",
      "Epoch 3/10\n",
      "2/2 [==============================] - 0s 3ms/step - loss: 2.1864 - accuracy: 0.4337\n",
      "Epoch 4/10\n",
      "2/2 [==============================] - 0s 2ms/step - loss: 2.1813 - accuracy: 0.4286\n",
      "Epoch 5/10\n",
      "2/2 [==============================] - 0s 3ms/step - loss: 2.1766 - accuracy: 0.4235\n",
      "Epoch 6/10\n",
      "2/2 [==============================] - 0s 2ms/step - loss: 2.1717 - accuracy: 0.4286\n",
      "Epoch 7/10\n",
      "2/2 [==============================] - 0s 3ms/step - loss: 2.1669 - accuracy: 0.4388\n",
      "Epoch 8/10\n",
      "2/2 [==============================] - 0s 5ms/step - loss: 2.1626 - accuracy: 0.4439\n",
      "Epoch 9/10\n",
      "2/2 [==============================] - 0s 3ms/step - loss: 2.1580 - accuracy: 0.4541\n",
      "Epoch 10/10\n",
      "2/2 [==============================] - 0s 3ms/step - loss: 2.1536 - accuracy: 0.4745\n"
     ]
    },
    {
     "name": "stderr",
     "output_type": "stream",
     "text": [
      "\r",
      " 42%|████▎     | 17/40 [02:23<03:17,  8.58s/it]"
     ]
    },
    {
     "name": "stdout",
     "output_type": "stream",
     "text": [
      "Epoch 1/10\n",
      "2/2 [==============================] - 0s 3ms/step - loss: 2.1844 - accuracy: 0.4589\n",
      "Epoch 2/10\n",
      "2/2 [==============================] - 0s 3ms/step - loss: 2.1792 - accuracy: 0.4541\n",
      "Epoch 3/10\n",
      "2/2 [==============================] - 0s 3ms/step - loss: 2.1748 - accuracy: 0.4493\n",
      "Epoch 4/10\n",
      "2/2 [==============================] - 0s 3ms/step - loss: 2.1706 - accuracy: 0.4493\n",
      "Epoch 5/10\n",
      "2/2 [==============================] - 0s 2ms/step - loss: 2.1664 - accuracy: 0.4541\n",
      "Epoch 6/10\n",
      "2/2 [==============================] - 0s 3ms/step - loss: 2.1625 - accuracy: 0.4541\n",
      "Epoch 7/10\n",
      "2/2 [==============================] - 0s 4ms/step - loss: 2.1583 - accuracy: 0.4493\n",
      "Epoch 8/10\n",
      "2/2 [==============================] - 0s 3ms/step - loss: 2.1542 - accuracy: 0.4493\n",
      "Epoch 9/10\n",
      "2/2 [==============================] - 0s 3ms/step - loss: 2.1506 - accuracy: 0.4589\n",
      "Epoch 10/10\n",
      "2/2 [==============================] - 0s 3ms/step - loss: 2.1466 - accuracy: 0.4686\n"
     ]
    },
    {
     "name": "stderr",
     "output_type": "stream",
     "text": [
      "\r",
      " 45%|████▌     | 18/40 [02:30<02:59,  8.14s/it]"
     ]
    },
    {
     "name": "stdout",
     "output_type": "stream",
     "text": [
      "Epoch 1/10\n",
      "2/2 [==============================] - 0s 4ms/step - loss: 2.1699 - accuracy: 0.4358\n",
      "Epoch 2/10\n",
      "2/2 [==============================] - 0s 4ms/step - loss: 2.1662 - accuracy: 0.4541\n",
      "Epoch 3/10\n",
      "2/2 [==============================] - 0s 4ms/step - loss: 2.1622 - accuracy: 0.4679\n",
      "Epoch 4/10\n",
      "2/2 [==============================] - 0s 3ms/step - loss: 2.1579 - accuracy: 0.4633\n",
      "Epoch 5/10\n",
      "2/2 [==============================] - 0s 4ms/step - loss: 2.1537 - accuracy: 0.4633\n",
      "Epoch 6/10\n",
      "2/2 [==============================] - 0s 4ms/step - loss: 2.1501 - accuracy: 0.4633\n",
      "Epoch 7/10\n",
      "2/2 [==============================] - 0s 3ms/step - loss: 2.1463 - accuracy: 0.4633\n",
      "Epoch 8/10\n",
      "2/2 [==============================] - 0s 4ms/step - loss: 2.1424 - accuracy: 0.4633\n",
      "Epoch 9/10\n",
      "2/2 [==============================] - 0s 3ms/step - loss: 2.1385 - accuracy: 0.4541\n",
      "Epoch 10/10\n",
      "2/2 [==============================] - 0s 4ms/step - loss: 2.1350 - accuracy: 0.4633\n"
     ]
    },
    {
     "name": "stderr",
     "output_type": "stream",
     "text": [
      "\r",
      " 48%|████▊     | 19/40 [02:38<02:46,  7.92s/it]"
     ]
    },
    {
     "name": "stdout",
     "output_type": "stream",
     "text": [
      "Epoch 1/10\n",
      "2/2 [==============================] - 0s 6ms/step - loss: 2.1652 - accuracy: 0.4391\n",
      "Epoch 2/10\n",
      "2/2 [==============================] - 0s 4ms/step - loss: 2.1614 - accuracy: 0.4435\n",
      "Epoch 3/10\n",
      "2/2 [==============================] - 0s 4ms/step - loss: 2.1571 - accuracy: 0.4478\n",
      "Epoch 4/10\n",
      "2/2 [==============================] - 0s 3ms/step - loss: 2.1529 - accuracy: 0.4478\n",
      "Epoch 5/10\n",
      "2/2 [==============================] - 0s 4ms/step - loss: 2.1490 - accuracy: 0.4478\n",
      "Epoch 6/10\n",
      "2/2 [==============================] - 0s 3ms/step - loss: 2.1456 - accuracy: 0.4478\n",
      "Epoch 7/10\n",
      "2/2 [==============================] - 0s 4ms/step - loss: 2.1416 - accuracy: 0.4478\n",
      "Epoch 8/10\n",
      "2/2 [==============================] - 0s 3ms/step - loss: 2.1379 - accuracy: 0.4478\n",
      "Epoch 9/10\n",
      "2/2 [==============================] - 0s 4ms/step - loss: 2.1342 - accuracy: 0.4478\n",
      "Epoch 10/10\n",
      "2/2 [==============================] - 0s 3ms/step - loss: 2.1310 - accuracy: 0.4435\n"
     ]
    },
    {
     "name": "stderr",
     "output_type": "stream",
     "text": [
      "\r",
      " 50%|█████     | 20/40 [02:47<02:44,  8.25s/it]"
     ]
    },
    {
     "name": "stdout",
     "output_type": "stream",
     "text": [
      "Epoch 1/10\n",
      "2/2 [==============================] - 0s 3ms/step - loss: 2.1507 - accuracy: 0.4398\n",
      "Epoch 2/10\n",
      "2/2 [==============================] - 0s 5ms/step - loss: 2.1473 - accuracy: 0.4440\n",
      "Epoch 3/10\n",
      "2/2 [==============================] - 0s 3ms/step - loss: 2.1439 - accuracy: 0.4606\n",
      "Epoch 4/10\n",
      "2/2 [==============================] - 0s 3ms/step - loss: 2.1403 - accuracy: 0.4647\n",
      "Epoch 5/10\n",
      "2/2 [==============================] - 0s 5ms/step - loss: 2.1369 - accuracy: 0.4730\n",
      "Epoch 6/10\n",
      "2/2 [==============================] - 0s 7ms/step - loss: 2.1337 - accuracy: 0.4855\n",
      "Epoch 7/10\n",
      "2/2 [==============================] - 0s 3ms/step - loss: 2.1304 - accuracy: 0.4855\n",
      "Epoch 8/10\n",
      "2/2 [==============================] - 0s 5ms/step - loss: 2.1271 - accuracy: 0.4855\n",
      "Epoch 9/10\n",
      "2/2 [==============================] - 0s 3ms/step - loss: 2.1239 - accuracy: 0.4938\n",
      "Epoch 10/10\n",
      "2/2 [==============================] - 0s 3ms/step - loss: 2.1209 - accuracy: 0.5021\n"
     ]
    },
    {
     "name": "stderr",
     "output_type": "stream",
     "text": [
      "\r",
      " 52%|█████▎    | 21/40 [02:56<02:42,  8.56s/it]"
     ]
    },
    {
     "name": "stdout",
     "output_type": "stream",
     "text": [
      "Epoch 1/10\n",
      "2/2 [==============================] - 0s 4ms/step - loss: 2.1314 - accuracy: 0.4941\n",
      "Epoch 2/10\n",
      "2/2 [==============================] - 0s 3ms/step - loss: 2.1277 - accuracy: 0.4902\n",
      "Epoch 3/10\n",
      "2/2 [==============================] - 0s 3ms/step - loss: 2.1235 - accuracy: 0.4863\n",
      "Epoch 4/10\n",
      "2/2 [==============================] - 0s 2ms/step - loss: 2.1201 - accuracy: 0.4863\n",
      "Epoch 5/10\n",
      "2/2 [==============================] - 0s 3ms/step - loss: 2.1164 - accuracy: 0.4902\n",
      "Epoch 6/10\n",
      "2/2 [==============================] - 0s 2ms/step - loss: 2.1128 - accuracy: 0.5059\n",
      "Epoch 7/10\n",
      "2/2 [==============================] - 0s 3ms/step - loss: 2.1090 - accuracy: 0.5059\n",
      "Epoch 8/10\n",
      "2/2 [==============================] - 0s 3ms/step - loss: 2.1055 - accuracy: 0.5020\n",
      "Epoch 9/10\n",
      "2/2 [==============================] - 0s 3ms/step - loss: 2.1024 - accuracy: 0.5137\n",
      "Epoch 10/10\n",
      "2/2 [==============================] - 0s 3ms/step - loss: 2.0993 - accuracy: 0.5059\n"
     ]
    },
    {
     "name": "stderr",
     "output_type": "stream",
     "text": [
      "\r",
      " 55%|█████▌    | 22/40 [03:04<02:32,  8.49s/it]"
     ]
    },
    {
     "name": "stdout",
     "output_type": "stream",
     "text": [
      "Epoch 1/10\n",
      "3/3 [==============================] - 0s 3ms/step - loss: 2.1123 - accuracy: 0.4791\n",
      "Epoch 2/10\n",
      "3/3 [==============================] - 0s 4ms/step - loss: 2.1086 - accuracy: 0.4753\n",
      "Epoch 3/10\n",
      "3/3 [==============================] - 0s 3ms/step - loss: 2.1066 - accuracy: 0.4791\n",
      "Epoch 4/10\n",
      "3/3 [==============================] - 0s 5ms/step - loss: 2.1066 - accuracy: 0.4753\n",
      "Epoch 5/10\n",
      "3/3 [==============================] - 0s 6ms/step - loss: 2.1032 - accuracy: 0.4867\n",
      "Epoch 6/10\n",
      "3/3 [==============================] - 0s 5ms/step - loss: 2.0995 - accuracy: 0.5019\n",
      "Epoch 7/10\n",
      "3/3 [==============================] - 0s 4ms/step - loss: 2.0964 - accuracy: 0.5019\n",
      "Epoch 8/10\n",
      "3/3 [==============================] - 0s 3ms/step - loss: 2.0926 - accuracy: 0.4867\n",
      "Epoch 9/10\n",
      "3/3 [==============================] - 0s 2ms/step - loss: 2.0940 - accuracy: 0.5247\n",
      "Epoch 10/10\n",
      "3/3 [==============================] - 0s 2ms/step - loss: 2.0918 - accuracy: 0.5285\n"
     ]
    },
    {
     "name": "stderr",
     "output_type": "stream",
     "text": [
      "\r",
      " 57%|█████▊    | 23/40 [03:10<02:11,  7.75s/it]"
     ]
    },
    {
     "name": "stdout",
     "output_type": "stream",
     "text": [
      "Epoch 1/10\n",
      "3/3 [==============================] - 0s 3ms/step - loss: 2.1033 - accuracy: 0.5181\n",
      "Epoch 2/10\n",
      "3/3 [==============================] - 0s 2ms/step - loss: 2.0993 - accuracy: 0.4928\n",
      "Epoch 3/10\n",
      "3/3 [==============================] - 0s 3ms/step - loss: 2.0959 - accuracy: 0.4819\n",
      "Epoch 4/10\n",
      "3/3 [==============================] - 0s 3ms/step - loss: 2.0915 - accuracy: 0.5072\n",
      "Epoch 5/10\n",
      "3/3 [==============================] - 0s 3ms/step - loss: 2.0859 - accuracy: 0.5109\n",
      "Epoch 6/10\n",
      "3/3 [==============================] - 0s 3ms/step - loss: 2.0822 - accuracy: 0.5145\n",
      "Epoch 7/10\n",
      "3/3 [==============================] - 0s 3ms/step - loss: 2.0796 - accuracy: 0.5145\n",
      "Epoch 8/10\n",
      "3/3 [==============================] - 0s 2ms/step - loss: 2.0775 - accuracy: 0.5072\n",
      "Epoch 9/10\n",
      "3/3 [==============================] - 0s 3ms/step - loss: 2.0734 - accuracy: 0.5072\n",
      "Epoch 10/10\n",
      "3/3 [==============================] - 0s 3ms/step - loss: 2.0710 - accuracy: 0.5109\n"
     ]
    },
    {
     "name": "stderr",
     "output_type": "stream",
     "text": [
      "\r",
      " 60%|██████    | 24/40 [03:21<02:19,  8.71s/it]"
     ]
    },
    {
     "name": "stdout",
     "output_type": "stream",
     "text": [
      "Epoch 1/10\n",
      "3/3 [==============================] - 0s 3ms/step - loss: 2.0940 - accuracy: 0.4948\n",
      "Epoch 2/10\n",
      "3/3 [==============================] - 0s 4ms/step - loss: 2.0900 - accuracy: 0.5052\n",
      "Epoch 3/10\n",
      "3/3 [==============================] - 0s 4ms/step - loss: 2.0863 - accuracy: 0.4913\n",
      "Epoch 4/10\n",
      "3/3 [==============================] - 0s 2ms/step - loss: 2.0815 - accuracy: 0.4913\n",
      "Epoch 5/10\n",
      "3/3 [==============================] - 0s 3ms/step - loss: 2.0776 - accuracy: 0.4983\n",
      "Epoch 6/10\n",
      "3/3 [==============================] - 0s 3ms/step - loss: 2.0747 - accuracy: 0.5017\n",
      "Epoch 7/10\n",
      "3/3 [==============================] - 0s 4ms/step - loss: 2.0706 - accuracy: 0.4948\n",
      "Epoch 8/10\n",
      "3/3 [==============================] - 0s 3ms/step - loss: 2.0678 - accuracy: 0.5087\n",
      "Epoch 9/10\n",
      "3/3 [==============================] - 0s 5ms/step - loss: 2.0657 - accuracy: 0.5121\n",
      "Epoch 10/10\n",
      "3/3 [==============================] - 0s 3ms/step - loss: 2.0619 - accuracy: 0.5260\n"
     ]
    },
    {
     "name": "stderr",
     "output_type": "stream",
     "text": [
      "\r",
      " 62%|██████▎   | 25/40 [03:38<02:46, 11.12s/it]"
     ]
    },
    {
     "name": "stdout",
     "output_type": "stream",
     "text": [
      "Epoch 1/10\n",
      "3/3 [==============================] - 0s 3ms/step - loss: 2.0792 - accuracy: 0.5050\n",
      "Epoch 2/10\n",
      "3/3 [==============================] - 0s 3ms/step - loss: 2.0772 - accuracy: 0.4916\n",
      "Epoch 3/10\n",
      "3/3 [==============================] - 0s 3ms/step - loss: 2.0734 - accuracy: 0.5084\n",
      "Epoch 4/10\n",
      "3/3 [==============================] - 0s 4ms/step - loss: 2.0701 - accuracy: 0.5084\n",
      "Epoch 5/10\n",
      "3/3 [==============================] - 0s 3ms/step - loss: 2.0670 - accuracy: 0.5117\n",
      "Epoch 6/10\n",
      "3/3 [==============================] - 0s 2ms/step - loss: 2.0641 - accuracy: 0.5151\n",
      "Epoch 7/10\n",
      "3/3 [==============================] - 0s 3ms/step - loss: 2.0607 - accuracy: 0.5251\n",
      "Epoch 8/10\n",
      "3/3 [==============================] - 0s 3ms/step - loss: 2.0586 - accuracy: 0.5217\n",
      "Epoch 9/10\n",
      "3/3 [==============================] - 0s 3ms/step - loss: 2.0555 - accuracy: 0.5251\n",
      "Epoch 10/10\n",
      "3/3 [==============================] - 0s 3ms/step - loss: 2.0537 - accuracy: 0.5284\n"
     ]
    },
    {
     "name": "stderr",
     "output_type": "stream",
     "text": [
      "\r",
      " 65%|██████▌   | 26/40 [03:46<02:21, 10.11s/it]"
     ]
    },
    {
     "name": "stdout",
     "output_type": "stream",
     "text": [
      "Epoch 1/10\n",
      "3/3 [==============================] - 0s 3ms/step - loss: 2.0731 - accuracy: 0.5113\n",
      "Epoch 2/10\n",
      "3/3 [==============================] - 0s 3ms/step - loss: 2.0686 - accuracy: 0.5080\n",
      "Epoch 3/10\n",
      "3/3 [==============================] - 0s 2ms/step - loss: 2.0665 - accuracy: 0.4920\n",
      "Epoch 4/10\n",
      "3/3 [==============================] - 0s 3ms/step - loss: 2.0628 - accuracy: 0.4984\n",
      "Epoch 5/10\n",
      "3/3 [==============================] - 0s 3ms/step - loss: 2.0591 - accuracy: 0.5080\n",
      "Epoch 6/10\n",
      "3/3 [==============================] - 0s 2ms/step - loss: 2.0569 - accuracy: 0.4984\n",
      "Epoch 7/10\n",
      "3/3 [==============================] - 0s 3ms/step - loss: 2.0540 - accuracy: 0.5113\n",
      "Epoch 8/10\n",
      "3/3 [==============================] - 0s 3ms/step - loss: 2.0519 - accuracy: 0.4920\n",
      "Epoch 9/10\n",
      "3/3 [==============================] - 0s 2ms/step - loss: 2.0488 - accuracy: 0.4984\n",
      "Epoch 10/10\n",
      "3/3 [==============================] - 0s 3ms/step - loss: 2.0459 - accuracy: 0.5113\n"
     ]
    },
    {
     "name": "stderr",
     "output_type": "stream",
     "text": [
      "\r",
      " 68%|██████▊   | 27/40 [03:59<02:22, 10.97s/it]"
     ]
    },
    {
     "name": "stdout",
     "output_type": "stream",
     "text": [
      "Epoch 1/10\n",
      "3/3 [==============================] - 0s 3ms/step - loss: 2.0634 - accuracy: 0.5062\n",
      "Epoch 2/10\n",
      "3/3 [==============================] - 0s 3ms/step - loss: 2.0608 - accuracy: 0.5031\n",
      "Epoch 3/10\n",
      "3/3 [==============================] - 0s 3ms/step - loss: 2.0585 - accuracy: 0.5031\n",
      "Epoch 4/10\n",
      "3/3 [==============================] - 0s 3ms/step - loss: 2.0555 - accuracy: 0.4938\n",
      "Epoch 5/10\n",
      "3/3 [==============================] - 0s 3ms/step - loss: 2.0531 - accuracy: 0.4969\n",
      "Epoch 6/10\n",
      "3/3 [==============================] - 0s 2ms/step - loss: 2.0502 - accuracy: 0.5000\n",
      "Epoch 7/10\n",
      "3/3 [==============================] - 0s 3ms/step - loss: 2.0477 - accuracy: 0.5093\n",
      "Epoch 8/10\n",
      "3/3 [==============================] - 0s 3ms/step - loss: 2.0455 - accuracy: 0.5062\n",
      "Epoch 9/10\n",
      "3/3 [==============================] - 0s 3ms/step - loss: 2.0431 - accuracy: 0.5062\n",
      "Epoch 10/10\n",
      "3/3 [==============================] - 0s 2ms/step - loss: 2.0406 - accuracy: 0.5155\n"
     ]
    },
    {
     "name": "stderr",
     "output_type": "stream",
     "text": [
      "\r",
      " 70%|███████   | 28/40 [04:08<02:05, 10.45s/it]"
     ]
    },
    {
     "name": "stdout",
     "output_type": "stream",
     "text": [
      "Epoch 1/10\n",
      "3/3 [==============================] - 0s 2ms/step - loss: 2.0541 - accuracy: 0.5106\n",
      "Epoch 2/10\n",
      "3/3 [==============================] - 0s 2ms/step - loss: 2.0520 - accuracy: 0.5045\n",
      "Epoch 3/10\n",
      "3/3 [==============================] - 0s 2ms/step - loss: 2.0499 - accuracy: 0.5106\n",
      "Epoch 4/10\n",
      "3/3 [==============================] - 0s 2ms/step - loss: 2.0478 - accuracy: 0.5136\n",
      "Epoch 5/10\n",
      "3/3 [==============================] - 0s 2ms/step - loss: 2.0452 - accuracy: 0.5227\n",
      "Epoch 6/10\n",
      "3/3 [==============================] - 0s 3ms/step - loss: 2.0432 - accuracy: 0.5257\n",
      "Epoch 7/10\n",
      "3/3 [==============================] - 0s 2ms/step - loss: 2.0412 - accuracy: 0.5166\n",
      "Epoch 8/10\n",
      "3/3 [==============================] - 0s 2ms/step - loss: 2.0394 - accuracy: 0.5196\n",
      "Epoch 9/10\n",
      "3/3 [==============================] - 0s 3ms/step - loss: 2.0368 - accuracy: 0.5076\n",
      "Epoch 10/10\n",
      "3/3 [==============================] - 0s 2ms/step - loss: 2.0354 - accuracy: 0.5227\n"
     ]
    },
    {
     "name": "stderr",
     "output_type": "stream",
     "text": [
      "\r",
      " 72%|███████▎  | 29/40 [04:14<01:41,  9.24s/it]"
     ]
    },
    {
     "name": "stdout",
     "output_type": "stream",
     "text": [
      "Epoch 1/10\n",
      "3/3 [==============================] - 0s 4ms/step - loss: 2.0587 - accuracy: 0.5117\n",
      "Epoch 2/10\n",
      "3/3 [==============================] - 0s 3ms/step - loss: 2.0558 - accuracy: 0.5146\n",
      "Epoch 3/10\n",
      "3/3 [==============================] - 0s 3ms/step - loss: 2.0525 - accuracy: 0.5000\n",
      "Epoch 4/10\n",
      "3/3 [==============================] - 0s 2ms/step - loss: 2.0493 - accuracy: 0.5058\n",
      "Epoch 5/10\n",
      "3/3 [==============================] - 0s 3ms/step - loss: 2.0460 - accuracy: 0.5205\n",
      "Epoch 6/10\n",
      "3/3 [==============================] - 0s 5ms/step - loss: 2.0429 - accuracy: 0.5088\n",
      "Epoch 7/10\n",
      "3/3 [==============================] - 0s 2ms/step - loss: 2.0410 - accuracy: 0.4912\n",
      "Epoch 8/10\n",
      "3/3 [==============================] - 0s 3ms/step - loss: 2.0383 - accuracy: 0.4942\n",
      "Epoch 9/10\n",
      "3/3 [==============================] - 0s 3ms/step - loss: 2.0361 - accuracy: 0.5029\n",
      "Epoch 10/10\n",
      "3/3 [==============================] - 0s 23ms/step - loss: 2.0338 - accuracy: 0.5000\n"
     ]
    },
    {
     "name": "stderr",
     "output_type": "stream",
     "text": [
      "\r",
      " 75%|███████▌  | 30/40 [04:23<01:31,  9.11s/it]"
     ]
    },
    {
     "name": "stdout",
     "output_type": "stream",
     "text": [
      "Epoch 1/10\n",
      "3/3 [==============================] - 0s 3ms/step - loss: 2.0456 - accuracy: 0.4803\n",
      "Epoch 2/10\n",
      "3/3 [==============================] - 0s 3ms/step - loss: 2.0431 - accuracy: 0.4831\n",
      "Epoch 3/10\n",
      "3/3 [==============================] - 0s 4ms/step - loss: 2.0400 - accuracy: 0.5000\n",
      "Epoch 4/10\n",
      "3/3 [==============================] - 0s 4ms/step - loss: 2.0379 - accuracy: 0.5000\n",
      "Epoch 5/10\n",
      "3/3 [==============================] - 0s 2ms/step - loss: 2.0351 - accuracy: 0.4916\n",
      "Epoch 6/10\n",
      "3/3 [==============================] - 0s 3ms/step - loss: 2.0322 - accuracy: 0.5084\n",
      "Epoch 7/10\n",
      "3/3 [==============================] - 0s 2ms/step - loss: 2.0308 - accuracy: 0.5140\n",
      "Epoch 8/10\n",
      "3/3 [==============================] - 0s 2ms/step - loss: 2.0282 - accuracy: 0.5112\n",
      "Epoch 9/10\n",
      "3/3 [==============================] - 0s 3ms/step - loss: 2.0259 - accuracy: 0.5197\n",
      "Epoch 10/10\n",
      "3/3 [==============================] - 0s 3ms/step - loss: 2.0236 - accuracy: 0.5197\n"
     ]
    },
    {
     "name": "stderr",
     "output_type": "stream",
     "text": [
      "\r",
      " 78%|███████▊  | 31/40 [04:33<01:24,  9.41s/it]"
     ]
    },
    {
     "name": "stdout",
     "output_type": "stream",
     "text": [
      "Epoch 1/10\n",
      "3/3 [==============================] - 0s 2ms/step - loss: 2.0404 - accuracy: 0.4986\n",
      "Epoch 2/10\n",
      "3/3 [==============================] - 0s 2ms/step - loss: 2.0386 - accuracy: 0.4849\n",
      "Epoch 3/10\n",
      "3/3 [==============================] - 0s 3ms/step - loss: 2.0363 - accuracy: 0.4932\n",
      "Epoch 4/10\n",
      "3/3 [==============================] - 0s 3ms/step - loss: 2.0340 - accuracy: 0.4959\n",
      "Epoch 5/10\n",
      "3/3 [==============================] - 0s 2ms/step - loss: 2.0328 - accuracy: 0.5041\n",
      "Epoch 6/10\n",
      "3/3 [==============================] - 0s 3ms/step - loss: 2.0302 - accuracy: 0.5014\n",
      "Epoch 7/10\n",
      "3/3 [==============================] - 0s 3ms/step - loss: 2.0286 - accuracy: 0.4849\n",
      "Epoch 8/10\n",
      "3/3 [==============================] - 0s 2ms/step - loss: 2.0272 - accuracy: 0.4822\n",
      "Epoch 9/10\n",
      "3/3 [==============================] - 0s 2ms/step - loss: 2.0252 - accuracy: 0.4959\n",
      "Epoch 10/10\n",
      "3/3 [==============================] - 0s 2ms/step - loss: 2.0237 - accuracy: 0.5096\n"
     ]
    },
    {
     "name": "stderr",
     "output_type": "stream",
     "text": [
      "\r",
      " 80%|████████  | 32/40 [04:42<01:12,  9.06s/it]"
     ]
    },
    {
     "name": "stdout",
     "output_type": "stream",
     "text": [
      "Epoch 1/10\n",
      "3/3 [==============================] - 0s 5ms/step - loss: 2.0427 - accuracy: 0.4947\n",
      "Epoch 2/10\n",
      "3/3 [==============================] - 0s 2ms/step - loss: 2.0408 - accuracy: 0.4947\n",
      "Epoch 3/10\n",
      "3/3 [==============================] - 0s 3ms/step - loss: 2.0383 - accuracy: 0.5000\n",
      "Epoch 4/10\n",
      "3/3 [==============================] - 0s 2ms/step - loss: 2.0359 - accuracy: 0.5053\n",
      "Epoch 5/10\n",
      "3/3 [==============================] - 0s 3ms/step - loss: 2.0338 - accuracy: 0.5106\n",
      "Epoch 6/10\n",
      "3/3 [==============================] - 0s 3ms/step - loss: 2.0318 - accuracy: 0.5027\n",
      "Epoch 7/10\n",
      "3/3 [==============================] - 0s 5ms/step - loss: 2.0298 - accuracy: 0.5080\n",
      "Epoch 8/10\n",
      "3/3 [==============================] - 0s 3ms/step - loss: 2.0281 - accuracy: 0.5000\n",
      "Epoch 9/10\n",
      "3/3 [==============================] - 0s 3ms/step - loss: 2.0260 - accuracy: 0.5027\n",
      "Epoch 10/10\n",
      "3/3 [==============================] - 0s 24ms/step - loss: 2.0244 - accuracy: 0.5133\n"
     ]
    },
    {
     "name": "stderr",
     "output_type": "stream",
     "text": [
      "\r",
      " 82%|████████▎ | 33/40 [04:51<01:04,  9.26s/it]"
     ]
    },
    {
     "name": "stdout",
     "output_type": "stream",
     "text": [
      "Epoch 1/10\n",
      "4/4 [==============================] - 0s 2ms/step - loss: 2.0427 - accuracy: 0.5038\n",
      "Epoch 2/10\n",
      "4/4 [==============================] - 0s 2ms/step - loss: 2.0424 - accuracy: 0.4910\n",
      "Epoch 3/10\n",
      "4/4 [==============================] - 0s 3ms/step - loss: 2.0398 - accuracy: 0.4859\n",
      "Epoch 4/10\n",
      "4/4 [==============================] - 0s 2ms/step - loss: 2.0417 - accuracy: 0.4757\n",
      "Epoch 5/10\n",
      "4/4 [==============================] - 0s 3ms/step - loss: 2.0367 - accuracy: 0.4936\n",
      "Epoch 6/10\n",
      "4/4 [==============================] - 0s 2ms/step - loss: 2.0359 - accuracy: 0.4910\n",
      "Epoch 7/10\n",
      "4/4 [==============================] - 0s 3ms/step - loss: 2.0361 - accuracy: 0.4757\n",
      "Epoch 8/10\n",
      "4/4 [==============================] - 0s 3ms/step - loss: 2.0406 - accuracy: 0.4322\n",
      "Epoch 9/10\n",
      "4/4 [==============================] - 0s 2ms/step - loss: 2.0343 - accuracy: 0.4476\n",
      "Epoch 10/10\n",
      "4/4 [==============================] - 0s 2ms/step - loss: 2.0317 - accuracy: 0.4885\n"
     ]
    },
    {
     "name": "stderr",
     "output_type": "stream",
     "text": [
      "\r",
      " 85%|████████▌ | 34/40 [05:02<00:57,  9.56s/it]"
     ]
    },
    {
     "name": "stdout",
     "output_type": "stream",
     "text": [
      "Epoch 1/10\n",
      "4/4 [==============================] - 0s 2ms/step - loss: 2.0403 - accuracy: 0.4802\n",
      "Epoch 2/10\n",
      "4/4 [==============================] - 0s 2ms/step - loss: 2.0347 - accuracy: 0.4827\n",
      "Epoch 3/10\n",
      "4/4 [==============================] - 0s 2ms/step - loss: 2.0302 - accuracy: 0.4777\n",
      "Epoch 4/10\n",
      "4/4 [==============================] - 0s 2ms/step - loss: 2.0270 - accuracy: 0.4975\n",
      "Epoch 5/10\n",
      "4/4 [==============================] - 0s 2ms/step - loss: 2.0236 - accuracy: 0.5099\n",
      "Epoch 6/10\n",
      "4/4 [==============================] - 0s 2ms/step - loss: 2.0201 - accuracy: 0.5099\n",
      "Epoch 7/10\n",
      "4/4 [==============================] - 0s 3ms/step - loss: 2.0201 - accuracy: 0.5074\n",
      "Epoch 8/10\n",
      "4/4 [==============================] - 0s 3ms/step - loss: 2.0159 - accuracy: 0.5074\n",
      "Epoch 9/10\n",
      "4/4 [==============================] - 0s 2ms/step - loss: 2.0148 - accuracy: 0.5149\n",
      "Epoch 10/10\n",
      "4/4 [==============================] - 0s 3ms/step - loss: 2.0136 - accuracy: 0.5149\n"
     ]
    },
    {
     "name": "stderr",
     "output_type": "stream",
     "text": [
      "\r",
      " 88%|████████▊ | 35/40 [05:11<00:46,  9.39s/it]"
     ]
    },
    {
     "name": "stdout",
     "output_type": "stream",
     "text": [
      "Epoch 1/10\n",
      "4/4 [==============================] - 0s 2ms/step - loss: 2.0242 - accuracy: 0.5242\n",
      "Epoch 2/10\n",
      "4/4 [==============================] - 0s 3ms/step - loss: 2.0247 - accuracy: 0.5242\n",
      "Epoch 3/10\n",
      "4/4 [==============================] - 0s 3ms/step - loss: 2.0199 - accuracy: 0.5072\n",
      "Epoch 4/10\n",
      "4/4 [==============================] - 0s 3ms/step - loss: 2.0175 - accuracy: 0.4976\n",
      "Epoch 5/10\n",
      "4/4 [==============================] - 0s 3ms/step - loss: 2.0156 - accuracy: 0.5169\n",
      "Epoch 6/10\n",
      "4/4 [==============================] - 0s 2ms/step - loss: 2.0133 - accuracy: 0.5217\n",
      "Epoch 7/10\n",
      "4/4 [==============================] - 0s 3ms/step - loss: 2.0112 - accuracy: 0.4903\n",
      "Epoch 8/10\n",
      "4/4 [==============================] - 0s 6ms/step - loss: 2.0103 - accuracy: 0.4855\n",
      "Epoch 9/10\n",
      "4/4 [==============================] - 0s 4ms/step - loss: 2.0088 - accuracy: 0.5024\n",
      "Epoch 10/10\n",
      "4/4 [==============================] - 0s 6ms/step - loss: 2.0074 - accuracy: 0.5193\n"
     ]
    },
    {
     "name": "stderr",
     "output_type": "stream",
     "text": [
      "\r",
      " 90%|█████████ | 36/40 [05:21<00:39,  9.80s/it]"
     ]
    },
    {
     "name": "stdout",
     "output_type": "stream",
     "text": [
      "Epoch 1/10\n",
      "4/4 [==============================] - 0s 2ms/step - loss: 2.0155 - accuracy: 0.4988\n",
      "Epoch 2/10\n",
      "4/4 [==============================] - 0s 3ms/step - loss: 2.0130 - accuracy: 0.4965\n",
      "Epoch 3/10\n",
      "4/4 [==============================] - 0s 2ms/step - loss: 2.0114 - accuracy: 0.5059\n",
      "Epoch 4/10\n",
      "4/4 [==============================] - 0s 2ms/step - loss: 2.0091 - accuracy: 0.5199\n",
      "Epoch 5/10\n",
      "4/4 [==============================] - 0s 2ms/step - loss: 2.0077 - accuracy: 0.5152\n",
      "Epoch 6/10\n",
      "4/4 [==============================] - 0s 2ms/step - loss: 2.0051 - accuracy: 0.5222\n",
      "Epoch 7/10\n",
      "4/4 [==============================] - 0s 2ms/step - loss: 2.0044 - accuracy: 0.5176\n",
      "Epoch 8/10\n",
      "4/4 [==============================] - 0s 2ms/step - loss: 2.0031 - accuracy: 0.5105\n",
      "Epoch 9/10\n",
      "4/4 [==============================] - 0s 2ms/step - loss: 2.0015 - accuracy: 0.5105\n",
      "Epoch 10/10\n",
      "4/4 [==============================] - 0s 2ms/step - loss: 1.9993 - accuracy: 0.5059\n"
     ]
    },
    {
     "name": "stderr",
     "output_type": "stream",
     "text": [
      "\r",
      " 92%|█████████▎| 37/40 [05:32<00:30, 10.04s/it]"
     ]
    },
    {
     "name": "stdout",
     "output_type": "stream",
     "text": [
      "Epoch 1/10\n",
      "4/4 [==============================] - 0s 2ms/step - loss: 2.0119 - accuracy: 0.5023\n",
      "Epoch 2/10\n",
      "4/4 [==============================] - 0s 2ms/step - loss: 2.0111 - accuracy: 0.5137\n",
      "Epoch 3/10\n",
      "4/4 [==============================] - 0s 2ms/step - loss: 2.0089 - accuracy: 0.5114\n",
      "Epoch 4/10\n",
      "4/4 [==============================] - 0s 2ms/step - loss: 2.0075 - accuracy: 0.5091\n",
      "Epoch 5/10\n",
      "4/4 [==============================] - 0s 2ms/step - loss: 2.0049 - accuracy: 0.5183\n",
      "Epoch 6/10\n",
      "4/4 [==============================] - 0s 2ms/step - loss: 2.0038 - accuracy: 0.5205\n",
      "Epoch 7/10\n",
      "4/4 [==============================] - 0s 2ms/step - loss: 2.0017 - accuracy: 0.5365\n",
      "Epoch 8/10\n",
      "4/4 [==============================] - 0s 2ms/step - loss: 2.0009 - accuracy: 0.5411\n",
      "Epoch 9/10\n",
      "4/4 [==============================] - 0s 2ms/step - loss: 1.9989 - accuracy: 0.5228\n",
      "Epoch 10/10\n",
      "4/4 [==============================] - 0s 2ms/step - loss: 1.9979 - accuracy: 0.5160\n"
     ]
    },
    {
     "name": "stderr",
     "output_type": "stream",
     "text": [
      "\r",
      " 95%|█████████▌| 38/40 [05:39<00:18,  9.12s/it]"
     ]
    },
    {
     "name": "stdout",
     "output_type": "stream",
     "text": [
      "Epoch 1/10\n",
      "4/4 [==============================] - 0s 2ms/step - loss: 2.0140 - accuracy: 0.5122\n",
      "Epoch 2/10\n",
      "4/4 [==============================] - 0s 2ms/step - loss: 2.0116 - accuracy: 0.5100\n",
      "Epoch 3/10\n",
      "4/4 [==============================] - 0s 2ms/step - loss: 2.0092 - accuracy: 0.5122\n",
      "Epoch 4/10\n",
      "4/4 [==============================] - 0s 2ms/step - loss: 2.0078 - accuracy: 0.5011\n",
      "Epoch 5/10\n",
      "4/4 [==============================] - 0s 2ms/step - loss: 2.0055 - accuracy: 0.5212\n",
      "Epoch 6/10\n",
      "4/4 [==============================] - 0s 2ms/step - loss: 2.0036 - accuracy: 0.5212\n",
      "Epoch 7/10\n",
      "4/4 [==============================] - 0s 2ms/step - loss: 2.0028 - accuracy: 0.5167\n",
      "Epoch 8/10\n",
      "4/4 [==============================] - 0s 2ms/step - loss: 2.0007 - accuracy: 0.5122\n",
      "Epoch 9/10\n",
      "4/4 [==============================] - 0s 3ms/step - loss: 1.9999 - accuracy: 0.5256\n",
      "Epoch 10/10\n",
      "4/4 [==============================] - 0s 3ms/step - loss: 1.9984 - accuracy: 0.5278\n"
     ]
    },
    {
     "name": "stderr",
     "output_type": "stream",
     "text": [
      "\r",
      " 98%|█████████▊| 39/40 [05:47<00:08,  8.73s/it]"
     ]
    },
    {
     "name": "stdout",
     "output_type": "stream",
     "text": [
      "Epoch 1/10\n",
      "4/4 [==============================] - 0s 3ms/step - loss: 2.0174 - accuracy: 0.5130\n",
      "Epoch 2/10\n",
      "4/4 [==============================] - 0s 2ms/step - loss: 2.0153 - accuracy: 0.5130\n",
      "Epoch 3/10\n",
      "4/4 [==============================] - 0s 2ms/step - loss: 2.0121 - accuracy: 0.5087\n",
      "Epoch 4/10\n",
      "4/4 [==============================] - 0s 2ms/step - loss: 2.0091 - accuracy: 0.5152\n",
      "Epoch 5/10\n",
      "4/4 [==============================] - 0s 2ms/step - loss: 2.0068 - accuracy: 0.5195\n",
      "Epoch 6/10\n",
      "4/4 [==============================] - 0s 2ms/step - loss: 2.0042 - accuracy: 0.5195\n",
      "Epoch 7/10\n",
      "4/4 [==============================] - 0s 2ms/step - loss: 2.0029 - accuracy: 0.5216\n",
      "Epoch 8/10\n",
      "4/4 [==============================] - 0s 2ms/step - loss: 2.0006 - accuracy: 0.5238\n",
      "Epoch 9/10\n",
      "4/4 [==============================] - 0s 2ms/step - loss: 1.9992 - accuracy: 0.5281\n",
      "Epoch 10/10\n",
      "4/4 [==============================] - 0s 2ms/step - loss: 1.9984 - accuracy: 0.5216\n"
     ]
    },
    {
     "name": "stderr",
     "output_type": "stream",
     "text": [
      "100%|██████████| 40/40 [05:55<00:00,  8.89s/it]\n"
     ]
    }
   ],
   "source": [
    "agent.train_agent(hex, n_episodes=40, n_simulations=100, epochs=10, M=4, file_path='models/updateEnc')"
   ]
  },
  {
   "cell_type": "code",
   "execution_count": 29,
   "metadata": {},
   "outputs": [],
   "source": [
    "actor1 = Actor(learning_rate=0.01,\n",
    "             epsilon=0,\n",
    "             end_epsilon=0,\n",
    "              encoder=encoder,\n",
    "               load_from='models/10.h5'\n",
    "             )\n",
    "actor2 = Actor(learning_rate=0.01,\n",
    "             epsilon=0,\n",
    "             end_epsilon=0,\n",
    "              encoder=encoder,\n",
    "               load_from='models/20.h5'\n",
    "             )\n",
    "actor3 = Actor(learning_rate=0.01,\n",
    "             epsilon=0,\n",
    "             end_epsilon=0,\n",
    "              encoder=encoder,\n",
    "               load_from='models/30.h5'\n",
    "             )\n",
    "actor4 = Actor(learning_rate=0.01,\n",
    "             epsilon=0,\n",
    "             end_epsilon=0,\n",
    "              encoder=encoder,\n",
    "               load_from='models/40.h5'\n",
    "             )\n",
    "\n",
    "agent1 = Agent(actor1)\n",
    "agent2 = Agent(actor2)\n",
    "agent3 = Agent(actor3)\n",
    "agent4 = Agent(actor4)"
   ]
  },
  {
   "cell_type": "code",
   "execution_count": 48,
   "metadata": {},
   "outputs": [
    {
     "name": "stdout",
     "output_type": "stream",
     "text": [
      "palyer1:  0 <src.agent.Agent object at 0x146ab4850>\n",
      "palyer1:  0 <src.agent.Agent object at 0x146ab4850>\n",
      "palyer1:  0 <src.agent.Agent object at 0x146ab4850>\n",
      "palyer1:  1 <src.agent.Agent object at 0x1434e4ca0>\n",
      "palyer1:  1 <src.agent.Agent object at 0x1434e4ca0>\n",
      "palyer1:  2 <src.agent.Agent object at 0x14638aee0>\n"
     ]
    }
   ],
   "source": [
    "agents = [agent1, agent2, agent3, agent4]\n",
    "topp = Topp(agents=agents, env=Hex((4,4)), number_of_games=500)\n",
    "result = topp.topp()\n",
    "result"
   ]
  },
  {
   "cell_type": "code",
   "execution_count": 52,
   "metadata": {},
   "outputs": [
    {
     "data": {
      "image/png": "[encoded data removed]",
      "text/plain": [
       "<Figure size 432x288 with 1 Axes>"
      ]
     },
     "metadata": {
      "needs_background": "light"
     },
     "output_type": "display_data"
    }
   ],
   "source": [
    "x = ['agent'+str(i+1) for i in range(len(agents))]\n",
    "y = [result[agents[i]] for i in range(len(agents))]\n",
    "plt.bar(x,y)\n",
    "for index, value in enumerate(y):\n",
    "    plt.text(index, value, str(value))\n",
    "    \n",
    "plt.ylabel('Wins')\n",
    "plt.title(\"Result of TOPP\")\n",
    "plt.show()"
   ]
  },
  {
   "cell_type": "markdown",
   "metadata": {},
   "source": [
    "## TOPP of pretrained models"
   ]
  },
  {
   "cell_type": "code",
   "execution_count": null,
   "metadata": {},
   "outputs": [],
   "source": []
  },
  {
   "cell_type": "code",
   "execution_count": null,
   "metadata": {},
   "outputs": [],
   "source": []
  },
  {
   "cell_type": "code",
   "execution_count": null,
   "metadata": {},
   "outputs": [],
   "source": []
  },
  {
   "cell_type": "code",
   "execution_count": null,
   "metadata": {},
   "outputs": [],
   "source": []
  },
  {
   "cell_type": "code",
   "execution_count": null,
   "metadata": {},
   "outputs": [],
   "source": []
  },
  {
   "cell_type": "code",
   "execution_count": null,
   "metadata": {},
   "outputs": [],
   "source": []
  },
  {
   "cell_type": "code",
   "execution_count": 5,
   "metadata": {},
   "outputs": [
    {
     "data": {
      "text/plain": [
       "<src.agent.Agent at 0x144219280>"
      ]
     },
     "execution_count": 5,
     "metadata": {},
     "output_type": "execute_result"
    }
   ],
   "source": [
    "agent2"
   ]
  },
  {
   "cell_type": "code",
   "execution_count": 13,
   "metadata": {},
   "outputs": [],
   "source": [
    "def play(agent1, agent2, env):\n",
    "    \n",
    "    while env.get_winner() == 0:\n",
    "        if env.current_player == 1:\n",
    "            action = agent1.actor.get_action(env)\n",
    "            \n",
    "        else:\n",
    "            action = agent2.actor.get_action(env)\n",
    "        \n",
    "        env.make_action(action)\n",
    "        \n",
    "            \n",
    "        #env.display_board()\n",
    "    winner = env.get_winner()\n",
    "    env.reset()\n",
    "    return winner"
   ]
  },
  {
   "cell_type": "code",
   "execution_count": 14,
   "metadata": {},
   "outputs": [
    {
     "name": "stdout",
     "output_type": "stream",
     "text": [
      "blue winner: 0\n",
      "red winner: 100\n"
     ]
    }
   ],
   "source": [
    "blue_winner = 0\n",
    "red_winner = 0\n",
    "for i in range(100):\n",
    "    winner = play(agent1, agent2, hex)\n",
    "    if winner == 1:\n",
    "        blue_winner += 1\n",
    "    elif winner == 2:\n",
    "        red_winner += 1\n",
    "print(\"blue winner: {}\".format(blue_winner))\n",
    "print(\"red winner: {}\".format(red_winner))"
   ]
  },
  {
   "cell_type": "code",
   "execution_count": 4,
   "metadata": {},
   "outputs": [],
   "source": [
    "def onclick(event, board):\n",
    "    global ix, iy\n",
    "    ix, iy = event.xdata, event.ydata\n",
    "    ix, iy = rotate_coordinate([ix,iy], -board.get_angle())\n",
    "    ix, iy = round(ix), round(iy)\n",
    "    action = (ix, iy)\n",
    "    actions.append(action)\n",
    "    board.make_action(action)\n",
    "    board.display_board()\n",
    "    fig.canvas.mpl_disconnect(connection)\n",
    "\n",
    "def set_piece(board) -> List[Tuple[int, int]]:\n",
    "    board = board.copy()\n",
    "    global actions, connection, fig\n",
    "    actions = []\n",
    "    fig = plt.figure()\n",
    "    connection = fig.canvas.mpl_connect('button_press_event', lambda event: onclick(event, board))\n",
    "    \n",
    "    board.display_board()\n",
    "    \n",
    "    plt.show()\n",
    "    return actions"
   ]
  },
  {
   "cell_type": "code",
   "execution_count": 91,
   "metadata": {},
   "outputs": [],
   "source": [
    "%matplotlib qt\n",
    "action = set_piece(Hex((5,5)))\n"
   ]
  },
  {
   "cell_type": "code",
   "execution_count": 92,
   "metadata": {},
   "outputs": [
    {
     "data": {
      "text/plain": [
       "[(3, 1)]"
      ]
     },
     "execution_count": 92,
     "metadata": {},
     "output_type": "execute_result"
    }
   ],
   "source": [
    "action"
   ]
  },
  {
   "cell_type": "code",
   "execution_count": 19,
   "metadata": {},
   "outputs": [
    {
     "ename": "KeyboardInterrupt",
     "evalue": "Interrupted by user",
     "output_type": "error",
     "traceback": [
      "\u001b[0;31m---------------------------------------------------------------------------\u001b[0m",
      "\u001b[0;31mKeyboardInterrupt\u001b[0m                         Traceback (most recent call last)",
      "\u001b[0;32m<ipython-input-19-a87818eb45e2>\u001b[0m in \u001b[0;36m<module>\u001b[0;34m\u001b[0m\n\u001b[1;32m     32\u001b[0m \u001b[0;34m\u001b[0m\u001b[0m\n\u001b[1;32m     33\u001b[0m \u001b[0mhex\u001b[0m \u001b[0;34m=\u001b[0m \u001b[0mHex\u001b[0m\u001b[0;34m(\u001b[0m\u001b[0;34m(\u001b[0m\u001b[0;36m4\u001b[0m\u001b[0;34m,\u001b[0m\u001b[0;36m4\u001b[0m\u001b[0;34m)\u001b[0m\u001b[0;34m)\u001b[0m\u001b[0;34m\u001b[0m\u001b[0;34m\u001b[0m\u001b[0m\n\u001b[0;32m---> 34\u001b[0;31m \u001b[0mman_vs_machine\u001b[0m\u001b[0;34m(\u001b[0m\u001b[0magent1\u001b[0m\u001b[0;34m,\u001b[0m \u001b[0;34m\"meg\"\u001b[0m\u001b[0;34m,\u001b[0m \u001b[0mhex\u001b[0m\u001b[0;34m,\u001b[0m \u001b[0mn_simulations\u001b[0m\u001b[0;34m=\u001b[0m\u001b[0;36m100\u001b[0m\u001b[0;34m)\u001b[0m\u001b[0;34m\u001b[0m\u001b[0;34m\u001b[0m\u001b[0m\n\u001b[0m\u001b[1;32m     35\u001b[0m \u001b[0;34m\u001b[0m\u001b[0m\n",
      "\u001b[0;32m<ipython-input-19-a87818eb45e2>\u001b[0m in \u001b[0;36mman_vs_machine\u001b[0;34m(player1, player2, env, n_simulations)\u001b[0m\n\u001b[1;32m     17\u001b[0m         \u001b[0;32melse\u001b[0m\u001b[0;34m:\u001b[0m\u001b[0;34m\u001b[0m\u001b[0;34m\u001b[0m\u001b[0m\n\u001b[1;32m     18\u001b[0m             \u001b[0;31m#actions = set_piece(env)\u001b[0m\u001b[0;34m\u001b[0m\u001b[0;34m\u001b[0m\u001b[0;34m\u001b[0m\u001b[0m\n\u001b[0;32m---> 19\u001b[0;31m             \u001b[0maction\u001b[0m \u001b[0;34m=\u001b[0m \u001b[0minput\u001b[0m\u001b[0;34m(\u001b[0m\u001b[0;34m\"Enter move as int,int\"\u001b[0m\u001b[0;34m)\u001b[0m\u001b[0;34m\u001b[0m\u001b[0;34m\u001b[0m\u001b[0m\n\u001b[0m\u001b[1;32m     20\u001b[0m             \u001b[0maction\u001b[0m \u001b[0;34m=\u001b[0m \u001b[0maction\u001b[0m\u001b[0;34m.\u001b[0m\u001b[0msplit\u001b[0m\u001b[0;34m(\u001b[0m\u001b[0;34m','\u001b[0m\u001b[0;34m)\u001b[0m\u001b[0;34m\u001b[0m\u001b[0;34m\u001b[0m\u001b[0m\n\u001b[1;32m     21\u001b[0m             \u001b[0maction\u001b[0m \u001b[0;34m=\u001b[0m \u001b[0;34m(\u001b[0m\u001b[0mint\u001b[0m\u001b[0;34m(\u001b[0m\u001b[0maction\u001b[0m\u001b[0;34m[\u001b[0m\u001b[0;36m0\u001b[0m\u001b[0;34m]\u001b[0m\u001b[0;34m)\u001b[0m\u001b[0;34m,\u001b[0m \u001b[0mint\u001b[0m\u001b[0;34m(\u001b[0m\u001b[0maction\u001b[0m\u001b[0;34m[\u001b[0m\u001b[0;36m1\u001b[0m\u001b[0;34m]\u001b[0m\u001b[0;34m)\u001b[0m\u001b[0;34m)\u001b[0m\u001b[0;34m\u001b[0m\u001b[0;34m\u001b[0m\u001b[0m\n",
      "\u001b[0;32m~/opt/anaconda3/lib/python3.8/site-packages/ipykernel/kernelbase.py\u001b[0m in \u001b[0;36mraw_input\u001b[0;34m(self, prompt)\u001b[0m\n\u001b[1;32m    858\u001b[0m                 \u001b[0;34m\"raw_input was called, but this frontend does not support input requests.\"\u001b[0m\u001b[0;34m\u001b[0m\u001b[0;34m\u001b[0m\u001b[0m\n\u001b[1;32m    859\u001b[0m             )\n\u001b[0;32m--> 860\u001b[0;31m         return self._input_request(str(prompt),\n\u001b[0m\u001b[1;32m    861\u001b[0m             \u001b[0mself\u001b[0m\u001b[0;34m.\u001b[0m\u001b[0m_parent_ident\u001b[0m\u001b[0;34m,\u001b[0m\u001b[0;34m\u001b[0m\u001b[0;34m\u001b[0m\u001b[0m\n\u001b[1;32m    862\u001b[0m             \u001b[0mself\u001b[0m\u001b[0;34m.\u001b[0m\u001b[0m_parent_header\u001b[0m\u001b[0;34m,\u001b[0m\u001b[0;34m\u001b[0m\u001b[0;34m\u001b[0m\u001b[0m\n",
      "\u001b[0;32m~/opt/anaconda3/lib/python3.8/site-packages/ipykernel/kernelbase.py\u001b[0m in \u001b[0;36m_input_request\u001b[0;34m(self, prompt, ident, parent, password)\u001b[0m\n\u001b[1;32m    902\u001b[0m             \u001b[0;32mexcept\u001b[0m \u001b[0mKeyboardInterrupt\u001b[0m\u001b[0;34m:\u001b[0m\u001b[0;34m\u001b[0m\u001b[0;34m\u001b[0m\u001b[0m\n\u001b[1;32m    903\u001b[0m                 \u001b[0;31m# re-raise KeyboardInterrupt, to truncate traceback\u001b[0m\u001b[0;34m\u001b[0m\u001b[0;34m\u001b[0m\u001b[0;34m\u001b[0m\u001b[0m\n\u001b[0;32m--> 904\u001b[0;31m                 \u001b[0;32mraise\u001b[0m \u001b[0mKeyboardInterrupt\u001b[0m\u001b[0;34m(\u001b[0m\u001b[0;34m\"Interrupted by user\"\u001b[0m\u001b[0;34m)\u001b[0m \u001b[0;32mfrom\u001b[0m \u001b[0;32mNone\u001b[0m\u001b[0;34m\u001b[0m\u001b[0;34m\u001b[0m\u001b[0m\n\u001b[0m\u001b[1;32m    905\u001b[0m             \u001b[0;32mexcept\u001b[0m \u001b[0mException\u001b[0m \u001b[0;32mas\u001b[0m \u001b[0me\u001b[0m\u001b[0;34m:\u001b[0m\u001b[0;34m\u001b[0m\u001b[0;34m\u001b[0m\u001b[0m\n\u001b[1;32m    906\u001b[0m                 \u001b[0mself\u001b[0m\u001b[0;34m.\u001b[0m\u001b[0mlog\u001b[0m\u001b[0;34m.\u001b[0m\u001b[0mwarning\u001b[0m\u001b[0;34m(\u001b[0m\u001b[0;34m\"Invalid Message:\"\u001b[0m\u001b[0;34m,\u001b[0m \u001b[0mexc_info\u001b[0m\u001b[0;34m=\u001b[0m\u001b[0;32mTrue\u001b[0m\u001b[0;34m)\u001b[0m\u001b[0;34m\u001b[0m\u001b[0;34m\u001b[0m\u001b[0m\n",
      "\u001b[0;31mKeyboardInterrupt\u001b[0m: Interrupted by user"
     ]
    }
   ],
   "source": [
    "%matplotlib qt\n",
    "def man_vs_machine(player1, player2, env, n_simulations):\n",
    "    current = player1\n",
    "    if isinstance(player1, Agent):\n",
    "        mcts = MCTS(player1.actor, env)\n",
    "    else:\n",
    "        mcts = MCTS(player2, env)\n",
    "    \n",
    "    while env.get_winner() == 0:\n",
    "        env.display_board()\n",
    "        if isinstance(current, Agent):\n",
    "            distribution = mcts.search(n_simulations)\n",
    "            # Choose action greedily\n",
    "            action = max(distribution, key=distribution.get)\n",
    "            mcts.set_new_root(action)\n",
    "            \n",
    "        else:\n",
    "            #actions = set_piece(env)\n",
    "            action = input(\"Enter move as int,int\")\n",
    "            action = action.split(',')\n",
    "            action = (int(action[0]), int(action[1]))\n",
    "            #action = actions[0]\n",
    "            #plt.show()\n",
    "            mcts.set_new_root(action)\n",
    "            \n",
    "        env.make_action(action)\n",
    "        current = player1 if current != player1 else player2\n",
    "    winner = env.get_winner()\n",
    "    env.display_board()\n",
    "    env.reset()\n",
    "    return winner\n",
    "\n",
    "hex = Hex((4,4))\n",
    "man_vs_machine(agent1, \"meg\", hex, n_simulations=100)\n",
    "\n"
   ]
  },
  {
   "cell_type": "code",
   "execution_count": 29,
   "metadata": {},
   "outputs": [
    {
     "name": "stdout",
     "output_type": "stream",
     "text": [
      "skirv:3,3\n"
     ]
    }
   ],
   "source": [
    "x = input(\"skirv:\")"
   ]
  },
  {
   "cell_type": "code",
   "execution_count": 30,
   "metadata": {},
   "outputs": [
    {
     "data": {
      "text/plain": [
       "(3, 3)"
      ]
     },
     "execution_count": 30,
     "metadata": {},
     "output_type": "execute_result"
    }
   ],
   "source": [
    "\n",
    "y = x.split(',')\n",
    "(int(y[0]),int(y[1]))"
   ]
  },
  {
   "cell_type": "code",
   "execution_count": 3,
   "metadata": {},
   "outputs": [
    {
     "ename": "OSError",
     "evalue": "SavedModel file does not exist at: model1.h5/{saved_model.pbtxt|saved_model.pb}",
     "output_type": "error",
     "traceback": [
      "\u001b[0;31m---------------------------------------------------------------------------\u001b[0m",
      "\u001b[0;31mOSError\u001b[0m                                   Traceback (most recent call last)",
      "\u001b[0;32m<ipython-input-3-6bc5be2683af>\u001b[0m in \u001b[0;36m<module>\u001b[0;34m\u001b[0m\n\u001b[1;32m     12\u001b[0m               \u001b[0mencoder\u001b[0m\u001b[0;34m=\u001b[0m\u001b[0mencoder\u001b[0m\u001b[0;34m\u001b[0m\u001b[0;34m\u001b[0m\u001b[0m\n\u001b[1;32m     13\u001b[0m              )\n\u001b[0;32m---> 14\u001b[0;31m \u001b[0mactor1\u001b[0m\u001b[0;34m.\u001b[0m\u001b[0mmodel\u001b[0m \u001b[0;34m=\u001b[0m \u001b[0mKER\u001b[0m\u001b[0;34m.\u001b[0m\u001b[0mmodels\u001b[0m\u001b[0;34m.\u001b[0m\u001b[0mload_model\u001b[0m\u001b[0;34m(\u001b[0m\u001b[0;34m'model1.h5'\u001b[0m\u001b[0;34m)\u001b[0m\u001b[0;34m\u001b[0m\u001b[0;34m\u001b[0m\u001b[0m\n\u001b[0m\u001b[1;32m     15\u001b[0m \u001b[0;34m\u001b[0m\u001b[0m\n\u001b[1;32m     16\u001b[0m actor2 = Actor(learning_rate=0.01,\n",
      "\u001b[0;32m~/opt/anaconda3/lib/python3.8/site-packages/tensorflow/python/keras/saving/save.py\u001b[0m in \u001b[0;36mload_model\u001b[0;34m(filepath, custom_objects, compile, options)\u001b[0m\n\u001b[1;32m    209\u001b[0m       \u001b[0mfilepath\u001b[0m \u001b[0;34m=\u001b[0m \u001b[0mpath_to_string\u001b[0m\u001b[0;34m(\u001b[0m\u001b[0mfilepath\u001b[0m\u001b[0;34m)\u001b[0m\u001b[0;34m\u001b[0m\u001b[0;34m\u001b[0m\u001b[0m\n\u001b[1;32m    210\u001b[0m       \u001b[0;32mif\u001b[0m \u001b[0misinstance\u001b[0m\u001b[0;34m(\u001b[0m\u001b[0mfilepath\u001b[0m\u001b[0;34m,\u001b[0m \u001b[0msix\u001b[0m\u001b[0;34m.\u001b[0m\u001b[0mstring_types\u001b[0m\u001b[0;34m)\u001b[0m\u001b[0;34m:\u001b[0m\u001b[0;34m\u001b[0m\u001b[0;34m\u001b[0m\u001b[0m\n\u001b[0;32m--> 211\u001b[0;31m         \u001b[0mloader_impl\u001b[0m\u001b[0;34m.\u001b[0m\u001b[0mparse_saved_model\u001b[0m\u001b[0;34m(\u001b[0m\u001b[0mfilepath\u001b[0m\u001b[0;34m)\u001b[0m\u001b[0;34m\u001b[0m\u001b[0;34m\u001b[0m\u001b[0m\n\u001b[0m\u001b[1;32m    212\u001b[0m         \u001b[0;32mreturn\u001b[0m \u001b[0msaved_model_load\u001b[0m\u001b[0;34m.\u001b[0m\u001b[0mload\u001b[0m\u001b[0;34m(\u001b[0m\u001b[0mfilepath\u001b[0m\u001b[0;34m,\u001b[0m \u001b[0mcompile\u001b[0m\u001b[0;34m,\u001b[0m \u001b[0moptions\u001b[0m\u001b[0;34m)\u001b[0m\u001b[0;34m\u001b[0m\u001b[0;34m\u001b[0m\u001b[0m\n\u001b[1;32m    213\u001b[0m \u001b[0;34m\u001b[0m\u001b[0m\n",
      "\u001b[0;32m~/opt/anaconda3/lib/python3.8/site-packages/tensorflow/python/saved_model/loader_impl.py\u001b[0m in \u001b[0;36mparse_saved_model\u001b[0;34m(export_dir)\u001b[0m\n\u001b[1;32m    109\u001b[0m       \u001b[0;32mraise\u001b[0m \u001b[0mIOError\u001b[0m\u001b[0;34m(\u001b[0m\u001b[0;34m\"Cannot parse file %s: %s.\"\u001b[0m \u001b[0;34m%\u001b[0m \u001b[0;34m(\u001b[0m\u001b[0mpath_to_pbtxt\u001b[0m\u001b[0;34m,\u001b[0m \u001b[0mstr\u001b[0m\u001b[0;34m(\u001b[0m\u001b[0me\u001b[0m\u001b[0;34m)\u001b[0m\u001b[0;34m)\u001b[0m\u001b[0;34m)\u001b[0m\u001b[0;34m\u001b[0m\u001b[0;34m\u001b[0m\u001b[0m\n\u001b[1;32m    110\u001b[0m   \u001b[0;32melse\u001b[0m\u001b[0;34m:\u001b[0m\u001b[0;34m\u001b[0m\u001b[0;34m\u001b[0m\u001b[0m\n\u001b[0;32m--> 111\u001b[0;31m     raise IOError(\"SavedModel file does not exist at: %s/{%s|%s}\" %\n\u001b[0m\u001b[1;32m    112\u001b[0m                   (export_dir,\n\u001b[1;32m    113\u001b[0m                    \u001b[0mconstants\u001b[0m\u001b[0;34m.\u001b[0m\u001b[0mSAVED_MODEL_FILENAME_PBTXT\u001b[0m\u001b[0;34m,\u001b[0m\u001b[0;34m\u001b[0m\u001b[0;34m\u001b[0m\u001b[0m\n",
      "\u001b[0;31mOSError\u001b[0m: SavedModel file does not exist at: model1.h5/{saved_model.pbtxt|saved_model.pb}"
     ]
    }
   ],
   "source": [
    "from tensorflow import keras as KER \n",
    "actor1 = Actor(learning_rate=0.01,\n",
    "             epsilon=0.1,\n",
    "             end_epsilon=0.1,\n",
    "             nn_shape=(30,15,16),\n",
    "             filters=(10,),\n",
    "             kernel_sizes=((2,2),),\n",
    "                nn_opt='Adam',\n",
    "              nn_activation='relu',\n",
    "              nn_last_activation='softmax',\n",
    "              nn_loss= 'categorical_crossentropy',\n",
    "              encoder=encoder\n",
    "             )\n",
    "actor1.model = KER.models.load_model('model1.h5')\n",
    "\n",
    "actor2 = Actor(learning_rate=0.01,\n",
    "             epsilon=0.1,\n",
    "             end_epsilon=0.1,\n",
    "             nn_shape=(30,15,16),\n",
    "             filters=(10,),\n",
    "             kernel_sizes=((2,2),),\n",
    "                nn_opt='Adam',\n",
    "              nn_activation='relu',\n",
    "              nn_last_activation='softmax',\n",
    "              nn_loss= 'categorical_crossentropy',\n",
    "              encoder=encoder\n",
    "             )\n",
    "actor2.model = KER.models.load_model('model2.h5')\n",
    "\n",
    "\n",
    "agent1 = Agent(actor1)\n",
    "agent2 = Agent(actor2)\n",
    "\n",
    "def play(agent1, agent2, env, n_simulations):\n",
    "    mcts1 = MCTS(actor1, env)\n",
    "    mcts2 = MCTS(actor2, env)\n",
    "    \n",
    "    while env.get_winner() == 0:\n",
    "        if env.current_player == 1:\n",
    "            distribution = mcts1.search(n_simulations)\n",
    "            # Choose action greedily\n",
    "            action = max(distribution, key=distribution.get)\n",
    "            mcts1.set_new_root(action)\n",
    "            mcts2.set_new_root(action)\n",
    "            \n",
    "        else:\n",
    "            \n",
    "            distribution = mcts2.search(n_simulations)\n",
    "            \n",
    "            # Choose action greedily\n",
    "            action = max(distribution, key=distribution.get)\n",
    "            mcts2.set_new_root(action)\n",
    "            mcts1.set_new_root(action)\n",
    "        \n",
    "        env.make_action(action)\n",
    "        \n",
    "            \n",
    "        #env.display_board()\n",
    "    winner = env.get_winner()\n",
    "    env.reset()\n",
    "    return winner\n",
    "    "
   ]
  },
  {
   "cell_type": "code",
   "execution_count": 11,
   "metadata": {},
   "outputs": [
    {
     "name": "stdout",
     "output_type": "stream",
     "text": [
      "0\n",
      "1\n",
      "2\n",
      "3\n",
      "4\n",
      "5\n",
      "6\n",
      "7\n",
      "8\n",
      "9\n",
      "10\n",
      "11\n",
      "12\n",
      "13\n",
      "14\n",
      "15\n",
      "16\n",
      "17\n",
      "18\n",
      "19\n"
     ]
    },
    {
     "data": {
      "text/plain": [
       "11"
      ]
     },
     "execution_count": 11,
     "metadata": {},
     "output_type": "execute_result"
    }
   ],
   "source": [
    "blue_vic = 0\n",
    "vics = []\n",
    "for i in range(20):\n",
    "    print(i)\n",
    "    vic = play(agent1, agent2, hex, 100)\n",
    "    if vic == 1:\n",
    "        blue_vic += 1\n",
    "    vics.append(vic)\n",
    "blue_vic"
   ]
  },
  {
   "cell_type": "code",
   "execution_count": 9,
   "metadata": {},
   "outputs": [],
   "source": [
    "mcts = MCTS(env = hex, target_policy=agent2.actor)"
   ]
  },
  {
   "cell_type": "code",
   "execution_count": 14,
   "metadata": {},
   "outputs": [
    {
     "name": "stdout",
     "output_type": "stream",
     "text": [
      "CPU times: user 4.33 s, sys: 112 ms, total: 4.44 s\n",
      "Wall time: 4.23 s\n"
     ]
    },
    {
     "data": {
      "text/plain": [
       "{(1, 0): 0.023333333333333334,\n",
       " (0, 1): 0.060000000000000005,\n",
       " (0, 0): 0.04666666666666667,\n",
       " (3, 0): 0.16666666666666669,\n",
       " (2, 3): 0.09000000000000001,\n",
       " (0, 3): 0.006666666666666667,\n",
       " (2, 2): 0.006666666666666667,\n",
       " (2, 0): 0.07666666666666667,\n",
       " (3, 2): 0.08,\n",
       " (1, 3): 0.006666666666666667,\n",
       " (3, 3): 0.006666666666666667,\n",
       " (0, 2): 0.043333333333333335,\n",
       " (1, 1): 0.023333333333333334,\n",
       " (2, 1): 0.3066666666666667,\n",
       " (3, 1): 0.04,\n",
       " (1, 2): 0.016666666666666666}"
      ]
     },
     "execution_count": 14,
     "metadata": {},
     "output_type": "execute_result"
    }
   ],
   "source": [
    "\n",
    "%time mcts.search(100)"
   ]
  },
  {
   "cell_type": "code",
   "execution_count": 58,
   "metadata": {},
   "outputs": [],
   "source": [
    "data = np.asarray(Image.open(path))"
   ]
  },
  {
   "cell_type": "code",
   "execution_count": 59,
   "metadata": {},
   "outputs": [
    {
     "data": {
      "text/plain": [
       "(575, 1024, 3)"
      ]
     },
     "execution_count": 59,
     "metadata": {},
     "output_type": "execute_result"
    }
   ],
   "source": [
    "data.shape"
   ]
  },
  {
   "cell_type": "code",
   "execution_count": 54,
   "metadata": {},
   "outputs": [],
   "source": [
    "import cProfile\n"
   ]
  },
  {
   "cell_type": "code",
   "execution_count": null,
   "metadata": {},
   "outputs": [],
   "source": []
  },
  {
   "cell_type": "code",
   "execution_count": 47,
   "metadata": {},
   "outputs": [],
   "source": [
    "encoder = HexEncoder(padding=2)"
   ]
  },
  {
   "cell_type": "code",
   "execution_count": 48,
   "metadata": {},
   "outputs": [],
   "source": [
    "h = Hex((4,4))\n",
    "h.set_encoder(encoder)\n",
    "e = h.copy()\n",
    "e.make_action((0,0))"
   ]
  },
  {
   "cell_type": "code",
   "execution_count": 49,
   "metadata": {},
   "outputs": [],
   "source": [
    "actor = Actor(learning_rate=0.001,\n",
    "             epsilon=0.0,\n",
    "             end_epsilon=0.0,\n",
    "             nn_shape=(64, 16),\n",
    "             filters=(56,56),\n",
    "             kernel_sizes=((3,3),(1,1)),\n",
    "                nn_opt='Adam',\n",
    "              nn_activation='relu',\n",
    "              nn_last_activation='softmax',\n",
    "              nn_loss= 'categorical_crossentropy',\n",
    "              encoder=encoder\n",
    "             )\n",
    "agent = Agent(actor=actor)"
   ]
  },
  {
   "cell_type": "code",
   "execution_count": 50,
   "metadata": {},
   "outputs": [
    {
     "data": {
      "text/plain": [
       "[(3, 0), (3, 0)]"
      ]
     },
     "execution_count": 50,
     "metadata": {},
     "output_type": "execute_result"
    }
   ],
   "source": [
    "actor.get_actions([h,e])"
   ]
  },
  {
   "cell_type": "code",
   "execution_count": 51,
   "metadata": {},
   "outputs": [],
   "source": [
    "mcts = MCTS(agent.actor, h)"
   ]
  },
  {
   "cell_type": "code",
   "execution_count": 57,
   "metadata": {},
   "outputs": [
    {
     "name": "stdout",
     "output_type": "stream",
     "text": [
      "CPU times: user 7.34 s, sys: 57.8 ms, total: 7.39 s\n",
      "Wall time: 7.59 s\n"
     ]
    },
    {
     "data": {
      "text/plain": [
       "{(2, 0): 0.8285714285714286,\n",
       " (0, 0): 0.011428571428571429,\n",
       " (1, 2): 0.011428571428571429,\n",
       " (2, 1): 0.011428571428571429,\n",
       " (2, 2): 0.011428571428571429,\n",
       " (1, 0): 0.011428571428571429,\n",
       " (1, 3): 0.011428571428571429,\n",
       " (3, 3): 0.011428571428571429,\n",
       " (3, 1): 0.011428571428571429,\n",
       " (0, 2): 0.011428571428571429,\n",
       " (3, 2): 0.011428571428571429,\n",
       " (1, 1): 0.011428571428571429,\n",
       " (0, 3): 0.011428571428571429,\n",
       " (2, 3): 0.011428571428571429,\n",
       " (3, 0): 0.011428571428571429,\n",
       " (0, 1): 0.011428571428571429}"
      ]
     },
     "execution_count": 57,
     "metadata": {},
     "output_type": "execute_result"
    }
   ],
   "source": [
    "%time mcts.search(1000)"
   ]
  },
  {
   "cell_type": "code",
   "execution_count": 13,
   "metadata": {},
   "outputs": [
    {
     "name": "stdout",
     "output_type": "stream",
     "text": [
      "         8150594 function calls (8140946 primitive calls) in 10.730 seconds\n",
      "\n",
      "   Ordered by: cumulative time\n",
      "\n",
      "   ncalls  tottime  percall  cumtime  percall filename:lineno(function)\n",
      "        1    0.000    0.000   10.774   10.774 {built-in method builtins.exec}\n",
      "        1    0.000    0.000   10.774   10.774 <string>:1(<module>)\n",
      "        1    0.000    0.000   10.774   10.774 monte_carlo_ts.py:160(search)\n",
      "      100    0.001    0.000   10.774    0.108 monte_carlo_ts.py:152(perform_simulation)\n",
      "      100    0.022    0.000   10.697    0.107 monte_carlo_ts.py:78(_rollout)\n",
      "     1072    0.051    0.000   10.453    0.010 actor.py:59(get_action)\n",
      "     1072    0.074    0.000    6.187    0.006 encoder.py:216(encode)\n",
      "6432/1072    0.300    0.000    4.089    0.004 base_layer.py:901(__call__)\n",
      "     4288    1.431    0.000    3.692    0.001 encoder.py:105(bridge_encoding)\n",
      "     1072    0.013    0.000    3.571    0.003 sequential.py:354(call)\n",
      "     1072    0.009    0.000    3.401    0.003 functional.py:406(call)\n",
      "     1072    0.133    0.000    3.392    0.003 functional.py:516(_run_internal_graph)\n",
      "     1072    0.096    0.000    1.843    0.002 encoder.py:17(create_padded_env)\n",
      "     1172    0.049    0.000    1.511    0.001 hex.py:54(__init__)\n",
      "18224/13936    0.038    0.000    1.453    0.000 dispatch.py:198(wrapper)\n",
      "     1172    0.131    0.000    1.443    0.001 hexagonal_grid.py:98(__init__)\n",
      "     1172    0.638    0.001    1.199    0.001 hexagonal_grid.py:48(generate_neighbours)\n",
      "    65786    0.316    0.000    1.060    0.000 encoder.py:158(_process_save_endpoint)\n",
      "    15008    1.055    0.000    1.055    0.000 {built-in method tensorflow.python._pywrap_tfe.TFE_Py_FastPathExecute}\n",
      "     2144    0.043    0.000    0.883    0.000 convolutional.py:244(call)\n",
      "  1687032    0.859    0.000    0.859    0.000 hexagonal_grid.py:62(get_cell)\n",
      "     2144    0.010    0.000    0.680    0.000 core.py:1206(call)\n",
      "     2144    0.039    0.000    0.670    0.000 core.py:30(dense)\n",
      "    65786    0.531    0.000    0.565    0.000 encoder.py:50(get_carrier_points)\n",
      "     4288    0.057    0.000    0.422    0.000 nn_ops.py:3319(bias_add)\n",
      "     2144    0.005    0.000    0.412    0.000 nn_ops.py:1003(convolution_v2)\n",
      "     2144    0.045    0.000    0.407    0.000 nn_ops.py:1029(convolution_internal)\n",
      "     6432    0.133    0.000    0.391    0.000 input_spec.py:159(assert_input_compatibility)\n",
      "     5360    0.033    0.000    0.323    0.000 base_layer.py:2405(_maybe_cast_inputs)\n",
      "     2144    0.011    0.000    0.309    0.000 nn_ops.py:2583(_conv2d_expanded_batch)\n",
      "     4288    0.016    0.000    0.299    0.000 gen_nn_ops.py:646(bias_add)\n",
      "     2144    0.021    0.000    0.295    0.000 gen_nn_ops.py:860(conv2d)\n",
      "     2144    0.011    0.000    0.242    0.000 gen_math_ops.py:5500(mat_mul)\n",
      "    20368    0.242    0.000    0.242    0.000 {built-in method numpy.array}\n",
      "  1272764    0.239    0.000    0.239    0.000 hex.py:86(get_board)\n",
      "   968550    0.227    0.000    0.227    0.000 hexagonal_grid.py:36(get_piece)\n",
      "   351784    0.164    0.000    0.218    0.000 hexagonal_grid.py:15(add_neighbour)\n",
      "     1072    0.012    0.000    0.217    0.000 nest.py:582(map_structure)\n",
      "    37520    0.061    0.000    0.215    0.000 nest.py:274(flatten)\n",
      "    11792    0.040    0.000    0.202    0.000 {built-in method numpy.core._multiarray_umath.implement_array_function}\n",
      "     2144    0.039    0.000    0.196    0.000 math_ops.py:907(cast)\n",
      "    10720    0.016    0.000    0.195    0.000 <__array_function__ internals>:2(expand_dims)\n",
      "    77184    0.130    0.000    0.193    0.000 hex.py:196(set_piece)\n",
      "     1072    0.003    0.000    0.190    0.000 nest.py:659(<listcomp>)\n",
      "     1072    0.004    0.000    0.187    0.000 base_layer.py:2439(_cast_single_input)\n",
      "    25728    0.037    0.000    0.186    0.000 {built-in method builtins.any}\n",
      "    38592    0.085    0.000    0.176    0.000 base_layer.py:2913(_flatten_layers)\n",
      "     3216    0.011    0.000    0.175    0.000 activations.py:268(relu)\n",
      "     1372    0.043    0.000    0.175    0.000 hex.py:158(get_winner)\n",
      "     6432    0.034    0.000    0.173    0.000 base_layer.py:3278(_in_functional_construction_mode)\n",
      "    10720    0.062    0.000    0.162    0.000 shape_base.py:512(expand_dims)\n",
      "   205824    0.098    0.000    0.159    0.000 {built-in method builtins.isinstance}\n",
      "     4288    0.019    0.000    0.159    0.000 sequential.py:146(layers)\n",
      "     3216    0.053    0.000    0.157    0.000 backend.py:4661(relu)\n",
      "    37520    0.154    0.000    0.154    0.000 {built-in method tensorflow.python._pywrap_utils.Flatten}\n",
      "    33232    0.048    0.000    0.151    0.000 ops.py:1168(shape)\n",
      "     1072    0.007    0.000    0.150    0.000 base.py:513(_method_wrapper)\n",
      "     3216    0.031    0.000    0.146    0.000 encoder.py:76(player_stones_encoding)\n",
      "    28944    0.056    0.000    0.140    0.000 context.py:1874(executing_eagerly)\n",
      "     4288    0.019    0.000    0.139    0.000 training.py:2386(layers)\n",
      "     1072    0.006    0.000    0.128    0.000 sequential.py:500(input_spec)\n",
      "   128211    0.126    0.000    0.126    0.000 encoder.py:45(get_bridge_end_points)\n",
      "    39664    0.125    0.000    0.125    0.000 context.py:815(executing_eagerly)\n",
      "     1072    0.006    0.000    0.124    0.000 activations.py:44(softmax)\n",
      "    16080    0.046    0.000    0.124    0.000 tensor_shape.py:748(__init__)\n",
      "    21440    0.027    0.000    0.119    0.000 {built-in method builtins.hasattr}\n",
      "     6432    0.059    0.000    0.118    0.000 ops.py:6620(__enter__)\n",
      "     3216    0.008    0.000    0.109    0.000 trace.py:158(wrapped)\n",
      "     1072    0.011    0.000    0.103    0.000 core.py:661(call)\n",
      "     2144    0.004    0.000    0.103    0.000 constant_op.py:166(constant)\n",
      "     2144    0.008    0.000    0.102    0.000 encoder.py:96(to_play_endocing)\n",
      "     3216    0.023    0.000    0.101    0.000 ops.py:1481(convert_to_tensor)\n",
      "     1072    0.004    0.000    0.101    0.000 deprecation.py:504(new_func)\n",
      "     2144    0.016    0.000    0.098    0.000 constant_op.py:268(_constant_impl)\n",
      "     1072    0.005    0.000    0.098    0.000 gen_math_ops.py:1807(cast)\n",
      "    10410    0.046    0.000    0.097    0.000 hex.py:131(_search_from)\n",
      "     1072    0.002    0.000    0.096    0.000 ops.py:1340(convert_to_tensor_v2_with_dispatch)\n",
      "    70208    0.095    0.000    0.095    0.000 hexagonal_grid.py:8(__init__)\n",
      "     1072    0.003    0.000    0.094    0.000 ops.py:1408(convert_to_tensor_v2)\n",
      "     1072    0.022    0.000    0.093    0.000 sequential.py:263(_build_graph_network_for_inferred_shape)\n",
      "     3216    0.018    0.000    0.091    0.000 gen_nn_ops.py:10442(relu)\n",
      "     1072    0.005    0.000    0.091    0.000 nn_ops.py:3664(softmax)\n",
      "     1072    0.009    0.000    0.085    0.000 nn_ops.py:3578(_wrap_2d_function)\n",
      "     6432    0.024    0.000    0.076    0.000 base_layer.py:2433(_should_cast_single_input)\n",
      "     1072    0.018    0.000    0.074    0.000 base_layer.py:1606(_clear_losses)\n",
      "     1072    0.008    0.000    0.070    0.000 hex.py:176(available_actions_binary)\n",
      "     7504    0.021    0.000    0.070    0.000 ops.py:6402(name_scope)\n",
      "   356960    0.069    0.000    0.069    0.000 hexagonal_grid.py:30(get_neighbours)\n",
      "   448564    0.068    0.000    0.068    0.000 {method 'append' of 'list' objects}\n",
      "     4288    0.045    0.000    0.067    0.000 encoder.py:114(<listcomp>)\n",
      "     2144    0.004    0.000    0.067    0.000 constant_op.py:299(_constant_eager_impl)\n",
      "     1072    0.003    0.000    0.067    0.000 tensor_conversion_registry.py:50(_default_conversion_function)\n",
      "     1072    0.003    0.000    0.066    0.000 gen_nn_ops.py:10827(softmax)\n",
      "     2144    0.053    0.000    0.063    0.000 constant_op.py:70(convert_to_eager_tensor)\n",
      "    42880    0.023    0.000    0.061    0.000 abc.py:96(__instancecheck__)\n",
      "     9648    0.030    0.000    0.060    0.000 tensor_shape.py:758(<listcomp>)\n",
      "    12864    0.020    0.000    0.059    0.000 base_layer.py:958(<genexpr>)\n",
      "     1072    0.014    0.000    0.054    0.000 functional.py:608(_conform_to_reference_input)\n",
      "      100    0.001    0.000    0.053    0.001 monte_carlo_ts.py:55(_traverse_to_leaf)\n",
      "     6432    0.018    0.000    0.053    0.000 ops.py:6654(__exit__)\n",
      "    70208    0.053    0.000    0.053    0.000 hexagonal_grid.py:108(get_neighbouring_indecies)\n",
      "     3216    0.022    0.000    0.050    0.000 base_layer.py:2524(_set_mask_metadata)\n",
      "     2144    0.018    0.000    0.050    0.000 training.py:306(__setattr__)\n",
      "     1072    0.033    0.000    0.049    0.000 hex.py:180(<listcomp>)\n",
      "    10720    0.032    0.000    0.048    0.000 numeric.py:1308(normalize_axis_tuple)\n",
      "     6432    0.010    0.000    0.048    0.000 keras_tensor.py:51(keras_tensors_enabled)\n",
      "      100    0.004    0.000    0.047    0.000 hex.py:75(copy)\n",
      "     7504    0.011    0.000    0.045    0.000 ops.py:5744(executing_eagerly_outside_functions)\n",
      "     1072    0.005    0.000    0.044    0.000 gen_array_ops.py:8288(reshape)\n",
      "     3216    0.010    0.000    0.043    0.000 hex.py:182(get_state)\n",
      "    19296    0.035    0.000    0.043    0.000 ops.py:1041(dtype)\n",
      "    42880    0.034    0.000    0.042    0.000 {built-in method builtins.getattr}\n",
      "      148    0.001    0.000    0.041    0.000 monte_carlo_ts.py:129(tree_policy)\n",
      "     9648    0.009    0.000    0.041    0.000 dtypes.py:205(__ne__)\n",
      "     6432    0.019    0.000    0.039    0.000 base_layer.py:1186(_set_training_mode)\n",
      "     2144    0.017    0.000    0.039    0.000 encoder.py:101(<listcomp>)\n",
      "    42880    0.039    0.000    0.039    0.000 {built-in method _abc._abc_instancecheck}\n",
      "   150312    0.038    0.000    0.038    0.000 hexagonal_grid.py:33(set_piece)\n",
      "    11792    0.037    0.000    0.037    0.000 dtypes.py:192(__eq__)\n",
      "     6432    0.012    0.000    0.034    0.000 tensor_shape.py:1180(as_list)\n",
      "   228506    0.034    0.000    0.034    0.000 {built-in method builtins.abs}\n",
      "    12864    0.034    0.000    0.034    0.000 context.py:832(scope_name)\n",
      "     6432    0.021    0.000    0.034    0.000 base_layer.py:2562(_get_input_masks)\n",
      "      148    0.005    0.000    0.034    0.000 monte_carlo_ts.py:134(<dictcomp>)\n",
      "     3516    0.030    0.000    0.033    0.000 hex.py:102(get_NW_coordinates)\n",
      "     6432    0.022    0.000    0.032    0.000 base_layer_utils.py:453(enter)\n",
      "     6432    0.010    0.000    0.031    0.000 ops.py:6644(_restore_name_scope)\n",
      "    32160    0.026    0.000    0.030    0.000 tensor_shape.py:187(__init__)\n",
      "     1072    0.008    0.000    0.030    0.000 ops.py:1047(numpy)\n",
      "     1072    0.003    0.000    0.029    0.000 <__array_function__ internals>:2(concatenate)\n",
      "     2314    0.002    0.000    0.029    0.000 monte_carlo_ts.py:162(<lambda>)\n",
      "     3216    0.029    0.000    0.029    0.000 hex.py:187(<listcomp>)\n",
      "     2314    0.022    0.000    0.027    0.000 monte_carlo_ts.py:122(_utc)\n",
      "   116506    0.027    0.000    0.027    0.000 hexagonal_grid.py:24(get_row)\n",
      "   116506    0.027    0.000    0.027    0.000 hexagonal_grid.py:27(get_column)\n",
      "     6432    0.007    0.000    0.027    0.000 {built-in method builtins.all}\n",
      "    26800    0.019    0.000    0.026    0.000 tensor_shape.py:821(rank)\n",
      "    15008    0.026    0.000    0.026    0.000 {method 'reshape' of 'numpy.ndarray' objects}\n",
      "   114250    0.025    0.000    0.025    0.000 {built-in method builtins.len}\n",
      "     3516    0.021    0.000    0.023    0.000 hex.py:116(get_SW_coordinates)\n",
      "     6432    0.017    0.000    0.023    0.000 tensor_shape.py:1191(<listcomp>)\n",
      "     8152    0.020    0.000    0.022    0.000 hexagonal_grid.py:73(get_cells)\n",
      "     7504    0.007    0.000    0.022    0.000 dtypes.py:84(base_dtype)\n",
      "      100    0.001    0.000    0.022    0.000 monte_carlo_ts.py:65(_expand)\n",
      "     6432    0.021    0.000    0.021    0.000 autocast_variable.py:526(__init__)\n",
      "     3516    0.018    0.000    0.020    0.000 hex.py:123(get_SE_coordinates)\n",
      "     5176    0.014    0.000    0.020    0.000 hex.py:147(<listcomp>)\n",
      "     3216    0.020    0.000    0.020    0.000 encoder.py:92(<listcomp>)\n",
      "     2144    0.003    0.000    0.020    0.000 nest.py:545(pack_sequence_as)\n",
      "    70208    0.018    0.000    0.018    0.000 hexagonal_grid.py:39(__hash__)\n",
      "     6432    0.007    0.000    0.017    0.000 base_layer_utils.py:411(call_context)\n",
      "     2144    0.006    0.000    0.016    0.000 nest.py:505(_pack_sequence_as)\n",
      "     6432    0.010    0.000    0.016    0.000 autocast_variable.py:531(__enter__)\n",
      "     6432    0.014    0.000    0.015    0.000 ops.py:6602(__init__)\n",
      "    10720    0.012    0.000    0.015    0.000 shape_base.py:600(<listcomp>)\n",
      "     2144    0.006    0.000    0.015    0.000 training.py:311(<genexpr>)\n",
      "     5360    0.012    0.000    0.015    0.000 node.py:146(map_arguments)\n",
      "     7504    0.015    0.000    0.015    0.000 dtypes.py:71(_is_ref_dtype)\n",
      "     9648    0.015    0.000    0.015    0.000 {method '_shape_tuple' of 'tensorflow.python.framework.ops.EagerTensor' objects}\n",
      "     3516    0.012    0.000    0.014    0.000 hex.py:109(get_NE_coordinates)\n",
      "     1072    0.002    0.000    0.014    0.000 ops.py:1035(_numpy)\n",
      "    10720    0.006    0.000    0.014    0.000 _asarray.py:86(asanyarray)\n",
      "    12864    0.010    0.000    0.014    0.000 base_layer.py:3283(<genexpr>)\n",
      "     1072    0.005    0.000    0.013    0.000 base_layer.py:2605(_set_call_arg_value)\n",
      "     6432    0.013    0.000    0.013    0.000 autocast_variable.py:535(__exit__)\n",
      "     6432    0.013    0.000    0.013    0.000 base_layer_utils.py:536(__exit__)\n",
      "    10720    0.007    0.000    0.013    0.000 numeric.py:1358(<listcomp>)\n",
      "     1072    0.012    0.000    0.012    0.000 {method '_numpy_internal' of 'tensorflow.python.framework.ops.EagerTensor' objects}\n",
      "     1320    0.008    0.000    0.012    0.000 hex.py:92(make_action)\n",
      "     4288    0.010    0.000    0.012    0.000 nn_ops.py:68(_get_sequence)\n",
      "     6432    0.012    0.000    0.012    0.000 context.py:827(scope_name)\n",
      "     2144    0.012    0.000    0.012    0.000 base_layer.py:2823(__setattr__)\n",
      "      348    0.001    0.000    0.011    0.000 hex.py:173(available_actions)\n",
      "    10410    0.008    0.000    0.011    0.000 hex.py:155(<listcomp>)\n",
      "      942    0.008    0.000    0.011    0.000 {built-in method builtins.max}\n",
      "     6432    0.010    0.000    0.010    0.000 base_layer_utils.py:520(__enter__)\n",
      "     1072    0.010    0.000    0.010    0.000 actor.py:68(<dictcomp>)\n",
      "    40736    0.010    0.000    0.010    0.000 context.py:1849(context_safe)\n",
      "     6432    0.010    0.000    0.010    0.000 base_layer_utils.py:515(__init__)\n",
      "    18040    0.010    0.000    0.010    0.000 {method 'pop' of 'list' objects}\n",
      "     1072    0.007    0.000    0.010    0.000 sequential.py:541(relax_input_shape)\n",
      "      248    0.001    0.000    0.010    0.000 monte_carlo_ts.py:107(_is_leaf_node)\n",
      "     6432    0.010    0.000    0.010    0.000 base_layer.py:3036(_split_out_first_arg)\n",
      "      348    0.007    0.000    0.010    0.000 hex.py:174(<listcomp>)\n",
      "     4288    0.010    0.000    0.010    0.000 {built-in method tensorflow.python._pywrap_utils.IsSequence}\n",
      "     1072    0.002    0.000    0.009    0.000 base_layer_utils.py:854(has_weights)\n",
      "     3914    0.008    0.000    0.008    0.000 node.py:41(get_child)\n",
      "    32160    0.008    0.000    0.008    0.000 {method 'popleft' of 'collections.deque' objects}\n",
      "    19296    0.008    0.000    0.008    0.000 {method '_datatype_enum' of 'tensorflow.python.framework.ops.EagerTensor' objects}\n",
      "     1072    0.008    0.000    0.008    0.000 {method 'copy' of 'numpy.ndarray' objects}\n",
      "    34304    0.008    0.000    0.008    0.000 {built-in method builtins.id}\n",
      "    32160    0.008    0.000    0.008    0.000 {method 'add' of 'set' objects}\n",
      "     1072    0.003    0.000    0.008    0.000 functional.py:574(_flatten_to_reference_inputs)\n",
      "     2144    0.007    0.000    0.007    0.000 dtypes.py:606(as_dtype)\n",
      "    17152    0.007    0.000    0.007    0.000 encoder.py:22(<lambda>)\n",
      "    26800    0.007    0.000    0.007    0.000 tensor_shape.py:249(value)\n",
      "     1072    0.003    0.000    0.007    0.000 layer_utils.py:461(wrapped)\n",
      "     1072    0.005    0.000    0.007    0.000 tensor_shape.py:858(__iter__)\n",
      "     1072    0.002    0.000    0.006    0.000 context.py:2401(_tmp_in_graph_mode)\n",
      "     5360    0.005    0.000    0.006    0.000 tensor_shape.py:864(<genexpr>)\n",
      "     6432    0.006    0.000    0.006    0.000 base_layer.py:1252(name)\n",
      "    10720    0.006    0.000    0.006    0.000 functional.py:556(<genexpr>)\n",
      "     4288    0.006    0.000    0.006    0.000 nn_ops.py:3306(_tf_deterministic_ops)\n",
      "    10720    0.006    0.000    0.006    0.000 {built-in method numpy.core._multiarray_umath.normalize_axis_index}\n",
      "     1072    0.005    0.000    0.005    0.000 {method 'astype' of 'numpy.ndarray' objects}\n",
      "     6432    0.005    0.000    0.005    0.000 base_layer_utils.py:487(training)\n",
      "     2144    0.005    0.000    0.005    0.000 context.py:837(device_name)\n",
      "     7504    0.005    0.000    0.005    0.000 base_layer.py:1299(input_spec)\n",
      "     1072    0.003    0.000    0.005    0.000 tensor_shape.py:868(__getitem__)\n",
      "     3216    0.003    0.000    0.005    0.000 base_layer.py:2572(<listcomp>)\n",
      "     4288    0.004    0.000    0.004    0.000 base_layer.py:2535(<genexpr>)\n",
      "     4288    0.004    0.000    0.004    0.000 {method 'startswith' of 'str' objects}\n",
      "     2144    0.001    0.000    0.004    0.000 nest.py:655(<genexpr>)\n",
      "     1072    0.003    0.000    0.004    0.000 weakref.py:419(get)\n",
      "    22512    0.003    0.000    0.003    0.000 {built-in method builtins.next}\n",
      "      378    0.001    0.000    0.003    0.000 random.py:285(choice)\n",
      "      100    0.001    0.000    0.003    0.000 monte_carlo_ts.py:71(<listcomp>)\n",
      "    10720    0.003    0.000    0.003    0.000 nn_ops.py:1116(<genexpr>)\n",
      "     6432    0.003    0.000    0.003    0.000 tensor_shape.py:828(dims)\n",
      "     8153    0.003    0.000    0.003    0.000 {method 'values' of 'dict' objects}\n",
      "     7504    0.003    0.000    0.003    0.000 ops.py:175(__exit__)\n",
      "     2314    0.001    0.000    0.003    0.000 monte_carlo_ts.py:136(<lambda>)\n",
      "     6432    0.003    0.000    0.003    0.000 base_layer.py:2573(<genexpr>)\n",
      "    11792    0.003    0.000    0.003    0.000 {built-in method builtins.iter}\n",
      "    10720    0.003    0.000    0.003    0.000 shape_base.py:508(_expand_dims_dispatcher)\n",
      "     1072    0.003    0.000    0.003    0.000 {method 'sort' of 'list' objects}\n",
      "     2144    0.002    0.000    0.002    0.000 base_layer.py:879(compute_mask)\n",
      "     2144    0.002    0.000    0.002    0.000 context.py:773(_handle)\n",
      "     1072    0.002    0.000    0.002    0.000 tensor_util.py:992(is_tensor)\n",
      "     2144    0.002    0.000    0.002    0.000 {method 'get' of 'dict' objects}\n",
      "     2144    0.002    0.000    0.002    0.000 resource_variable_ops.py:528(shape)\n",
      "     2144    0.002    0.000    0.002    0.000 context.py:501(ensure_initialized)\n",
      "     7504    0.002    0.000    0.002    0.000 ops.py:169(__init__)\n",
      "     1072    0.002    0.000    0.002    0.000 keras_tensor.py:157(shape)\n",
      "      378    0.001    0.000    0.002    0.000 random.py:250(_randbelow_with_getrandbits)\n",
      "     4288    0.002    0.000    0.002    0.000 base_layer.py:2582(_call_arg_was_passed)\n",
      "     1072    0.001    0.000    0.002    0.000 tensor_conversion_registry.py:114(get)\n",
      "     5360    0.002    0.000    0.002    0.000 sequential.py:546(<genexpr>)\n",
      "     7504    0.002    0.000    0.002    0.000 ops.py:172(__enter__)\n",
      "     5361    0.002    0.000    0.002    0.000 {method 'items' of 'dict' objects}\n",
      "     2144    0.002    0.000    0.002    0.000 {method 'endswith' of 'str' objects}\n",
      "     2144    0.002    0.000    0.002    0.000 tensor_shape.py:792(_v2_behavior)\n",
      "     2315    0.002    0.000    0.002    0.000 {built-in method builtins.sum}\n",
      "     1072    0.002    0.000    0.002    0.000 backend.py:370(global_learning_phase_is_set)\n",
      "     3216    0.002    0.000    0.002    0.000 backend_config.py:67(floatx)\n",
      "      148    0.001    0.000    0.001    0.000 monte_carlo_ts.py:133(<listcomp>)\n",
      "     1072    0.001    0.000    0.001    0.000 ops.py:1181(get_shape)\n",
      "     3216    0.001    0.000    0.001    0.000 hex.py:89(get_size)\n",
      "     1072    0.001    0.000    0.001    0.000 tensor_shape.py:845(__len__)\n",
      "      100    0.001    0.000    0.001    0.000 monte_carlo_ts.py:90(_back_prop)\n",
      "     1072    0.001    0.000    0.001    0.000 {method 'random' of '_random.Random' objects}\n",
      "     1072    0.001    0.000    0.001    0.000 keras_tensor.py:340(dtype)\n",
      "     4311    0.001    0.000    0.001    0.000 node.py:24(get_children)\n",
      "     1172    0.001    0.000    0.001    0.000 hexagonal_grid.py:45(__init__)\n",
      "     2144    0.001    0.000    0.001    0.000 device_context.py:21(enclosing_tpu_context)\n",
      "      378    0.001    0.000    0.001    0.000 {method 'bit_length' of 'int' objects}\n",
      "      100    0.000    0.000    0.001    0.000 node.py:3(__init__)\n",
      "     1072    0.001    0.000    0.001    0.000 tf2.py:42(enabled)\n",
      "     1072    0.001    0.000    0.001    0.000 deprecation.py:614(deprecated_argument_lookup)\n",
      "     1498    0.001    0.000    0.001    0.000 {method 'keys' of 'dict' objects}\n",
      "     1072    0.001    0.000    0.001    0.000 {built-in method builtins.issubclass}\n",
      "     1072    0.000    0.000    0.000    0.000 multiarray.py:143(concatenate)\n",
      "     2144    0.000    0.000    0.000    0.000 {method 'pop' of 'dict' objects}\n",
      "     1072    0.000    0.000    0.000    0.000 {built-in method builtins.callable}\n",
      "      549    0.000    0.000    0.000    0.000 {method 'getrandbits' of '_random.Random' objects}\n",
      "      100    0.000    0.000    0.000    0.000 node.py:27(set_parent)\n",
      "      100    0.000    0.000    0.000    0.000 node.py:38(add_child)\n",
      "      100    0.000    0.000    0.000    0.000 node.py:32(set_depth)\n",
      "      200    0.000    0.000    0.000    0.000 hex.py:82(get_current_player)\n",
      "        1    0.000    0.000    0.000    0.000 monte_carlo_ts.py:182(<dictcomp>)\n",
      "        1    0.000    0.000    0.000    0.000 monte_carlo_ts.py:184(<dictcomp>)\n",
      "        1    0.000    0.000    0.000    0.000 {method 'disable' of '_lsprof.Profiler' objects}\n",
      "\n",
      "\n"
     ]
    }
   ],
   "source": [
    "cProfile.run('mcts.search(100)', sort='cumtime')"
   ]
  },
  {
   "cell_type": "code",
   "execution_count": 17,
   "metadata": {},
   "outputs": [
    {
     "name": "stdout",
     "output_type": "stream",
     "text": [
      "         2871821 function calls (2863064 primitive calls) in 3.777 seconds\n",
      "\n",
      "   Ordered by: cumulative time\n",
      "\n",
      "   ncalls  tottime  percall  cumtime  percall filename:lineno(function)\n",
      "        1    0.000    0.000    3.805    3.805 {built-in method builtins.exec}\n",
      "        1    0.000    0.000    3.805    3.805 <string>:1(<module>)\n",
      "        1    0.000    0.000    3.805    3.805 monte_carlo_ts.py:160(search)\n",
      "      100    0.001    0.000    3.805    0.038 monte_carlo_ts.py:152(perform_simulation)\n",
      "      100    0.011    0.000    3.569    0.036 monte_carlo_ts.py:78(_rollout)\n",
      "      973    0.020    0.000    2.441    0.003 actor.py:59(get_action)\n",
      " 5838/973    0.163    0.000    2.350    0.002 base_layer.py:901(__call__)\n",
      "      973    0.008    0.000    2.039    0.002 sequential.py:354(call)\n",
      "      973    0.005    0.000    1.938    0.002 functional.py:406(call)\n",
      "      973    0.075    0.000    1.933    0.002 functional.py:516(_run_internal_graph)\n",
      "16997/13105    0.025    0.000    0.822    0.000 dispatch.py:198(wrapper)\n",
      "     1329    0.011    0.000    0.625    0.000 hex.py:102(make_action)\n",
      "     1329    0.035    0.000    0.611    0.000 encoder.py:294(update_encoding)\n",
      "    13622    0.584    0.000    0.584    0.000 {built-in method tensorflow.python._pywrap_tfe.TFE_Py_FastPathExecute}\n",
      "      100    0.004    0.000    0.534    0.005 hex.py:84(copy)\n",
      "      100    0.000    0.000    0.501    0.005 hex.py:74(set_encoder)\n",
      "      100    0.004    0.000    0.501    0.005 encoder.py:248(encode)\n",
      "     1946    0.024    0.000    0.491    0.000 convolutional.py:244(call)\n",
      "    46374    0.185    0.000    0.456    0.000 encoder.py:134(_coordinate_bridge_encoding)\n",
      "     1946    0.006    0.000    0.386    0.000 core.py:1206(call)\n",
      "     1946    0.022    0.000    0.380    0.000 core.py:30(dense)\n",
      "      600    0.022    0.000    0.339    0.001 encoder.py:118(bridge_encoding)\n",
      "     1429    0.023    0.000    0.307    0.000 encoder.py:193(convert_planes_to_tensor)\n",
      "     1946    0.004    0.000    0.245    0.000 nn_ops.py:1003(convolution_v2)\n",
      "     1946    0.028    0.000    0.241    0.000 nn_ops.py:1029(convolution_internal)\n",
      "     3892    0.029    0.000    0.232    0.000 nn_ops.py:3319(bias_add)\n",
      "     5838    0.074    0.000    0.229    0.000 input_spec.py:159(assert_input_compatibility)\n",
      "    15719    0.033    0.000    0.189    0.000 {built-in method numpy.core._multiarray_umath.implement_array_function}\n",
      "    14290    0.014    0.000    0.189    0.000 <__array_function__ internals>:2(expand_dims)\n",
      "     4865    0.021    0.000    0.186    0.000 base_layer.py:2405(_maybe_cast_inputs)\n",
      "     1946    0.008    0.000    0.179    0.000 nn_ops.py:2583(_conv2d_expanded_batch)\n",
      "      100    0.002    0.000    0.175    0.002 monte_carlo_ts.py:55(_traverse_to_leaf)\n",
      "     1946    0.007    0.000    0.169    0.000 gen_nn_ops.py:860(conv2d)\n",
      "     7974    0.007    0.000    0.165    0.000 encoder.py:335(update_bridge)\n",
      "     3892    0.010    0.000    0.164    0.000 gen_nn_ops.py:646(bias_add)\n",
      "    14290    0.056    0.000    0.157    0.000 shape_base.py:512(expand_dims)\n",
      "    10766    0.049    0.000    0.156    0.000 encoder.py:174(_process_save_endpoint)\n",
      "     1946    0.006    0.000    0.134    0.000 gen_math_ops.py:5500(mat_mul)\n",
      "      200    0.003    0.000    0.124    0.001 hex.py:54(__init__)\n",
      "      973    0.008    0.000    0.123    0.000 nest.py:582(map_structure)\n",
      "    35028    0.059    0.000    0.122    0.000 base_layer.py:2913(_flatten_layers)\n",
      "     1273    0.028    0.000    0.120    0.000 hex.py:169(get_winner)\n",
      "      100    0.006    0.000    0.119    0.001 encoder.py:31(create_padded_env)\n",
      "      200    0.010    0.000    0.119    0.001 hexagonal_grid.py:98(__init__)\n",
      "     2858    0.007    0.000    0.116    0.000 encoder.py:110(to_play_encoding)\n",
      "    23352    0.026    0.000    0.113    0.000 {built-in method builtins.any}\n",
      "     3892    0.010    0.000    0.110    0.000 sequential.py:146(layers)\n",
      "     1946    0.021    0.000    0.108    0.000 math_ops.py:907(cast)\n",
      "   193200    0.069    0.000    0.107    0.000 {built-in method builtins.isinstance}\n",
      "    30163    0.035    0.000    0.106    0.000 ops.py:1168(shape)\n",
      "      973    0.002    0.000    0.105    0.000 nest.py:659(<listcomp>)\n",
      "      973    0.002    0.000    0.103    0.000 base_layer.py:2439(_cast_single_input)\n",
      "   251161    0.101    0.000    0.101    0.000 hexagonal_grid.py:62(get_cell)\n",
      "      200    0.054    0.000    0.101    0.001 hexagonal_grid.py:48(generate_neighbours)\n",
      "     3892    0.013    0.000    0.100    0.000 training.py:2386(layers)\n",
      "    34055    0.029    0.000    0.100    0.000 nest.py:274(flatten)\n",
      "     5838    0.018    0.000    0.095    0.000 base_layer.py:3278(_in_functional_construction_mode)\n",
      "      973    0.005    0.000    0.089    0.000 base.py:513(_method_wrapper)\n",
      "      973    0.004    0.000    0.088    0.000 sequential.py:500(input_spec)\n",
      "    18048    0.086    0.000    0.086    0.000 {built-in method numpy.array}\n",
      "    14595    0.028    0.000    0.084    0.000 tensor_shape.py:748(__init__)\n",
      "     2919    0.008    0.000    0.083    0.000 activations.py:268(relu)\n",
      "    10766    0.076    0.000    0.082    0.000 encoder.py:64(get_carrier_points)\n",
      "    19460    0.016    0.000    0.078    0.000 {built-in method builtins.hasattr}\n",
      "    26271    0.028    0.000    0.074    0.000 context.py:1874(executing_eagerly)\n",
      "     3375    0.005    0.000    0.073    0.000 trace.py:158(wrapped)\n",
      "     2919    0.010    0.000    0.071    0.000 backend.py:4661(relu)\n",
      "    34055    0.071    0.000    0.071    0.000 {built-in method tensorflow.python._pywrap_utils.Flatten}\n",
      "     9488    0.034    0.000    0.071    0.000 hex.py:142(_search_from)\n",
      "     3375    0.014    0.000    0.068    0.000 ops.py:1481(convert_to_tensor)\n",
      "     2402    0.003    0.000    0.068    0.000 constant_op.py:166(constant)\n",
      "      973    0.004    0.000    0.068    0.000 activations.py:44(softmax)\n",
      "     1429    0.002    0.000    0.067    0.000 ops.py:1340(convert_to_tensor_v2_with_dispatch)\n",
      "     5838    0.035    0.000    0.067    0.000 ops.py:6620(__enter__)\n",
      "      973    0.008    0.000    0.065    0.000 core.py:661(call)\n",
      "     1429    0.003    0.000    0.065    0.000 ops.py:1408(convert_to_tensor_v2)\n",
      "     2402    0.008    0.000    0.065    0.000 constant_op.py:268(_constant_impl)\n",
      "    36457    0.062    0.000    0.062    0.000 context.py:815(executing_eagerly)\n",
      "      100    0.001    0.000    0.059    0.001 monte_carlo_ts.py:65(_expand)\n",
      "      973    0.009    0.000    0.058    0.000 sequential.py:263(_build_graph_network_for_inferred_shape)\n",
      "     2919    0.011    0.000    0.053    0.000 gen_nn_ops.py:10442(relu)\n",
      "      973    0.003    0.000    0.052    0.000 deprecation.py:504(new_func)\n",
      "      973    0.003    0.000    0.052    0.000 gen_math_ops.py:1807(cast)\n",
      "      256    0.001    0.000    0.051    0.000 monte_carlo_ts.py:129(tree_policy)\n",
      "     2402    0.003    0.000    0.049    0.000 constant_op.py:299(_constant_eager_impl)\n",
      "      973    0.012    0.000    0.048    0.000 base_layer.py:1606(_clear_losses)\n",
      "    14290    0.029    0.000    0.047    0.000 numeric.py:1308(normalize_axis_tuple)\n",
      "     2402    0.038    0.000    0.046    0.000 constant_op.py:70(convert_to_eager_tensor)\n",
      "     2858    0.020    0.000    0.045    0.000 encoder.py:115(<listcomp>)\n",
      "     8757    0.022    0.000    0.045    0.000 tensor_shape.py:758(<listcomp>)\n",
      "      973    0.004    0.000    0.045    0.000 nn_ops.py:3664(softmax)\n",
      "     1429    0.002    0.000    0.044    0.000 tensor_conversion_registry.py:50(_default_conversion_function)\n",
      "     5838    0.015    0.000    0.044    0.000 base_layer.py:2433(_should_cast_single_input)\n",
      "      256    0.004    0.000    0.041    0.000 monte_carlo_ts.py:134(<dictcomp>)\n",
      "      973    0.004    0.000    0.040    0.000 nn_ops.py:3578(_wrap_2d_function)\n",
      "      973    0.004    0.000    0.038    0.000 hex.py:187(available_actions_binary)\n",
      "   205844    0.038    0.000    0.038    0.000 hexagonal_grid.py:36(get_piece)\n",
      "    38920    0.017    0.000    0.038    0.000 abc.py:96(__instancecheck__)\n",
      "     3870    0.002    0.000    0.037    0.000 monte_carlo_ts.py:162(<lambda>)\n",
      "     6811    0.014    0.000    0.037    0.000 ops.py:6402(name_scope)\n",
      "     5838    0.012    0.000    0.037    0.000 ops.py:6654(__exit__)\n",
      "     3870    0.028    0.000    0.035    0.000 monte_carlo_ts.py:122(_utc)\n",
      "      973    0.009    0.000    0.033    0.000 functional.py:608(_conform_to_reference_input)\n",
      "      973    0.022    0.000    0.032    0.000 hex.py:191(<listcomp>)\n",
      "   205290    0.032    0.000    0.032    0.000 hex.py:96(get_board)\n",
      "     5838    0.007    0.000    0.030    0.000 keras_tensor.py:51(keras_tensors_enabled)\n",
      "      973    0.003    0.000    0.029    0.000 gen_nn_ops.py:10827(softmax)\n",
      "    11676    0.010    0.000    0.029    0.000 base_layer.py:958(<genexpr>)\n",
      "     5838    0.013    0.000    0.028    0.000 base_layer.py:1186(_set_training_mode)\n",
      "     2919    0.012    0.000    0.028    0.000 base_layer.py:2524(_set_mask_metadata)\n",
      "     6811    0.006    0.000    0.027    0.000 ops.py:5744(executing_eagerly_outside_functions)\n",
      "     8757    0.006    0.000    0.027    0.000 dtypes.py:205(__ne__)\n",
      "     1946    0.009    0.000    0.026    0.000 training.py:306(__setattr__)\n",
      "      973    0.003    0.000    0.025    0.000 gen_array_ops.py:8288(reshape)\n",
      "    39376    0.021    0.000    0.025    0.000 {built-in method builtins.getattr}\n",
      "    10703    0.025    0.000    0.025    0.000 dtypes.py:192(__eq__)\n",
      "    29190    0.019    0.000    0.023    0.000 tensor_shape.py:187(__init__)\n",
      "     5838    0.009    0.000    0.022    0.000 ops.py:6644(_restore_name_scope)\n",
      "    17514    0.017    0.000    0.022    0.000 ops.py:1041(dtype)\n",
      "     5838    0.006    0.000    0.021    0.000 tensor_shape.py:1180(as_list)\n",
      "    38920    0.021    0.000    0.021    0.000 {built-in method _abc._abc_instancecheck}\n",
      "    11676    0.021    0.000    0.021    0.000 context.py:832(scope_name)\n",
      "     5838    0.012    0.000    0.021    0.000 base_layer.py:2562(_get_input_masks)\n",
      "     1429    0.002    0.000    0.020    0.000 <__array_function__ internals>:2(concatenate)\n",
      "   118763    0.019    0.000    0.019    0.000 {built-in method builtins.len}\n",
      "    24325    0.014    0.000    0.019    0.000 tensor_shape.py:821(rank)\n",
      "    14290    0.014    0.000    0.018    0.000 shape_base.py:600(<listcomp>)\n",
      "    38800    0.013    0.000    0.018    0.000 hexagonal_grid.py:15(add_neighbour)\n",
      "     8529    0.010    0.000    0.017    0.000 hex.py:207(set_piece)\n",
      "    15563    0.016    0.000    0.016    0.000 {method 'reshape' of 'numpy.ndarray' objects}\n",
      "     5838    0.005    0.000    0.016    0.000 {built-in method builtins.all}\n",
      "     5838    0.010    0.000    0.016    0.000 base_layer_utils.py:453(enter)\n",
      "      973    0.003    0.000    0.015    0.000 ops.py:1047(numpy)\n",
      "     5838    0.010    0.000    0.015    0.000 tensor_shape.py:1191(<listcomp>)\n",
      "    18387    0.015    0.000    0.015    0.000 encoder.py:59(get_bridge_end_points)\n",
      "    11676    0.009    0.000    0.014    0.000 base_layer.py:3283(<genexpr>)\n",
      "     5117    0.010    0.000    0.014    0.000 hex.py:158(<listcomp>)\n",
      "    14290    0.008    0.000    0.014    0.000 numeric.py:1358(<listcomp>)\n",
      "    14290    0.006    0.000    0.013    0.000 _asarray.py:86(asanyarray)\n",
      "     6811    0.005    0.000    0.013    0.000 dtypes.py:84(base_dtype)\n",
      "     1946    0.002    0.000    0.013    0.000 nest.py:545(pack_sequence_as)\n",
      "      456    0.001    0.000    0.013    0.000 hex.py:184(available_actions)\n",
      "     5838    0.012    0.000    0.012    0.000 autocast_variable.py:526(__init__)\n",
      "      356    0.001    0.000    0.012    0.000 monte_carlo_ts.py:107(_is_leaf_node)\n",
      "     3987    0.008    0.000    0.012    0.000 encoder.py:329(update_player_stones)\n",
      "    78556    0.011    0.000    0.011    0.000 {method 'append' of 'list' objects}\n",
      "      456    0.007    0.000    0.011    0.000 hex.py:185(<listcomp>)\n",
      "     1946    0.005    0.000    0.011    0.000 nest.py:505(_pack_sequence_as)\n",
      "     5838    0.008    0.000    0.010    0.000 ops.py:6602(__init__)\n",
      "      300    0.001    0.000    0.010    0.000 encoder.py:90(player_stones_encoding)\n",
      "     5838    0.006    0.000    0.009    0.000 autocast_variable.py:531(__enter__)\n",
      "     5838    0.009    0.000    0.009    0.000 context.py:827(scope_name)\n",
      "     5470    0.008    0.000    0.009    0.000 node.py:41(get_child)\n",
      "      976    0.005    0.000    0.009    0.000 {built-in method builtins.max}\n",
      "      973    0.003    0.000    0.009    0.000 base_layer.py:2605(_set_call_arg_value)\n",
      "     4865    0.008    0.000    0.009    0.000 node.py:146(map_arguments)\n",
      "      973    0.009    0.000    0.009    0.000 actor.py:68(<dictcomp>)\n",
      "     8757    0.008    0.000    0.008    0.000 {method '_shape_tuple' of 'tensorflow.python.framework.ops.EagerTensor' objects}\n",
      "     3892    0.007    0.000    0.008    0.000 nn_ops.py:68(_get_sequence)\n",
      "     6811    0.008    0.000    0.008    0.000 dtypes.py:71(_is_ref_dtype)\n",
      "     1946    0.004    0.000    0.008    0.000 training.py:311(<genexpr>)\n",
      "     9488    0.006    0.000    0.008    0.000 hex.py:166(<listcomp>)\n",
      "      973    0.001    0.000    0.008    0.000 ops.py:1035(_numpy)\n",
      "     5838    0.004    0.000    0.008    0.000 base_layer_utils.py:411(call_context)\n",
      "    37430    0.007    0.000    0.007    0.000 context.py:1849(context_safe)\n",
      "     5838    0.007    0.000    0.007    0.000 autocast_variable.py:535(__exit__)\n",
      "     5838    0.007    0.000    0.007    0.000 base_layer_utils.py:536(__exit__)\n",
      "     1473    0.006    0.000    0.007    0.000 hex.py:113(get_NW_coordinates)\n",
      "     5838    0.007    0.000    0.007    0.000 base_layer_utils.py:520(__enter__)\n",
      "    43917    0.007    0.000    0.007    0.000 hexagonal_grid.py:30(get_neighbours)\n",
      "    38443    0.007    0.000    0.007    0.000 hexagonal_grid.py:24(get_row)\n",
      "    38443    0.007    0.000    0.007    0.000 hexagonal_grid.py:27(get_column)\n",
      "      973    0.007    0.000    0.007    0.000 {method '_numpy_internal' of 'tensorflow.python.framework.ops.EagerTensor' objects}\n",
      "     5838    0.007    0.000    0.007    0.000 base_layer.py:3036(_split_out_first_arg)\n",
      "     8000    0.007    0.000    0.007    0.000 hexagonal_grid.py:8(__init__)\n",
      "    24325    0.006    0.000    0.006    0.000 tensor_shape.py:249(value)\n",
      "    31136    0.006    0.000    0.006    0.000 {built-in method builtins.id}\n",
      "      600    0.004    0.000    0.006    0.000 encoder.py:127(<listcomp>)\n",
      "      973    0.004    0.000    0.006    0.000 sequential.py:541(relax_input_shape)\n",
      "    29190    0.006    0.000    0.006    0.000 {method 'add' of 'set' objects}\n",
      "    14290    0.006    0.000    0.006    0.000 {built-in method numpy.core._multiarray_umath.normalize_axis_index}\n",
      "     1473    0.005    0.000    0.006    0.000 hex.py:134(get_SE_coordinates)\n",
      "     3892    0.006    0.000    0.006    0.000 {built-in method tensorflow.python._pywrap_utils.IsSequence}\n",
      "    16793    0.006    0.000    0.006    0.000 {method 'pop' of 'list' objects}\n",
      "     1473    0.005    0.000    0.006    0.000 hex.py:127(get_SW_coordinates)\n",
      "    37500    0.006    0.000    0.006    0.000 {built-in method builtins.abs}\n",
      "     5838    0.005    0.000    0.005    0.000 base_layer_utils.py:515(__init__)\n",
      "      973    0.002    0.000    0.005    0.000 functional.py:574(_flatten_to_reference_inputs)\n",
      "     1429    0.005    0.000    0.005    0.000 {method 'astype' of 'numpy.ndarray' objects}\n",
      "     1946    0.005    0.000    0.005    0.000 base_layer.py:2823(__setattr__)\n",
      "      973    0.002    0.000    0.005    0.000 layer_utils.py:461(wrapped)\n",
      "     1946    0.005    0.000    0.005    0.000 dtypes.py:606(as_dtype)\n",
      "     5838    0.005    0.000    0.005    0.000 base_layer_utils.py:487(training)\n",
      "     8000    0.005    0.000    0.005    0.000 hexagonal_grid.py:108(get_neighbouring_indecies)\n",
      "    17514    0.005    0.000    0.005    0.000 {method '_datatype_enum' of 'tensorflow.python.framework.ops.EagerTensor' objects}\n",
      "    19458    0.005    0.000    0.005    0.000 hexagonal_grid.py:33(set_piece)\n",
      "     1473    0.004    0.000    0.004    0.000 hex.py:120(get_NE_coordinates)\n",
      "      973    0.001    0.000    0.004    0.000 context.py:2401(_tmp_in_graph_mode)\n",
      "    30009    0.004    0.000    0.004    0.000 {built-in method builtins.next}\n",
      "    29190    0.004    0.000    0.004    0.000 {method 'popleft' of 'collections.deque' objects}\n",
      "      973    0.004    0.000    0.004    0.000 {method 'copy' of 'numpy.ndarray' objects}\n",
      "     9730    0.004    0.000    0.004    0.000 functional.py:556(<genexpr>)\n",
      "     2402    0.004    0.000    0.004    0.000 context.py:837(device_name)\n",
      "      973    0.001    0.000    0.004    0.000 base_layer_utils.py:854(has_weights)\n",
      "     3870    0.001    0.000    0.004    0.000 monte_carlo_ts.py:136(<lambda>)\n",
      "      973    0.003    0.000    0.003    0.000 tensor_shape.py:858(__iter__)\n",
      "     3892    0.003    0.000    0.003    0.000 {method 'startswith' of 'str' objects}\n",
      "     4865    0.002    0.000    0.003    0.000 tensor_shape.py:864(<genexpr>)\n",
      "     2919    0.002    0.000    0.003    0.000 base_layer.py:2572(<listcomp>)\n",
      "      973    0.002    0.000    0.003    0.000 tensor_shape.py:868(__getitem__)\n",
      "     3892    0.002    0.000    0.003    0.000 base_layer.py:2535(<genexpr>)\n",
      "     1946    0.001    0.000    0.003    0.000 nest.py:655(<genexpr>)\n",
      "      300    0.001    0.000    0.003    0.000 hex.py:193(get_state)\n",
      "     2329    0.002    0.000    0.003    0.000 hexagonal_grid.py:73(get_cells)\n",
      "    14290    0.003    0.000    0.003    0.000 shape_base.py:508(_expand_dims_dispatcher)\n",
      "    15263    0.003    0.000    0.003    0.000 {built-in method builtins.iter}\n",
      "     9730    0.003    0.000    0.003    0.000 nn_ops.py:1116(<genexpr>)\n",
      "      973    0.002    0.000    0.003    0.000 weakref.py:419(get)\n",
      "     1946    0.003    0.000    0.003    0.000 resource_variable_ops.py:528(shape)\n",
      "     3892    0.003    0.000    0.003    0.000 nn_ops.py:3306(_tf_deterministic_ops)\n",
      "     6811    0.002    0.000    0.002    0.000 base_layer.py:1299(input_spec)\n",
      "     3871    0.002    0.000    0.002    0.000 {built-in method builtins.sum}\n",
      "      353    0.001    0.000    0.002    0.000 random.py:285(choice)\n",
      "      100    0.001    0.000    0.002    0.000 monte_carlo_ts.py:71(<listcomp>)\n",
      "     1429    0.002    0.000    0.002    0.000 tensor_conversion_registry.py:114(get)\n",
      "     5838    0.002    0.000    0.002    0.000 base_layer.py:1252(name)\n",
      "      300    0.002    0.000    0.002    0.000 hex.py:198(<listcomp>)\n",
      "     6811    0.002    0.000    0.002    0.000 ops.py:175(__exit__)\n",
      "     5838    0.002    0.000    0.002    0.000 tensor_shape.py:828(dims)\n",
      "     2658    0.002    0.000    0.002    0.000 encoder.py:22(coordinate_scaler)\n",
      "     2402    0.002    0.000    0.002    0.000 context.py:773(_handle)\n",
      "      973    0.001    0.000    0.002    0.000 tensor_util.py:992(is_tensor)\n",
      "     4865    0.002    0.000    0.002    0.000 sequential.py:546(<genexpr>)\n",
      "     8000    0.002    0.000    0.002    0.000 hexagonal_grid.py:39(__hash__)\n",
      "     5838    0.002    0.000    0.002    0.000 base_layer.py:2573(<genexpr>)\n",
      "     6811    0.002    0.000    0.002    0.000 ops.py:172(__enter__)\n",
      "     6811    0.002    0.000    0.002    0.000 ops.py:169(__init__)\n",
      "     4866    0.002    0.000    0.002    0.000 {method 'items' of 'dict' objects}\n",
      "      300    0.002    0.000    0.002    0.000 encoder.py:106(<listcomp>)\n",
      "      973    0.002    0.000    0.002    0.000 {method 'sort' of 'list' objects}\n",
      "     3892    0.001    0.000    0.001    0.000 base_layer.py:2582(_call_arg_was_passed)\n",
      "      973    0.001    0.000    0.001    0.000 keras_tensor.py:157(shape)\n",
      "      256    0.001    0.000    0.001    0.000 monte_carlo_ts.py:133(<listcomp>)\n",
      "      353    0.001    0.000    0.001    0.000 random.py:250(_randbelow_with_getrandbits)\n",
      "      100    0.001    0.000    0.001    0.000 monte_carlo_ts.py:90(_back_prop)\n",
      "     2402    0.001    0.000    0.001    0.000 context.py:501(ensure_initialized)\n",
      "     6083    0.001    0.000    0.001    0.000 node.py:24(get_children)\n",
      "      973    0.001    0.000    0.001    0.000 ops.py:1181(get_shape)\n",
      "      973    0.001    0.000    0.001    0.000 backend.py:370(global_learning_phase_is_set)\n",
      "     1946    0.001    0.000    0.001    0.000 {method 'get' of 'dict' objects}\n",
      "      973    0.001    0.000    0.001    0.000 tensor_shape.py:845(__len__)\n",
      "     1946    0.001    0.000    0.001    0.000 {method 'endswith' of 'str' objects}\n",
      "     1946    0.001    0.000    0.001    0.000 base_layer.py:879(compute_mask)\n",
      "      100    0.000    0.000    0.001    0.000 node.py:3(__init__)\n",
      "     2919    0.001    0.000    0.001    0.000 backend_config.py:67(floatx)\n",
      "     1946    0.001    0.000    0.001    0.000 tensor_shape.py:792(_v2_behavior)\n",
      "      973    0.001    0.000    0.001    0.000 {method 'random' of '_random.Random' objects}\n",
      "     2330    0.001    0.000    0.001    0.000 {method 'values' of 'dict' objects}\n",
      "      973    0.001    0.000    0.001    0.000 keras_tensor.py:340(dtype)\n",
      "     1429    0.001    0.000    0.001    0.000 {built-in method builtins.issubclass}\n",
      "      973    0.001    0.000    0.001    0.000 encoder.py:25(get_encoding)\n",
      "     1429    0.001    0.000    0.001    0.000 multiarray.py:143(concatenate)\n",
      "     1600    0.001    0.000    0.001    0.000 encoder.py:36(<lambda>)\n",
      "     1482    0.000    0.000    0.000    0.000 {method 'keys' of 'dict' objects}\n",
      "      973    0.000    0.000    0.000    0.000 tf2.py:42(enabled)\n",
      "     1946    0.000    0.000    0.000    0.000 device_context.py:21(enclosing_tpu_context)\n",
      "      973    0.000    0.000    0.000    0.000 deprecation.py:614(deprecated_argument_lookup)\n",
      "     1946    0.000    0.000    0.000    0.000 {method 'pop' of 'dict' objects}\n",
      "      100    0.000    0.000    0.000    0.000 node.py:27(set_parent)\n",
      "      973    0.000    0.000    0.000    0.000 {built-in method builtins.callable}\n",
      "      560    0.000    0.000    0.000    0.000 {method 'getrandbits' of '_random.Random' objects}\n",
      "      200    0.000    0.000    0.000    0.000 hexagonal_grid.py:45(__init__)\n",
      "      100    0.000    0.000    0.000    0.000 node.py:38(add_child)\n",
      "      353    0.000    0.000    0.000    0.000 {method 'bit_length' of 'int' objects}\n",
      "      100    0.000    0.000    0.000    0.000 node.py:32(set_depth)\n",
      "      300    0.000    0.000    0.000    0.000 hex.py:99(get_size)\n",
      "      200    0.000    0.000    0.000    0.000 hex.py:92(get_current_player)\n",
      "        1    0.000    0.000    0.000    0.000 monte_carlo_ts.py:180(<dictcomp>)\n",
      "        1    0.000    0.000    0.000    0.000 monte_carlo_ts.py:182(<dictcomp>)\n",
      "        1    0.000    0.000    0.000    0.000 {method 'disable' of '_lsprof.Profiler' objects}\n",
      "\n",
      "\n"
     ]
    }
   ],
   "source": [
    "cProfile.run('mcts.search(100)', sort='cumtime')"
   ]
  },
  {
   "cell_type": "code",
   "execution_count": 55,
   "metadata": {},
   "outputs": [
    {
     "name": "stdout",
     "output_type": "stream",
     "text": [
      "         1658276 function calls in 1.349 seconds\n",
      "\n",
      "   Ordered by: cumulative time\n",
      "\n",
      "   ncalls  tottime  percall  cumtime  percall filename:lineno(function)\n",
      "        1    0.000    0.000    1.360    1.360 {built-in method builtins.exec}\n",
      "        1    0.000    0.000    1.360    1.360 <string>:1(<module>)\n",
      "        1    0.000    0.000    1.360    1.360 monte_carlo_ts.py:178(search)\n",
      "      100    0.001    0.000    1.359    0.014 monte_carlo_ts.py:166(perform_simulation)\n",
      "      200    0.008    0.000    1.243    0.006 hex.py:84(copy)\n",
      "      200    0.001    0.000    1.171    0.006 hex.py:74(set_encoder)\n",
      "      200    0.011    0.000    1.170    0.006 encoder.py:248(encode)\n",
      "     1200    0.046    0.000    0.788    0.001 encoder.py:118(bridge_encoding)\n",
      "    77400    0.292    0.000    0.705    0.000 encoder.py:134(_coordinate_bridge_encoding)\n",
      "      100    0.004    0.000    0.693    0.007 monte_carlo_ts.py:65(_expand)\n",
      "      100    0.004    0.000    0.624    0.006 monte_carlo_ts.py:88(_rollout2)\n",
      "      100    0.000    0.000    0.616    0.006 monte_carlo_ts.py:91(<listcomp>)\n",
      "      400    0.007    0.000    0.295    0.001 hex.py:54(__init__)\n",
      "      200    0.014    0.000    0.286    0.001 encoder.py:31(create_padded_env)\n",
      "      400    0.025    0.000    0.284    0.001 hexagonal_grid.py:98(__init__)\n",
      "      400    0.117    0.000    0.232    0.001 hexagonal_grid.py:48(generate_neighbours)\n",
      "    16144    0.058    0.000    0.202    0.000 encoder.py:174(_process_save_endpoint)\n",
      "   406172    0.173    0.000    0.173    0.000 hexagonal_grid.py:62(get_cell)\n",
      "    16144    0.102    0.000    0.109    0.000 encoder.py:64(get_carrier_points)\n",
      "      300    0.006    0.000    0.073    0.000 encoder.py:193(convert_planes_to_tensor)\n",
      "   311916    0.056    0.000    0.056    0.000 hex.py:96(get_board)\n",
      "     5500    0.054    0.000    0.054    0.000 {built-in method numpy.array}\n",
      "      100    0.001    0.000    0.046    0.000 hex.py:102(make_action)\n",
      "    77600    0.034    0.000    0.045    0.000 hexagonal_grid.py:15(add_neighbour)\n",
      "      100    0.003    0.000    0.045    0.000 encoder.py:294(update_encoding)\n",
      "   233833    0.043    0.000    0.043    0.000 hexagonal_grid.py:36(get_piece)\n",
      "     3400    0.008    0.000    0.043    0.000 {built-in method numpy.core._multiarray_umath.implement_array_function}\n",
      "     3000    0.004    0.000    0.041    0.000 <__array_function__ internals>:2(expand_dims)\n",
      "      100    0.001    0.000    0.040    0.000 monte_carlo_ts.py:55(_traverse_to_leaf)\n",
      "     3000    0.012    0.000    0.033    0.000 shape_base.py:512(expand_dims)\n",
      "      144    0.001    0.000    0.030    0.000 monte_carlo_ts.py:143(tree_policy)\n",
      "    30264    0.027    0.000    0.027    0.000 encoder.py:59(get_bridge_end_points)\n",
      "    14500    0.015    0.000    0.025    0.000 hex.py:207(set_piece)\n",
      "      144    0.003    0.000    0.024    0.000 monte_carlo_ts.py:148(<dictcomp>)\n",
      "    16000    0.023    0.000    0.023    0.000 hexagonal_grid.py:8(__init__)\n",
      "      600    0.001    0.000    0.023    0.000 encoder.py:110(to_play_encoding)\n",
      "     2260    0.001    0.000    0.022    0.000 monte_carlo_ts.py:180(<lambda>)\n",
      "     2260    0.016    0.000    0.021    0.000 monte_carlo_ts.py:136(_utc)\n",
      "      300    0.000    0.000    0.020    0.000 dispatch.py:198(wrapper)\n",
      "      600    0.003    0.000    0.020    0.000 encoder.py:90(player_stones_encoding)\n",
      "      300    0.000    0.000    0.020    0.000 ops.py:1340(convert_to_tensor_v2_with_dispatch)\n",
      "      300    0.001    0.000    0.019    0.000 ops.py:1408(convert_to_tensor_v2)\n",
      "      300    0.001    0.000    0.018    0.000 trace.py:158(wrapped)\n",
      "      300    0.002    0.000    0.018    0.000 ops.py:1481(convert_to_tensor)\n",
      "      300    0.001    0.000    0.015    0.000 tensor_conversion_registry.py:50(_default_conversion_function)\n",
      "      300    0.000    0.000    0.014    0.000 constant_op.py:166(constant)\n",
      "      300    0.004    0.000    0.013    0.000 constant_op.py:268(_constant_impl)\n",
      "     1200    0.008    0.000    0.013    0.000 encoder.py:127(<listcomp>)\n",
      "    77669    0.013    0.000    0.013    0.000 hexagonal_grid.py:30(get_neighbours)\n",
      "    90738    0.013    0.000    0.013    0.000 {method 'append' of 'list' objects}\n",
      "      344    0.001    0.000    0.011    0.000 hex.py:184(available_actions)\n",
      "    16000    0.010    0.000    0.010    0.000 hexagonal_grid.py:108(get_neighbouring_indecies)\n",
      "      600    0.001    0.000    0.010    0.000 encoder.py:335(update_bridge)\n",
      "     3000    0.006    0.000    0.010    0.000 numeric.py:1308(normalize_axis_tuple)\n",
      "      344    0.006    0.000    0.010    0.000 hex.py:185(<listcomp>)\n",
      "      600    0.004    0.000    0.009    0.000 encoder.py:115(<listcomp>)\n",
      "      244    0.001    0.000    0.009    0.000 monte_carlo_ts.py:121(_is_leaf_node)\n",
      "      100    0.003    0.000    0.008    0.000 hex.py:169(get_winner)\n",
      "    33800    0.008    0.000    0.008    0.000 hexagonal_grid.py:33(set_piece)\n",
      "      300    0.000    0.000    0.007    0.000 constant_op.py:299(_constant_eager_impl)\n",
      "     3860    0.007    0.000    0.007    0.000 node.py:42(get_child)\n",
      "      300    0.006    0.000    0.007    0.000 constant_op.py:70(convert_to_eager_tensor)\n",
      "    56927    0.007    0.000    0.007    0.000 {built-in method builtins.abs}\n",
      "      600    0.001    0.000    0.007    0.000 hex.py:193(get_state)\n",
      "    27641    0.005    0.000    0.005    0.000 hexagonal_grid.py:24(get_row)\n",
      "      300    0.001    0.000    0.005    0.000 <__array_function__ internals>:2(concatenate)\n",
      "    27641    0.005    0.000    0.005    0.000 hexagonal_grid.py:27(get_column)\n",
      "      600    0.005    0.000    0.005    0.000 hex.py:198(<listcomp>)\n",
      "     3600    0.004    0.000    0.004    0.000 {method 'reshape' of 'numpy.ndarray' objects}\n",
      "      800    0.002    0.000    0.004    0.000 hex.py:142(_search_from)\n",
      "     3000    0.003    0.000    0.004    0.000 shape_base.py:600(<listcomp>)\n",
      "    16000    0.003    0.000    0.003    0.000 hexagonal_grid.py:39(__hash__)\n",
      "      144    0.001    0.000    0.003    0.000 {built-in method builtins.max}\n",
      "      100    0.001    0.000    0.003    0.000 monte_carlo_ts.py:71(<listcomp>)\n",
      "      600    0.003    0.000    0.003    0.000 encoder.py:106(<listcomp>)\n",
      "      100    0.000    0.000    0.003    0.000 <__array_function__ internals>:2(all)\n",
      "     3000    0.002    0.000    0.003    0.000 numeric.py:1358(<listcomp>)\n",
      "     3000    0.001    0.000    0.003    0.000 _asarray.py:86(asanyarray)\n",
      "      500    0.002    0.000    0.003    0.000 hex.py:120(get_NE_coordinates)\n",
      "      100    0.000    0.000    0.003    0.000 fromnumeric.py:2337(all)\n",
      "      500    0.002    0.000    0.003    0.000 hex.py:113(get_NW_coordinates)\n",
      "      500    0.002    0.000    0.003    0.000 hex.py:134(get_SE_coordinates)\n",
      "      100    0.001    0.000    0.002    0.000 fromnumeric.py:70(_wrapreduction)\n",
      "      500    0.002    0.000    0.002    0.000 hex.py:127(get_SW_coordinates)\n",
      "      300    0.002    0.000    0.002    0.000 context.py:815(executing_eagerly)\n",
      "     2144    0.001    0.000    0.002    0.000 hexagonal_grid.py:73(get_cells)\n",
      "     2260    0.001    0.000    0.002    0.000 monte_carlo_ts.py:150(<lambda>)\n",
      "    12101    0.002    0.000    0.002    0.000 {built-in method builtins.len}\n",
      "      100    0.001    0.000    0.001    0.000 {method 'reduce' of 'numpy.ufunc' objects}\n",
      "      100    0.001    0.000    0.001    0.000 monte_carlo_ts.py:104(_back_prop)\n",
      "     3000    0.001    0.000    0.001    0.000 {built-in method numpy.core._multiarray_umath.normalize_axis_index}\n",
      "      300    0.001    0.000    0.001    0.000 {method 'astype' of 'numpy.ndarray' objects}\n",
      "     4200    0.001    0.000    0.001    0.000 {built-in method builtins.isinstance}\n",
      "     2261    0.001    0.000    0.001    0.000 {built-in method builtins.sum}\n",
      "     3200    0.001    0.000    0.001    0.000 encoder.py:36(<lambda>)\n",
      "      100    0.000    0.000    0.001    0.000 node.py:3(__init__)\n",
      "     3000    0.001    0.000    0.001    0.000 shape_base.py:508(_expand_dims_dispatcher)\n",
      "      300    0.001    0.000    0.001    0.000 encoder.py:329(update_player_stones)\n",
      "     4249    0.001    0.000    0.001    0.000 node.py:25(get_children)\n",
      "      144    0.001    0.000    0.001    0.000 monte_carlo_ts.py:147(<listcomp>)\n",
      "     6300    0.001    0.000    0.001    0.000 {built-in method builtins.next}\n",
      "      100    0.000    0.000    0.001    0.000 random.py:285(choice)\n",
      "     2145    0.001    0.000    0.001    0.000 {method 'values' of 'dict' objects}\n",
      "      300    0.001    0.000    0.001    0.000 {built-in method builtins.getattr}\n",
      "      300    0.001    0.000    0.001    0.000 context.py:837(device_name)\n",
      "     3000    0.000    0.000    0.000    0.000 {built-in method builtins.iter}\n",
      "      100    0.000    0.000    0.000    0.000 random.py:250(_randbelow_with_getrandbits)\n",
      "      300    0.000    0.000    0.000    0.000 tensor_conversion_registry.py:114(get)\n",
      "      100    0.000    0.000    0.000    0.000 node.py:28(set_parent)\n",
      "      100    0.000    0.000    0.000    0.000 monte_carlo_ts.py:100(<listcomp>)\n",
      "      800    0.000    0.000    0.000    0.000 hex.py:166(<listcomp>)\n",
      "      400    0.000    0.000    0.000    0.000 hexagonal_grid.py:45(__init__)\n",
      "      300    0.000    0.000    0.000    0.000 context.py:501(ensure_initialized)\n",
      "      300    0.000    0.000    0.000    0.000 context.py:773(_handle)\n",
      "      200    0.000    0.000    0.000    0.000 encoder.py:22(coordinate_scaler)\n",
      "       69    0.000    0.000    0.000    0.000 hex.py:158(<listcomp>)\n",
      "      600    0.000    0.000    0.000    0.000 hex.py:99(get_size)\n",
      "      100    0.000    0.000    0.000    0.000 node.py:39(add_child)\n",
      "      100    0.000    0.000    0.000    0.000 node.py:33(set_depth)\n",
      "      100    0.000    0.000    0.000    0.000 monte_carlo_ts.py:90(<listcomp>)\n",
      "      300    0.000    0.000    0.000    0.000 {built-in method builtins.issubclass}\n",
      "      100    0.000    0.000    0.000    0.000 fromnumeric.py:71(<dictcomp>)\n",
      "      300    0.000    0.000    0.000    0.000 context.py:1849(context_safe)\n",
      "      150    0.000    0.000    0.000    0.000 {method 'getrandbits' of '_random.Random' objects}\n",
      "      300    0.000    0.000    0.000    0.000 multiarray.py:143(concatenate)\n",
      "      200    0.000    0.000    0.000    0.000 hex.py:92(get_current_player)\n",
      "      100    0.000    0.000    0.000    0.000 monte_carlo_ts.py:92(<listcomp>)\n",
      "      144    0.000    0.000    0.000    0.000 {method 'keys' of 'dict' objects}\n",
      "      101    0.000    0.000    0.000    0.000 {method 'items' of 'dict' objects}\n",
      "       69    0.000    0.000    0.000    0.000 {method 'pop' of 'list' objects}\n",
      "      100    0.000    0.000    0.000    0.000 {method 'bit_length' of 'int' objects}\n",
      "      100    0.000    0.000    0.000    0.000 fromnumeric.py:2333(_all_dispatcher)\n",
      "        1    0.000    0.000    0.000    0.000 monte_carlo_ts.py:198(<dictcomp>)\n",
      "        1    0.000    0.000    0.000    0.000 monte_carlo_ts.py:200(<dictcomp>)\n",
      "        1    0.000    0.000    0.000    0.000 {method 'disable' of '_lsprof.Profiler' objects}\n",
      "\n",
      "\n"
     ]
    }
   ],
   "source": [
    "cProfile.run('mcts.search(100)', sort='cumtime')"
   ]
  },
  {
   "cell_type": "code",
   "execution_count": 10,
   "metadata": {},
   "outputs": [
    {
     "name": "stdout",
     "output_type": "stream",
     "text": [
      "         1468 function calls (1459 primitive calls) in 0.005 seconds\n",
      "\n",
      "   Ordered by: cumulative time\n",
      "\n",
      "   ncalls  tottime  percall  cumtime  percall filename:lineno(function)\n",
      "        1    0.000    0.000    0.005    0.005 {built-in method builtins.exec}\n",
      "        1    0.000    0.000    0.005    0.005 <string>:1(<module>)\n",
      "        1    0.000    0.000    0.005    0.005 actor.py:59(get_action)\n",
      "      6/1    0.000    0.000    0.005    0.005 base_layer.py:901(__call__)\n",
      "        1    0.000    0.000    0.004    0.004 sequential.py:354(call)\n",
      "        1    0.000    0.000    0.004    0.004 functional.py:406(call)\n",
      "        1    0.000    0.000    0.004    0.004 functional.py:516(_run_internal_graph)\n",
      "    16/12    0.000    0.000    0.002    0.000 dispatch.py:198(wrapper)\n",
      "       14    0.001    0.000    0.001    0.000 {built-in method tensorflow.python._pywrap_tfe.TFE_Py_FastPathExecute}\n",
      "        2    0.000    0.000    0.001    0.001 convolutional.py:244(call)\n",
      "        2    0.000    0.000    0.001    0.000 core.py:1206(call)\n",
      "        2    0.000    0.000    0.001    0.000 core.py:30(dense)\n",
      "        2    0.000    0.000    0.001    0.000 nn_ops.py:1003(convolution_v2)\n",
      "        2    0.000    0.000    0.001    0.000 nn_ops.py:1029(convolution_internal)\n",
      "        4    0.000    0.000    0.000    0.000 nn_ops.py:3319(bias_add)\n",
      "        2    0.000    0.000    0.000    0.000 nn_ops.py:2583(_conv2d_expanded_batch)\n",
      "        2    0.000    0.000    0.000    0.000 gen_nn_ops.py:860(conv2d)\n",
      "        5    0.000    0.000    0.000    0.000 base_layer.py:2405(_maybe_cast_inputs)\n",
      "       35    0.000    0.000    0.000    0.000 nest.py:274(flatten)\n",
      "       35    0.000    0.000    0.000    0.000 {built-in method tensorflow.python._pywrap_utils.Flatten}\n",
      "        6    0.000    0.000    0.000    0.000 input_spec.py:159(assert_input_compatibility)\n",
      "        1    0.000    0.000    0.000    0.000 nest.py:582(map_structure)\n",
      "        4    0.000    0.000    0.000    0.000 gen_nn_ops.py:646(bias_add)\n",
      "        2    0.000    0.000    0.000    0.000 math_ops.py:907(cast)\n",
      "        1    0.000    0.000    0.000    0.000 nest.py:659(<listcomp>)\n",
      "        1    0.000    0.000    0.000    0.000 base_layer.py:2439(_cast_single_input)\n",
      "        2    0.000    0.000    0.000    0.000 gen_math_ops.py:5500(mat_mul)\n",
      "        1    0.000    0.000    0.000    0.000 gen_math_ops.py:1807(cast)\n",
      "       24    0.000    0.000    0.000    0.000 {built-in method builtins.any}\n",
      "        3    0.000    0.000    0.000    0.000 activations.py:268(relu)\n",
      "        6    0.000    0.000    0.000    0.000 base_layer.py:3278(_in_functional_construction_mode)\n",
      "       31    0.000    0.000    0.000    0.000 ops.py:1168(shape)\n",
      "        3    0.000    0.000    0.000    0.000 backend.py:4661(relu)\n",
      "      178    0.000    0.000    0.000    0.000 {built-in method builtins.isinstance}\n",
      "       36    0.000    0.000    0.000    0.000 base_layer.py:2913(_flatten_layers)\n",
      "       27    0.000    0.000    0.000    0.000 context.py:1874(executing_eagerly)\n",
      "       15    0.000    0.000    0.000    0.000 tensor_shape.py:748(__init__)\n",
      "        1    0.000    0.000    0.000    0.000 core.py:661(call)\n",
      "        4    0.000    0.000    0.000    0.000 sequential.py:146(layers)\n",
      "        1    0.000    0.000    0.000    0.000 activations.py:44(softmax)\n",
      "       20    0.000    0.000    0.000    0.000 {built-in method builtins.hasattr}\n",
      "        3    0.000    0.000    0.000    0.000 gen_nn_ops.py:10442(relu)\n",
      "        1    0.000    0.000    0.000    0.000 base.py:513(_method_wrapper)\n",
      "        4    0.000    0.000    0.000    0.000 training.py:2386(layers)\n",
      "       36    0.000    0.000    0.000    0.000 context.py:815(executing_eagerly)\n",
      "        6    0.000    0.000    0.000    0.000 ops.py:6620(__enter__)\n",
      "        1    0.000    0.000    0.000    0.000 sequential.py:500(input_spec)\n",
      "        1    0.000    0.000    0.000    0.000 deprecation.py:504(new_func)\n",
      "        1    0.000    0.000    0.000    0.000 nn_ops.py:3664(softmax)\n",
      "        6    0.000    0.000    0.000    0.000 base_layer.py:2433(_should_cast_single_input)\n",
      "        1    0.000    0.000    0.000    0.000 sequential.py:263(_build_graph_network_for_inferred_shape)\n",
      "        1    0.000    0.000    0.000    0.000 hex.py:187(available_actions_binary)\n",
      "        7    0.000    0.000    0.000    0.000 ops.py:6402(name_scope)\n",
      "        6    0.000    0.000    0.000    0.000 keras_tensor.py:51(keras_tensors_enabled)\n",
      "        1    0.000    0.000    0.000    0.000 nn_ops.py:3578(_wrap_2d_function)\n",
      "        6    0.000    0.000    0.000    0.000 ops.py:6654(__exit__)\n",
      "        9    0.000    0.000    0.000    0.000 tensor_shape.py:758(<listcomp>)\n",
      "        1    0.000    0.000    0.000    0.000 base_layer.py:1606(_clear_losses)\n",
      "        7    0.000    0.000    0.000    0.000 ops.py:5744(executing_eagerly_outside_functions)\n",
      "        1    0.000    0.000    0.000    0.000 hex.py:191(<listcomp>)\n",
      "       40    0.000    0.000    0.000    0.000 abc.py:96(__instancecheck__)\n",
      "       12    0.000    0.000    0.000    0.000 base_layer.py:958(<genexpr>)\n",
      "        3    0.000    0.000    0.000    0.000 base_layer.py:2524(_set_mask_metadata)\n",
      "        1    0.000    0.000    0.000    0.000 constant_op.py:166(constant)\n",
      "        1    0.000    0.000    0.000    0.000 functional.py:608(_conform_to_reference_input)\n",
      "        1    0.000    0.000    0.000    0.000 constant_op.py:268(_constant_impl)\n",
      "        1    0.000    0.000    0.000    0.000 gen_nn_ops.py:10827(softmax)\n",
      "        1    0.000    0.000    0.000    0.000 gen_array_ops.py:8288(reshape)\n",
      "        6    0.000    0.000    0.000    0.000 base_layer.py:2562(_get_input_masks)\n",
      "       39    0.000    0.000    0.000    0.000 {built-in method builtins.getattr}\n",
      "        6    0.000    0.000    0.000    0.000 base_layer.py:1186(_set_training_mode)\n",
      "        9    0.000    0.000    0.000    0.000 dtypes.py:205(__ne__)\n",
      "       18    0.000    0.000    0.000    0.000 ops.py:1041(dtype)\n",
      "        1    0.000    0.000    0.000    0.000 constant_op.py:299(_constant_eager_impl)\n",
      "       12    0.000    0.000    0.000    0.000 context.py:832(scope_name)\n",
      "        6    0.000    0.000    0.000    0.000 ops.py:6644(_restore_name_scope)\n",
      "        1    0.000    0.000    0.000    0.000 constant_op.py:70(convert_to_eager_tensor)\n",
      "       11    0.000    0.000    0.000    0.000 dtypes.py:192(__eq__)\n",
      "        6    0.000    0.000    0.000    0.000 base_layer_utils.py:453(enter)\n",
      "        1    0.000    0.000    0.000    0.000 ops.py:1047(numpy)\n",
      "        2    0.000    0.000    0.000    0.000 training.py:306(__setattr__)\n",
      "       40    0.000    0.000    0.000    0.000 {built-in method _abc._abc_instancecheck}\n",
      "       30    0.000    0.000    0.000    0.000 tensor_shape.py:187(__init__)\n",
      "        6    0.000    0.000    0.000    0.000 tensor_shape.py:1180(as_list)\n",
      "        2    0.000    0.000    0.000    0.000 nest.py:545(pack_sequence_as)\n",
      "        6    0.000    0.000    0.000    0.000 {built-in method builtins.all}\n",
      "        6    0.000    0.000    0.000    0.000 autocast_variable.py:526(__init__)\n",
      "       25    0.000    0.000    0.000    0.000 tensor_shape.py:821(rank)\n",
      "        2    0.000    0.000    0.000    0.000 nest.py:505(_pack_sequence_as)\n",
      "        7    0.000    0.000    0.000    0.000 dtypes.py:84(base_dtype)\n",
      "        6    0.000    0.000    0.000    0.000 tensor_shape.py:1191(<listcomp>)\n",
      "       12    0.000    0.000    0.000    0.000 base_layer.py:3283(<genexpr>)\n",
      "        1    0.000    0.000    0.000    0.000 ops.py:1035(_numpy)\n",
      "        6    0.000    0.000    0.000    0.000 autocast_variable.py:531(__enter__)\n",
      "        1    0.000    0.000    0.000    0.000 actor.py:68(<dictcomp>)\n",
      "        5    0.000    0.000    0.000    0.000 node.py:146(map_arguments)\n",
      "        6    0.000    0.000    0.000    0.000 ops.py:6602(__init__)\n",
      "        2    0.000    0.000    0.000    0.000 trace.py:158(wrapped)\n",
      "        6    0.000    0.000    0.000    0.000 base_layer_utils.py:411(call_context)\n",
      "        9    0.000    0.000    0.000    0.000 {method '_shape_tuple' of 'tensorflow.python.framework.ops.EagerTensor' objects}\n",
      "        6    0.000    0.000    0.000    0.000 base_layer_utils.py:536(__exit__)\n",
      "        1    0.000    0.000    0.000    0.000 base_layer.py:2605(_set_call_arg_value)\n",
      "        6    0.000    0.000    0.000    0.000 autocast_variable.py:535(__exit__)\n",
      "        1    0.000    0.000    0.000    0.000 random.py:285(choice)\n",
      "        2    0.000    0.000    0.000    0.000 ops.py:1481(convert_to_tensor)\n",
      "        7    0.000    0.000    0.000    0.000 dtypes.py:71(_is_ref_dtype)\n",
      "        6    0.000    0.000    0.000    0.000 context.py:827(scope_name)\n",
      "        6    0.000    0.000    0.000    0.000 base_layer_utils.py:520(__enter__)\n",
      "        1    0.000    0.000    0.000    0.000 {method '_numpy_internal' of 'tensorflow.python.framework.ops.EagerTensor' objects}\n",
      "       50    0.000    0.000    0.000    0.000 {built-in method builtins.len}\n",
      "       37    0.000    0.000    0.000    0.000 context.py:1849(context_safe)\n",
      "        4    0.000    0.000    0.000    0.000 {built-in method tensorflow.python._pywrap_utils.IsSequence}\n",
      "        4    0.000    0.000    0.000    0.000 nn_ops.py:68(_get_sequence)\n",
      "        1    0.000    0.000    0.000    0.000 random.py:250(_randbelow_with_getrandbits)\n",
      "        6    0.000    0.000    0.000    0.000 base_layer.py:3036(_split_out_first_arg)\n",
      "        2    0.000    0.000    0.000    0.000 training.py:311(<genexpr>)\n",
      "        6    0.000    0.000    0.000    0.000 base_layer_utils.py:515(__init__)\n",
      "       18    0.000    0.000    0.000    0.000 {method '_datatype_enum' of 'tensorflow.python.framework.ops.EagerTensor' objects}\n",
      "        3    0.000    0.000    0.000    0.000 base_layer.py:2572(<listcomp>)\n",
      "        1    0.000    0.000    0.000    0.000 layer_utils.py:461(wrapped)\n",
      "        1    0.000    0.000    0.000    0.000 context.py:2401(_tmp_in_graph_mode)\n",
      "        1    0.000    0.000    0.000    0.000 sequential.py:541(relax_input_shape)\n",
      "        2    0.000    0.000    0.000    0.000 base_layer.py:2823(__setattr__)\n",
      "       32    0.000    0.000    0.000    0.000 {built-in method builtins.id}\n",
      "       25    0.000    0.000    0.000    0.000 tensor_shape.py:249(value)\n",
      "        1    0.000    0.000    0.000    0.000 {method 'copy' of 'numpy.ndarray' objects}\n",
      "        2    0.000    0.000    0.000    0.000 dtypes.py:606(as_dtype)\n",
      "        1    0.000    0.000    0.000    0.000 functional.py:574(_flatten_to_reference_inputs)\n",
      "        4    0.000    0.000    0.000    0.000 base_layer.py:2535(<genexpr>)\n",
      "       10    0.000    0.000    0.000    0.000 functional.py:556(<genexpr>)\n",
      "        1    0.000    0.000    0.000    0.000 tensor_shape.py:868(__getitem__)\n",
      "       12    0.000    0.000    0.000    0.000 {method 'pop' of 'list' objects}\n",
      "       16    0.000    0.000    0.000    0.000 hexagonal_grid.py:36(get_piece)\n",
      "       30    0.000    0.000    0.000    0.000 {method 'add' of 'set' objects}\n",
      "        4    0.000    0.000    0.000    0.000 nn_ops.py:3306(_tf_deterministic_ops)\n",
      "        1    0.000    0.000    0.000    0.000 tensor_shape.py:858(__iter__)\n",
      "       16    0.000    0.000    0.000    0.000 hexagonal_grid.py:27(get_column)\n",
      "        6    0.000    0.000    0.000    0.000 base_layer_utils.py:487(training)\n",
      "       16    0.000    0.000    0.000    0.000 hexagonal_grid.py:24(get_row)\n",
      "        1    0.000    0.000    0.000    0.000 hexagonal_grid.py:73(get_cells)\n",
      "       30    0.000    0.000    0.000    0.000 {method 'popleft' of 'collections.deque' objects}\n",
      "        1    0.000    0.000    0.000    0.000 weakref.py:419(get)\n",
      "        2    0.000    0.000    0.000    0.000 nest.py:655(<genexpr>)\n",
      "        1    0.000    0.000    0.000    0.000 {method 'reshape' of 'numpy.ndarray' objects}\n",
      "        4    0.000    0.000    0.000    0.000 {method 'startswith' of 'str' objects}\n",
      "        7    0.000    0.000    0.000    0.000 base_layer.py:1299(input_spec)\n",
      "        5    0.000    0.000    0.000    0.000 tensor_shape.py:864(<genexpr>)\n",
      "        6    0.000    0.000    0.000    0.000 base_layer.py:1252(name)\n",
      "        7    0.000    0.000    0.000    0.000 ops.py:175(__exit__)\n",
      "        2    0.000    0.000    0.000    0.000 resource_variable_ops.py:528(shape)\n",
      "        6    0.000    0.000    0.000    0.000 tensor_shape.py:828(dims)\n",
      "        1    0.000    0.000    0.000    0.000 keras_tensor.py:157(shape)\n",
      "        1    0.000    0.000    0.000    0.000 base_layer_utils.py:854(has_weights)\n",
      "       10    0.000    0.000    0.000    0.000 nn_ops.py:1116(<genexpr>)\n",
      "        1    0.000    0.000    0.000    0.000 tensor_util.py:992(is_tensor)\n",
      "        1    0.000    0.000    0.000    0.000 context.py:837(device_name)\n",
      "        7    0.000    0.000    0.000    0.000 {method 'append' of 'list' objects}\n",
      "        6    0.000    0.000    0.000    0.000 base_layer.py:2573(<genexpr>)\n",
      "        7    0.000    0.000    0.000    0.000 ops.py:172(__enter__)\n",
      "        4    0.000    0.000    0.000    0.000 base_layer.py:2582(_call_arg_was_passed)\n",
      "        3    0.000    0.000    0.000    0.000 backend_config.py:67(floatx)\n",
      "        7    0.000    0.000    0.000    0.000 ops.py:169(__init__)\n",
      "        1    0.000    0.000    0.000    0.000 context.py:773(_handle)\n",
      "        1    0.000    0.000    0.000    0.000 backend.py:370(global_learning_phase_is_set)\n",
      "        5    0.000    0.000    0.000    0.000 sequential.py:546(<genexpr>)\n",
      "        5    0.000    0.000    0.000    0.000 {method 'items' of 'dict' objects}\n",
      "        1    0.000    0.000    0.000    0.000 ops.py:1181(get_shape)\n",
      "        2    0.000    0.000    0.000    0.000 tensor_shape.py:792(_v2_behavior)\n",
      "        1    0.000    0.000    0.000    0.000 {method 'sort' of 'list' objects}\n",
      "        2    0.000    0.000    0.000    0.000 {method 'endswith' of 'str' objects}\n",
      "        1    0.000    0.000    0.000    0.000 tensor_shape.py:845(__len__)\n",
      "        2    0.000    0.000    0.000    0.000 {method 'get' of 'dict' objects}\n",
      "        1    0.000    0.000    0.000    0.000 keras_tensor.py:340(dtype)\n",
      "        2    0.000    0.000    0.000    0.000 base_layer.py:879(compute_mask)\n",
      "        1    0.000    0.000    0.000    0.000 tf2.py:42(enabled)\n",
      "        1    0.000    0.000    0.000    0.000 hex.py:96(get_board)\n",
      "        2    0.000    0.000    0.000    0.000 {method 'keys' of 'dict' objects}\n",
      "        1    0.000    0.000    0.000    0.000 context.py:501(ensure_initialized)\n",
      "        1    0.000    0.000    0.000    0.000 {method 'random' of '_random.Random' objects}\n",
      "        2    0.000    0.000    0.000    0.000 device_context.py:21(enclosing_tpu_context)\n",
      "        1    0.000    0.000    0.000    0.000 encoder.py:18(get_encoding)\n",
      "        1    0.000    0.000    0.000    0.000 deprecation.py:614(deprecated_argument_lookup)\n",
      "        1    0.000    0.000    0.000    0.000 {method 'getrandbits' of '_random.Random' objects}\n",
      "        1    0.000    0.000    0.000    0.000 {method 'disable' of '_lsprof.Profiler' objects}\n",
      "        1    0.000    0.000    0.000    0.000 {method 'bit_length' of 'int' objects}\n",
      "        2    0.000    0.000    0.000    0.000 {method 'pop' of 'dict' objects}\n",
      "        1    0.000    0.000    0.000    0.000 {method 'values' of 'dict' objects}\n",
      "        1    0.000    0.000    0.000    0.000 {built-in method builtins.callable}\n",
      "        1    0.000    0.000    0.000    0.000 {built-in method builtins.iter}\n",
      "\n",
      "\n"
     ]
    }
   ],
   "source": [
    "cProfile.run('actor.get_action(h)', sort='cumtime')"
   ]
  },
  {
   "cell_type": "code",
   "execution_count": 15,
   "metadata": {},
   "outputs": [
    {
     "name": "stdout",
     "output_type": "stream",
     "text": [
      "         5413 function calls in 0.004 seconds\n",
      "\n",
      "   Ordered by: cumulative time\n",
      "\n",
      "   ncalls  tottime  percall  cumtime  percall filename:lineno(function)\n",
      "        1    0.000    0.000    0.004    0.004 {built-in method builtins.exec}\n",
      "        1    0.000    0.000    0.004    0.004 <string>:1(<module>)\n",
      "        1    0.000    0.000    0.004    0.004 encoder.py:216(encode)\n",
      "        4    0.001    0.000    0.002    0.001 encoder.py:105(bridge_encoding)\n",
      "        1    0.000    0.000    0.001    0.001 encoder.py:17(create_padded_env)\n",
      "        1    0.000    0.000    0.001    0.001 hex.py:54(__init__)\n",
      "        1    0.000    0.000    0.001    0.001 hexagonal_grid.py:98(__init__)\n",
      "        1    0.000    0.000    0.001    0.001 hexagonal_grid.py:48(generate_neighbours)\n",
      "     1424    0.001    0.000    0.001    0.000 hexagonal_grid.py:62(get_cell)\n",
      "       44    0.000    0.000    0.000    0.000 encoder.py:158(_process_save_endpoint)\n",
      "       44    0.000    0.000    0.000    0.000 encoder.py:50(get_carrier_points)\n",
      "       11    0.000    0.000    0.000    0.000 {built-in method numpy.core._multiarray_umath.implement_array_function}\n",
      "     1045    0.000    0.000    0.000    0.000 hex.py:86(get_board)\n",
      "      322    0.000    0.000    0.000    0.000 hexagonal_grid.py:15(add_neighbour)\n",
      "       19    0.000    0.000    0.000    0.000 {built-in method numpy.array}\n",
      "       10    0.000    0.000    0.000    0.000 <__array_function__ internals>:2(expand_dims)\n",
      "        1    0.000    0.000    0.000    0.000 dispatch.py:198(wrapper)\n",
      "        1    0.000    0.000    0.000    0.000 ops.py:1340(convert_to_tensor_v2_with_dispatch)\n",
      "        1    0.000    0.000    0.000    0.000 ops.py:1408(convert_to_tensor_v2)\n",
      "        3    0.000    0.000    0.000    0.000 encoder.py:76(player_stones_encoding)\n",
      "        1    0.000    0.000    0.000    0.000 trace.py:158(wrapped)\n",
      "        1    0.000    0.000    0.000    0.000 ops.py:1481(convert_to_tensor)\n",
      "       72    0.000    0.000    0.000    0.000 hex.py:196(set_piece)\n",
      "       10    0.000    0.000    0.000    0.000 shape_base.py:512(expand_dims)\n",
      "        1    0.000    0.000    0.000    0.000 tensor_conversion_registry.py:50(_default_conversion_function)\n",
      "      722    0.000    0.000    0.000    0.000 hexagonal_grid.py:36(get_piece)\n",
      "        1    0.000    0.000    0.000    0.000 constant_op.py:166(constant)\n",
      "        1    0.000    0.000    0.000    0.000 constant_op.py:268(_constant_impl)\n",
      "      104    0.000    0.000    0.000    0.000 encoder.py:45(get_bridge_end_points)\n",
      "        1    0.000    0.000    0.000    0.000 <__array_function__ internals>:2(concatenate)\n",
      "        2    0.000    0.000    0.000    0.000 encoder.py:96(to_play_endocing)\n",
      "       64    0.000    0.000    0.000    0.000 hexagonal_grid.py:108(get_neighbouring_indecies)\n",
      "      322    0.000    0.000    0.000    0.000 hexagonal_grid.py:30(get_neighbours)\n",
      "        1    0.000    0.000    0.000    0.000 constant_op.py:299(_constant_eager_impl)\n",
      "        1    0.000    0.000    0.000    0.000 constant_op.py:70(convert_to_eager_tensor)\n",
      "      378    0.000    0.000    0.000    0.000 {method 'append' of 'list' objects}\n",
      "       64    0.000    0.000    0.000    0.000 hexagonal_grid.py:8(__init__)\n",
      "        4    0.000    0.000    0.000    0.000 encoder.py:114(<listcomp>)\n",
      "       10    0.000    0.000    0.000    0.000 numeric.py:1308(normalize_axis_tuple)\n",
      "        1    0.000    0.000    0.000    0.000 context.py:815(executing_eagerly)\n",
      "      136    0.000    0.000    0.000    0.000 hexagonal_grid.py:33(set_piece)\n",
      "        3    0.000    0.000    0.000    0.000 hex.py:182(get_state)\n",
      "        2    0.000    0.000    0.000    0.000 encoder.py:101(<listcomp>)\n",
      "       13    0.000    0.000    0.000    0.000 {method 'reshape' of 'numpy.ndarray' objects}\n",
      "       80    0.000    0.000    0.000    0.000 hexagonal_grid.py:24(get_row)\n",
      "        3    0.000    0.000    0.000    0.000 hex.py:187(<listcomp>)\n",
      "      156    0.000    0.000    0.000    0.000 {built-in method builtins.abs}\n",
      "        3    0.000    0.000    0.000    0.000 encoder.py:92(<listcomp>)\n",
      "       80    0.000    0.000    0.000    0.000 hexagonal_grid.py:27(get_column)\n",
      "       64    0.000    0.000    0.000    0.000 hexagonal_grid.py:39(__hash__)\n",
      "       10    0.000    0.000    0.000    0.000 shape_base.py:600(<listcomp>)\n",
      "       10    0.000    0.000    0.000    0.000 numeric.py:1358(<listcomp>)\n",
      "        2    0.000    0.000    0.000    0.000 hex.py:102(get_NW_coordinates)\n",
      "       10    0.000    0.000    0.000    0.000 _asarray.py:86(asanyarray)\n",
      "        2    0.000    0.000    0.000    0.000 hex.py:123(get_SE_coordinates)\n",
      "        2    0.000    0.000    0.000    0.000 hex.py:116(get_SW_coordinates)\n",
      "        2    0.000    0.000    0.000    0.000 hex.py:109(get_NE_coordinates)\n",
      "        6    0.000    0.000    0.000    0.000 hexagonal_grid.py:73(get_cells)\n",
      "        1    0.000    0.000    0.000    0.000 {method 'astype' of 'numpy.ndarray' objects}\n",
      "       16    0.000    0.000    0.000    0.000 encoder.py:22(<lambda>)\n",
      "       14    0.000    0.000    0.000    0.000 {built-in method builtins.isinstance}\n",
      "       31    0.000    0.000    0.000    0.000 {built-in method builtins.len}\n",
      "       10    0.000    0.000    0.000    0.000 {built-in method numpy.core._multiarray_umath.normalize_axis_index}\n",
      "        1    0.000    0.000    0.000    0.000 tensor_conversion_registry.py:114(get)\n",
      "        1    0.000    0.000    0.000    0.000 context.py:837(device_name)\n",
      "       21    0.000    0.000    0.000    0.000 {built-in method builtins.next}\n",
      "       10    0.000    0.000    0.000    0.000 shape_base.py:508(_expand_dims_dispatcher)\n",
      "        1    0.000    0.000    0.000    0.000 {built-in method builtins.getattr}\n",
      "        1    0.000    0.000    0.000    0.000 hexagonal_grid.py:45(__init__)\n",
      "       10    0.000    0.000    0.000    0.000 {built-in method builtins.iter}\n",
      "        6    0.000    0.000    0.000    0.000 {method 'values' of 'dict' objects}\n",
      "        1    0.000    0.000    0.000    0.000 context.py:1849(context_safe)\n",
      "        1    0.000    0.000    0.000    0.000 context.py:501(ensure_initialized)\n",
      "        3    0.000    0.000    0.000    0.000 hex.py:89(get_size)\n",
      "        1    0.000    0.000    0.000    0.000 context.py:773(_handle)\n",
      "        1    0.000    0.000    0.000    0.000 multiarray.py:143(concatenate)\n",
      "        1    0.000    0.000    0.000    0.000 {method 'disable' of '_lsprof.Profiler' objects}\n",
      "        1    0.000    0.000    0.000    0.000 {built-in method builtins.issubclass}\n",
      "\n",
      "\n"
     ]
    }
   ],
   "source": [
    "cProfile.run('encoder.encode(h)', sort='cumtime')"
   ]
  },
  {
   "cell_type": "code",
   "execution_count": 21,
   "metadata": {},
   "outputs": [],
   "source": [
    "actor = Actor(learning_rate=0.001,\n",
    "             epsilon=0.25,\n",
    "             end_epsilon=0.05,\n",
    "             nn_shape=(155,128,25),\n",
    "             filters=(128, 128, 64),\n",
    "             kernel_sizes=((5,5),(3,3),(1,1)),\n",
    "                nn_opt='Adam',\n",
    "              nn_activation='relu',\n",
    "              nn_last_activation='softmax',\n",
    "              nn_loss= 'categorical_crossentropy',\n",
    "              encoder=encoder\n",
    "             )"
   ]
  },
  {
   "cell_type": "code",
   "execution_count": 22,
   "metadata": {},
   "outputs": [
    {
     "ename": "ValueError",
     "evalue": "This model has not yet been built. Build the model first by calling `build()` or calling `fit()` with some data, or specify an `input_shape` argument in the first layer(s) for automatic build.",
     "output_type": "error",
     "traceback": [
      "\u001b[0;31m---------------------------------------------------------------------------\u001b[0m",
      "\u001b[0;31mValueError\u001b[0m                                Traceback (most recent call last)",
      "\u001b[0;32m<ipython-input-22-74392ace26df>\u001b[0m in \u001b[0;36m<module>\u001b[0;34m\u001b[0m\n\u001b[0;32m----> 1\u001b[0;31m \u001b[0mactor\u001b[0m\u001b[0;34m.\u001b[0m\u001b[0mmodel\u001b[0m\u001b[0;34m.\u001b[0m\u001b[0msummary\u001b[0m\u001b[0;34m(\u001b[0m\u001b[0;34m)\u001b[0m\u001b[0;34m\u001b[0m\u001b[0;34m\u001b[0m\u001b[0m\n\u001b[0m",
      "\u001b[0;32m~/opt/anaconda3/lib/python3.8/site-packages/tensorflow/python/keras/engine/training.py\u001b[0m in \u001b[0;36msummary\u001b[0;34m(self, line_length, positions, print_fn)\u001b[0m\n\u001b[1;32m   2374\u001b[0m     \"\"\"\n\u001b[1;32m   2375\u001b[0m     \u001b[0;32mif\u001b[0m \u001b[0;32mnot\u001b[0m \u001b[0mself\u001b[0m\u001b[0;34m.\u001b[0m\u001b[0mbuilt\u001b[0m\u001b[0;34m:\u001b[0m\u001b[0;34m\u001b[0m\u001b[0;34m\u001b[0m\u001b[0m\n\u001b[0;32m-> 2376\u001b[0;31m       raise ValueError('This model has not yet been built. '\n\u001b[0m\u001b[1;32m   2377\u001b[0m                        \u001b[0;34m'Build the model first by calling `build()` or calling '\u001b[0m\u001b[0;34m\u001b[0m\u001b[0;34m\u001b[0m\u001b[0m\n\u001b[1;32m   2378\u001b[0m                        \u001b[0;34m'`fit()` with some data, or specify '\u001b[0m\u001b[0;34m\u001b[0m\u001b[0;34m\u001b[0m\u001b[0m\n",
      "\u001b[0;31mValueError\u001b[0m: This model has not yet been built. Build the model first by calling `build()` or calling `fit()` with some data, or specify an `input_shape` argument in the first layer(s) for automatic build."
     ]
    }
   ],
   "source": []
  },
  {
   "cell_type": "code",
   "execution_count": 22,
   "metadata": {},
   "outputs": [
    {
     "data": {
      "image/png": "[encoded data removed]",
      "text/plain": [
       "<Figure size 432x288 with 1 Axes>"
      ]
     },
     "metadata": {},
     "output_type": "display_data"
    }
   ],
   "source": [
    "h = Hex((4,4))\n",
    "h.display_board()"
   ]
  },
  {
   "cell_type": "code",
   "execution_count": 23,
   "metadata": {},
   "outputs": [],
   "source": [
    "encoder = HexEncoder(padding=2)"
   ]
  },
  {
   "cell_type": "code",
   "execution_count": 24,
   "metadata": {},
   "outputs": [
    {
     "data": {
      "image/png": "[encoded data removed]",
      "text/plain": [
       "<Figure size 432x288 with 1 Axes>"
      ]
     },
     "metadata": {},
     "output_type": "display_data"
    }
   ],
   "source": [
    "encoder.create_padded_env(h, padding=2).display_board()"
   ]
  },
  {
   "cell_type": "code",
   "execution_count": 27,
   "metadata": {},
   "outputs": [],
   "source": [
    "h.set_encoder(encoder)"
   ]
  },
  {
   "cell_type": "code",
   "execution_count": 28,
   "metadata": {},
   "outputs": [
    {
     "data": {
      "text/plain": [
       "array([[0, 0, 0, 0, 0, 0, 0, 0],\n",
       "       [0, 0, 0, 0, 0, 0, 0, 0],\n",
       "       [0, 0, 1, 1, 1, 1, 0, 0],\n",
       "       [0, 0, 1, 1, 1, 1, 0, 0],\n",
       "       [0, 0, 1, 1, 1, 1, 0, 0],\n",
       "       [0, 0, 1, 1, 1, 1, 0, 0],\n",
       "       [0, 0, 0, 0, 0, 0, 0, 0],\n",
       "       [0, 0, 0, 0, 0, 0, 0, 0]])"
      ]
     },
     "execution_count": 28,
     "metadata": {},
     "output_type": "execute_result"
    }
   ],
   "source": [
    "encoder.planes['form_bridge_blue']"
   ]
  },
  {
   "cell_type": "code",
   "execution_count": 29,
   "metadata": {},
   "outputs": [
    {
     "name": "stdout",
     "output_type": "stream",
     "text": [
      "Shapes:  [(8, 8), (8, 8), (8, 8), (8, 8), (8, 8), (8, 8), (8, 8), (8, 8), (8, 8)]\n"
     ]
    }
   ],
   "source": [
    "h.make_action((1,1))"
   ]
  },
  {
   "cell_type": "code",
   "execution_count": 30,
   "metadata": {},
   "outputs": [
    {
     "data": {
      "text/plain": [
       "array([[0, 0, 0, 0, 0, 0, 0, 0],\n",
       "       [0, 0, 0, 0, 0, 0, 0, 0],\n",
       "       [0, 0, 1, 1, 1, 1, 0, 0],\n",
       "       [0, 0, 1, 0, 1, 1, 0, 0],\n",
       "       [0, 0, 1, 1, 1, 1, 0, 0],\n",
       "       [0, 0, 1, 1, 1, 1, 0, 0],\n",
       "       [0, 0, 0, 0, 0, 0, 0, 0],\n",
       "       [0, 0, 0, 0, 0, 0, 0, 0]])"
      ]
     },
     "execution_count": 30,
     "metadata": {},
     "output_type": "execute_result"
    }
   ],
   "source": [
    "encoder.planes['form_bridge_blue']"
   ]
  },
  {
   "cell_type": "code",
   "execution_count": 32,
   "metadata": {},
   "outputs": [
    {
     "data": {
      "text/plain": [
       "array([[0, 0, 0, 0, 0, 0, 0, 0],\n",
       "       [0, 0, 0, 0, 0, 0, 0, 0],\n",
       "       [0, 0, 1, 1, 1, 1, 0, 0],\n",
       "       [0, 0, 1, 0, 1, 0, 0, 0],\n",
       "       [0, 0, 0, 1, 1, 1, 0, 0],\n",
       "       [0, 0, 1, 1, 1, 1, 0, 0],\n",
       "       [0, 0, 0, 0, 0, 0, 0, 0],\n",
       "       [0, 0, 0, 0, 0, 0, 0, 0]])"
      ]
     },
     "execution_count": 32,
     "metadata": {},
     "output_type": "execute_result"
    }
   ],
   "source": [
    "encoder.planes['form_bridge_red']"
   ]
  },
  {
   "cell_type": "code",
   "execution_count": 7,
   "metadata": {},
   "outputs": [
    {
     "name": "stdout",
     "output_type": "stream",
     "text": [
      "         1418538 function calls (1412304 primitive calls) in 2.121 seconds\n",
      "\n",
      "   Ordered by: cumulative time\n",
      "\n",
      "   ncalls  tottime  percall  cumtime  percall filename:lineno(function)\n",
      "        1    0.000    0.000    2.121    2.121 {built-in method builtins.exec}\n",
      "        1    0.000    0.000    2.121    2.121 <string>:1(<module>)\n",
      "        1    0.000    0.000    2.121    2.121 monte_carlo_ts.py:160(search)\n",
      "      100    0.001    0.000    2.121    0.021 monte_carlo_ts.py:152(perform_simulation)\n",
      "      100    0.009    0.000    2.027    0.020 monte_carlo_ts.py:78(_rollout)\n",
      "     1039    0.019    0.000    1.716    0.002 actor.py:59(get_action)\n",
      "4156/1039    0.114    0.000    1.628    0.002 base_layer.py:901(__call__)\n",
      "     1039    0.010    0.000    1.341    0.001 sequential.py:354(call)\n",
      "     1039    0.005    0.000    1.242    0.001 functional.py:406(call)\n",
      "     1039    0.055    0.000    1.237    0.001 functional.py:516(_run_internal_graph)\n",
      "     3117    0.008    0.000    0.640    0.000 core.py:1206(call)\n",
      "     3117    0.035    0.000    0.633    0.000 core.py:30(dense)\n",
      "12862/9745    0.023    0.000    0.476    0.000 dispatch.py:198(wrapper)\n",
      "    10390    0.359    0.000    0.359    0.000 {built-in method tensorflow.python._pywrap_tfe.TFE_Py_FastPathExecute}\n",
      "     3117    0.020    0.000    0.167    0.000 nn_ops.py:3319(bias_add)\n",
      "     3117    0.010    0.000    0.158    0.000 gen_math_ops.py:5500(mat_mul)\n",
      "     4156    0.055    0.000    0.150    0.000 input_spec.py:159(assert_input_compatibility)\n",
      "     1333    0.007    0.000    0.148    0.000 hex.py:102(make_action)\n",
      "     1433    0.028    0.000    0.147    0.000 encoder.py:340(encode)\n",
      "     1339    0.031    0.000    0.143    0.000 hex.py:169(get_winner)\n",
      "     1333    0.002    0.000    0.139    0.000 encoder.py:357(update_encoding)\n",
      "     3117    0.007    0.000    0.119    0.000 gen_nn_ops.py:646(bias_add)\n",
      "     2078    0.021    0.000    0.106    0.000 math_ops.py:907(cast)\n",
      "    27014    0.049    0.000    0.098    0.000 base_layer.py:2913(_flatten_layers)\n",
      "     4156    0.010    0.000    0.094    0.000 sequential.py:146(layers)\n",
      "     9970    0.041    0.000    0.090    0.000 hex.py:142(_search_from)\n",
      "     1039    0.005    0.000    0.084    0.000 base.py:513(_method_wrapper)\n",
      "     4156    0.012    0.000    0.083    0.000 training.py:2386(layers)\n",
      "    14546    0.017    0.000    0.082    0.000 {built-in method builtins.any}\n",
      "     1039    0.004    0.000    0.075    0.000 sequential.py:500(input_spec)\n",
      "   119377    0.045    0.000    0.074    0.000 {built-in method builtins.isinstance}\n",
      "    25975    0.020    0.000    0.071    0.000 nest.py:274(flatten)\n",
      "     1039    0.004    0.000    0.069    0.000 activations.py:44(softmax)\n",
      "      100    0.001    0.000    0.069    0.001 monte_carlo_ts.py:55(_traverse_to_leaf)\n",
      "     3511    0.005    0.000    0.067    0.000 trace.py:158(wrapped)\n",
      "     4156    0.013    0.000    0.066    0.000 base_layer.py:3278(_in_functional_construction_mode)\n",
      "     3511    0.013    0.000    0.062    0.000 ops.py:1481(convert_to_tensor)\n",
      "     1433    0.002    0.000    0.060    0.000 ops.py:1340(convert_to_tensor_v2_with_dispatch)\n",
      "     1433    0.003    0.000    0.058    0.000 ops.py:1408(convert_to_tensor_v2)\n",
      "     2078    0.005    0.000    0.056    0.000 activations.py:268(relu)\n",
      "    18702    0.021    0.000    0.056    0.000 context.py:1874(executing_eagerly)\n",
      "    19741    0.019    0.000    0.054    0.000 ops.py:1168(shape)\n",
      "     1039    0.009    0.000    0.053    0.000 sequential.py:263(_build_graph_network_for_inferred_shape)\n",
      "     1039    0.003    0.000    0.052    0.000 deprecation.py:504(new_func)\n",
      "    25975    0.051    0.000    0.051    0.000 {built-in method tensorflow.python._pywrap_utils.Flatten}\n",
      "     2078    0.008    0.000    0.048    0.000 backend.py:4661(relu)\n",
      "     9351    0.022    0.000    0.048    0.000 tensor_shape.py:748(__init__)\n",
      "     1039    0.003    0.000    0.046    0.000 gen_math_ops.py:1807(cast)\n",
      "    26369    0.046    0.000    0.046    0.000 context.py:815(executing_eagerly)\n",
      "      100    0.005    0.000    0.045    0.000 hex.py:84(copy)\n",
      "     1039    0.004    0.000    0.045    0.000 nn_ops.py:3664(softmax)\n",
      "     4156    0.023    0.000    0.044    0.000 ops.py:6620(__enter__)\n",
      "     3117    0.013    0.000    0.042    0.000 base_layer.py:2405(_maybe_cast_inputs)\n",
      "     1039    0.004    0.000    0.041    0.000 nn_ops.py:3578(_wrap_2d_function)\n",
      "     4156    0.017    0.000    0.040    0.000 base_layer.py:2524(_set_mask_metadata)\n",
      "    15585    0.010    0.000    0.040    0.000 {built-in method builtins.hasattr}\n",
      "     1039    0.008    0.000    0.039    0.000 base_layer.py:1606(_clear_losses)\n",
      "     1433    0.002    0.000    0.039    0.000 tensor_conversion_registry.py:50(_default_conversion_function)\n",
      "     1039    0.003    0.000    0.037    0.000 hex.py:187(available_actions_binary)\n",
      "      194    0.001    0.000    0.037    0.000 monte_carlo_ts.py:129(tree_policy)\n",
      "     1433    0.002    0.000    0.037    0.000 constant_op.py:166(constant)\n",
      "     1433    0.003    0.000    0.036    0.000 <__array_function__ internals>:2(expand_dims)\n",
      "     2078    0.006    0.000    0.035    0.000 gen_nn_ops.py:10442(relu)\n",
      "     1433    0.004    0.000    0.035    0.000 constant_op.py:268(_constant_impl)\n",
      "     1039    0.008    0.000    0.034    0.000 functional.py:608(_conform_to_reference_input)\n",
      "     1433    0.003    0.000    0.033    0.000 {built-in method numpy.core._multiarray_umath.implement_array_function}\n",
      "     1039    0.022    0.000    0.032    0.000 hex.py:191(<listcomp>)\n",
      "      194    0.003    0.000    0.030    0.000 monte_carlo_ts.py:134(<dictcomp>)\n",
      "     1433    0.013    0.000    0.030    0.000 shape_base.py:512(expand_dims)\n",
      "     1039    0.003    0.000    0.030    0.000 gen_nn_ops.py:10827(softmax)\n",
      "    30131    0.013    0.000    0.029    0.000 abc.py:96(__instancecheck__)\n",
      "     3000    0.002    0.000    0.027    0.000 monte_carlo_ts.py:162(<lambda>)\n",
      "      100    0.001    0.000    0.026    0.000 hex.py:54(__init__)\n",
      "     4156    0.008    0.000    0.026    0.000 ops.py:6654(__exit__)\n",
      "     1433    0.002    0.000    0.026    0.000 constant_op.py:299(_constant_eager_impl)\n",
      "     2078    0.009    0.000    0.026    0.000 training.py:306(__setattr__)\n",
      "     3000    0.020    0.000    0.026    0.000 monte_carlo_ts.py:122(_utc)\n",
      "     3117    0.008    0.000    0.025    0.000 base_layer.py:2433(_should_cast_single_input)\n",
      "    37798    0.022    0.000    0.025    0.000 {built-in method builtins.getattr}\n",
      "      100    0.002    0.000    0.025    0.000 hexagonal_grid.py:98(__init__)\n",
      "     1433    0.020    0.000    0.024    0.000 constant_op.py:70(convert_to_eager_tensor)\n",
      "     4156    0.009    0.000    0.023    0.000 base_layer.py:1186(_set_training_mode)\n",
      "     4156    0.009    0.000    0.023    0.000 ops.py:6402(name_scope)\n",
      "      100    0.001    0.000    0.023    0.000 monte_carlo_ts.py:65(_expand)\n",
      "     5195    0.005    0.000    0.023    0.000 ops.py:5744(executing_eagerly_outside_functions)\n",
      "     4156    0.011    0.000    0.023    0.000 base_layer.py:2562(_get_input_masks)\n",
      "     4156    0.005    0.000    0.022    0.000 keras_tensor.py:51(keras_tensors_enabled)\n",
      "      100    0.011    0.000    0.021    0.000 hexagonal_grid.py:48(generate_neighbours)\n",
      "     7273    0.005    0.000    0.021    0.000 dtypes.py:205(__ne__)\n",
      "     8312    0.008    0.000    0.021    0.000 base_layer.py:958(<genexpr>)\n",
      "     8034    0.015    0.000    0.020    0.000 hex.py:158(<listcomp>)\n",
      "    14546    0.016    0.000    0.020    0.000 ops.py:1041(dtype)\n",
      "     9351    0.019    0.000    0.019    0.000 dtypes.py:192(__eq__)\n",
      "     5195    0.009    0.000    0.019    0.000 tensor_shape.py:758(<listcomp>)\n",
      "     8312    0.007    0.000    0.019    0.000 {built-in method builtins.all}\n",
      "     8312    0.018    0.000    0.018    0.000 context.py:832(scope_name)\n",
      "     2866    0.017    0.000    0.017    0.000 {built-in method numpy.array}\n",
      "    91726    0.017    0.000    0.017    0.000 hexagonal_grid.py:36(get_piece)\n",
      "    30131    0.017    0.000    0.017    0.000 {built-in method _abc._abc_instancecheck}\n",
      "     4156    0.005    0.000    0.016    0.000 ops.py:6644(_restore_name_scope)\n",
      "     9351    0.006    0.000    0.016    0.000 dtypes.py:84(base_dtype)\n",
      "     1039    0.003    0.000    0.015    0.000 ops.py:1047(numpy)\n",
      "     4156    0.007    0.000    0.014    0.000 tensor_shape.py:1180(as_list)\n",
      "      394    0.001    0.000    0.013    0.000 hex.py:184(available_actions)\n",
      "    64987    0.012    0.000    0.012    0.000 {built-in method builtins.len}\n",
      "     6234    0.012    0.000    0.012    0.000 functional.py:556(<genexpr>)\n",
      "     9970    0.008    0.000    0.012    0.000 hex.py:166(<listcomp>)\n",
      "    14546    0.008    0.000    0.012    0.000 tensor_shape.py:821(rank)\n",
      "     4156    0.008    0.000    0.011    0.000 base_layer_utils.py:453(enter)\n",
      "      294    0.001    0.000    0.011    0.000 monte_carlo_ts.py:107(_is_leaf_node)\n",
      "      394    0.008    0.000    0.011    0.000 hex.py:185(<listcomp>)\n",
      "      100    0.000    0.000    0.011    0.000 hex.py:74(set_encoder)\n",
      "     1039    0.004    0.000    0.010    0.000 base_layer.py:2605(_set_call_arg_value)\n",
      "     9351    0.010    0.000    0.010    0.000 dtypes.py:71(_is_ref_dtype)\n",
      "    22503    0.010    0.000    0.010    0.000 hexagonal_grid.py:62(get_cell)\n",
      "    10390    0.008    0.000    0.010    0.000 tensor_shape.py:187(__init__)\n",
      "     4156    0.009    0.000    0.009    0.000 autocast_variable.py:526(__init__)\n",
      "     1433    0.005    0.000    0.008    0.000 numeric.py:1308(normalize_axis_tuple)\n",
      "     2078    0.004    0.000    0.008    0.000 training.py:311(<genexpr>)\n",
      "     1039    0.001    0.000    0.008    0.000 ops.py:1035(_numpy)\n",
      "      971    0.005    0.000    0.008    0.000 {built-in method builtins.max}\n",
      "     8312    0.006    0.000    0.008    0.000 base_layer.py:3283(<genexpr>)\n",
      "     4600    0.007    0.000    0.008    0.000 node.py:41(get_child)\n",
      "     1039    0.007    0.000    0.007    0.000 actor.py:68(<dictcomp>)\n",
      "     1039    0.001    0.000    0.007    0.000 nest.py:545(pack_sequence_as)\n",
      "     4156    0.005    0.000    0.007    0.000 tensor_shape.py:1191(<listcomp>)\n",
      "    44162    0.007    0.000    0.007    0.000 {method 'append' of 'list' objects}\n",
      "     4156    0.005    0.000    0.007    0.000 autocast_variable.py:531(__enter__)\n",
      "     1339    0.006    0.000    0.007    0.000 hex.py:113(get_NW_coordinates)\n",
      "     1039    0.007    0.000    0.007    0.000 {method '_numpy_internal' of 'tensorflow.python.framework.ops.EagerTensor' objects}\n",
      "    33670    0.007    0.000    0.007    0.000 hexagonal_grid.py:24(get_row)\n",
      "    33670    0.007    0.000    0.007    0.000 hexagonal_grid.py:27(get_column)\n",
      "     3117    0.006    0.000    0.007    0.000 node.py:146(map_arguments)\n",
      "     1039    0.005    0.000    0.006    0.000 sequential.py:541(relax_input_shape)\n",
      "     1039    0.002    0.000    0.006    0.000 layer_utils.py:461(wrapped)\n",
      "     1039    0.003    0.000    0.006    0.000 nest.py:505(_pack_sequence_as)\n",
      "     2078    0.006    0.000    0.006    0.000 dtypes.py:606(as_dtype)\n",
      "    20780    0.006    0.000    0.006    0.000 {method 'add' of 'set' objects}\n",
      "     4156    0.006    0.000    0.006    0.000 base_layer_utils.py:520(__enter__)\n",
      "     4156    0.005    0.000    0.006    0.000 ops.py:6602(__init__)\n",
      "     4156    0.003    0.000    0.006    0.000 base_layer_utils.py:411(call_context)\n",
      "    27408    0.005    0.000    0.005    0.000 context.py:1849(context_safe)\n",
      "     2078    0.005    0.000    0.005    0.000 base_layer.py:2823(__setattr__)\n",
      "     4156    0.005    0.000    0.005    0.000 context.py:827(scope_name)\n",
      "     1339    0.004    0.000    0.005    0.000 hex.py:134(get_SE_coordinates)\n",
      "     4156    0.005    0.000    0.005    0.000 autocast_variable.py:535(__exit__)\n",
      "     4156    0.005    0.000    0.005    0.000 base_layer_utils.py:536(__exit__)\n",
      "     2472    0.005    0.000    0.005    0.000 {method 'reshape' of 'numpy.ndarray' objects}\n",
      "    16346    0.005    0.000    0.005    0.000 {method 'pop' of 'list' objects}\n",
      "     1039    0.002    0.000    0.005    0.000 functional.py:574(_flatten_to_reference_inputs)\n",
      "     1039    0.001    0.000    0.005    0.000 context.py:2401(_tmp_in_graph_mode)\n",
      "     5195    0.005    0.000    0.005    0.000 {method '_shape_tuple' of 'tensorflow.python.framework.ops.EagerTensor' objects}\n",
      "    22858    0.005    0.000    0.005    0.000 {built-in method builtins.id}\n",
      "     1339    0.004    0.000    0.004    0.000 hex.py:127(get_SW_coordinates)\n",
      "     4156    0.004    0.000    0.004    0.000 base_layer.py:3036(_split_out_first_arg)\n",
      "     4156    0.003    0.000    0.004    0.000 base_layer.py:2572(<listcomp>)\n",
      "     6234    0.003    0.000    0.004    0.000 base_layer.py:2535(<genexpr>)\n",
      "    14546    0.004    0.000    0.004    0.000 {method '_datatype_enum' of 'tensorflow.python.framework.ops.EagerTensor' objects}\n",
      "     1039    0.004    0.000    0.004    0.000 {method 'copy' of 'numpy.ndarray' objects}\n",
      "     4156    0.004    0.000    0.004    0.000 base_layer_utils.py:515(__init__)\n",
      "     1339    0.003    0.000    0.004    0.000 hex.py:120(get_NE_coordinates)\n",
      "     1039    0.003    0.000    0.004    0.000 weakref.py:419(get)\n",
      "     1039    0.001    0.000    0.004    0.000 base_layer_utils.py:854(has_weights)\n",
      "     1039    0.003    0.000    0.004    0.000 tensor_shape.py:858(__iter__)\n",
      "    15969    0.004    0.000    0.004    0.000 hex.py:96(get_board)\n",
      "     6600    0.003    0.000    0.003    0.000 hexagonal_grid.py:15(add_neighbour)\n",
      "     3166    0.002    0.000    0.003    0.000 hexagonal_grid.py:73(get_cells)\n",
      "    14634    0.003    0.000    0.003    0.000 hexagonal_grid.py:30(get_neighbours)\n",
      "    20780    0.003    0.000    0.003    0.000 {method 'popleft' of 'collections.deque' objects}\n",
      "     2078    0.003    0.000    0.003    0.000 {built-in method tensorflow.python._pywrap_utils.IsSequence}\n",
      "     3000    0.001    0.000    0.003    0.000 monte_carlo_ts.py:136(<lambda>)\n",
      "     1433    0.001    0.000    0.003    0.000 numeric.py:1358(<listcomp>)\n",
      "     1433    0.001    0.000    0.003    0.000 _asarray.py:86(asanyarray)\n",
      "     3117    0.003    0.000    0.003    0.000 nn_ops.py:3306(_tf_deterministic_ops)\n",
      "    10390    0.003    0.000    0.003    0.000 tensor_shape.py:249(value)\n",
      "     4156    0.002    0.000    0.002    0.000 base_layer_utils.py:487(training)\n",
      "     1433    0.002    0.000    0.002    0.000 context.py:837(device_name)\n",
      "      100    0.001    0.000    0.002    0.000 monte_carlo_ts.py:71(<listcomp>)\n",
      "     3117    0.002    0.000    0.002    0.000 tensor_shape.py:864(<genexpr>)\n",
      "     8312    0.002    0.000    0.002    0.000 base_layer.py:2573(<genexpr>)\n",
      "      362    0.001    0.000    0.002    0.000 random.py:285(choice)\n",
      "     5195    0.002    0.000    0.002    0.000 base_layer.py:2582(_call_arg_was_passed)\n",
      "     1433    0.002    0.000    0.002    0.000 shape_base.py:600(<listcomp>)\n",
      "     1433    0.001    0.000    0.002    0.000 tensor_conversion_registry.py:114(get)\n",
      "     3001    0.002    0.000    0.002    0.000 {built-in method builtins.sum}\n",
      "     5195    0.002    0.000    0.002    0.000 base_layer.py:1299(input_spec)\n",
      "     1039    0.001    0.000    0.002    0.000 tensor_util.py:992(is_tensor)\n",
      "     1039    0.002    0.000    0.002    0.000 keras_tensor.py:157(shape)\n",
      "     4156    0.002    0.000    0.002    0.000 base_layer.py:1252(name)\n",
      "     1039    0.001    0.000    0.001    0.000 {method 'sort' of 'list' objects}\n",
      "     4156    0.001    0.000    0.001    0.000 tensor_shape.py:828(dims)\n",
      "     1433    0.001    0.000    0.001    0.000 {built-in method numpy.core._multiarray_umath.normalize_axis_index}\n",
      "     4533    0.001    0.000    0.001    0.000 hexagonal_grid.py:33(set_piece)\n",
      "      100    0.001    0.000    0.001    0.000 monte_carlo_ts.py:90(_back_prop)\n",
      "     3117    0.001    0.000    0.001    0.000 sequential.py:546(<genexpr>)\n",
      "      362    0.001    0.000    0.001    0.000 random.py:250(_randbelow_with_getrandbits)\n",
      "     1039    0.001    0.000    0.001    0.000 ops.py:1181(get_shape)\n",
      "     3117    0.001    0.000    0.001    0.000 base_layer.py:879(compute_mask)\n",
      "     1600    0.001    0.000    0.001    0.000 hexagonal_grid.py:108(get_neighbouring_indecies)\n",
      "     1600    0.001    0.000    0.001    0.000 hexagonal_grid.py:8(__init__)\n",
      "     4157    0.001    0.000    0.001    0.000 {method 'items' of 'dict' objects}\n",
      "     4156    0.001    0.000    0.001    0.000 ops.py:175(__exit__)\n",
      "     5089    0.001    0.000    0.001    0.000 node.py:24(get_children)\n",
      "     1433    0.001    0.000    0.001    0.000 context.py:773(_handle)\n",
      "      194    0.001    0.000    0.001    0.000 monte_carlo_ts.py:133(<listcomp>)\n",
      "     2078    0.001    0.000    0.001    0.000 {method 'get' of 'dict' objects}\n",
      "     4156    0.001    0.000    0.001    0.000 ops.py:169(__init__)\n",
      "     1039    0.001    0.000    0.001    0.000 tensor_shape.py:845(__len__)\n",
      "     4156    0.001    0.000    0.001    0.000 ops.py:172(__enter__)\n",
      "     1433    0.001    0.000    0.001    0.000 context.py:501(ensure_initialized)\n",
      "     1039    0.001    0.000    0.001    0.000 backend.py:370(global_learning_phase_is_set)\n",
      "     3167    0.001    0.000    0.001    0.000 {method 'values' of 'dict' objects}\n",
      "      100    0.000    0.000    0.001    0.000 node.py:3(__init__)\n",
      "     1039    0.001    0.000    0.001    0.000 keras_tensor.py:340(dtype)\n",
      "     2472    0.001    0.000    0.001    0.000 {built-in method builtins.iter}\n",
      "     1039    0.001    0.000    0.001    0.000 {method 'random' of '_random.Random' objects}\n",
      "     2078    0.001    0.000    0.001    0.000 backend_config.py:67(floatx)\n",
      "     1433    0.001    0.000    0.001    0.000 {built-in method builtins.issubclass}\n",
      "     1039    0.001    0.000    0.001    0.000 encoder.py:25(get_encoding)\n",
      "     1633    0.000    0.000    0.000    0.000 hex.py:92(get_current_player)\n",
      "     1433    0.000    0.000    0.000    0.000 shape_base.py:508(_expand_dims_dispatcher)\n",
      "     1039    0.000    0.000    0.000    0.000 tf2.py:42(enabled)\n",
      "     1495    0.000    0.000    0.000    0.000 {method 'keys' of 'dict' objects}\n",
      "     1600    0.000    0.000    0.000    0.000 hexagonal_grid.py:39(__hash__)\n",
      "     1039    0.000    0.000    0.000    0.000 deprecation.py:614(deprecated_argument_lookup)\n",
      "     1039    0.000    0.000    0.000    0.000 tensor_shape.py:792(_v2_behavior)\n",
      "     1433    0.000    0.000    0.000    0.000 {built-in method builtins.next}\n",
      "      529    0.000    0.000    0.000    0.000 {method 'getrandbits' of '_random.Random' objects}\n",
      "      100    0.000    0.000    0.000    0.000 node.py:27(set_parent)\n",
      "      362    0.000    0.000    0.000    0.000 {method 'bit_length' of 'int' objects}\n",
      "      100    0.000    0.000    0.000    0.000 node.py:38(add_child)\n",
      "      100    0.000    0.000    0.000    0.000 node.py:32(set_depth)\n",
      "        1    0.000    0.000    0.000    0.000 c_api_util.py:57(__del__)\n",
      "      100    0.000    0.000    0.000    0.000 hexagonal_grid.py:45(__init__)\n",
      "        1    0.000    0.000    0.000    0.000 {built-in method tensorflow.python._pywrap_tf_session.TF_DeleteGraph}\n",
      "        1    0.000    0.000    0.000    0.000 monte_carlo_ts.py:182(<dictcomp>)\n",
      "        1    0.000    0.000    0.000    0.000 monte_carlo_ts.py:184(<dictcomp>)\n",
      "        1    0.000    0.000    0.000    0.000 {method 'disable' of '_lsprof.Profiler' objects}\n",
      "\n",
      "\n"
     ]
    }
   ],
   "source": [
    "cProfile.run('mcts.search(100)', sort='cumtime')"
   ]
  },
  {
   "cell_type": "code",
   "execution_count": null,
   "metadata": {},
   "outputs": [],
   "source": []
  }
 ],
 "metadata": {
  "kernelspec": {
   "display_name": "Python 3",
   "language": "python",
   "name": "python3"
  },
  "language_info": {
   "codemirror_mode": {
    "name": "ipython",
    "version": 3
   },
   "file_extension": ".py",
   "mimetype": "text/x-python",
   "name": "python",
   "nbconvert_exporter": "python",
   "pygments_lexer": "ipython3",
   "version": "3.8.5"
  }
 },
 "nbformat": 4,
 "nbformat_minor": 4
}
