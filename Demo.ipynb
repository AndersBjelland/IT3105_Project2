{
 "cells": [
  {
   "cell_type": "markdown",
   "metadata": {},
   "source": [
    "# Demo 2 AI-prog"
   ]
  },
  {
   "cell_type": "code",
   "execution_count": 1,
   "metadata": {},
   "outputs": [
    {
     "name": "stdout",
     "output_type": "stream",
     "text": [
      "Collecting git+https://github.com/AndersBjelland/IT3105_Project2.git@dev\n",
      "  Cloning https://github.com/AndersBjelland/IT3105_Project2.git (to revision dev) to /private/var/folders/dm/8497wlxs7d34zt6c6wdjfh500000gn/T/pip-req-build-s5cv9bca\n",
      "Building wheels for collected packages: Project2\n",
      "  Building wheel for Project2 (setup.py) ... \u001b[?25ldone\n",
      "\u001b[?25h  Created wheel for Project2: filename=Project2-1.0-py3-none-any.whl size=14953 sha256=5e13453c5dbe26f594f07e36df72b20b893ab32b59ca00c39c703285589132a0\n",
      "  Stored in directory: /private/var/folders/dm/8497wlxs7d34zt6c6wdjfh500000gn/T/pip-ephem-wheel-cache-ppbz0ass/wheels/b2/24/99/8fa89aec957ae3920f431ef10ca7ed9e2e3743c4e806a2fbf0\n",
      "Successfully built Project2\n",
      "Installing collected packages: Project2\n",
      "  Attempting uninstall: Project2\n",
      "    Found existing installation: Project2 1.0\n",
      "    Uninstalling Project2-1.0:\n",
      "      Successfully uninstalled Project2-1.0\n",
      "Successfully installed Project2-1.0\n"
     ]
    }
   ],
   "source": [
    "import sys\n",
    "!{sys.executable} -m pip install --upgrade git+https://github.com/AndersBjelland/IT3105_Project2.git@dev"
   ]
  },
  {
   "cell_type": "code",
   "execution_count": 1,
   "metadata": {},
   "outputs": [],
   "source": [
    "import matplotlib.pyplot as plt"
   ]
  },
  {
   "cell_type": "code",
   "execution_count": 2,
   "metadata": {},
   "outputs": [],
   "source": [
    "# our code\n",
    "from src import *"
   ]
  },
  {
   "cell_type": "markdown",
   "metadata": {},
   "source": [
    "alpha zero ran 800 simulations in mcts"
   ]
  },
  {
   "cell_type": "markdown",
   "metadata": {},
   "source": [
    "## Train a simple agent and show improvement"
   ]
  },
  {
   "cell_type": "code",
   "execution_count": 3,
   "metadata": {},
   "outputs": [
    {
     "data": {
      "image/png": "[encoded data removed]",
      "text/plain": [
       "<Figure size 432x288 with 1 Axes>"
      ]
     },
     "metadata": {},
     "output_type": "display_data"
    }
   ],
   "source": [
    "%matplotlib inline\n",
    "hex = Hex((4,4))\n",
    "hex.display_board()"
   ]
  },
  {
   "cell_type": "code",
   "execution_count": 25,
   "metadata": {},
   "outputs": [],
   "source": [
    "hex = Hex((4,4))\n",
    "\n",
    "encoder = DemoEncoder(padding=0)\n",
    "\n",
    "actor = Actor(learning_rate=0.001,\n",
    "             epsilon=0.25,\n",
    "             end_epsilon=0.05,\n",
    "             nn_shape=(32,128,16),\n",
    "             filters=(),\n",
    "             kernel_sizes=(),\n",
    "                nn_opt='Adam',\n",
    "              nn_activation='relu',\n",
    "              nn_last_activation='softmax',\n",
    "              nn_loss= 'categorical_crossentropy',\n",
    "              encoder=encoder\n",
    "             )\n",
    "              \n",
    "            \n",
    "agent = Agent(actor)  \n",
    "mcts = MCTS(agent.actor, hex)"
   ]
  },
  {
   "cell_type": "code",
   "execution_count": 28,
   "metadata": {
    "scrolled": true
   },
   "outputs": [
    {
     "name": "stderr",
     "output_type": "stream",
     "text": [
      "\r",
      "  0%|          | 0/40 [00:00<?, ?it/s]"
     ]
    },
    {
     "name": "stdout",
     "output_type": "stream",
     "text": [
      "Epoch 1/10\n",
      "1/1 [==============================] - 1s 507ms/step - loss: 2.7885 - accuracy: 0.0000e+00\n",
      "Epoch 2/10\n",
      "1/1 [==============================] - 0s 3ms/step - loss: 2.7634 - accuracy: 0.0000e+00\n",
      "Epoch 3/10\n",
      "1/1 [==============================] - 0s 5ms/step - loss: 2.7394 - accuracy: 0.0909\n",
      "Epoch 4/10\n",
      "1/1 [==============================] - 0s 6ms/step - loss: 2.7162 - accuracy: 0.0909\n",
      "Epoch 5/10\n",
      "1/1 [==============================] - 0s 13ms/step - loss: 2.6936 - accuracy: 0.1818\n",
      "Epoch 6/10\n",
      "1/1 [==============================] - 0s 3ms/step - loss: 2.6717 - accuracy: 0.2727\n",
      "Epoch 7/10\n",
      "1/1 [==============================] - 0s 4ms/step - loss: 2.6505 - accuracy: 0.2727\n",
      "Epoch 8/10\n",
      "1/1 [==============================] - 0s 9ms/step - loss: 2.6299 - accuracy: 0.3636\n",
      "Epoch 9/10\n",
      "1/1 [==============================] - 0s 8ms/step - loss: 2.6101 - accuracy: 0.3636\n",
      "Epoch 10/10\n",
      "1/1 [==============================] - 0s 7ms/step - loss: 2.5904 - accuracy: 0.3636\n"
     ]
    },
    {
     "name": "stderr",
     "output_type": "stream",
     "text": [
      "\r",
      "  2%|▎         | 1/40 [00:06<04:26,  6.83s/it]"
     ]
    },
    {
     "name": "stdout",
     "output_type": "stream",
     "text": [
      "Epoch 1/10\n",
      "1/1 [==============================] - 0s 4ms/step - loss: 2.6607 - accuracy: 0.2000\n",
      "Epoch 2/10\n",
      "1/1 [==============================] - 0s 4ms/step - loss: 2.6494 - accuracy: 0.2000\n",
      "Epoch 3/10\n",
      "1/1 [==============================] - 0s 5ms/step - loss: 2.6378 - accuracy: 0.2000\n",
      "Epoch 4/10\n",
      "1/1 [==============================] - 0s 15ms/step - loss: 2.6260 - accuracy: 0.2000\n",
      "Epoch 5/10\n",
      "1/1 [==============================] - 0s 16ms/step - loss: 2.6140 - accuracy: 0.2000\n",
      "Epoch 6/10\n",
      "1/1 [==============================] - 0s 13ms/step - loss: 2.6022 - accuracy: 0.2000\n",
      "Epoch 7/10\n",
      "1/1 [==============================] - 0s 10ms/step - loss: 2.5903 - accuracy: 0.2000\n",
      "Epoch 8/10\n",
      "1/1 [==============================] - 0s 6ms/step - loss: 2.5784 - accuracy: 0.2000\n",
      "Epoch 9/10\n",
      "1/1 [==============================] - 0s 4ms/step - loss: 2.5665 - accuracy: 0.2000\n",
      "Epoch 10/10\n",
      "1/1 [==============================] - 0s 3ms/step - loss: 2.5546 - accuracy: 0.2000\n"
     ]
    },
    {
     "name": "stderr",
     "output_type": "stream",
     "text": [
      "\r",
      "  5%|▌         | 2/40 [00:13<04:18,  6.80s/it]"
     ]
    },
    {
     "name": "stdout",
     "output_type": "stream",
     "text": [
      "Epoch 1/10\n",
      "1/1 [==============================] - 0s 3ms/step - loss: 2.6107 - accuracy: 0.1786\n",
      "Epoch 2/10\n",
      "1/1 [==============================] - 0s 5ms/step - loss: 2.6022 - accuracy: 0.1786\n",
      "Epoch 3/10\n",
      "1/1 [==============================] - 0s 5ms/step - loss: 2.5935 - accuracy: 0.2143\n",
      "Epoch 4/10\n",
      "1/1 [==============================] - 0s 14ms/step - loss: 2.5848 - accuracy: 0.2143\n",
      "Epoch 5/10\n",
      "1/1 [==============================] - 0s 13ms/step - loss: 2.5760 - accuracy: 0.2143\n",
      "Epoch 6/10\n",
      "1/1 [==============================] - 0s 13ms/step - loss: 2.5671 - accuracy: 0.2143\n",
      "Epoch 7/10\n",
      "1/1 [==============================] - 0s 8ms/step - loss: 2.5583 - accuracy: 0.1786\n",
      "Epoch 8/10\n",
      "1/1 [==============================] - 0s 7ms/step - loss: 2.5494 - accuracy: 0.1786\n",
      "Epoch 9/10\n",
      "1/1 [==============================] - 0s 9ms/step - loss: 2.5405 - accuracy: 0.1786\n",
      "Epoch 10/10\n",
      "1/1 [==============================] - 0s 6ms/step - loss: 2.5316 - accuracy: 0.2143\n"
     ]
    },
    {
     "name": "stderr",
     "output_type": "stream",
     "text": [
      "\r",
      "  8%|▊         | 3/40 [00:19<03:57,  6.43s/it]"
     ]
    },
    {
     "name": "stdout",
     "output_type": "stream",
     "text": [
      "Epoch 1/10\n",
      "1/1 [==============================] - 0s 3ms/step - loss: 2.5852 - accuracy: 0.1714\n",
      "Epoch 2/10\n",
      "1/1 [==============================] - 0s 3ms/step - loss: 2.5779 - accuracy: 0.1714\n",
      "Epoch 3/10\n",
      "1/1 [==============================] - 0s 9ms/step - loss: 2.5702 - accuracy: 0.1714\n",
      "Epoch 4/10\n",
      "1/1 [==============================] - 0s 11ms/step - loss: 2.5622 - accuracy: 0.1714\n",
      "Epoch 5/10\n",
      "1/1 [==============================] - 0s 13ms/step - loss: 2.5539 - accuracy: 0.1714\n",
      "Epoch 6/10\n",
      "1/1 [==============================] - 0s 9ms/step - loss: 2.5455 - accuracy: 0.1714\n",
      "Epoch 7/10\n",
      "1/1 [==============================] - 0s 7ms/step - loss: 2.5369 - accuracy: 0.1714\n",
      "Epoch 8/10\n",
      "1/1 [==============================] - 0s 7ms/step - loss: 2.5283 - accuracy: 0.1714\n",
      "Epoch 9/10\n",
      "1/1 [==============================] - 0s 3ms/step - loss: 2.5197 - accuracy: 0.1714\n",
      "Epoch 10/10\n",
      "1/1 [==============================] - 0s 3ms/step - loss: 2.5111 - accuracy: 0.1714\n"
     ]
    },
    {
     "name": "stderr",
     "output_type": "stream",
     "text": [
      "\r",
      " 10%|█         | 4/40 [00:24<03:38,  6.08s/it]"
     ]
    },
    {
     "name": "stdout",
     "output_type": "stream",
     "text": [
      "Epoch 1/10\n",
      "1/1 [==============================] - 0s 3ms/step - loss: 2.5824 - accuracy: 0.1739\n",
      "Epoch 2/10\n",
      "1/1 [==============================] - 0s 4ms/step - loss: 2.5762 - accuracy: 0.1957\n",
      "Epoch 3/10\n",
      "1/1 [==============================] - 0s 5ms/step - loss: 2.5694 - accuracy: 0.1957\n",
      "Epoch 4/10\n",
      "1/1 [==============================] - 0s 5ms/step - loss: 2.5623 - accuracy: 0.1957\n",
      "Epoch 5/10\n",
      "1/1 [==============================] - 0s 7ms/step - loss: 2.5548 - accuracy: 0.1957\n",
      "Epoch 6/10\n",
      "1/1 [==============================] - 0s 5ms/step - loss: 2.5472 - accuracy: 0.1957\n",
      "Epoch 7/10\n",
      "1/1 [==============================] - 0s 7ms/step - loss: 2.5395 - accuracy: 0.1957\n",
      "Epoch 8/10\n",
      "1/1 [==============================] - 0s 5ms/step - loss: 2.5317 - accuracy: 0.1957\n",
      "Epoch 9/10\n",
      "1/1 [==============================] - 0s 9ms/step - loss: 2.5239 - accuracy: 0.2174\n",
      "Epoch 10/10\n",
      "1/1 [==============================] - 0s 8ms/step - loss: 2.5161 - accuracy: 0.2174\n"
     ]
    },
    {
     "name": "stderr",
     "output_type": "stream",
     "text": [
      "\r",
      " 12%|█▎        | 5/40 [00:32<03:53,  6.67s/it]"
     ]
    },
    {
     "name": "stdout",
     "output_type": "stream",
     "text": [
      "Epoch 1/10\n",
      "1/1 [==============================] - 0s 3ms/step - loss: 2.5736 - accuracy: 0.1897\n",
      "Epoch 2/10\n",
      "1/1 [==============================] - 0s 3ms/step - loss: 2.5663 - accuracy: 0.1897\n",
      "Epoch 3/10\n",
      "1/1 [==============================] - 0s 6ms/step - loss: 2.5584 - accuracy: 0.1897\n",
      "Epoch 4/10\n",
      "1/1 [==============================] - 0s 12ms/step - loss: 2.5500 - accuracy: 0.2069\n",
      "Epoch 5/10\n",
      "1/1 [==============================] - 0s 13ms/step - loss: 2.5413 - accuracy: 0.2069\n",
      "Epoch 6/10\n",
      "1/1 [==============================] - 0s 15ms/step - loss: 2.5326 - accuracy: 0.2069\n",
      "Epoch 7/10\n",
      "1/1 [==============================] - 0s 11ms/step - loss: 2.5240 - accuracy: 0.2069\n",
      "Epoch 8/10\n",
      "1/1 [==============================] - 0s 6ms/step - loss: 2.5154 - accuracy: 0.2241\n",
      "Epoch 9/10\n",
      "1/1 [==============================] - 0s 4ms/step - loss: 2.5070 - accuracy: 0.2414\n",
      "Epoch 10/10\n",
      "1/1 [==============================] - 0s 2ms/step - loss: 2.4988 - accuracy: 0.2586\n"
     ]
    },
    {
     "name": "stderr",
     "output_type": "stream",
     "text": [
      "\r",
      " 15%|█▌        | 6/40 [00:41<04:16,  7.53s/it]"
     ]
    },
    {
     "name": "stdout",
     "output_type": "stream",
     "text": [
      "Epoch 1/10\n",
      "1/1 [==============================] - 0s 3ms/step - loss: 2.5241 - accuracy: 0.2308\n",
      "Epoch 2/10\n",
      "1/1 [==============================] - 0s 3ms/step - loss: 2.5171 - accuracy: 0.2154\n",
      "Epoch 3/10\n",
      "1/1 [==============================] - 0s 3ms/step - loss: 2.5103 - accuracy: 0.2154\n",
      "Epoch 4/10\n",
      "1/1 [==============================] - 0s 4ms/step - loss: 2.5035 - accuracy: 0.2154\n",
      "Epoch 5/10\n",
      "1/1 [==============================] - 0s 15ms/step - loss: 2.4966 - accuracy: 0.2154\n",
      "Epoch 6/10\n",
      "1/1 [==============================] - 0s 3ms/step - loss: 2.4898 - accuracy: 0.2154\n",
      "Epoch 7/10\n",
      "1/1 [==============================] - 0s 3ms/step - loss: 2.4829 - accuracy: 0.2154\n",
      "Epoch 8/10\n",
      "1/1 [==============================] - 0s 12ms/step - loss: 2.4760 - accuracy: 0.2154\n",
      "Epoch 9/10\n",
      "1/1 [==============================] - 0s 3ms/step - loss: 2.4690 - accuracy: 0.2462\n",
      "Epoch 10/10\n",
      "1/1 [==============================] - 0s 19ms/step - loss: 2.4621 - accuracy: 0.2462\n"
     ]
    },
    {
     "name": "stderr",
     "output_type": "stream",
     "text": [
      "\r",
      " 18%|█▊        | 7/40 [00:48<03:54,  7.10s/it]"
     ]
    },
    {
     "name": "stdout",
     "output_type": "stream",
     "text": [
      "Epoch 1/10\n",
      "1/1 [==============================] - 0s 3ms/step - loss: 2.5140 - accuracy: 0.2179\n",
      "Epoch 2/10\n",
      "1/1 [==============================] - 0s 8ms/step - loss: 2.5067 - accuracy: 0.2179\n",
      "Epoch 3/10\n",
      "1/1 [==============================] - 0s 8ms/step - loss: 2.4985 - accuracy: 0.2179\n",
      "Epoch 4/10\n",
      "1/1 [==============================] - 0s 6ms/step - loss: 2.4900 - accuracy: 0.2308\n",
      "Epoch 5/10\n",
      "1/1 [==============================] - 0s 12ms/step - loss: 2.4815 - accuracy: 0.2308\n",
      "Epoch 6/10\n",
      "1/1 [==============================] - 0s 7ms/step - loss: 2.4732 - accuracy: 0.2436\n",
      "Epoch 7/10\n",
      "1/1 [==============================] - 0s 6ms/step - loss: 2.4651 - accuracy: 0.2436\n",
      "Epoch 8/10\n",
      "1/1 [==============================] - 0s 5ms/step - loss: 2.4574 - accuracy: 0.2436\n",
      "Epoch 9/10\n",
      "1/1 [==============================] - 0s 7ms/step - loss: 2.4500 - accuracy: 0.2692\n",
      "Epoch 10/10\n",
      "1/1 [==============================] - 0s 8ms/step - loss: 2.4429 - accuracy: 0.2692\n"
     ]
    },
    {
     "name": "stderr",
     "output_type": "stream",
     "text": [
      "\r",
      " 20%|██        | 8/40 [00:56<03:58,  7.45s/it]"
     ]
    },
    {
     "name": "stdout",
     "output_type": "stream",
     "text": [
      "Epoch 1/10\n",
      "1/1 [==============================] - 0s 3ms/step - loss: 2.4648 - accuracy: 0.2471\n",
      "Epoch 2/10\n",
      "1/1 [==============================] - 0s 4ms/step - loss: 2.4584 - accuracy: 0.2588\n",
      "Epoch 3/10\n",
      "1/1 [==============================] - 0s 2ms/step - loss: 2.4519 - accuracy: 0.2588\n",
      "Epoch 4/10\n",
      "1/1 [==============================] - 0s 3ms/step - loss: 2.4451 - accuracy: 0.2706\n",
      "Epoch 5/10\n",
      "1/1 [==============================] - 0s 3ms/step - loss: 2.4382 - accuracy: 0.2706\n",
      "Epoch 6/10\n",
      "1/1 [==============================] - 0s 3ms/step - loss: 2.4310 - accuracy: 0.2941\n",
      "Epoch 7/10\n",
      "1/1 [==============================] - 0s 3ms/step - loss: 2.4238 - accuracy: 0.2824\n",
      "Epoch 8/10\n",
      "1/1 [==============================] - 0s 3ms/step - loss: 2.4165 - accuracy: 0.2706\n",
      "Epoch 9/10\n",
      "1/1 [==============================] - 0s 4ms/step - loss: 2.4091 - accuracy: 0.2706\n",
      "Epoch 10/10\n",
      "1/1 [==============================] - 0s 3ms/step - loss: 2.4018 - accuracy: 0.2824\n"
     ]
    },
    {
     "name": "stderr",
     "output_type": "stream",
     "text": [
      "\r",
      " 22%|██▎       | 9/40 [01:05<04:10,  8.08s/it]"
     ]
    },
    {
     "name": "stdout",
     "output_type": "stream",
     "text": [
      "Epoch 1/10\n",
      "1/1 [==============================] - 0s 3ms/step - loss: 2.4177 - accuracy: 0.2826\n",
      "Epoch 2/10\n",
      "1/1 [==============================] - 0s 4ms/step - loss: 2.4112 - accuracy: 0.2826\n",
      "Epoch 3/10\n",
      "1/1 [==============================] - 0s 3ms/step - loss: 2.4048 - accuracy: 0.2826\n",
      "Epoch 4/10\n",
      "1/1 [==============================] - 0s 3ms/step - loss: 2.3984 - accuracy: 0.2935\n",
      "Epoch 5/10\n",
      "1/1 [==============================] - 0s 3ms/step - loss: 2.3922 - accuracy: 0.3043\n",
      "Epoch 6/10\n",
      "1/1 [==============================] - 0s 3ms/step - loss: 2.3860 - accuracy: 0.3152\n",
      "Epoch 7/10\n",
      "1/1 [==============================] - 0s 3ms/step - loss: 2.3798 - accuracy: 0.3043\n",
      "Epoch 8/10\n",
      "1/1 [==============================] - 0s 3ms/step - loss: 2.3737 - accuracy: 0.3043\n",
      "Epoch 9/10\n",
      "1/1 [==============================] - 0s 4ms/step - loss: 2.3676 - accuracy: 0.3043\n",
      "Epoch 10/10\n",
      "1/1 [==============================] - 0s 2ms/step - loss: 2.3616 - accuracy: 0.3043\n"
     ]
    },
    {
     "name": "stderr",
     "output_type": "stream",
     "text": [
      "\r",
      " 25%|██▌       | 10/40 [01:12<03:50,  7.70s/it]"
     ]
    },
    {
     "name": "stdout",
     "output_type": "stream",
     "text": [
      "Epoch 1/10\n",
      "1/1 [==============================] - 0s 3ms/step - loss: 2.3835 - accuracy: 0.2900\n",
      "Epoch 2/10\n",
      "1/1 [==============================] - 0s 3ms/step - loss: 2.3775 - accuracy: 0.2900\n",
      "Epoch 3/10\n",
      "1/1 [==============================] - 0s 4ms/step - loss: 2.3713 - accuracy: 0.3000\n",
      "Epoch 4/10\n",
      "1/1 [==============================] - 0s 3ms/step - loss: 2.3651 - accuracy: 0.3200\n",
      "Epoch 5/10\n",
      "1/1 [==============================] - 0s 3ms/step - loss: 2.3590 - accuracy: 0.3200\n",
      "Epoch 6/10\n",
      "1/1 [==============================] - 0s 3ms/step - loss: 2.3530 - accuracy: 0.3200\n",
      "Epoch 7/10\n",
      "1/1 [==============================] - 0s 3ms/step - loss: 2.3470 - accuracy: 0.3300\n",
      "Epoch 8/10\n",
      "1/1 [==============================] - 0s 4ms/step - loss: 2.3412 - accuracy: 0.3300\n",
      "Epoch 9/10\n",
      "1/1 [==============================] - 0s 4ms/step - loss: 2.3354 - accuracy: 0.3300\n",
      "Epoch 10/10\n",
      "1/1 [==============================] - 0s 3ms/step - loss: 2.3296 - accuracy: 0.3200\n"
     ]
    },
    {
     "name": "stderr",
     "output_type": "stream",
     "text": [
      "\r",
      " 28%|██▊       | 11/40 [01:20<03:43,  7.72s/it]"
     ]
    },
    {
     "name": "stdout",
     "output_type": "stream",
     "text": [
      "Epoch 1/10\n",
      "1/1 [==============================] - 0s 3ms/step - loss: 2.3457 - accuracy: 0.3364\n",
      "Epoch 2/10\n",
      "1/1 [==============================] - 0s 3ms/step - loss: 2.3402 - accuracy: 0.3458\n",
      "Epoch 3/10\n",
      "1/1 [==============================] - 0s 4ms/step - loss: 2.3346 - accuracy: 0.3551\n",
      "Epoch 4/10\n",
      "1/1 [==============================] - 0s 2ms/step - loss: 2.3291 - accuracy: 0.3551\n",
      "Epoch 5/10\n",
      "1/1 [==============================] - 0s 3ms/step - loss: 2.3235 - accuracy: 0.3551\n",
      "Epoch 6/10\n",
      "1/1 [==============================] - 0s 4ms/step - loss: 2.3180 - accuracy: 0.3645\n",
      "Epoch 7/10\n",
      "1/1 [==============================] - 0s 4ms/step - loss: 2.3127 - accuracy: 0.3551\n",
      "Epoch 8/10\n",
      "1/1 [==============================] - 0s 3ms/step - loss: 2.3075 - accuracy: 0.3645\n",
      "Epoch 9/10\n",
      "1/1 [==============================] - 0s 3ms/step - loss: 2.3023 - accuracy: 0.3551\n",
      "Epoch 10/10\n",
      "1/1 [==============================] - 0s 3ms/step - loss: 2.2972 - accuracy: 0.3551\n"
     ]
    },
    {
     "name": "stderr",
     "output_type": "stream",
     "text": [
      "\r",
      " 30%|███       | 12/40 [01:26<03:25,  7.36s/it]"
     ]
    },
    {
     "name": "stdout",
     "output_type": "stream",
     "text": [
      "Epoch 1/10\n",
      "1/1 [==============================] - 0s 5ms/step - loss: 2.3312 - accuracy: 0.3390\n",
      "Epoch 2/10\n",
      "1/1 [==============================] - 0s 4ms/step - loss: 2.3260 - accuracy: 0.3390\n",
      "Epoch 3/10\n",
      "1/1 [==============================] - 0s 13ms/step - loss: 2.3205 - accuracy: 0.3475\n",
      "Epoch 4/10\n",
      "1/1 [==============================] - 0s 6ms/step - loss: 2.3147 - accuracy: 0.3559\n",
      "Epoch 5/10\n",
      "1/1 [==============================] - 0s 4ms/step - loss: 2.3089 - accuracy: 0.3559\n",
      "Epoch 6/10\n",
      "1/1 [==============================] - 0s 4ms/step - loss: 2.3033 - accuracy: 0.3644\n",
      "Epoch 7/10\n",
      "1/1 [==============================] - 0s 3ms/step - loss: 2.2978 - accuracy: 0.3644\n",
      "Epoch 8/10\n",
      "1/1 [==============================] - 0s 6ms/step - loss: 2.2924 - accuracy: 0.3644\n",
      "Epoch 9/10\n",
      "1/1 [==============================] - 0s 3ms/step - loss: 2.2872 - accuracy: 0.3644\n",
      "Epoch 10/10\n",
      "1/1 [==============================] - 0s 5ms/step - loss: 2.2820 - accuracy: 0.3729\n"
     ]
    },
    {
     "name": "stderr",
     "output_type": "stream",
     "text": [
      "\r",
      " 32%|███▎      | 13/40 [01:35<03:31,  7.82s/it]"
     ]
    },
    {
     "name": "stdout",
     "output_type": "stream",
     "text": [
      "Epoch 1/10\n",
      "1/1 [==============================] - 0s 3ms/step - loss: 2.3068 - accuracy: 0.3730\n",
      "Epoch 2/10\n",
      "1/1 [==============================] - 0s 4ms/step - loss: 2.3020 - accuracy: 0.3730\n",
      "Epoch 3/10\n",
      "1/1 [==============================] - 0s 6ms/step - loss: 2.2970 - accuracy: 0.3730\n",
      "Epoch 4/10\n",
      "1/1 [==============================] - 0s 3ms/step - loss: 2.2920 - accuracy: 0.3730\n",
      "Epoch 5/10\n",
      "1/1 [==============================] - 0s 7ms/step - loss: 2.2870 - accuracy: 0.3730\n",
      "Epoch 6/10\n",
      "1/1 [==============================] - 0s 6ms/step - loss: 2.2820 - accuracy: 0.3889\n",
      "Epoch 7/10\n",
      "1/1 [==============================] - 0s 9ms/step - loss: 2.2772 - accuracy: 0.3968\n",
      "Epoch 8/10\n",
      "1/1 [==============================] - 0s 6ms/step - loss: 2.2725 - accuracy: 0.3968\n",
      "Epoch 9/10\n",
      "1/1 [==============================] - 0s 7ms/step - loss: 2.2680 - accuracy: 0.4127\n",
      "Epoch 10/10\n",
      "1/1 [==============================] - 0s 7ms/step - loss: 2.2634 - accuracy: 0.4127\n"
     ]
    },
    {
     "name": "stderr",
     "output_type": "stream",
     "text": [
      "\r",
      " 35%|███▌      | 14/40 [01:44<03:29,  8.07s/it]"
     ]
    },
    {
     "name": "stdout",
     "output_type": "stream",
     "text": [
      "Epoch 1/10\n",
      "2/2 [==============================] - 0s 3ms/step - loss: 2.2955 - accuracy: 0.3910\n",
      "Epoch 2/10\n",
      "2/2 [==============================] - 0s 4ms/step - loss: 2.2875 - accuracy: 0.3910\n",
      "Epoch 3/10\n",
      "2/2 [==============================] - 0s 7ms/step - loss: 2.2851 - accuracy: 0.3835\n",
      "Epoch 4/10\n",
      "2/2 [==============================] - 0s 7ms/step - loss: 2.2835 - accuracy: 0.3835\n",
      "Epoch 5/10\n",
      "2/2 [==============================] - 0s 4ms/step - loss: 2.2818 - accuracy: 0.4286\n",
      "Epoch 6/10\n",
      "2/2 [==============================] - 0s 4ms/step - loss: 2.2796 - accuracy: 0.4436\n",
      "Epoch 7/10\n",
      "2/2 [==============================] - 0s 10ms/step - loss: 2.2767 - accuracy: 0.4211\n",
      "Epoch 8/10\n",
      "2/2 [==============================] - 0s 5ms/step - loss: 2.2731 - accuracy: 0.4286\n",
      "Epoch 9/10\n",
      "2/2 [==============================] - 0s 6ms/step - loss: 2.2689 - accuracy: 0.4286\n",
      "Epoch 10/10\n",
      "2/2 [==============================] - 0s 3ms/step - loss: 2.2648 - accuracy: 0.4060\n"
     ]
    },
    {
     "name": "stderr",
     "output_type": "stream",
     "text": [
      "\r",
      " 38%|███▊      | 15/40 [01:50<03:05,  7.41s/it]"
     ]
    },
    {
     "name": "stdout",
     "output_type": "stream",
     "text": [
      "Epoch 1/10\n",
      "2/2 [==============================] - 0s 3ms/step - loss: 2.2886 - accuracy: 0.3706\n",
      "Epoch 2/10\n",
      "2/2 [==============================] - 0s 8ms/step - loss: 2.2837 - accuracy: 0.3706\n",
      "Epoch 3/10\n",
      "2/2 [==============================] - 0s 9ms/step - loss: 2.2791 - accuracy: 0.3706\n",
      "Epoch 4/10\n",
      "2/2 [==============================] - 0s 6ms/step - loss: 2.2736 - accuracy: 0.3706\n",
      "Epoch 5/10\n",
      "2/2 [==============================] - 0s 5ms/step - loss: 2.2693 - accuracy: 0.3706\n",
      "Epoch 6/10\n",
      "2/2 [==============================] - 0s 3ms/step - loss: 2.2653 - accuracy: 0.3636\n",
      "Epoch 7/10\n",
      "2/2 [==============================] - 0s 4ms/step - loss: 2.2606 - accuracy: 0.3706\n",
      "Epoch 8/10\n",
      "2/2 [==============================] - 0s 3ms/step - loss: 2.2555 - accuracy: 0.3776\n",
      "Epoch 9/10\n",
      "2/2 [==============================] - 0s 8ms/step - loss: 2.2495 - accuracy: 0.4126\n",
      "Epoch 10/10\n",
      "2/2 [==============================] - 0s 3ms/step - loss: 2.2452 - accuracy: 0.4126\n"
     ]
    },
    {
     "name": "stderr",
     "output_type": "stream",
     "text": [
      "\r",
      " 40%|████      | 16/40 [01:58<03:03,  7.63s/it]"
     ]
    },
    {
     "name": "stdout",
     "output_type": "stream",
     "text": [
      "Epoch 1/10\n",
      "2/2 [==============================] - 0s 2ms/step - loss: 2.2570 - accuracy: 0.4267\n",
      "Epoch 2/10\n",
      "2/2 [==============================] - 0s 5ms/step - loss: 2.2537 - accuracy: 0.4267\n",
      "Epoch 3/10\n",
      "2/2 [==============================] - 0s 11ms/step - loss: 2.2501 - accuracy: 0.4333\n",
      "Epoch 4/10\n",
      "2/2 [==============================] - 0s 7ms/step - loss: 2.2459 - accuracy: 0.4267\n",
      "Epoch 5/10\n",
      "2/2 [==============================] - 0s 7ms/step - loss: 2.2414 - accuracy: 0.4267\n",
      "Epoch 6/10\n",
      "2/2 [==============================] - 0s 4ms/step - loss: 2.2365 - accuracy: 0.4267\n",
      "Epoch 7/10\n",
      "2/2 [==============================] - 0s 5ms/step - loss: 2.2314 - accuracy: 0.4400\n",
      "Epoch 8/10\n",
      "2/2 [==============================] - 0s 8ms/step - loss: 2.2275 - accuracy: 0.4533\n",
      "Epoch 9/10\n",
      "2/2 [==============================] - 0s 5ms/step - loss: 2.2233 - accuracy: 0.4667\n",
      "Epoch 10/10\n",
      "2/2 [==============================] - 0s 5ms/step - loss: 2.2196 - accuracy: 0.4800\n"
     ]
    },
    {
     "name": "stderr",
     "output_type": "stream",
     "text": [
      "\r",
      " 42%|████▎     | 17/40 [02:04<02:40,  6.99s/it]"
     ]
    },
    {
     "name": "stdout",
     "output_type": "stream",
     "text": [
      "Epoch 1/10\n",
      "2/2 [==============================] - 0s 3ms/step - loss: 2.2472 - accuracy: 0.4403\n",
      "Epoch 2/10\n",
      "2/2 [==============================] - 0s 4ms/step - loss: 2.2434 - accuracy: 0.4403\n",
      "Epoch 3/10\n",
      "2/2 [==============================] - 0s 10ms/step - loss: 2.2389 - accuracy: 0.4340\n",
      "Epoch 4/10\n",
      "2/2 [==============================] - 0s 11ms/step - loss: 2.2338 - accuracy: 0.4340\n",
      "Epoch 5/10\n",
      "2/2 [==============================] - 0s 4ms/step - loss: 2.2291 - accuracy: 0.4528\n",
      "Epoch 6/10\n",
      "2/2 [==============================] - 0s 4ms/step - loss: 2.2249 - accuracy: 0.4528\n",
      "Epoch 7/10\n",
      "2/2 [==============================] - 0s 10ms/step - loss: 2.2212 - accuracy: 0.4654\n",
      "Epoch 8/10\n",
      "2/2 [==============================] - 0s 9ms/step - loss: 2.2173 - accuracy: 0.4654\n",
      "Epoch 9/10\n",
      "2/2 [==============================] - 0s 10ms/step - loss: 2.2134 - accuracy: 0.4717\n",
      "Epoch 10/10\n",
      "2/2 [==============================] - 0s 9ms/step - loss: 2.2081 - accuracy: 0.4654\n"
     ]
    },
    {
     "name": "stderr",
     "output_type": "stream",
     "text": [
      "\r",
      " 45%|████▌     | 18/40 [02:10<02:28,  6.77s/it]"
     ]
    },
    {
     "name": "stdout",
     "output_type": "stream",
     "text": [
      "Epoch 1/10\n",
      "2/2 [==============================] - 0s 2ms/step - loss: 2.2376 - accuracy: 0.4431\n",
      "Epoch 2/10\n",
      "2/2 [==============================] - 0s 4ms/step - loss: 2.2332 - accuracy: 0.4371\n",
      "Epoch 3/10\n",
      "2/2 [==============================] - 0s 9ms/step - loss: 2.2296 - accuracy: 0.4431\n",
      "Epoch 4/10\n",
      "2/2 [==============================] - 0s 5ms/step - loss: 2.2254 - accuracy: 0.4491\n",
      "Epoch 5/10\n",
      "2/2 [==============================] - 0s 3ms/step - loss: 2.2211 - accuracy: 0.4671\n",
      "Epoch 6/10\n",
      "2/2 [==============================] - 0s 5ms/step - loss: 2.2171 - accuracy: 0.4731\n",
      "Epoch 7/10\n",
      "2/2 [==============================] - 0s 8ms/step - loss: 2.2135 - accuracy: 0.4671\n",
      "Epoch 8/10\n",
      "2/2 [==============================] - 0s 8ms/step - loss: 2.2101 - accuracy: 0.4731\n",
      "Epoch 9/10\n",
      "2/2 [==============================] - 0s 5ms/step - loss: 2.2064 - accuracy: 0.4790\n",
      "Epoch 10/10\n",
      "2/2 [==============================] - 0s 7ms/step - loss: 2.2029 - accuracy: 0.4850\n"
     ]
    },
    {
     "name": "stderr",
     "output_type": "stream",
     "text": [
      "\r",
      " 48%|████▊     | 19/40 [02:16<02:18,  6.59s/it]"
     ]
    },
    {
     "name": "stdout",
     "output_type": "stream",
     "text": [
      "Epoch 1/10\n",
      "2/2 [==============================] - 0s 8ms/step - loss: 2.2291 - accuracy: 0.4886\n",
      "Epoch 2/10\n",
      "2/2 [==============================] - 0s 13ms/step - loss: 2.2249 - accuracy: 0.4830\n",
      "Epoch 3/10\n",
      "2/2 [==============================] - 0s 9ms/step - loss: 2.2210 - accuracy: 0.4830\n",
      "Epoch 4/10\n",
      "2/2 [==============================] - 0s 4ms/step - loss: 2.2173 - accuracy: 0.4830\n",
      "Epoch 5/10\n",
      "2/2 [==============================] - 0s 2ms/step - loss: 2.2130 - accuracy: 0.4943\n",
      "Epoch 6/10\n",
      "2/2 [==============================] - 0s 3ms/step - loss: 2.2096 - accuracy: 0.5000\n",
      "Epoch 7/10\n",
      "2/2 [==============================] - 0s 4ms/step - loss: 2.2057 - accuracy: 0.5057\n",
      "Epoch 8/10\n",
      "2/2 [==============================] - 0s 4ms/step - loss: 2.2023 - accuracy: 0.4943\n",
      "Epoch 9/10\n",
      "2/2 [==============================] - 0s 3ms/step - loss: 2.1984 - accuracy: 0.4886\n",
      "Epoch 10/10\n",
      "2/2 [==============================] - 0s 3ms/step - loss: 2.1951 - accuracy: 0.4830\n"
     ]
    },
    {
     "name": "stderr",
     "output_type": "stream",
     "text": [
      "\r",
      " 50%|█████     | 20/40 [02:22<02:07,  6.39s/it]"
     ]
    },
    {
     "name": "stdout",
     "output_type": "stream",
     "text": [
      "Epoch 1/10\n",
      "2/2 [==============================] - 0s 2ms/step - loss: 2.2259 - accuracy: 0.4706\n",
      "Epoch 2/10\n",
      "2/2 [==============================] - 0s 4ms/step - loss: 2.2221 - accuracy: 0.4706\n",
      "Epoch 3/10\n",
      "2/2 [==============================] - 0s 7ms/step - loss: 2.2175 - accuracy: 0.4866\n",
      "Epoch 4/10\n",
      "2/2 [==============================] - 0s 8ms/step - loss: 2.2129 - accuracy: 0.4920\n",
      "Epoch 5/10\n",
      "2/2 [==============================] - 0s 10ms/step - loss: 2.2090 - accuracy: 0.4920\n",
      "Epoch 6/10\n",
      "2/2 [==============================] - 0s 6ms/step - loss: 2.2056 - accuracy: 0.4866\n",
      "Epoch 7/10\n",
      "2/2 [==============================] - 0s 3ms/step - loss: 2.2012 - accuracy: 0.4920\n",
      "Epoch 8/10\n",
      "2/2 [==============================] - 0s 2ms/step - loss: 2.1969 - accuracy: 0.4973\n",
      "Epoch 9/10\n",
      "2/2 [==============================] - 0s 5ms/step - loss: 2.1930 - accuracy: 0.4973\n",
      "Epoch 10/10\n",
      "2/2 [==============================] - 0s 5ms/step - loss: 2.1899 - accuracy: 0.5080\n"
     ]
    },
    {
     "name": "stderr",
     "output_type": "stream",
     "text": [
      "\r",
      " 52%|█████▎    | 21/40 [02:29<02:03,  6.51s/it]"
     ]
    },
    {
     "name": "stdout",
     "output_type": "stream",
     "text": [
      "Epoch 1/10\n",
      "2/2 [==============================] - 0s 3ms/step - loss: 2.2051 - accuracy: 0.4924\n",
      "Epoch 2/10\n",
      "2/2 [==============================] - 0s 4ms/step - loss: 2.2016 - accuracy: 0.4975\n",
      "Epoch 3/10\n",
      "2/2 [==============================] - 0s 6ms/step - loss: 2.1971 - accuracy: 0.4924\n",
      "Epoch 4/10\n",
      "2/2 [==============================] - 0s 5ms/step - loss: 2.1929 - accuracy: 0.5025\n",
      "Epoch 5/10\n",
      "2/2 [==============================] - 0s 7ms/step - loss: 2.1891 - accuracy: 0.5127\n",
      "Epoch 6/10\n",
      "2/2 [==============================] - 0s 7ms/step - loss: 2.1857 - accuracy: 0.5178\n",
      "Epoch 7/10\n",
      "2/2 [==============================] - 0s 5ms/step - loss: 2.1822 - accuracy: 0.5127\n",
      "Epoch 8/10\n",
      "2/2 [==============================] - 0s 4ms/step - loss: 2.1792 - accuracy: 0.5178\n",
      "Epoch 9/10\n",
      "2/2 [==============================] - 0s 3ms/step - loss: 2.1757 - accuracy: 0.5330\n",
      "Epoch 10/10\n",
      "2/2 [==============================] - 0s 8ms/step - loss: 2.1723 - accuracy: 0.5279\n"
     ]
    },
    {
     "name": "stderr",
     "output_type": "stream",
     "text": [
      "\r",
      " 55%|█████▌    | 22/40 [02:35<01:57,  6.56s/it]"
     ]
    },
    {
     "name": "stdout",
     "output_type": "stream",
     "text": [
      "Epoch 1/10\n",
      "2/2 [==============================] - 0s 9ms/step - loss: 2.1860 - accuracy: 0.5171\n",
      "Epoch 2/10\n",
      "2/2 [==============================] - 0s 8ms/step - loss: 2.1833 - accuracy: 0.5122\n",
      "Epoch 3/10\n",
      "2/2 [==============================] - 0s 8ms/step - loss: 2.1805 - accuracy: 0.5220\n",
      "Epoch 4/10\n",
      "2/2 [==============================] - 0s 12ms/step - loss: 2.1777 - accuracy: 0.5220\n",
      "Epoch 5/10\n",
      "2/2 [==============================] - 0s 6ms/step - loss: 2.1754 - accuracy: 0.5220\n",
      "Epoch 6/10\n",
      "2/2 [==============================] - 0s 7ms/step - loss: 2.1726 - accuracy: 0.5171\n",
      "Epoch 7/10\n",
      "2/2 [==============================] - 0s 6ms/step - loss: 2.1700 - accuracy: 0.5171\n",
      "Epoch 8/10\n",
      "2/2 [==============================] - 0s 9ms/step - loss: 2.1674 - accuracy: 0.5268\n",
      "Epoch 9/10\n",
      "2/2 [==============================] - 0s 11ms/step - loss: 2.1653 - accuracy: 0.5317\n",
      "Epoch 10/10\n",
      "2/2 [==============================] - 0s 7ms/step - loss: 2.1631 - accuracy: 0.5415\n"
     ]
    },
    {
     "name": "stderr",
     "output_type": "stream",
     "text": [
      "\r",
      " 57%|█████▊    | 23/40 [02:42<01:49,  6.45s/it]"
     ]
    },
    {
     "name": "stdout",
     "output_type": "stream",
     "text": [
      "Epoch 1/10\n",
      "2/2 [==============================] - 0s 3ms/step - loss: 2.1783 - accuracy: 0.5330\n",
      "Epoch 2/10\n",
      "2/2 [==============================] - 0s 5ms/step - loss: 2.1759 - accuracy: 0.5377\n",
      "Epoch 3/10\n",
      "2/2 [==============================] - 0s 9ms/step - loss: 2.1733 - accuracy: 0.5283\n",
      "Epoch 4/10\n",
      "2/2 [==============================] - 0s 4ms/step - loss: 2.1708 - accuracy: 0.5189\n",
      "Epoch 5/10\n",
      "2/2 [==============================] - 0s 8ms/step - loss: 2.1686 - accuracy: 0.5236\n",
      "Epoch 6/10\n",
      "2/2 [==============================] - 0s 6ms/step - loss: 2.1664 - accuracy: 0.5189\n",
      "Epoch 7/10\n",
      "2/2 [==============================] - 0s 4ms/step - loss: 2.1643 - accuracy: 0.5236\n",
      "Epoch 8/10\n",
      "2/2 [==============================] - 0s 6ms/step - loss: 2.1621 - accuracy: 0.5283\n",
      "Epoch 9/10\n",
      "2/2 [==============================] - 0s 6ms/step - loss: 2.1599 - accuracy: 0.5472\n",
      "Epoch 10/10\n",
      "2/2 [==============================] - 0s 4ms/step - loss: 2.1577 - accuracy: 0.5472\n"
     ]
    },
    {
     "name": "stderr",
     "output_type": "stream",
     "text": [
      "\r",
      " 60%|██████    | 24/40 [02:48<01:41,  6.35s/it]"
     ]
    },
    {
     "name": "stdout",
     "output_type": "stream",
     "text": [
      "Epoch 1/10\n",
      "2/2 [==============================] - 0s 2ms/step - loss: 2.1766 - accuracy: 0.5318\n",
      "Epoch 2/10\n",
      "2/2 [==============================] - 0s 9ms/step - loss: 2.1745 - accuracy: 0.5273\n",
      "Epoch 3/10\n",
      "2/2 [==============================] - 0s 7ms/step - loss: 2.1721 - accuracy: 0.5273\n",
      "Epoch 4/10\n",
      "2/2 [==============================] - 0s 5ms/step - loss: 2.1698 - accuracy: 0.5318\n",
      "Epoch 5/10\n",
      "2/2 [==============================] - 0s 3ms/step - loss: 2.1675 - accuracy: 0.5227\n",
      "Epoch 6/10\n",
      "2/2 [==============================] - 0s 7ms/step - loss: 2.1656 - accuracy: 0.5227\n",
      "Epoch 7/10\n",
      "2/2 [==============================] - 0s 6ms/step - loss: 2.1631 - accuracy: 0.5318\n",
      "Epoch 8/10\n",
      "2/2 [==============================] - 0s 10ms/step - loss: 2.1610 - accuracy: 0.5364\n",
      "Epoch 9/10\n",
      "2/2 [==============================] - 0s 8ms/step - loss: 2.1589 - accuracy: 0.5318\n",
      "Epoch 10/10\n",
      "2/2 [==============================] - 0s 6ms/step - loss: 2.1569 - accuracy: 0.5273\n"
     ]
    },
    {
     "name": "stderr",
     "output_type": "stream",
     "text": [
      "\r",
      " 62%|██████▎   | 25/40 [02:54<01:33,  6.22s/it]"
     ]
    },
    {
     "name": "stdout",
     "output_type": "stream",
     "text": [
      "Epoch 1/10\n",
      "2/2 [==============================] - 0s 3ms/step - loss: 2.1723 - accuracy: 0.5284\n",
      "Epoch 2/10\n",
      "2/2 [==============================] - 0s 4ms/step - loss: 2.1695 - accuracy: 0.5371\n",
      "Epoch 3/10\n",
      "2/2 [==============================] - 0s 9ms/step - loss: 2.1670 - accuracy: 0.5415\n",
      "Epoch 4/10\n",
      "2/2 [==============================] - 0s 4ms/step - loss: 2.1646 - accuracy: 0.5502\n",
      "Epoch 5/10\n",
      "2/2 [==============================] - 0s 4ms/step - loss: 2.1625 - accuracy: 0.5459\n",
      "Epoch 6/10\n",
      "2/2 [==============================] - 0s 3ms/step - loss: 2.1602 - accuracy: 0.5459\n",
      "Epoch 7/10\n",
      "2/2 [==============================] - 0s 3ms/step - loss: 2.1581 - accuracy: 0.5459\n",
      "Epoch 8/10\n",
      "2/2 [==============================] - 0s 7ms/step - loss: 2.1554 - accuracy: 0.5502\n",
      "Epoch 9/10\n",
      "2/2 [==============================] - 0s 3ms/step - loss: 2.1535 - accuracy: 0.5546\n",
      "Epoch 10/10\n",
      "2/2 [==============================] - 0s 3ms/step - loss: 2.1516 - accuracy: 0.5546\n"
     ]
    },
    {
     "name": "stderr",
     "output_type": "stream",
     "text": [
      "\r",
      " 65%|██████▌   | 26/40 [03:00<01:27,  6.22s/it]"
     ]
    },
    {
     "name": "stdout",
     "output_type": "stream",
     "text": [
      "Epoch 1/10\n",
      "2/2 [==============================] - 0s 3ms/step - loss: 2.1742 - accuracy: 0.5333\n",
      "Epoch 2/10\n",
      "2/2 [==============================] - 0s 4ms/step - loss: 2.1717 - accuracy: 0.5333\n",
      "Epoch 3/10\n",
      "2/2 [==============================] - 0s 12ms/step - loss: 2.1688 - accuracy: 0.5333\n",
      "Epoch 4/10\n",
      "2/2 [==============================] - 0s 11ms/step - loss: 2.1660 - accuracy: 0.5375\n",
      "Epoch 5/10\n",
      "2/2 [==============================] - 0s 8ms/step - loss: 2.1640 - accuracy: 0.5292\n",
      "Epoch 6/10\n",
      "2/2 [==============================] - 0s 6ms/step - loss: 2.1612 - accuracy: 0.5292\n",
      "Epoch 7/10\n",
      "2/2 [==============================] - 0s 6ms/step - loss: 2.1582 - accuracy: 0.5292\n",
      "Epoch 8/10\n",
      "2/2 [==============================] - 0s 4ms/step - loss: 2.1555 - accuracy: 0.5250\n",
      "Epoch 9/10\n",
      "2/2 [==============================] - 0s 4ms/step - loss: 2.1529 - accuracy: 0.5292\n",
      "Epoch 10/10\n",
      "2/2 [==============================] - 0s 4ms/step - loss: 2.1507 - accuracy: 0.5292\n"
     ]
    },
    {
     "name": "stderr",
     "output_type": "stream",
     "text": [
      "\r",
      " 68%|██████▊   | 27/40 [03:06<01:22,  6.35s/it]"
     ]
    },
    {
     "name": "stdout",
     "output_type": "stream",
     "text": [
      "Epoch 1/10\n",
      "2/2 [==============================] - 0s 3ms/step - loss: 2.1641 - accuracy: 0.5181\n",
      "Epoch 2/10\n",
      "2/2 [==============================] - 0s 4ms/step - loss: 2.1615 - accuracy: 0.5261\n",
      "Epoch 3/10\n",
      "2/2 [==============================] - 0s 7ms/step - loss: 2.1592 - accuracy: 0.5261\n",
      "Epoch 4/10\n",
      "2/2 [==============================] - 0s 7ms/step - loss: 2.1568 - accuracy: 0.5261\n",
      "Epoch 5/10\n",
      "2/2 [==============================] - 0s 6ms/step - loss: 2.1544 - accuracy: 0.5221\n",
      "Epoch 6/10\n",
      "2/2 [==============================] - 0s 6ms/step - loss: 2.1520 - accuracy: 0.5261\n",
      "Epoch 7/10\n",
      "2/2 [==============================] - 0s 7ms/step - loss: 2.1497 - accuracy: 0.5301\n",
      "Epoch 8/10\n",
      "2/2 [==============================] - 0s 7ms/step - loss: 2.1472 - accuracy: 0.5341\n",
      "Epoch 9/10\n",
      "2/2 [==============================] - 0s 3ms/step - loss: 2.1451 - accuracy: 0.5341\n",
      "Epoch 10/10\n",
      "2/2 [==============================] - 0s 3ms/step - loss: 2.1428 - accuracy: 0.5382\n"
     ]
    },
    {
     "name": "stderr",
     "output_type": "stream",
     "text": [
      "\r",
      " 70%|███████   | 28/40 [03:11<01:11,  5.94s/it]"
     ]
    },
    {
     "name": "stdout",
     "output_type": "stream",
     "text": [
      "Epoch 1/10\n",
      "3/3 [==============================] - 0s 25ms/step - loss: 2.1555 - accuracy: 0.5331\n",
      "Epoch 2/10\n",
      "3/3 [==============================] - 0s 4ms/step - loss: 2.1568 - accuracy: 0.5253\n",
      "Epoch 3/10\n",
      "3/3 [==============================] - 0s 6ms/step - loss: 2.1801 - accuracy: 0.4864\n",
      "Epoch 4/10\n",
      "3/3 [==============================] - 0s 4ms/step - loss: 2.1978 - accuracy: 0.4825\n",
      "Epoch 5/10\n",
      "3/3 [==============================] - 0s 4ms/step - loss: 2.1954 - accuracy: 0.4708\n",
      "Epoch 6/10\n",
      "3/3 [==============================] - 0s 3ms/step - loss: 2.1998 - accuracy: 0.4475\n",
      "Epoch 7/10\n",
      "3/3 [==============================] - 0s 7ms/step - loss: 2.1851 - accuracy: 0.4553\n",
      "Epoch 8/10\n",
      "3/3 [==============================] - 0s 4ms/step - loss: 2.1879 - accuracy: 0.4630\n",
      "Epoch 9/10\n",
      "3/3 [==============================] - 0s 3ms/step - loss: 2.1973 - accuracy: 0.4747\n",
      "Epoch 10/10\n",
      "3/3 [==============================] - 0s 3ms/step - loss: 2.2054 - accuracy: 0.4864\n"
     ]
    },
    {
     "name": "stderr",
     "output_type": "stream",
     "text": [
      "\r",
      " 72%|███████▎  | 29/40 [03:18<01:07,  6.14s/it]"
     ]
    },
    {
     "name": "stdout",
     "output_type": "stream",
     "text": [
      "Epoch 1/10\n",
      "3/3 [==============================] - 0s 2ms/step - loss: 2.2403 - accuracy: 0.4667\n",
      "Epoch 2/10\n",
      "3/3 [==============================] - 0s 4ms/step - loss: 2.2340 - accuracy: 0.4593\n",
      "Epoch 3/10\n",
      "3/3 [==============================] - 0s 9ms/step - loss: 2.2272 - accuracy: 0.4519\n",
      "Epoch 4/10\n",
      "3/3 [==============================] - 0s 4ms/step - loss: 2.2166 - accuracy: 0.4593\n",
      "Epoch 5/10\n",
      "3/3 [==============================] - 0s 3ms/step - loss: 2.2058 - accuracy: 0.4519\n",
      "Epoch 6/10\n",
      "3/3 [==============================] - 0s 4ms/step - loss: 2.1987 - accuracy: 0.4741\n",
      "Epoch 7/10\n",
      "3/3 [==============================] - 0s 4ms/step - loss: 2.1909 - accuracy: 0.4667\n",
      "Epoch 8/10\n",
      "3/3 [==============================] - 0s 4ms/step - loss: 2.1842 - accuracy: 0.4741\n",
      "Epoch 9/10\n",
      "3/3 [==============================] - 0s 4ms/step - loss: 2.1798 - accuracy: 0.4741\n",
      "Epoch 10/10\n",
      "3/3 [==============================] - 0s 4ms/step - loss: 2.1751 - accuracy: 0.4852\n"
     ]
    },
    {
     "name": "stderr",
     "output_type": "stream",
     "text": [
      "\r",
      " 75%|███████▌  | 30/40 [03:25<01:03,  6.31s/it]"
     ]
    },
    {
     "name": "stdout",
     "output_type": "stream",
     "text": [
      "Epoch 1/10\n",
      "3/3 [==============================] - 0s 3ms/step - loss: 2.1809 - accuracy: 0.4729\n",
      "Epoch 2/10\n",
      "3/3 [==============================] - 0s 6ms/step - loss: 2.1734 - accuracy: 0.4765\n",
      "Epoch 3/10\n",
      "3/3 [==============================] - 0s 7ms/step - loss: 2.1673 - accuracy: 0.4801\n",
      "Epoch 4/10\n",
      "3/3 [==============================] - 0s 7ms/step - loss: 2.1646 - accuracy: 0.4910\n",
      "Epoch 5/10\n",
      "3/3 [==============================] - 0s 5ms/step - loss: 2.1624 - accuracy: 0.4910\n",
      "Epoch 6/10\n",
      "3/3 [==============================] - 0s 5ms/step - loss: 2.1593 - accuracy: 0.4910\n",
      "Epoch 7/10\n",
      "3/3 [==============================] - 0s 4ms/step - loss: 2.1568 - accuracy: 0.4946\n",
      "Epoch 8/10\n",
      "3/3 [==============================] - 0s 4ms/step - loss: 2.1552 - accuracy: 0.5018\n",
      "Epoch 9/10\n",
      "3/3 [==============================] - 0s 3ms/step - loss: 2.1522 - accuracy: 0.5018\n",
      "Epoch 10/10\n",
      "3/3 [==============================] - 0s 3ms/step - loss: 2.1486 - accuracy: 0.5054\n"
     ]
    },
    {
     "name": "stderr",
     "output_type": "stream",
     "text": [
      "\r",
      " 78%|███████▊  | 31/40 [03:30<00:53,  5.93s/it]"
     ]
    },
    {
     "name": "stdout",
     "output_type": "stream",
     "text": [
      "Epoch 1/10\n",
      "3/3 [==============================] - 0s 3ms/step - loss: 2.1631 - accuracy: 0.4912\n",
      "Epoch 2/10\n",
      "3/3 [==============================] - 0s 4ms/step - loss: 2.1608 - accuracy: 0.5053\n",
      "Epoch 3/10\n",
      "3/3 [==============================] - 0s 6ms/step - loss: 2.1583 - accuracy: 0.4877\n",
      "Epoch 4/10\n",
      "3/3 [==============================] - 0s 6ms/step - loss: 2.1561 - accuracy: 0.4947\n",
      "Epoch 5/10\n",
      "3/3 [==============================] - 0s 3ms/step - loss: 2.1535 - accuracy: 0.4982\n",
      "Epoch 6/10\n",
      "3/3 [==============================] - 0s 3ms/step - loss: 2.1515 - accuracy: 0.5088\n",
      "Epoch 7/10\n",
      "3/3 [==============================] - 0s 2ms/step - loss: 2.1494 - accuracy: 0.5193\n",
      "Epoch 8/10\n",
      "3/3 [==============================] - 0s 4ms/step - loss: 2.1468 - accuracy: 0.5228\n",
      "Epoch 9/10\n",
      "3/3 [==============================] - 0s 2ms/step - loss: 2.1448 - accuracy: 0.5193\n",
      "Epoch 10/10\n",
      "3/3 [==============================] - 0s 2ms/step - loss: 2.1434 - accuracy: 0.5263\n"
     ]
    },
    {
     "name": "stderr",
     "output_type": "stream",
     "text": [
      "\r",
      " 80%|████████  | 32/40 [03:35<00:46,  5.77s/it]"
     ]
    },
    {
     "name": "stdout",
     "output_type": "stream",
     "text": [
      "Epoch 1/10\n",
      "3/3 [==============================] - 0s 2ms/step - loss: 2.1550 - accuracy: 0.5240\n",
      "Epoch 2/10\n",
      "3/3 [==============================] - 0s 5ms/step - loss: 2.1529 - accuracy: 0.5205\n",
      "Epoch 3/10\n",
      "3/3 [==============================] - 0s 5ms/step - loss: 2.1505 - accuracy: 0.5240\n",
      "Epoch 4/10\n",
      "3/3 [==============================] - 0s 3ms/step - loss: 2.1482 - accuracy: 0.5205\n",
      "Epoch 5/10\n",
      "3/3 [==============================] - 0s 3ms/step - loss: 2.1466 - accuracy: 0.5171\n",
      "Epoch 6/10\n",
      "3/3 [==============================] - 0s 6ms/step - loss: 2.1448 - accuracy: 0.5137\n",
      "Epoch 7/10\n",
      "3/3 [==============================] - 0s 4ms/step - loss: 2.1429 - accuracy: 0.5171\n",
      "Epoch 8/10\n",
      "3/3 [==============================] - 0s 3ms/step - loss: 2.1415 - accuracy: 0.5171\n",
      "Epoch 9/10\n",
      "3/3 [==============================] - 0s 3ms/step - loss: 2.1395 - accuracy: 0.5171\n",
      "Epoch 10/10\n",
      "3/3 [==============================] - 0s 4ms/step - loss: 2.1376 - accuracy: 0.5240\n"
     ]
    },
    {
     "name": "stderr",
     "output_type": "stream",
     "text": [
      "\r",
      " 82%|████████▎ | 33/40 [03:40<00:38,  5.48s/it]"
     ]
    },
    {
     "name": "stdout",
     "output_type": "stream",
     "text": [
      "Epoch 1/10\n",
      "3/3 [==============================] - 0s 2ms/step - loss: 2.1535 - accuracy: 0.5166\n",
      "Epoch 2/10\n",
      "3/3 [==============================] - 0s 3ms/step - loss: 2.1522 - accuracy: 0.5166\n",
      "Epoch 3/10\n",
      "3/3 [==============================] - 0s 7ms/step - loss: 2.1498 - accuracy: 0.5265\n",
      "Epoch 4/10\n",
      "3/3 [==============================] - 0s 6ms/step - loss: 2.1477 - accuracy: 0.5298\n",
      "Epoch 5/10\n",
      "3/3 [==============================] - 0s 5ms/step - loss: 2.1461 - accuracy: 0.5364\n",
      "Epoch 6/10\n",
      "3/3 [==============================] - 0s 4ms/step - loss: 2.1440 - accuracy: 0.5298\n",
      "Epoch 7/10\n",
      "3/3 [==============================] - 0s 5ms/step - loss: 2.1417 - accuracy: 0.5331\n",
      "Epoch 8/10\n",
      "3/3 [==============================] - 0s 4ms/step - loss: 2.1400 - accuracy: 0.5364\n",
      "Epoch 9/10\n",
      "3/3 [==============================] - 0s 3ms/step - loss: 2.1384 - accuracy: 0.5397\n",
      "Epoch 10/10\n",
      "3/3 [==============================] - 0s 3ms/step - loss: 2.1368 - accuracy: 0.5497\n"
     ]
    },
    {
     "name": "stderr",
     "output_type": "stream",
     "text": [
      "\r",
      " 85%|████████▌ | 34/40 [03:47<00:34,  5.81s/it]"
     ]
    },
    {
     "name": "stdout",
     "output_type": "stream",
     "text": [
      "Epoch 1/10\n",
      "3/3 [==============================] - 0s 2ms/step - loss: 2.1481 - accuracy: 0.5335\n",
      "Epoch 2/10\n",
      "3/3 [==============================] - 0s 3ms/step - loss: 2.1461 - accuracy: 0.5399\n",
      "Epoch 3/10\n",
      "3/3 [==============================] - 0s 7ms/step - loss: 2.1442 - accuracy: 0.5367\n",
      "Epoch 4/10\n",
      "3/3 [==============================] - 0s 8ms/step - loss: 2.1424 - accuracy: 0.5335\n",
      "Epoch 5/10\n",
      "3/3 [==============================] - 0s 7ms/step - loss: 2.1407 - accuracy: 0.5304\n",
      "Epoch 6/10\n",
      "3/3 [==============================] - 0s 2ms/step - loss: 2.1390 - accuracy: 0.5208\n",
      "Epoch 7/10\n",
      "3/3 [==============================] - 0s 2ms/step - loss: 2.1374 - accuracy: 0.5335\n",
      "Epoch 8/10\n",
      "3/3 [==============================] - 0s 3ms/step - loss: 2.1356 - accuracy: 0.5304\n",
      "Epoch 9/10\n",
      "3/3 [==============================] - 0s 2ms/step - loss: 2.1339 - accuracy: 0.5399\n",
      "Epoch 10/10\n",
      "3/3 [==============================] - 0s 2ms/step - loss: 2.1327 - accuracy: 0.5367\n"
     ]
    },
    {
     "name": "stderr",
     "output_type": "stream",
     "text": [
      "\r",
      " 88%|████████▊ | 35/40 [03:53<00:29,  5.99s/it]"
     ]
    },
    {
     "name": "stdout",
     "output_type": "stream",
     "text": [
      "Epoch 1/10\n",
      "3/3 [==============================] - 0s 3ms/step - loss: 2.1425 - accuracy: 0.5280\n",
      "Epoch 2/10\n",
      "3/3 [==============================] - 0s 3ms/step - loss: 2.1408 - accuracy: 0.5248\n",
      "Epoch 3/10\n",
      "3/3 [==============================] - 0s 3ms/step - loss: 2.1395 - accuracy: 0.5280\n",
      "Epoch 4/10\n",
      "3/3 [==============================] - 0s 6ms/step - loss: 2.1378 - accuracy: 0.5342\n",
      "Epoch 5/10\n",
      "3/3 [==============================] - 0s 2ms/step - loss: 2.1363 - accuracy: 0.5404\n",
      "Epoch 6/10\n",
      "3/3 [==============================] - 0s 5ms/step - loss: 2.1351 - accuracy: 0.5404\n",
      "Epoch 7/10\n",
      "3/3 [==============================] - 0s 4ms/step - loss: 2.1337 - accuracy: 0.5373\n",
      "Epoch 8/10\n",
      "3/3 [==============================] - 0s 4ms/step - loss: 2.1323 - accuracy: 0.5373\n",
      "Epoch 9/10\n",
      "3/3 [==============================] - 0s 3ms/step - loss: 2.1308 - accuracy: 0.5373\n",
      "Epoch 10/10\n",
      "3/3 [==============================] - 0s 3ms/step - loss: 2.1297 - accuracy: 0.5466\n"
     ]
    },
    {
     "name": "stderr",
     "output_type": "stream",
     "text": [
      "\r",
      " 90%|█████████ | 36/40 [04:00<00:25,  6.37s/it]"
     ]
    },
    {
     "name": "stdout",
     "output_type": "stream",
     "text": [
      "Epoch 1/10\n",
      "3/3 [==============================] - 0s 3ms/step - loss: 2.1387 - accuracy: 0.5319\n",
      "Epoch 2/10\n",
      "3/3 [==============================] - 0s 3ms/step - loss: 2.1375 - accuracy: 0.5198\n",
      "Epoch 3/10\n",
      "3/3 [==============================] - 0s 10ms/step - loss: 2.1361 - accuracy: 0.5258\n",
      "Epoch 4/10\n",
      "3/3 [==============================] - 0s 6ms/step - loss: 2.1349 - accuracy: 0.5289\n",
      "Epoch 5/10\n",
      "3/3 [==============================] - 0s 4ms/step - loss: 2.1338 - accuracy: 0.5380\n",
      "Epoch 6/10\n",
      "3/3 [==============================] - 0s 6ms/step - loss: 2.1329 - accuracy: 0.5410\n",
      "Epoch 7/10\n",
      "3/3 [==============================] - 0s 3ms/step - loss: 2.1318 - accuracy: 0.5471\n",
      "Epoch 8/10\n",
      "3/3 [==============================] - 0s 2ms/step - loss: 2.1305 - accuracy: 0.5441\n",
      "Epoch 9/10\n",
      "3/3 [==============================] - 0s 2ms/step - loss: 2.1294 - accuracy: 0.5410\n",
      "Epoch 10/10\n",
      "3/3 [==============================] - 0s 3ms/step - loss: 2.1285 - accuracy: 0.5410\n"
     ]
    },
    {
     "name": "stderr",
     "output_type": "stream",
     "text": [
      "\r",
      " 92%|█████████▎| 37/40 [04:06<00:18,  6.27s/it]"
     ]
    },
    {
     "name": "stdout",
     "output_type": "stream",
     "text": [
      "Epoch 1/10\n",
      "3/3 [==============================] - 0s 3ms/step - loss: 2.1392 - accuracy: 0.5252\n",
      "Epoch 2/10\n",
      "3/3 [==============================] - 0s 4ms/step - loss: 2.1380 - accuracy: 0.5312\n",
      "Epoch 3/10\n",
      "3/3 [==============================] - 0s 4ms/step - loss: 2.1367 - accuracy: 0.5312\n",
      "Epoch 4/10\n",
      "3/3 [==============================] - 0s 6ms/step - loss: 2.1357 - accuracy: 0.5282\n",
      "Epoch 5/10\n",
      "3/3 [==============================] - 0s 4ms/step - loss: 2.1341 - accuracy: 0.5312\n",
      "Epoch 6/10\n",
      "3/3 [==============================] - 0s 3ms/step - loss: 2.1330 - accuracy: 0.5401\n",
      "Epoch 7/10\n",
      "3/3 [==============================] - 0s 5ms/step - loss: 2.1317 - accuracy: 0.5401\n",
      "Epoch 8/10\n",
      "3/3 [==============================] - 0s 6ms/step - loss: 2.1306 - accuracy: 0.5401\n",
      "Epoch 9/10\n",
      "3/3 [==============================] - 0s 4ms/step - loss: 2.1294 - accuracy: 0.5430\n",
      "Epoch 10/10\n",
      "3/3 [==============================] - 0s 4ms/step - loss: 2.1287 - accuracy: 0.5401\n"
     ]
    },
    {
     "name": "stderr",
     "output_type": "stream",
     "text": [
      "\r",
      " 95%|█████████▌| 38/40 [04:12<00:12,  6.01s/it]"
     ]
    },
    {
     "name": "stdout",
     "output_type": "stream",
     "text": [
      "Epoch 1/10\n",
      "3/3 [==============================] - 0s 2ms/step - loss: 2.1436 - accuracy: 0.5216\n",
      "Epoch 2/10\n",
      "3/3 [==============================] - 0s 2ms/step - loss: 2.1416 - accuracy: 0.5245\n",
      "Epoch 3/10\n",
      "3/3 [==============================] - 0s 5ms/step - loss: 2.1396 - accuracy: 0.5303\n",
      "Epoch 4/10\n",
      "3/3 [==============================] - 0s 3ms/step - loss: 2.1379 - accuracy: 0.5303\n",
      "Epoch 5/10\n",
      "3/3 [==============================] - 0s 5ms/step - loss: 2.1365 - accuracy: 0.5274\n",
      "Epoch 6/10\n",
      "3/3 [==============================] - 0s 4ms/step - loss: 2.1347 - accuracy: 0.5303\n",
      "Epoch 7/10\n",
      "3/3 [==============================] - 0s 4ms/step - loss: 2.1328 - accuracy: 0.5360\n",
      "Epoch 8/10\n",
      "3/3 [==============================] - 0s 4ms/step - loss: 2.1316 - accuracy: 0.5418\n",
      "Epoch 9/10\n",
      "3/3 [==============================] - 0s 5ms/step - loss: 2.1300 - accuracy: 0.5418\n",
      "Epoch 10/10\n",
      "3/3 [==============================] - 0s 4ms/step - loss: 2.1289 - accuracy: 0.5418\n"
     ]
    },
    {
     "name": "stderr",
     "output_type": "stream",
     "text": [
      "\r",
      " 98%|█████████▊| 39/40 [04:21<00:06,  7.00s/it]"
     ]
    },
    {
     "name": "stdout",
     "output_type": "stream",
     "text": [
      "Epoch 1/10\n",
      "3/3 [==============================] - 0s 3ms/step - loss: 2.1413 - accuracy: 0.5352\n",
      "Epoch 2/10\n",
      "3/3 [==============================] - 0s 4ms/step - loss: 2.1398 - accuracy: 0.5465\n",
      "Epoch 3/10\n",
      "3/3 [==============================] - 0s 7ms/step - loss: 2.1387 - accuracy: 0.5521\n",
      "Epoch 4/10\n",
      "3/3 [==============================] - 0s 5ms/step - loss: 2.1370 - accuracy: 0.5521\n",
      "Epoch 5/10\n",
      "3/3 [==============================] - 0s 4ms/step - loss: 2.1356 - accuracy: 0.5437\n",
      "Epoch 6/10\n",
      "3/3 [==============================] - 0s 7ms/step - loss: 2.1342 - accuracy: 0.5465\n",
      "Epoch 7/10\n",
      "3/3 [==============================] - 0s 6ms/step - loss: 2.1328 - accuracy: 0.5493\n",
      "Epoch 8/10\n",
      "3/3 [==============================] - 0s 5ms/step - loss: 2.1316 - accuracy: 0.5493\n",
      "Epoch 9/10\n",
      "3/3 [==============================] - 0s 4ms/step - loss: 2.1303 - accuracy: 0.5521\n",
      "Epoch 10/10\n",
      "3/3 [==============================] - 0s 4ms/step - loss: 2.1290 - accuracy: 0.5493\n"
     ]
    },
    {
     "name": "stderr",
     "output_type": "stream",
     "text": [
      "100%|██████████| 40/40 [04:27<00:00,  6.69s/it]\n"
     ]
    }
   ],
   "source": [
    "agent.train_agent(hex, n_episodes=40, n_simulations=100, epochs=10, M=4, file_path='models/')"
   ]
  },
  {
   "cell_type": "code",
   "execution_count": 29,
   "metadata": {},
   "outputs": [],
   "source": [
    "actor1 = Actor(learning_rate=0.01,\n",
    "             epsilon=0,\n",
    "             end_epsilon=0,\n",
    "              encoder=encoder,\n",
    "               load_from='models/10.h5'\n",
    "             )\n",
    "actor2 = Actor(learning_rate=0.01,\n",
    "             epsilon=0,\n",
    "             end_epsilon=0,\n",
    "              encoder=encoder,\n",
    "               load_from='models/20.h5'\n",
    "             )\n",
    "actor3 = Actor(learning_rate=0.01,\n",
    "             epsilon=0,\n",
    "             end_epsilon=0,\n",
    "              encoder=encoder,\n",
    "               load_from='models/30.h5'\n",
    "             )\n",
    "actor4 = Actor(learning_rate=0.01,\n",
    "             epsilon=0,\n",
    "             end_epsilon=0,\n",
    "              encoder=encoder,\n",
    "               load_from='models/40.h5'\n",
    "             )\n",
    "\n",
    "agent1 = Agent(actor1)\n",
    "agent2 = Agent(actor2)\n",
    "agent3 = Agent(actor3)\n",
    "agent4 = Agent(actor4)"
   ]
  },
  {
   "cell_type": "code",
   "execution_count": 48,
   "metadata": {},
   "outputs": [
    {
     "name": "stdout",
     "output_type": "stream",
     "text": [
      "palyer1:  0 <src.agent.Agent object at 0x146ab4850>\n",
      "palyer1:  0 <src.agent.Agent object at 0x146ab4850>\n",
      "palyer1:  0 <src.agent.Agent object at 0x146ab4850>\n",
      "palyer1:  1 <src.agent.Agent object at 0x1434e4ca0>\n",
      "palyer1:  1 <src.agent.Agent object at 0x1434e4ca0>\n",
      "palyer1:  2 <src.agent.Agent object at 0x14638aee0>\n"
     ]
    }
   ],
   "source": [
    "agents = [agent1, agent2, agent3, agent4]\n",
    "topp = Topp(agents=agents, env=Hex((4,4)), number_of_games=500)\n",
    "result = topp.topp()\n",
    "result"
   ]
  },
  {
   "cell_type": "code",
   "execution_count": 52,
   "metadata": {},
   "outputs": [
    {
     "data": {
      "image/png": "[encoded data removed]",
      "text/plain": [
       "<Figure size 432x288 with 1 Axes>"
      ]
     },
     "metadata": {
      "needs_background": "light"
     },
     "output_type": "display_data"
    }
   ],
   "source": [
    "x = ['agent'+str(i+1) for i in range(len(agents))]\n",
    "y = [result[agents[i]] for i in range(len(agents))]\n",
    "plt.bar(x,y)\n",
    "for index, value in enumerate(y):\n",
    "    plt.text(index, value, str(value))\n",
    "    \n",
    "plt.ylabel('Wins')\n",
    "plt.title(\"Result of TOPP\")\n",
    "plt.show()"
   ]
  },
  {
   "cell_type": "markdown",
   "metadata": {},
   "source": [
    "## TOPP of pretrained models"
   ]
  },
  {
   "cell_type": "code",
   "execution_count": null,
   "metadata": {},
   "outputs": [],
   "source": []
  },
  {
   "cell_type": "code",
   "execution_count": null,
   "metadata": {},
   "outputs": [],
   "source": []
  },
  {
   "cell_type": "code",
   "execution_count": null,
   "metadata": {},
   "outputs": [],
   "source": []
  },
  {
   "cell_type": "code",
   "execution_count": null,
   "metadata": {},
   "outputs": [],
   "source": []
  },
  {
   "cell_type": "code",
   "execution_count": null,
   "metadata": {},
   "outputs": [],
   "source": []
  },
  {
   "cell_type": "code",
   "execution_count": null,
   "metadata": {},
   "outputs": [],
   "source": []
  },
  {
   "cell_type": "code",
   "execution_count": 5,
   "metadata": {},
   "outputs": [
    {
     "data": {
      "text/plain": [
       "<src.agent.Agent at 0x144219280>"
      ]
     },
     "execution_count": 5,
     "metadata": {},
     "output_type": "execute_result"
    }
   ],
   "source": [
    "agent2"
   ]
  },
  {
   "cell_type": "code",
   "execution_count": 13,
   "metadata": {},
   "outputs": [],
   "source": [
    "def play(agent1, agent2, env):\n",
    "    \n",
    "    while env.get_winner() == 0:\n",
    "        if env.current_player == 1:\n",
    "            action = agent1.actor.get_action(env)\n",
    "            \n",
    "        else:\n",
    "            action = agent2.actor.get_action(env)\n",
    "        \n",
    "        env.make_action(action)\n",
    "        \n",
    "            \n",
    "        #env.display_board()\n",
    "    winner = env.get_winner()\n",
    "    env.reset()\n",
    "    return winner"
   ]
  },
  {
   "cell_type": "code",
   "execution_count": 14,
   "metadata": {},
   "outputs": [
    {
     "name": "stdout",
     "output_type": "stream",
     "text": [
      "blue winner: 0\n",
      "red winner: 100\n"
     ]
    }
   ],
   "source": [
    "blue_winner = 0\n",
    "red_winner = 0\n",
    "for i in range(100):\n",
    "    winner = play(agent1, agent2, hex)\n",
    "    if winner == 1:\n",
    "        blue_winner += 1\n",
    "    elif winner == 2:\n",
    "        red_winner += 1\n",
    "print(\"blue winner: {}\".format(blue_winner))\n",
    "print(\"red winner: {}\".format(red_winner))"
   ]
  },
  {
   "cell_type": "code",
   "execution_count": 4,
   "metadata": {},
   "outputs": [],
   "source": [
    "def onclick(event, board):\n",
    "    global ix, iy\n",
    "    ix, iy = event.xdata, event.ydata\n",
    "    ix, iy = rotate_coordinate([ix,iy], -board.get_angle())\n",
    "    ix, iy = round(ix), round(iy)\n",
    "    action = (ix, iy)\n",
    "    actions.append(action)\n",
    "    board.make_action(action)\n",
    "    board.display_board()\n",
    "    fig.canvas.mpl_disconnect(connection)\n",
    "\n",
    "def set_piece(board) -> List[Tuple[int, int]]:\n",
    "    board = board.copy()\n",
    "    global actions, connection, fig\n",
    "    actions = []\n",
    "    fig = plt.figure()\n",
    "    connection = fig.canvas.mpl_connect('button_press_event', lambda event: onclick(event, board))\n",
    "    \n",
    "    board.display_board()\n",
    "    \n",
    "    plt.show()\n",
    "    return actions"
   ]
  },
  {
   "cell_type": "code",
   "execution_count": 91,
   "metadata": {},
   "outputs": [],
   "source": [
    "%matplotlib qt\n",
    "action = set_piece(Hex((5,5)))\n"
   ]
  },
  {
   "cell_type": "code",
   "execution_count": 92,
   "metadata": {},
   "outputs": [
    {
     "data": {
      "text/plain": [
       "[(3, 1)]"
      ]
     },
     "execution_count": 92,
     "metadata": {},
     "output_type": "execute_result"
    }
   ],
   "source": [
    "action"
   ]
  },
  {
   "cell_type": "code",
   "execution_count": 19,
   "metadata": {},
   "outputs": [
    {
     "ename": "KeyboardInterrupt",
     "evalue": "Interrupted by user",
     "output_type": "error",
     "traceback": [
      "\u001b[0;31m---------------------------------------------------------------------------\u001b[0m",
      "\u001b[0;31mKeyboardInterrupt\u001b[0m                         Traceback (most recent call last)",
      "\u001b[0;32m<ipython-input-19-a87818eb45e2>\u001b[0m in \u001b[0;36m<module>\u001b[0;34m\u001b[0m\n\u001b[1;32m     32\u001b[0m \u001b[0;34m\u001b[0m\u001b[0m\n\u001b[1;32m     33\u001b[0m \u001b[0mhex\u001b[0m \u001b[0;34m=\u001b[0m \u001b[0mHex\u001b[0m\u001b[0;34m(\u001b[0m\u001b[0;34m(\u001b[0m\u001b[0;36m4\u001b[0m\u001b[0;34m,\u001b[0m\u001b[0;36m4\u001b[0m\u001b[0;34m)\u001b[0m\u001b[0;34m)\u001b[0m\u001b[0;34m\u001b[0m\u001b[0;34m\u001b[0m\u001b[0m\n\u001b[0;32m---> 34\u001b[0;31m \u001b[0mman_vs_machine\u001b[0m\u001b[0;34m(\u001b[0m\u001b[0magent1\u001b[0m\u001b[0;34m,\u001b[0m \u001b[0;34m\"meg\"\u001b[0m\u001b[0;34m,\u001b[0m \u001b[0mhex\u001b[0m\u001b[0;34m,\u001b[0m \u001b[0mn_simulations\u001b[0m\u001b[0;34m=\u001b[0m\u001b[0;36m100\u001b[0m\u001b[0;34m)\u001b[0m\u001b[0;34m\u001b[0m\u001b[0;34m\u001b[0m\u001b[0m\n\u001b[0m\u001b[1;32m     35\u001b[0m \u001b[0;34m\u001b[0m\u001b[0m\n",
      "\u001b[0;32m<ipython-input-19-a87818eb45e2>\u001b[0m in \u001b[0;36mman_vs_machine\u001b[0;34m(player1, player2, env, n_simulations)\u001b[0m\n\u001b[1;32m     17\u001b[0m         \u001b[0;32melse\u001b[0m\u001b[0;34m:\u001b[0m\u001b[0;34m\u001b[0m\u001b[0;34m\u001b[0m\u001b[0m\n\u001b[1;32m     18\u001b[0m             \u001b[0;31m#actions = set_piece(env)\u001b[0m\u001b[0;34m\u001b[0m\u001b[0;34m\u001b[0m\u001b[0;34m\u001b[0m\u001b[0m\n\u001b[0;32m---> 19\u001b[0;31m             \u001b[0maction\u001b[0m \u001b[0;34m=\u001b[0m \u001b[0minput\u001b[0m\u001b[0;34m(\u001b[0m\u001b[0;34m\"Enter move as int,int\"\u001b[0m\u001b[0;34m)\u001b[0m\u001b[0;34m\u001b[0m\u001b[0;34m\u001b[0m\u001b[0m\n\u001b[0m\u001b[1;32m     20\u001b[0m             \u001b[0maction\u001b[0m \u001b[0;34m=\u001b[0m \u001b[0maction\u001b[0m\u001b[0;34m.\u001b[0m\u001b[0msplit\u001b[0m\u001b[0;34m(\u001b[0m\u001b[0;34m','\u001b[0m\u001b[0;34m)\u001b[0m\u001b[0;34m\u001b[0m\u001b[0;34m\u001b[0m\u001b[0m\n\u001b[1;32m     21\u001b[0m             \u001b[0maction\u001b[0m \u001b[0;34m=\u001b[0m \u001b[0;34m(\u001b[0m\u001b[0mint\u001b[0m\u001b[0;34m(\u001b[0m\u001b[0maction\u001b[0m\u001b[0;34m[\u001b[0m\u001b[0;36m0\u001b[0m\u001b[0;34m]\u001b[0m\u001b[0;34m)\u001b[0m\u001b[0;34m,\u001b[0m \u001b[0mint\u001b[0m\u001b[0;34m(\u001b[0m\u001b[0maction\u001b[0m\u001b[0;34m[\u001b[0m\u001b[0;36m1\u001b[0m\u001b[0;34m]\u001b[0m\u001b[0;34m)\u001b[0m\u001b[0;34m)\u001b[0m\u001b[0;34m\u001b[0m\u001b[0;34m\u001b[0m\u001b[0m\n",
      "\u001b[0;32m~/opt/anaconda3/lib/python3.8/site-packages/ipykernel/kernelbase.py\u001b[0m in \u001b[0;36mraw_input\u001b[0;34m(self, prompt)\u001b[0m\n\u001b[1;32m    858\u001b[0m                 \u001b[0;34m\"raw_input was called, but this frontend does not support input requests.\"\u001b[0m\u001b[0;34m\u001b[0m\u001b[0;34m\u001b[0m\u001b[0m\n\u001b[1;32m    859\u001b[0m             )\n\u001b[0;32m--> 860\u001b[0;31m         return self._input_request(str(prompt),\n\u001b[0m\u001b[1;32m    861\u001b[0m             \u001b[0mself\u001b[0m\u001b[0;34m.\u001b[0m\u001b[0m_parent_ident\u001b[0m\u001b[0;34m,\u001b[0m\u001b[0;34m\u001b[0m\u001b[0;34m\u001b[0m\u001b[0m\n\u001b[1;32m    862\u001b[0m             \u001b[0mself\u001b[0m\u001b[0;34m.\u001b[0m\u001b[0m_parent_header\u001b[0m\u001b[0;34m,\u001b[0m\u001b[0;34m\u001b[0m\u001b[0;34m\u001b[0m\u001b[0m\n",
      "\u001b[0;32m~/opt/anaconda3/lib/python3.8/site-packages/ipykernel/kernelbase.py\u001b[0m in \u001b[0;36m_input_request\u001b[0;34m(self, prompt, ident, parent, password)\u001b[0m\n\u001b[1;32m    902\u001b[0m             \u001b[0;32mexcept\u001b[0m \u001b[0mKeyboardInterrupt\u001b[0m\u001b[0;34m:\u001b[0m\u001b[0;34m\u001b[0m\u001b[0;34m\u001b[0m\u001b[0m\n\u001b[1;32m    903\u001b[0m                 \u001b[0;31m# re-raise KeyboardInterrupt, to truncate traceback\u001b[0m\u001b[0;34m\u001b[0m\u001b[0;34m\u001b[0m\u001b[0;34m\u001b[0m\u001b[0m\n\u001b[0;32m--> 904\u001b[0;31m                 \u001b[0;32mraise\u001b[0m \u001b[0mKeyboardInterrupt\u001b[0m\u001b[0;34m(\u001b[0m\u001b[0;34m\"Interrupted by user\"\u001b[0m\u001b[0;34m)\u001b[0m \u001b[0;32mfrom\u001b[0m \u001b[0;32mNone\u001b[0m\u001b[0;34m\u001b[0m\u001b[0;34m\u001b[0m\u001b[0m\n\u001b[0m\u001b[1;32m    905\u001b[0m             \u001b[0;32mexcept\u001b[0m \u001b[0mException\u001b[0m \u001b[0;32mas\u001b[0m \u001b[0me\u001b[0m\u001b[0;34m:\u001b[0m\u001b[0;34m\u001b[0m\u001b[0;34m\u001b[0m\u001b[0m\n\u001b[1;32m    906\u001b[0m                 \u001b[0mself\u001b[0m\u001b[0;34m.\u001b[0m\u001b[0mlog\u001b[0m\u001b[0;34m.\u001b[0m\u001b[0mwarning\u001b[0m\u001b[0;34m(\u001b[0m\u001b[0;34m\"Invalid Message:\"\u001b[0m\u001b[0;34m,\u001b[0m \u001b[0mexc_info\u001b[0m\u001b[0;34m=\u001b[0m\u001b[0;32mTrue\u001b[0m\u001b[0;34m)\u001b[0m\u001b[0;34m\u001b[0m\u001b[0;34m\u001b[0m\u001b[0m\n",
      "\u001b[0;31mKeyboardInterrupt\u001b[0m: Interrupted by user"
     ]
    }
   ],
   "source": [
    "%matplotlib qt\n",
    "def man_vs_machine(player1, player2, env, n_simulations):\n",
    "    current = player1\n",
    "    if isinstance(player1, Agent):\n",
    "        mcts = MCTS(player1.actor, env)\n",
    "    else:\n",
    "        mcts = MCTS(player2, env)\n",
    "    \n",
    "    while env.get_winner() == 0:\n",
    "        env.display_board()\n",
    "        if isinstance(current, Agent):\n",
    "            distribution = mcts.search(n_simulations)\n",
    "            # Choose action greedily\n",
    "            action = max(distribution, key=distribution.get)\n",
    "            mcts.set_new_root(action)\n",
    "            \n",
    "        else:\n",
    "            #actions = set_piece(env)\n",
    "            action = input(\"Enter move as int,int\")\n",
    "            action = action.split(',')\n",
    "            action = (int(action[0]), int(action[1]))\n",
    "            #action = actions[0]\n",
    "            #plt.show()\n",
    "            mcts.set_new_root(action)\n",
    "            \n",
    "        env.make_action(action)\n",
    "        current = player1 if current != player1 else player2\n",
    "    winner = env.get_winner()\n",
    "    env.display_board()\n",
    "    env.reset()\n",
    "    return winner\n",
    "\n",
    "hex = Hex((4,4))\n",
    "man_vs_machine(agent1, \"meg\", hex, n_simulations=100)\n",
    "\n"
   ]
  },
  {
   "cell_type": "code",
   "execution_count": 29,
   "metadata": {},
   "outputs": [
    {
     "name": "stdout",
     "output_type": "stream",
     "text": [
      "skirv:3,3\n"
     ]
    }
   ],
   "source": [
    "x = input(\"skirv:\")"
   ]
  },
  {
   "cell_type": "code",
   "execution_count": 30,
   "metadata": {},
   "outputs": [
    {
     "data": {
      "text/plain": [
       "(3, 3)"
      ]
     },
     "execution_count": 30,
     "metadata": {},
     "output_type": "execute_result"
    }
   ],
   "source": [
    "\n",
    "y = x.split(',')\n",
    "(int(y[0]),int(y[1]))"
   ]
  },
  {
   "cell_type": "code",
   "execution_count": 6,
   "metadata": {},
   "outputs": [
    {
     "ename": "OSError",
     "evalue": "SavedModel file does not exist at: model1.h5/{saved_model.pbtxt|saved_model.pb}",
     "output_type": "error",
     "traceback": [
      "\u001b[0;31m---------------------------------------------------------------------------\u001b[0m",
      "\u001b[0;31mOSError\u001b[0m                                   Traceback (most recent call last)",
      "\u001b[0;32m<ipython-input-6-6bc5be2683af>\u001b[0m in \u001b[0;36m<module>\u001b[0;34m\u001b[0m\n\u001b[1;32m     12\u001b[0m               \u001b[0mencoder\u001b[0m\u001b[0;34m=\u001b[0m\u001b[0mencoder\u001b[0m\u001b[0;34m\u001b[0m\u001b[0;34m\u001b[0m\u001b[0m\n\u001b[1;32m     13\u001b[0m              )\n\u001b[0;32m---> 14\u001b[0;31m \u001b[0mactor1\u001b[0m\u001b[0;34m.\u001b[0m\u001b[0mmodel\u001b[0m \u001b[0;34m=\u001b[0m \u001b[0mKER\u001b[0m\u001b[0;34m.\u001b[0m\u001b[0mmodels\u001b[0m\u001b[0;34m.\u001b[0m\u001b[0mload_model\u001b[0m\u001b[0;34m(\u001b[0m\u001b[0;34m'model1.h5'\u001b[0m\u001b[0;34m)\u001b[0m\u001b[0;34m\u001b[0m\u001b[0;34m\u001b[0m\u001b[0m\n\u001b[0m\u001b[1;32m     15\u001b[0m \u001b[0;34m\u001b[0m\u001b[0m\n\u001b[1;32m     16\u001b[0m actor2 = Actor(learning_rate=0.01,\n",
      "\u001b[0;32m~/opt/anaconda3/lib/python3.8/site-packages/tensorflow/python/keras/saving/save.py\u001b[0m in \u001b[0;36mload_model\u001b[0;34m(filepath, custom_objects, compile, options)\u001b[0m\n\u001b[1;32m    209\u001b[0m       \u001b[0mfilepath\u001b[0m \u001b[0;34m=\u001b[0m \u001b[0mpath_to_string\u001b[0m\u001b[0;34m(\u001b[0m\u001b[0mfilepath\u001b[0m\u001b[0;34m)\u001b[0m\u001b[0;34m\u001b[0m\u001b[0;34m\u001b[0m\u001b[0m\n\u001b[1;32m    210\u001b[0m       \u001b[0;32mif\u001b[0m \u001b[0misinstance\u001b[0m\u001b[0;34m(\u001b[0m\u001b[0mfilepath\u001b[0m\u001b[0;34m,\u001b[0m \u001b[0msix\u001b[0m\u001b[0;34m.\u001b[0m\u001b[0mstring_types\u001b[0m\u001b[0;34m)\u001b[0m\u001b[0;34m:\u001b[0m\u001b[0;34m\u001b[0m\u001b[0;34m\u001b[0m\u001b[0m\n\u001b[0;32m--> 211\u001b[0;31m         \u001b[0mloader_impl\u001b[0m\u001b[0;34m.\u001b[0m\u001b[0mparse_saved_model\u001b[0m\u001b[0;34m(\u001b[0m\u001b[0mfilepath\u001b[0m\u001b[0;34m)\u001b[0m\u001b[0;34m\u001b[0m\u001b[0;34m\u001b[0m\u001b[0m\n\u001b[0m\u001b[1;32m    212\u001b[0m         \u001b[0;32mreturn\u001b[0m \u001b[0msaved_model_load\u001b[0m\u001b[0;34m.\u001b[0m\u001b[0mload\u001b[0m\u001b[0;34m(\u001b[0m\u001b[0mfilepath\u001b[0m\u001b[0;34m,\u001b[0m \u001b[0mcompile\u001b[0m\u001b[0;34m,\u001b[0m \u001b[0moptions\u001b[0m\u001b[0;34m)\u001b[0m\u001b[0;34m\u001b[0m\u001b[0;34m\u001b[0m\u001b[0m\n\u001b[1;32m    213\u001b[0m \u001b[0;34m\u001b[0m\u001b[0m\n",
      "\u001b[0;32m~/opt/anaconda3/lib/python3.8/site-packages/tensorflow/python/saved_model/loader_impl.py\u001b[0m in \u001b[0;36mparse_saved_model\u001b[0;34m(export_dir)\u001b[0m\n\u001b[1;32m    109\u001b[0m       \u001b[0;32mraise\u001b[0m \u001b[0mIOError\u001b[0m\u001b[0;34m(\u001b[0m\u001b[0;34m\"Cannot parse file %s: %s.\"\u001b[0m \u001b[0;34m%\u001b[0m \u001b[0;34m(\u001b[0m\u001b[0mpath_to_pbtxt\u001b[0m\u001b[0;34m,\u001b[0m \u001b[0mstr\u001b[0m\u001b[0;34m(\u001b[0m\u001b[0me\u001b[0m\u001b[0;34m)\u001b[0m\u001b[0;34m)\u001b[0m\u001b[0;34m)\u001b[0m\u001b[0;34m\u001b[0m\u001b[0;34m\u001b[0m\u001b[0m\n\u001b[1;32m    110\u001b[0m   \u001b[0;32melse\u001b[0m\u001b[0;34m:\u001b[0m\u001b[0;34m\u001b[0m\u001b[0;34m\u001b[0m\u001b[0m\n\u001b[0;32m--> 111\u001b[0;31m     raise IOError(\"SavedModel file does not exist at: %s/{%s|%s}\" %\n\u001b[0m\u001b[1;32m    112\u001b[0m                   (export_dir,\n\u001b[1;32m    113\u001b[0m                    \u001b[0mconstants\u001b[0m\u001b[0;34m.\u001b[0m\u001b[0mSAVED_MODEL_FILENAME_PBTXT\u001b[0m\u001b[0;34m,\u001b[0m\u001b[0;34m\u001b[0m\u001b[0;34m\u001b[0m\u001b[0m\n",
      "\u001b[0;31mOSError\u001b[0m: SavedModel file does not exist at: model1.h5/{saved_model.pbtxt|saved_model.pb}"
     ]
    }
   ],
   "source": [
    "from tensorflow import keras as KER \n",
    "actor1 = Actor(learning_rate=0.01,\n",
    "             epsilon=0.1,\n",
    "             end_epsilon=0.1,\n",
    "             nn_shape=(30,15,16),\n",
    "             filters=(10,),\n",
    "             kernel_sizes=((2,2),),\n",
    "                nn_opt='Adam',\n",
    "              nn_activation='relu',\n",
    "              nn_last_activation='softmax',\n",
    "              nn_loss= 'categorical_crossentropy',\n",
    "              encoder=encoder\n",
    "             )\n",
    "actor1.model = KER.models.load_model('model1.h5')\n",
    "\n",
    "actor2 = Actor(learning_rate=0.01,\n",
    "             epsilon=0.1,\n",
    "             end_epsilon=0.1,\n",
    "             nn_shape=(30,15,16),\n",
    "             filters=(10,),\n",
    "             kernel_sizes=((2,2),),\n",
    "                nn_opt='Adam',\n",
    "              nn_activation='relu',\n",
    "              nn_last_activation='softmax',\n",
    "              nn_loss= 'categorical_crossentropy',\n",
    "              encoder=encoder\n",
    "             )\n",
    "actor2.model = KER.models.load_model('model2.h5')\n",
    "\n",
    "\n",
    "agent1 = Agent(actor1)\n",
    "agent2 = Agent(actor2)\n",
    "\n",
    "def play(agent1, agent2, env, n_simulations):\n",
    "    mcts1 = MCTS(actor1, env)\n",
    "    mcts2 = MCTS(actor2, env)\n",
    "    \n",
    "    while env.get_winner() == 0:\n",
    "        if env.current_player == 1:\n",
    "            distribution = mcts1.search(n_simulations)\n",
    "            # Choose action greedily\n",
    "            action = max(distribution, key=distribution.get)\n",
    "            mcts1.set_new_root(action)\n",
    "            mcts2.set_new_root(action)\n",
    "            \n",
    "        else:\n",
    "            \n",
    "            distribution = mcts2.search(n_simulations)\n",
    "            \n",
    "            # Choose action greedily\n",
    "            action = max(distribution, key=distribution.get)\n",
    "            mcts2.set_new_root(action)\n",
    "            mcts1.set_new_root(action)\n",
    "        \n",
    "        env.make_action(action)\n",
    "        \n",
    "            \n",
    "        #env.display_board()\n",
    "    winner = env.get_winner()\n",
    "    env.reset()\n",
    "    return winner\n",
    "    "
   ]
  },
  {
   "cell_type": "code",
   "execution_count": 11,
   "metadata": {},
   "outputs": [
    {
     "name": "stdout",
     "output_type": "stream",
     "text": [
      "0\n",
      "1\n",
      "2\n",
      "3\n",
      "4\n",
      "5\n",
      "6\n",
      "7\n",
      "8\n",
      "9\n",
      "10\n",
      "11\n",
      "12\n",
      "13\n",
      "14\n",
      "15\n",
      "16\n",
      "17\n",
      "18\n",
      "19\n"
     ]
    },
    {
     "data": {
      "text/plain": [
       "11"
      ]
     },
     "execution_count": 11,
     "metadata": {},
     "output_type": "execute_result"
    }
   ],
   "source": [
    "blue_vic = 0\n",
    "vics = []\n",
    "for i in range(20):\n",
    "    print(i)\n",
    "    vic = play(agent1, agent2, hex, 100)\n",
    "    if vic == 1:\n",
    "        blue_vic += 1\n",
    "    vics.append(vic)\n",
    "blue_vic"
   ]
  },
  {
   "cell_type": "code",
   "execution_count": 9,
   "metadata": {},
   "outputs": [],
   "source": [
    "mcts = MCTS(env = hex, target_policy=agent2.actor)"
   ]
  },
  {
   "cell_type": "code",
   "execution_count": 14,
   "metadata": {},
   "outputs": [
    {
     "name": "stdout",
     "output_type": "stream",
     "text": [
      "CPU times: user 4.33 s, sys: 112 ms, total: 4.44 s\n",
      "Wall time: 4.23 s\n"
     ]
    },
    {
     "data": {
      "text/plain": [
       "{(1, 0): 0.023333333333333334,\n",
       " (0, 1): 0.060000000000000005,\n",
       " (0, 0): 0.04666666666666667,\n",
       " (3, 0): 0.16666666666666669,\n",
       " (2, 3): 0.09000000000000001,\n",
       " (0, 3): 0.006666666666666667,\n",
       " (2, 2): 0.006666666666666667,\n",
       " (2, 0): 0.07666666666666667,\n",
       " (3, 2): 0.08,\n",
       " (1, 3): 0.006666666666666667,\n",
       " (3, 3): 0.006666666666666667,\n",
       " (0, 2): 0.043333333333333335,\n",
       " (1, 1): 0.023333333333333334,\n",
       " (2, 1): 0.3066666666666667,\n",
       " (3, 1): 0.04,\n",
       " (1, 2): 0.016666666666666666}"
      ]
     },
     "execution_count": 14,
     "metadata": {},
     "output_type": "execute_result"
    }
   ],
   "source": [
    "\n",
    "%time mcts.search(100)"
   ]
  },
  {
   "cell_type": "code",
   "execution_count": 58,
   "metadata": {},
   "outputs": [],
   "source": [
    "data = np.asarray(Image.open(path))"
   ]
  },
  {
   "cell_type": "code",
   "execution_count": 59,
   "metadata": {},
   "outputs": [
    {
     "data": {
      "text/plain": [
       "(575, 1024, 3)"
      ]
     },
     "execution_count": 59,
     "metadata": {},
     "output_type": "execute_result"
    }
   ],
   "source": [
    "data.shape"
   ]
  },
  {
   "cell_type": "code",
   "execution_count": 12,
   "metadata": {},
   "outputs": [],
   "source": [
    "import cProfile\n"
   ]
  },
  {
   "cell_type": "code",
   "execution_count": 27,
   "metadata": {},
   "outputs": [],
   "source": []
  },
  {
   "cell_type": "code",
   "execution_count": 4,
   "metadata": {},
   "outputs": [],
   "source": [
    "encoder = HexEncoder(padding=2)"
   ]
  },
  {
   "cell_type": "code",
   "execution_count": 5,
   "metadata": {},
   "outputs": [],
   "source": [
    "h = Hex((4,4))"
   ]
  },
  {
   "cell_type": "code",
   "execution_count": 6,
   "metadata": {},
   "outputs": [],
   "source": [
    "actor = Actor(learning_rate=0.001,\n",
    "             epsilon=0.25,\n",
    "             end_epsilon=0.05,\n",
    "             nn_shape=(64, 16),\n",
    "             filters=(56,56),\n",
    "             kernel_sizes=((3,3),(1,1)),\n",
    "                nn_opt='Adam',\n",
    "              nn_activation='relu',\n",
    "              nn_last_activation='softmax',\n",
    "              nn_loss= 'categorical_crossentropy',\n",
    "              encoder=encoder\n",
    "             )\n",
    "agent = Agent(actor=actor)"
   ]
  },
  {
   "cell_type": "code",
   "execution_count": 7,
   "metadata": {},
   "outputs": [
    {
     "data": {
      "text/plain": [
       "TensorShape([1, 8, 8, 9])"
      ]
     },
     "execution_count": 7,
     "metadata": {},
     "output_type": "execute_result"
    }
   ],
   "source": [
    "encoder.encode(h).shape"
   ]
  },
  {
   "cell_type": "code",
   "execution_count": 8,
   "metadata": {},
   "outputs": [],
   "source": [
    "mcts = MCTS(agent.actor, h)"
   ]
  },
  {
   "cell_type": "code",
   "execution_count": 9,
   "metadata": {},
   "outputs": [
    {
     "name": "stdout",
     "output_type": "stream",
     "text": [
      "CPU times: user 4.67 s, sys: 73.8 ms, total: 4.75 s\n",
      "Wall time: 4.96 s\n"
     ]
    },
    {
     "data": {
      "text/plain": [
       "{(2, 2): 0.08,\n",
       " (0, 0): 0.01,\n",
       " (1, 2): 0.03,\n",
       " (3, 1): 0.01,\n",
       " (1, 3): 0.1,\n",
       " (1, 0): 0.01,\n",
       " (3, 0): 0.25,\n",
       " (0, 3): 0.01,\n",
       " (3, 2): 0.01,\n",
       " (2, 0): 0.08,\n",
       " (3, 3): 0.01,\n",
       " (2, 1): 0.34,\n",
       " (0, 2): 0.01,\n",
       " (0, 1): 0.03,\n",
       " (2, 3): 0.01,\n",
       " (1, 1): 0.01}"
      ]
     },
     "execution_count": 9,
     "metadata": {},
     "output_type": "execute_result"
    }
   ],
   "source": [
    "%time mcts.search(100)"
   ]
  },
  {
   "cell_type": "code",
   "execution_count": 13,
   "metadata": {},
   "outputs": [
    {
     "name": "stdout",
     "output_type": "stream",
     "text": [
      "         8150594 function calls (8140946 primitive calls) in 10.730 seconds\n",
      "\n",
      "   Ordered by: cumulative time\n",
      "\n",
      "   ncalls  tottime  percall  cumtime  percall filename:lineno(function)\n",
      "        1    0.000    0.000   10.774   10.774 {built-in method builtins.exec}\n",
      "        1    0.000    0.000   10.774   10.774 <string>:1(<module>)\n",
      "        1    0.000    0.000   10.774   10.774 monte_carlo_ts.py:160(search)\n",
      "      100    0.001    0.000   10.774    0.108 monte_carlo_ts.py:152(perform_simulation)\n",
      "      100    0.022    0.000   10.697    0.107 monte_carlo_ts.py:78(_rollout)\n",
      "     1072    0.051    0.000   10.453    0.010 actor.py:59(get_action)\n",
      "     1072    0.074    0.000    6.187    0.006 encoder.py:216(encode)\n",
      "6432/1072    0.300    0.000    4.089    0.004 base_layer.py:901(__call__)\n",
      "     4288    1.431    0.000    3.692    0.001 encoder.py:105(bridge_encoding)\n",
      "     1072    0.013    0.000    3.571    0.003 sequential.py:354(call)\n",
      "     1072    0.009    0.000    3.401    0.003 functional.py:406(call)\n",
      "     1072    0.133    0.000    3.392    0.003 functional.py:516(_run_internal_graph)\n",
      "     1072    0.096    0.000    1.843    0.002 encoder.py:17(create_padded_env)\n",
      "     1172    0.049    0.000    1.511    0.001 hex.py:54(__init__)\n",
      "18224/13936    0.038    0.000    1.453    0.000 dispatch.py:198(wrapper)\n",
      "     1172    0.131    0.000    1.443    0.001 hexagonal_grid.py:98(__init__)\n",
      "     1172    0.638    0.001    1.199    0.001 hexagonal_grid.py:48(generate_neighbours)\n",
      "    65786    0.316    0.000    1.060    0.000 encoder.py:158(_process_save_endpoint)\n",
      "    15008    1.055    0.000    1.055    0.000 {built-in method tensorflow.python._pywrap_tfe.TFE_Py_FastPathExecute}\n",
      "     2144    0.043    0.000    0.883    0.000 convolutional.py:244(call)\n",
      "  1687032    0.859    0.000    0.859    0.000 hexagonal_grid.py:62(get_cell)\n",
      "     2144    0.010    0.000    0.680    0.000 core.py:1206(call)\n",
      "     2144    0.039    0.000    0.670    0.000 core.py:30(dense)\n",
      "    65786    0.531    0.000    0.565    0.000 encoder.py:50(get_carrier_points)\n",
      "     4288    0.057    0.000    0.422    0.000 nn_ops.py:3319(bias_add)\n",
      "     2144    0.005    0.000    0.412    0.000 nn_ops.py:1003(convolution_v2)\n",
      "     2144    0.045    0.000    0.407    0.000 nn_ops.py:1029(convolution_internal)\n",
      "     6432    0.133    0.000    0.391    0.000 input_spec.py:159(assert_input_compatibility)\n",
      "     5360    0.033    0.000    0.323    0.000 base_layer.py:2405(_maybe_cast_inputs)\n",
      "     2144    0.011    0.000    0.309    0.000 nn_ops.py:2583(_conv2d_expanded_batch)\n",
      "     4288    0.016    0.000    0.299    0.000 gen_nn_ops.py:646(bias_add)\n",
      "     2144    0.021    0.000    0.295    0.000 gen_nn_ops.py:860(conv2d)\n",
      "     2144    0.011    0.000    0.242    0.000 gen_math_ops.py:5500(mat_mul)\n",
      "    20368    0.242    0.000    0.242    0.000 {built-in method numpy.array}\n",
      "  1272764    0.239    0.000    0.239    0.000 hex.py:86(get_board)\n",
      "   968550    0.227    0.000    0.227    0.000 hexagonal_grid.py:36(get_piece)\n",
      "   351784    0.164    0.000    0.218    0.000 hexagonal_grid.py:15(add_neighbour)\n",
      "     1072    0.012    0.000    0.217    0.000 nest.py:582(map_structure)\n",
      "    37520    0.061    0.000    0.215    0.000 nest.py:274(flatten)\n",
      "    11792    0.040    0.000    0.202    0.000 {built-in method numpy.core._multiarray_umath.implement_array_function}\n",
      "     2144    0.039    0.000    0.196    0.000 math_ops.py:907(cast)\n",
      "    10720    0.016    0.000    0.195    0.000 <__array_function__ internals>:2(expand_dims)\n",
      "    77184    0.130    0.000    0.193    0.000 hex.py:196(set_piece)\n",
      "     1072    0.003    0.000    0.190    0.000 nest.py:659(<listcomp>)\n",
      "     1072    0.004    0.000    0.187    0.000 base_layer.py:2439(_cast_single_input)\n",
      "    25728    0.037    0.000    0.186    0.000 {built-in method builtins.any}\n",
      "    38592    0.085    0.000    0.176    0.000 base_layer.py:2913(_flatten_layers)\n",
      "     3216    0.011    0.000    0.175    0.000 activations.py:268(relu)\n",
      "     1372    0.043    0.000    0.175    0.000 hex.py:158(get_winner)\n",
      "     6432    0.034    0.000    0.173    0.000 base_layer.py:3278(_in_functional_construction_mode)\n",
      "    10720    0.062    0.000    0.162    0.000 shape_base.py:512(expand_dims)\n",
      "   205824    0.098    0.000    0.159    0.000 {built-in method builtins.isinstance}\n",
      "     4288    0.019    0.000    0.159    0.000 sequential.py:146(layers)\n",
      "     3216    0.053    0.000    0.157    0.000 backend.py:4661(relu)\n",
      "    37520    0.154    0.000    0.154    0.000 {built-in method tensorflow.python._pywrap_utils.Flatten}\n",
      "    33232    0.048    0.000    0.151    0.000 ops.py:1168(shape)\n",
      "     1072    0.007    0.000    0.150    0.000 base.py:513(_method_wrapper)\n",
      "     3216    0.031    0.000    0.146    0.000 encoder.py:76(player_stones_encoding)\n",
      "    28944    0.056    0.000    0.140    0.000 context.py:1874(executing_eagerly)\n",
      "     4288    0.019    0.000    0.139    0.000 training.py:2386(layers)\n",
      "     1072    0.006    0.000    0.128    0.000 sequential.py:500(input_spec)\n",
      "   128211    0.126    0.000    0.126    0.000 encoder.py:45(get_bridge_end_points)\n",
      "    39664    0.125    0.000    0.125    0.000 context.py:815(executing_eagerly)\n",
      "     1072    0.006    0.000    0.124    0.000 activations.py:44(softmax)\n",
      "    16080    0.046    0.000    0.124    0.000 tensor_shape.py:748(__init__)\n",
      "    21440    0.027    0.000    0.119    0.000 {built-in method builtins.hasattr}\n",
      "     6432    0.059    0.000    0.118    0.000 ops.py:6620(__enter__)\n",
      "     3216    0.008    0.000    0.109    0.000 trace.py:158(wrapped)\n",
      "     1072    0.011    0.000    0.103    0.000 core.py:661(call)\n",
      "     2144    0.004    0.000    0.103    0.000 constant_op.py:166(constant)\n",
      "     2144    0.008    0.000    0.102    0.000 encoder.py:96(to_play_endocing)\n",
      "     3216    0.023    0.000    0.101    0.000 ops.py:1481(convert_to_tensor)\n",
      "     1072    0.004    0.000    0.101    0.000 deprecation.py:504(new_func)\n",
      "     2144    0.016    0.000    0.098    0.000 constant_op.py:268(_constant_impl)\n",
      "     1072    0.005    0.000    0.098    0.000 gen_math_ops.py:1807(cast)\n",
      "    10410    0.046    0.000    0.097    0.000 hex.py:131(_search_from)\n",
      "     1072    0.002    0.000    0.096    0.000 ops.py:1340(convert_to_tensor_v2_with_dispatch)\n",
      "    70208    0.095    0.000    0.095    0.000 hexagonal_grid.py:8(__init__)\n",
      "     1072    0.003    0.000    0.094    0.000 ops.py:1408(convert_to_tensor_v2)\n",
      "     1072    0.022    0.000    0.093    0.000 sequential.py:263(_build_graph_network_for_inferred_shape)\n",
      "     3216    0.018    0.000    0.091    0.000 gen_nn_ops.py:10442(relu)\n",
      "     1072    0.005    0.000    0.091    0.000 nn_ops.py:3664(softmax)\n",
      "     1072    0.009    0.000    0.085    0.000 nn_ops.py:3578(_wrap_2d_function)\n",
      "     6432    0.024    0.000    0.076    0.000 base_layer.py:2433(_should_cast_single_input)\n",
      "     1072    0.018    0.000    0.074    0.000 base_layer.py:1606(_clear_losses)\n",
      "     1072    0.008    0.000    0.070    0.000 hex.py:176(available_actions_binary)\n",
      "     7504    0.021    0.000    0.070    0.000 ops.py:6402(name_scope)\n",
      "   356960    0.069    0.000    0.069    0.000 hexagonal_grid.py:30(get_neighbours)\n",
      "   448564    0.068    0.000    0.068    0.000 {method 'append' of 'list' objects}\n",
      "     4288    0.045    0.000    0.067    0.000 encoder.py:114(<listcomp>)\n",
      "     2144    0.004    0.000    0.067    0.000 constant_op.py:299(_constant_eager_impl)\n",
      "     1072    0.003    0.000    0.067    0.000 tensor_conversion_registry.py:50(_default_conversion_function)\n",
      "     1072    0.003    0.000    0.066    0.000 gen_nn_ops.py:10827(softmax)\n",
      "     2144    0.053    0.000    0.063    0.000 constant_op.py:70(convert_to_eager_tensor)\n",
      "    42880    0.023    0.000    0.061    0.000 abc.py:96(__instancecheck__)\n",
      "     9648    0.030    0.000    0.060    0.000 tensor_shape.py:758(<listcomp>)\n",
      "    12864    0.020    0.000    0.059    0.000 base_layer.py:958(<genexpr>)\n",
      "     1072    0.014    0.000    0.054    0.000 functional.py:608(_conform_to_reference_input)\n",
      "      100    0.001    0.000    0.053    0.001 monte_carlo_ts.py:55(_traverse_to_leaf)\n",
      "     6432    0.018    0.000    0.053    0.000 ops.py:6654(__exit__)\n",
      "    70208    0.053    0.000    0.053    0.000 hexagonal_grid.py:108(get_neighbouring_indecies)\n",
      "     3216    0.022    0.000    0.050    0.000 base_layer.py:2524(_set_mask_metadata)\n",
      "     2144    0.018    0.000    0.050    0.000 training.py:306(__setattr__)\n",
      "     1072    0.033    0.000    0.049    0.000 hex.py:180(<listcomp>)\n",
      "    10720    0.032    0.000    0.048    0.000 numeric.py:1308(normalize_axis_tuple)\n",
      "     6432    0.010    0.000    0.048    0.000 keras_tensor.py:51(keras_tensors_enabled)\n",
      "      100    0.004    0.000    0.047    0.000 hex.py:75(copy)\n",
      "     7504    0.011    0.000    0.045    0.000 ops.py:5744(executing_eagerly_outside_functions)\n",
      "     1072    0.005    0.000    0.044    0.000 gen_array_ops.py:8288(reshape)\n",
      "     3216    0.010    0.000    0.043    0.000 hex.py:182(get_state)\n",
      "    19296    0.035    0.000    0.043    0.000 ops.py:1041(dtype)\n",
      "    42880    0.034    0.000    0.042    0.000 {built-in method builtins.getattr}\n",
      "      148    0.001    0.000    0.041    0.000 monte_carlo_ts.py:129(tree_policy)\n",
      "     9648    0.009    0.000    0.041    0.000 dtypes.py:205(__ne__)\n",
      "     6432    0.019    0.000    0.039    0.000 base_layer.py:1186(_set_training_mode)\n",
      "     2144    0.017    0.000    0.039    0.000 encoder.py:101(<listcomp>)\n",
      "    42880    0.039    0.000    0.039    0.000 {built-in method _abc._abc_instancecheck}\n",
      "   150312    0.038    0.000    0.038    0.000 hexagonal_grid.py:33(set_piece)\n",
      "    11792    0.037    0.000    0.037    0.000 dtypes.py:192(__eq__)\n",
      "     6432    0.012    0.000    0.034    0.000 tensor_shape.py:1180(as_list)\n",
      "   228506    0.034    0.000    0.034    0.000 {built-in method builtins.abs}\n",
      "    12864    0.034    0.000    0.034    0.000 context.py:832(scope_name)\n",
      "     6432    0.021    0.000    0.034    0.000 base_layer.py:2562(_get_input_masks)\n",
      "      148    0.005    0.000    0.034    0.000 monte_carlo_ts.py:134(<dictcomp>)\n",
      "     3516    0.030    0.000    0.033    0.000 hex.py:102(get_NW_coordinates)\n",
      "     6432    0.022    0.000    0.032    0.000 base_layer_utils.py:453(enter)\n",
      "     6432    0.010    0.000    0.031    0.000 ops.py:6644(_restore_name_scope)\n",
      "    32160    0.026    0.000    0.030    0.000 tensor_shape.py:187(__init__)\n",
      "     1072    0.008    0.000    0.030    0.000 ops.py:1047(numpy)\n",
      "     1072    0.003    0.000    0.029    0.000 <__array_function__ internals>:2(concatenate)\n",
      "     2314    0.002    0.000    0.029    0.000 monte_carlo_ts.py:162(<lambda>)\n",
      "     3216    0.029    0.000    0.029    0.000 hex.py:187(<listcomp>)\n",
      "     2314    0.022    0.000    0.027    0.000 monte_carlo_ts.py:122(_utc)\n",
      "   116506    0.027    0.000    0.027    0.000 hexagonal_grid.py:24(get_row)\n",
      "   116506    0.027    0.000    0.027    0.000 hexagonal_grid.py:27(get_column)\n",
      "     6432    0.007    0.000    0.027    0.000 {built-in method builtins.all}\n",
      "    26800    0.019    0.000    0.026    0.000 tensor_shape.py:821(rank)\n",
      "    15008    0.026    0.000    0.026    0.000 {method 'reshape' of 'numpy.ndarray' objects}\n",
      "   114250    0.025    0.000    0.025    0.000 {built-in method builtins.len}\n",
      "     3516    0.021    0.000    0.023    0.000 hex.py:116(get_SW_coordinates)\n",
      "     6432    0.017    0.000    0.023    0.000 tensor_shape.py:1191(<listcomp>)\n",
      "     8152    0.020    0.000    0.022    0.000 hexagonal_grid.py:73(get_cells)\n",
      "     7504    0.007    0.000    0.022    0.000 dtypes.py:84(base_dtype)\n",
      "      100    0.001    0.000    0.022    0.000 monte_carlo_ts.py:65(_expand)\n",
      "     6432    0.021    0.000    0.021    0.000 autocast_variable.py:526(__init__)\n",
      "     3516    0.018    0.000    0.020    0.000 hex.py:123(get_SE_coordinates)\n",
      "     5176    0.014    0.000    0.020    0.000 hex.py:147(<listcomp>)\n",
      "     3216    0.020    0.000    0.020    0.000 encoder.py:92(<listcomp>)\n",
      "     2144    0.003    0.000    0.020    0.000 nest.py:545(pack_sequence_as)\n",
      "    70208    0.018    0.000    0.018    0.000 hexagonal_grid.py:39(__hash__)\n",
      "     6432    0.007    0.000    0.017    0.000 base_layer_utils.py:411(call_context)\n",
      "     2144    0.006    0.000    0.016    0.000 nest.py:505(_pack_sequence_as)\n",
      "     6432    0.010    0.000    0.016    0.000 autocast_variable.py:531(__enter__)\n",
      "     6432    0.014    0.000    0.015    0.000 ops.py:6602(__init__)\n",
      "    10720    0.012    0.000    0.015    0.000 shape_base.py:600(<listcomp>)\n",
      "     2144    0.006    0.000    0.015    0.000 training.py:311(<genexpr>)\n",
      "     5360    0.012    0.000    0.015    0.000 node.py:146(map_arguments)\n",
      "     7504    0.015    0.000    0.015    0.000 dtypes.py:71(_is_ref_dtype)\n",
      "     9648    0.015    0.000    0.015    0.000 {method '_shape_tuple' of 'tensorflow.python.framework.ops.EagerTensor' objects}\n",
      "     3516    0.012    0.000    0.014    0.000 hex.py:109(get_NE_coordinates)\n",
      "     1072    0.002    0.000    0.014    0.000 ops.py:1035(_numpy)\n",
      "    10720    0.006    0.000    0.014    0.000 _asarray.py:86(asanyarray)\n",
      "    12864    0.010    0.000    0.014    0.000 base_layer.py:3283(<genexpr>)\n",
      "     1072    0.005    0.000    0.013    0.000 base_layer.py:2605(_set_call_arg_value)\n",
      "     6432    0.013    0.000    0.013    0.000 autocast_variable.py:535(__exit__)\n",
      "     6432    0.013    0.000    0.013    0.000 base_layer_utils.py:536(__exit__)\n",
      "    10720    0.007    0.000    0.013    0.000 numeric.py:1358(<listcomp>)\n",
      "     1072    0.012    0.000    0.012    0.000 {method '_numpy_internal' of 'tensorflow.python.framework.ops.EagerTensor' objects}\n",
      "     1320    0.008    0.000    0.012    0.000 hex.py:92(make_action)\n",
      "     4288    0.010    0.000    0.012    0.000 nn_ops.py:68(_get_sequence)\n",
      "     6432    0.012    0.000    0.012    0.000 context.py:827(scope_name)\n",
      "     2144    0.012    0.000    0.012    0.000 base_layer.py:2823(__setattr__)\n",
      "      348    0.001    0.000    0.011    0.000 hex.py:173(available_actions)\n",
      "    10410    0.008    0.000    0.011    0.000 hex.py:155(<listcomp>)\n",
      "      942    0.008    0.000    0.011    0.000 {built-in method builtins.max}\n",
      "     6432    0.010    0.000    0.010    0.000 base_layer_utils.py:520(__enter__)\n",
      "     1072    0.010    0.000    0.010    0.000 actor.py:68(<dictcomp>)\n",
      "    40736    0.010    0.000    0.010    0.000 context.py:1849(context_safe)\n",
      "     6432    0.010    0.000    0.010    0.000 base_layer_utils.py:515(__init__)\n",
      "    18040    0.010    0.000    0.010    0.000 {method 'pop' of 'list' objects}\n",
      "     1072    0.007    0.000    0.010    0.000 sequential.py:541(relax_input_shape)\n",
      "      248    0.001    0.000    0.010    0.000 monte_carlo_ts.py:107(_is_leaf_node)\n",
      "     6432    0.010    0.000    0.010    0.000 base_layer.py:3036(_split_out_first_arg)\n",
      "      348    0.007    0.000    0.010    0.000 hex.py:174(<listcomp>)\n",
      "     4288    0.010    0.000    0.010    0.000 {built-in method tensorflow.python._pywrap_utils.IsSequence}\n",
      "     1072    0.002    0.000    0.009    0.000 base_layer_utils.py:854(has_weights)\n",
      "     3914    0.008    0.000    0.008    0.000 node.py:41(get_child)\n",
      "    32160    0.008    0.000    0.008    0.000 {method 'popleft' of 'collections.deque' objects}\n",
      "    19296    0.008    0.000    0.008    0.000 {method '_datatype_enum' of 'tensorflow.python.framework.ops.EagerTensor' objects}\n",
      "     1072    0.008    0.000    0.008    0.000 {method 'copy' of 'numpy.ndarray' objects}\n",
      "    34304    0.008    0.000    0.008    0.000 {built-in method builtins.id}\n",
      "    32160    0.008    0.000    0.008    0.000 {method 'add' of 'set' objects}\n",
      "     1072    0.003    0.000    0.008    0.000 functional.py:574(_flatten_to_reference_inputs)\n",
      "     2144    0.007    0.000    0.007    0.000 dtypes.py:606(as_dtype)\n",
      "    17152    0.007    0.000    0.007    0.000 encoder.py:22(<lambda>)\n",
      "    26800    0.007    0.000    0.007    0.000 tensor_shape.py:249(value)\n",
      "     1072    0.003    0.000    0.007    0.000 layer_utils.py:461(wrapped)\n",
      "     1072    0.005    0.000    0.007    0.000 tensor_shape.py:858(__iter__)\n",
      "     1072    0.002    0.000    0.006    0.000 context.py:2401(_tmp_in_graph_mode)\n",
      "     5360    0.005    0.000    0.006    0.000 tensor_shape.py:864(<genexpr>)\n",
      "     6432    0.006    0.000    0.006    0.000 base_layer.py:1252(name)\n",
      "    10720    0.006    0.000    0.006    0.000 functional.py:556(<genexpr>)\n",
      "     4288    0.006    0.000    0.006    0.000 nn_ops.py:3306(_tf_deterministic_ops)\n",
      "    10720    0.006    0.000    0.006    0.000 {built-in method numpy.core._multiarray_umath.normalize_axis_index}\n",
      "     1072    0.005    0.000    0.005    0.000 {method 'astype' of 'numpy.ndarray' objects}\n",
      "     6432    0.005    0.000    0.005    0.000 base_layer_utils.py:487(training)\n",
      "     2144    0.005    0.000    0.005    0.000 context.py:837(device_name)\n",
      "     7504    0.005    0.000    0.005    0.000 base_layer.py:1299(input_spec)\n",
      "     1072    0.003    0.000    0.005    0.000 tensor_shape.py:868(__getitem__)\n",
      "     3216    0.003    0.000    0.005    0.000 base_layer.py:2572(<listcomp>)\n",
      "     4288    0.004    0.000    0.004    0.000 base_layer.py:2535(<genexpr>)\n",
      "     4288    0.004    0.000    0.004    0.000 {method 'startswith' of 'str' objects}\n",
      "     2144    0.001    0.000    0.004    0.000 nest.py:655(<genexpr>)\n",
      "     1072    0.003    0.000    0.004    0.000 weakref.py:419(get)\n",
      "    22512    0.003    0.000    0.003    0.000 {built-in method builtins.next}\n",
      "      378    0.001    0.000    0.003    0.000 random.py:285(choice)\n",
      "      100    0.001    0.000    0.003    0.000 monte_carlo_ts.py:71(<listcomp>)\n",
      "    10720    0.003    0.000    0.003    0.000 nn_ops.py:1116(<genexpr>)\n",
      "     6432    0.003    0.000    0.003    0.000 tensor_shape.py:828(dims)\n",
      "     8153    0.003    0.000    0.003    0.000 {method 'values' of 'dict' objects}\n",
      "     7504    0.003    0.000    0.003    0.000 ops.py:175(__exit__)\n",
      "     2314    0.001    0.000    0.003    0.000 monte_carlo_ts.py:136(<lambda>)\n",
      "     6432    0.003    0.000    0.003    0.000 base_layer.py:2573(<genexpr>)\n",
      "    11792    0.003    0.000    0.003    0.000 {built-in method builtins.iter}\n",
      "    10720    0.003    0.000    0.003    0.000 shape_base.py:508(_expand_dims_dispatcher)\n",
      "     1072    0.003    0.000    0.003    0.000 {method 'sort' of 'list' objects}\n",
      "     2144    0.002    0.000    0.002    0.000 base_layer.py:879(compute_mask)\n",
      "     2144    0.002    0.000    0.002    0.000 context.py:773(_handle)\n",
      "     1072    0.002    0.000    0.002    0.000 tensor_util.py:992(is_tensor)\n",
      "     2144    0.002    0.000    0.002    0.000 {method 'get' of 'dict' objects}\n",
      "     2144    0.002    0.000    0.002    0.000 resource_variable_ops.py:528(shape)\n",
      "     2144    0.002    0.000    0.002    0.000 context.py:501(ensure_initialized)\n",
      "     7504    0.002    0.000    0.002    0.000 ops.py:169(__init__)\n",
      "     1072    0.002    0.000    0.002    0.000 keras_tensor.py:157(shape)\n",
      "      378    0.001    0.000    0.002    0.000 random.py:250(_randbelow_with_getrandbits)\n",
      "     4288    0.002    0.000    0.002    0.000 base_layer.py:2582(_call_arg_was_passed)\n",
      "     1072    0.001    0.000    0.002    0.000 tensor_conversion_registry.py:114(get)\n",
      "     5360    0.002    0.000    0.002    0.000 sequential.py:546(<genexpr>)\n",
      "     7504    0.002    0.000    0.002    0.000 ops.py:172(__enter__)\n",
      "     5361    0.002    0.000    0.002    0.000 {method 'items' of 'dict' objects}\n",
      "     2144    0.002    0.000    0.002    0.000 {method 'endswith' of 'str' objects}\n",
      "     2144    0.002    0.000    0.002    0.000 tensor_shape.py:792(_v2_behavior)\n",
      "     2315    0.002    0.000    0.002    0.000 {built-in method builtins.sum}\n",
      "     1072    0.002    0.000    0.002    0.000 backend.py:370(global_learning_phase_is_set)\n",
      "     3216    0.002    0.000    0.002    0.000 backend_config.py:67(floatx)\n",
      "      148    0.001    0.000    0.001    0.000 monte_carlo_ts.py:133(<listcomp>)\n",
      "     1072    0.001    0.000    0.001    0.000 ops.py:1181(get_shape)\n",
      "     3216    0.001    0.000    0.001    0.000 hex.py:89(get_size)\n",
      "     1072    0.001    0.000    0.001    0.000 tensor_shape.py:845(__len__)\n",
      "      100    0.001    0.000    0.001    0.000 monte_carlo_ts.py:90(_back_prop)\n",
      "     1072    0.001    0.000    0.001    0.000 {method 'random' of '_random.Random' objects}\n",
      "     1072    0.001    0.000    0.001    0.000 keras_tensor.py:340(dtype)\n",
      "     4311    0.001    0.000    0.001    0.000 node.py:24(get_children)\n",
      "     1172    0.001    0.000    0.001    0.000 hexagonal_grid.py:45(__init__)\n",
      "     2144    0.001    0.000    0.001    0.000 device_context.py:21(enclosing_tpu_context)\n",
      "      378    0.001    0.000    0.001    0.000 {method 'bit_length' of 'int' objects}\n",
      "      100    0.000    0.000    0.001    0.000 node.py:3(__init__)\n",
      "     1072    0.001    0.000    0.001    0.000 tf2.py:42(enabled)\n",
      "     1072    0.001    0.000    0.001    0.000 deprecation.py:614(deprecated_argument_lookup)\n",
      "     1498    0.001    0.000    0.001    0.000 {method 'keys' of 'dict' objects}\n",
      "     1072    0.001    0.000    0.001    0.000 {built-in method builtins.issubclass}\n",
      "     1072    0.000    0.000    0.000    0.000 multiarray.py:143(concatenate)\n",
      "     2144    0.000    0.000    0.000    0.000 {method 'pop' of 'dict' objects}\n",
      "     1072    0.000    0.000    0.000    0.000 {built-in method builtins.callable}\n",
      "      549    0.000    0.000    0.000    0.000 {method 'getrandbits' of '_random.Random' objects}\n",
      "      100    0.000    0.000    0.000    0.000 node.py:27(set_parent)\n",
      "      100    0.000    0.000    0.000    0.000 node.py:38(add_child)\n",
      "      100    0.000    0.000    0.000    0.000 node.py:32(set_depth)\n",
      "      200    0.000    0.000    0.000    0.000 hex.py:82(get_current_player)\n",
      "        1    0.000    0.000    0.000    0.000 monte_carlo_ts.py:182(<dictcomp>)\n",
      "        1    0.000    0.000    0.000    0.000 monte_carlo_ts.py:184(<dictcomp>)\n",
      "        1    0.000    0.000    0.000    0.000 {method 'disable' of '_lsprof.Profiler' objects}\n",
      "\n",
      "\n"
     ]
    }
   ],
   "source": [
    "cProfile.run('mcts.search(100)', sort='cumtime')"
   ]
  },
  {
   "cell_type": "code",
   "execution_count": 14,
   "metadata": {},
   "outputs": [
    {
     "name": "stdout",
     "output_type": "stream",
     "text": [
      "         6872 function calls (6863 primitive calls) in 0.008 seconds\n",
      "\n",
      "   Ordered by: cumulative time\n",
      "\n",
      "   ncalls  tottime  percall  cumtime  percall filename:lineno(function)\n",
      "        1    0.000    0.000    0.008    0.008 {built-in method builtins.exec}\n",
      "        1    0.000    0.000    0.008    0.008 <string>:1(<module>)\n",
      "        1    0.000    0.000    0.008    0.008 actor.py:59(get_action)\n",
      "      6/1    0.000    0.000    0.004    0.004 base_layer.py:901(__call__)\n",
      "        1    0.000    0.000    0.004    0.004 sequential.py:354(call)\n",
      "        1    0.000    0.000    0.004    0.004 functional.py:406(call)\n",
      "        1    0.000    0.000    0.004    0.004 functional.py:516(_run_internal_graph)\n",
      "        1    0.000    0.000    0.004    0.004 encoder.py:216(encode)\n",
      "        4    0.001    0.000    0.002    0.000 encoder.py:105(bridge_encoding)\n",
      "    17/13    0.000    0.000    0.002    0.000 dispatch.py:198(wrapper)\n",
      "       14    0.001    0.000    0.001    0.000 {built-in method tensorflow.python._pywrap_tfe.TFE_Py_FastPathExecute}\n",
      "        2    0.001    0.000    0.001    0.001 core.py:1206(call)\n",
      "        2    0.000    0.000    0.001    0.001 convolutional.py:244(call)\n",
      "        1    0.000    0.000    0.001    0.001 encoder.py:17(create_padded_env)\n",
      "        1    0.000    0.000    0.001    0.001 hex.py:54(__init__)\n",
      "        1    0.000    0.000    0.001    0.001 hexagonal_grid.py:98(__init__)\n",
      "        2    0.000    0.000    0.001    0.000 nn_ops.py:1003(convolution_v2)\n",
      "        2    0.000    0.000    0.001    0.000 nn_ops.py:1029(convolution_internal)\n",
      "        2    0.000    0.000    0.001    0.000 nn_ops.py:2583(_conv2d_expanded_batch)\n",
      "        2    0.000    0.000    0.001    0.000 gen_nn_ops.py:860(conv2d)\n",
      "        1    0.000    0.000    0.001    0.001 hexagonal_grid.py:48(generate_neighbours)\n",
      "        2    0.000    0.000    0.001    0.000 core.py:30(dense)\n",
      "       44    0.000    0.000    0.000    0.000 encoder.py:158(_process_save_endpoint)\n",
      "     1424    0.000    0.000    0.000    0.000 hexagonal_grid.py:62(get_cell)\n",
      "        4    0.000    0.000    0.000    0.000 nn_ops.py:3319(bias_add)\n",
      "        6    0.000    0.000    0.000    0.000 input_spec.py:159(assert_input_compatibility)\n",
      "       44    0.000    0.000    0.000    0.000 encoder.py:50(get_carrier_points)\n",
      "        5    0.000    0.000    0.000    0.000 base_layer.py:2405(_maybe_cast_inputs)\n",
      "        4    0.000    0.000    0.000    0.000 gen_nn_ops.py:646(bias_add)\n",
      "        2    0.000    0.000    0.000    0.000 gen_math_ops.py:5500(mat_mul)\n",
      "        3    0.000    0.000    0.000    0.000 activations.py:268(relu)\n",
      "        3    0.000    0.000    0.000    0.000 backend.py:4661(relu)\n",
      "        1    0.000    0.000    0.000    0.000 nest.py:582(map_structure)\n",
      "      322    0.000    0.000    0.000    0.000 hexagonal_grid.py:15(add_neighbour)\n",
      "     1046    0.000    0.000    0.000    0.000 hex.py:86(get_board)\n",
      "        2    0.000    0.000    0.000    0.000 math_ops.py:907(cast)\n",
      "       24    0.000    0.000    0.000    0.000 {built-in method builtins.any}\n",
      "        3    0.000    0.000    0.000    0.000 gen_nn_ops.py:10442(relu)\n",
      "        1    0.000    0.000    0.000    0.000 nest.py:659(<listcomp>)\n",
      "       11    0.000    0.000    0.000    0.000 {built-in method numpy.core._multiarray_umath.implement_array_function}\n",
      "        1    0.000    0.000    0.000    0.000 base_layer.py:2439(_cast_single_input)\n",
      "       10    0.000    0.000    0.000    0.000 <__array_function__ internals>:2(expand_dims)\n",
      "       19    0.000    0.000    0.000    0.000 {built-in method numpy.array}\n",
      "       35    0.000    0.000    0.000    0.000 nest.py:274(flatten)\n",
      "       31    0.000    0.000    0.000    0.000 ops.py:1168(shape)\n",
      "       36    0.000    0.000    0.000    0.000 base_layer.py:2913(_flatten_layers)\n",
      "      738    0.000    0.000    0.000    0.000 hexagonal_grid.py:36(get_piece)\n",
      "       10    0.000    0.000    0.000    0.000 shape_base.py:512(expand_dims)\n",
      "        6    0.000    0.000    0.000    0.000 base_layer.py:3278(_in_functional_construction_mode)\n",
      "       72    0.000    0.000    0.000    0.000 hex.py:196(set_piece)\n",
      "      192    0.000    0.000    0.000    0.000 {built-in method builtins.isinstance}\n",
      "        4    0.000    0.000    0.000    0.000 sequential.py:146(layers)\n",
      "       15    0.000    0.000    0.000    0.000 tensor_shape.py:748(__init__)\n",
      "        3    0.000    0.000    0.000    0.000 encoder.py:76(player_stones_encoding)\n",
      "       20    0.000    0.000    0.000    0.000 {built-in method builtins.hasattr}\n",
      "        1    0.000    0.000    0.000    0.000 base.py:513(_method_wrapper)\n",
      "       35    0.000    0.000    0.000    0.000 {built-in method tensorflow.python._pywrap_utils.Flatten}\n",
      "        4    0.000    0.000    0.000    0.000 training.py:2386(layers)\n",
      "        1    0.000    0.000    0.000    0.000 activations.py:44(softmax)\n",
      "       27    0.000    0.000    0.000    0.000 context.py:1874(executing_eagerly)\n",
      "        1    0.000    0.000    0.000    0.000 sequential.py:500(input_spec)\n",
      "        6    0.000    0.000    0.000    0.000 ops.py:6620(__enter__)\n",
      "        3    0.000    0.000    0.000    0.000 trace.py:158(wrapped)\n",
      "        2    0.000    0.000    0.000    0.000 constant_op.py:166(constant)\n",
      "        1    0.000    0.000    0.000    0.000 gen_math_ops.py:1807(cast)\n",
      "        3    0.000    0.000    0.000    0.000 ops.py:1481(convert_to_tensor)\n",
      "        1    0.000    0.000    0.000    0.000 core.py:661(call)\n",
      "        2    0.000    0.000    0.000    0.000 constant_op.py:268(_constant_impl)\n",
      "        1    0.000    0.000    0.000    0.000 ops.py:1340(convert_to_tensor_v2_with_dispatch)\n",
      "       37    0.000    0.000    0.000    0.000 context.py:815(executing_eagerly)\n",
      "        1    0.000    0.000    0.000    0.000 ops.py:1408(convert_to_tensor_v2)\n",
      "      104    0.000    0.000    0.000    0.000 encoder.py:45(get_bridge_end_points)\n",
      "        1    0.000    0.000    0.000    0.000 deprecation.py:504(new_func)\n",
      "        2    0.000    0.000    0.000    0.000 encoder.py:96(to_play_endocing)\n",
      "        6    0.000    0.000    0.000    0.000 base_layer.py:2433(_should_cast_single_input)\n",
      "        1    0.000    0.000    0.000    0.000 sequential.py:263(_build_graph_network_for_inferred_shape)\n",
      "        1    0.000    0.000    0.000    0.000 base_layer.py:1606(_clear_losses)\n",
      "        1    0.000    0.000    0.000    0.000 nn_ops.py:3664(softmax)\n",
      "        2    0.000    0.000    0.000    0.000 constant_op.py:299(_constant_eager_impl)\n",
      "        1    0.000    0.000    0.000    0.000 tensor_conversion_registry.py:50(_default_conversion_function)\n",
      "        6    0.000    0.000    0.000    0.000 ops.py:6654(__exit__)\n",
      "        3    0.000    0.000    0.000    0.000 base_layer.py:2524(_set_mask_metadata)\n",
      "        2    0.000    0.000    0.000    0.000 constant_op.py:70(convert_to_eager_tensor)\n",
      "      322    0.000    0.000    0.000    0.000 hexagonal_grid.py:30(get_neighbours)\n",
      "        7    0.000    0.000    0.000    0.000 ops.py:6402(name_scope)\n",
      "        1    0.000    0.000    0.000    0.000 nn_ops.py:3578(_wrap_2d_function)\n",
      "        9    0.000    0.000    0.000    0.000 tensor_shape.py:758(<listcomp>)\n",
      "      385    0.000    0.000    0.000    0.000 {method 'append' of 'list' objects}\n",
      "       64    0.000    0.000    0.000    0.000 hexagonal_grid.py:108(get_neighbouring_indecies)\n",
      "       64    0.000    0.000    0.000    0.000 hexagonal_grid.py:8(__init__)\n",
      "        1    0.000    0.000    0.000    0.000 hex.py:176(available_actions_binary)\n",
      "       40    0.000    0.000    0.000    0.000 abc.py:96(__instancecheck__)\n",
      "       12    0.000    0.000    0.000    0.000 base_layer.py:958(<genexpr>)\n",
      "        1    0.000    0.000    0.000    0.000 functional.py:608(_conform_to_reference_input)\n",
      "        6    0.000    0.000    0.000    0.000 keras_tensor.py:51(keras_tensors_enabled)\n",
      "        4    0.000    0.000    0.000    0.000 encoder.py:114(<listcomp>)\n",
      "        1    0.000    0.000    0.000    0.000 hex.py:180(<listcomp>)\n",
      "        6    0.000    0.000    0.000    0.000 base_layer.py:1186(_set_training_mode)\n",
      "       10    0.000    0.000    0.000    0.000 numeric.py:1308(normalize_axis_tuple)\n",
      "        7    0.000    0.000    0.000    0.000 ops.py:5744(executing_eagerly_outside_functions)\n",
      "        9    0.000    0.000    0.000    0.000 dtypes.py:205(__ne__)\n",
      "        1    0.000    0.000    0.000    0.000 gen_nn_ops.py:10827(softmax)\n",
      "       18    0.000    0.000    0.000    0.000 ops.py:1041(dtype)\n",
      "        2    0.000    0.000    0.000    0.000 training.py:306(__setattr__)\n",
      "       11    0.000    0.000    0.000    0.000 dtypes.py:192(__eq__)\n",
      "        6    0.000    0.000    0.000    0.000 ops.py:6644(_restore_name_scope)\n",
      "        1    0.000    0.000    0.000    0.000 ops.py:1047(numpy)\n",
      "      136    0.000    0.000    0.000    0.000 hexagonal_grid.py:33(set_piece)\n",
      "        3    0.000    0.000    0.000    0.000 hex.py:182(get_state)\n",
      "       40    0.000    0.000    0.000    0.000 {built-in method builtins.getattr}\n",
      "        6    0.000    0.000    0.000    0.000 base_layer.py:2562(_get_input_masks)\n",
      "        2    0.000    0.000    0.000    0.000 encoder.py:101(<listcomp>)\n",
      "        1    0.000    0.000    0.000    0.000 gen_array_ops.py:8288(reshape)\n",
      "       40    0.000    0.000    0.000    0.000 {built-in method _abc._abc_instancecheck}\n",
      "       12    0.000    0.000    0.000    0.000 context.py:832(scope_name)\n",
      "       30    0.000    0.000    0.000    0.000 tensor_shape.py:187(__init__)\n",
      "        6    0.000    0.000    0.000    0.000 base_layer_utils.py:453(enter)\n",
      "        6    0.000    0.000    0.000    0.000 tensor_shape.py:1180(as_list)\n",
      "       25    0.000    0.000    0.000    0.000 tensor_shape.py:821(rank)\n",
      "        6    0.000    0.000    0.000    0.000 {built-in method builtins.all}\n",
      "        3    0.000    0.000    0.000    0.000 hex.py:187(<listcomp>)\n",
      "      156    0.000    0.000    0.000    0.000 {built-in method builtins.abs}\n",
      "        2    0.000    0.000    0.000    0.000 nest.py:545(pack_sequence_as)\n",
      "        1    0.000    0.000    0.000    0.000 <__array_function__ internals>:2(concatenate)\n",
      "       96    0.000    0.000    0.000    0.000 hexagonal_grid.py:24(get_row)\n",
      "        6    0.000    0.000    0.000    0.000 autocast_variable.py:526(__init__)\n",
      "       96    0.000    0.000    0.000    0.000 hexagonal_grid.py:27(get_column)\n",
      "       14    0.000    0.000    0.000    0.000 {method 'reshape' of 'numpy.ndarray' objects}\n",
      "        6    0.000    0.000    0.000    0.000 tensor_shape.py:1191(<listcomp>)\n",
      "        7    0.000    0.000    0.000    0.000 dtypes.py:84(base_dtype)\n",
      "        3    0.000    0.000    0.000    0.000 encoder.py:92(<listcomp>)\n",
      "        2    0.000    0.000    0.000    0.000 nest.py:505(_pack_sequence_as)\n",
      "        1    0.000    0.000    0.000    0.000 ops.py:1035(_numpy)\n",
      "       64    0.000    0.000    0.000    0.000 hexagonal_grid.py:39(__hash__)\n",
      "       80    0.000    0.000    0.000    0.000 {built-in method builtins.len}\n",
      "        6    0.000    0.000    0.000    0.000 autocast_variable.py:531(__enter__)\n",
      "        6    0.000    0.000    0.000    0.000 ops.py:6602(__init__)\n",
      "        5    0.000    0.000    0.000    0.000 node.py:146(map_arguments)\n",
      "       10    0.000    0.000    0.000    0.000 shape_base.py:600(<listcomp>)\n",
      "        6    0.000    0.000    0.000    0.000 autocast_variable.py:535(__exit__)\n",
      "        6    0.000    0.000    0.000    0.000 base_layer_utils.py:536(__exit__)\n",
      "        6    0.000    0.000    0.000    0.000 base_layer_utils.py:411(call_context)\n",
      "        9    0.000    0.000    0.000    0.000 {method '_shape_tuple' of 'tensorflow.python.framework.ops.EagerTensor' objects}\n",
      "        1    0.000    0.000    0.000    0.000 base_layer.py:2605(_set_call_arg_value)\n",
      "       10    0.000    0.000    0.000    0.000 numeric.py:1358(<listcomp>)\n",
      "       12    0.000    0.000    0.000    0.000 base_layer.py:3283(<genexpr>)\n",
      "        1    0.000    0.000    0.000    0.000 actor.py:68(<dictcomp>)\n",
      "        2    0.000    0.000    0.000    0.000 hex.py:102(get_NW_coordinates)\n",
      "        2    0.000    0.000    0.000    0.000 hex.py:123(get_SE_coordinates)\n",
      "        4    0.000    0.000    0.000    0.000 nn_ops.py:68(_get_sequence)\n",
      "        1    0.000    0.000    0.000    0.000 {method '_numpy_internal' of 'tensorflow.python.framework.ops.EagerTensor' objects}\n",
      "        6    0.000    0.000    0.000    0.000 base_layer_utils.py:520(__enter__)\n",
      "        7    0.000    0.000    0.000    0.000 hexagonal_grid.py:73(get_cells)\n",
      "       10    0.000    0.000    0.000    0.000 _asarray.py:86(asanyarray)\n",
      "        2    0.000    0.000    0.000    0.000 hex.py:116(get_SW_coordinates)\n",
      "        6    0.000    0.000    0.000    0.000 context.py:827(scope_name)\n",
      "        6    0.000    0.000    0.000    0.000 base_layer_utils.py:515(__init__)\n",
      "        7    0.000    0.000    0.000    0.000 dtypes.py:71(_is_ref_dtype)\n",
      "        2    0.000    0.000    0.000    0.000 training.py:311(<genexpr>)\n",
      "       38    0.000    0.000    0.000    0.000 context.py:1849(context_safe)\n",
      "        6    0.000    0.000    0.000    0.000 base_layer.py:3036(_split_out_first_arg)\n",
      "        2    0.000    0.000    0.000    0.000 hex.py:109(get_NE_coordinates)\n",
      "        1    0.000    0.000    0.000    0.000 layer_utils.py:461(wrapped)\n",
      "        4    0.000    0.000    0.000    0.000 {built-in method tensorflow.python._pywrap_utils.IsSequence}\n",
      "       18    0.000    0.000    0.000    0.000 {method '_datatype_enum' of 'tensorflow.python.framework.ops.EagerTensor' objects}\n",
      "        1    0.000    0.000    0.000    0.000 sequential.py:541(relax_input_shape)\n",
      "        2    0.000    0.000    0.000    0.000 dtypes.py:606(as_dtype)\n",
      "        1    0.000    0.000    0.000    0.000 context.py:2401(_tmp_in_graph_mode)\n",
      "        1    0.000    0.000    0.000    0.000 {method 'copy' of 'numpy.ndarray' objects}\n",
      "       25    0.000    0.000    0.000    0.000 tensor_shape.py:249(value)\n",
      "       30    0.000    0.000    0.000    0.000 {method 'add' of 'set' objects}\n",
      "        2    0.000    0.000    0.000    0.000 base_layer.py:2823(__setattr__)\n",
      "       32    0.000    0.000    0.000    0.000 {built-in method builtins.id}\n",
      "        1    0.000    0.000    0.000    0.000 {built-in method builtins.max}\n",
      "        6    0.000    0.000    0.000    0.000 base_layer_utils.py:487(training)\n",
      "       12    0.000    0.000    0.000    0.000 {method 'pop' of 'list' objects}\n",
      "        1    0.000    0.000    0.000    0.000 functional.py:574(_flatten_to_reference_inputs)\n",
      "       10    0.000    0.000    0.000    0.000 functional.py:556(<genexpr>)\n",
      "        1    0.000    0.000    0.000    0.000 {method 'astype' of 'numpy.ndarray' objects}\n",
      "       16    0.000    0.000    0.000    0.000 encoder.py:22(<lambda>)\n",
      "        1    0.000    0.000    0.000    0.000 tensor_shape.py:868(__getitem__)\n",
      "       10    0.000    0.000    0.000    0.000 {built-in method numpy.core._multiarray_umath.normalize_axis_index}\n",
      "        4    0.000    0.000    0.000    0.000 base_layer.py:2535(<genexpr>)\n",
      "       30    0.000    0.000    0.000    0.000 {method 'popleft' of 'collections.deque' objects}\n",
      "        3    0.000    0.000    0.000    0.000 base_layer.py:2572(<listcomp>)\n",
      "        7    0.000    0.000    0.000    0.000 base_layer.py:1299(input_spec)\n",
      "        6    0.000    0.000    0.000    0.000 base_layer.py:1252(name)\n",
      "        1    0.000    0.000    0.000    0.000 weakref.py:419(get)\n",
      "        4    0.000    0.000    0.000    0.000 nn_ops.py:3306(_tf_deterministic_ops)\n",
      "        1    0.000    0.000    0.000    0.000 tensor_shape.py:858(__iter__)\n",
      "        4    0.000    0.000    0.000    0.000 {method 'startswith' of 'str' objects}\n",
      "        2    0.000    0.000    0.000    0.000 context.py:837(device_name)\n",
      "        2    0.000    0.000    0.000    0.000 nest.py:655(<genexpr>)\n",
      "        5    0.000    0.000    0.000    0.000 tensor_shape.py:864(<genexpr>)\n",
      "        1    0.000    0.000    0.000    0.000 base_layer_utils.py:854(has_weights)\n",
      "       21    0.000    0.000    0.000    0.000 {built-in method builtins.next}\n",
      "        1    0.000    0.000    0.000    0.000 tensor_conversion_registry.py:114(get)\n",
      "       10    0.000    0.000    0.000    0.000 nn_ops.py:1116(<genexpr>)\n",
      "        6    0.000    0.000    0.000    0.000 tensor_shape.py:828(dims)\n",
      "        7    0.000    0.000    0.000    0.000 ops.py:175(__exit__)\n",
      "        1    0.000    0.000    0.000    0.000 tensor_util.py:992(is_tensor)\n",
      "        1    0.000    0.000    0.000    0.000 keras_tensor.py:157(shape)\n",
      "       10    0.000    0.000    0.000    0.000 shape_base.py:508(_expand_dims_dispatcher)\n",
      "        2    0.000    0.000    0.000    0.000 resource_variable_ops.py:528(shape)\n",
      "       11    0.000    0.000    0.000    0.000 {built-in method builtins.iter}\n",
      "        2    0.000    0.000    0.000    0.000 context.py:501(ensure_initialized)\n",
      "        2    0.000    0.000    0.000    0.000 context.py:773(_handle)\n",
      "        1    0.000    0.000    0.000    0.000 backend.py:370(global_learning_phase_is_set)\n",
      "        5    0.000    0.000    0.000    0.000 {method 'items' of 'dict' objects}\n",
      "        7    0.000    0.000    0.000    0.000 ops.py:172(__enter__)\n",
      "        4    0.000    0.000    0.000    0.000 base_layer.py:2582(_call_arg_was_passed)\n",
      "        6    0.000    0.000    0.000    0.000 base_layer.py:2573(<genexpr>)\n",
      "        7    0.000    0.000    0.000    0.000 {method 'values' of 'dict' objects}\n",
      "        1    0.000    0.000    0.000    0.000 {method 'sort' of 'list' objects}\n",
      "        5    0.000    0.000    0.000    0.000 sequential.py:546(<genexpr>)\n",
      "        7    0.000    0.000    0.000    0.000 ops.py:169(__init__)\n",
      "        3    0.000    0.000    0.000    0.000 backend_config.py:67(floatx)\n",
      "        2    0.000    0.000    0.000    0.000 base_layer.py:879(compute_mask)\n",
      "        2    0.000    0.000    0.000    0.000 tensor_shape.py:792(_v2_behavior)\n",
      "        1    0.000    0.000    0.000    0.000 ops.py:1181(get_shape)\n",
      "        2    0.000    0.000    0.000    0.000 {method 'get' of 'dict' objects}\n",
      "        2    0.000    0.000    0.000    0.000 {method 'endswith' of 'str' objects}\n",
      "        1    0.000    0.000    0.000    0.000 hexagonal_grid.py:45(__init__)\n",
      "        1    0.000    0.000    0.000    0.000 tensor_shape.py:845(__len__)\n",
      "        3    0.000    0.000    0.000    0.000 hex.py:89(get_size)\n",
      "        1    0.000    0.000    0.000    0.000 keras_tensor.py:340(dtype)\n",
      "        1    0.000    0.000    0.000    0.000 {method 'random' of '_random.Random' objects}\n",
      "        1    0.000    0.000    0.000    0.000 tf2.py:42(enabled)\n",
      "        2    0.000    0.000    0.000    0.000 device_context.py:21(enclosing_tpu_context)\n",
      "        1    0.000    0.000    0.000    0.000 deprecation.py:614(deprecated_argument_lookup)\n",
      "        1    0.000    0.000    0.000    0.000 {built-in method builtins.callable}\n",
      "        2    0.000    0.000    0.000    0.000 {method 'pop' of 'dict' objects}\n",
      "        1    0.000    0.000    0.000    0.000 multiarray.py:143(concatenate)\n",
      "        1    0.000    0.000    0.000    0.000 {built-in method builtins.issubclass}\n",
      "        1    0.000    0.000    0.000    0.000 {method 'disable' of '_lsprof.Profiler' objects}\n",
      "        1    0.000    0.000    0.000    0.000 {method 'keys' of 'dict' objects}\n",
      "\n",
      "\n"
     ]
    }
   ],
   "source": [
    "cProfile.run('actor.get_action(h)', sort='cumtime')"
   ]
  },
  {
   "cell_type": "code",
   "execution_count": 15,
   "metadata": {},
   "outputs": [
    {
     "name": "stdout",
     "output_type": "stream",
     "text": [
      "         5413 function calls in 0.004 seconds\n",
      "\n",
      "   Ordered by: cumulative time\n",
      "\n",
      "   ncalls  tottime  percall  cumtime  percall filename:lineno(function)\n",
      "        1    0.000    0.000    0.004    0.004 {built-in method builtins.exec}\n",
      "        1    0.000    0.000    0.004    0.004 <string>:1(<module>)\n",
      "        1    0.000    0.000    0.004    0.004 encoder.py:216(encode)\n",
      "        4    0.001    0.000    0.002    0.001 encoder.py:105(bridge_encoding)\n",
      "        1    0.000    0.000    0.001    0.001 encoder.py:17(create_padded_env)\n",
      "        1    0.000    0.000    0.001    0.001 hex.py:54(__init__)\n",
      "        1    0.000    0.000    0.001    0.001 hexagonal_grid.py:98(__init__)\n",
      "        1    0.000    0.000    0.001    0.001 hexagonal_grid.py:48(generate_neighbours)\n",
      "     1424    0.001    0.000    0.001    0.000 hexagonal_grid.py:62(get_cell)\n",
      "       44    0.000    0.000    0.000    0.000 encoder.py:158(_process_save_endpoint)\n",
      "       44    0.000    0.000    0.000    0.000 encoder.py:50(get_carrier_points)\n",
      "       11    0.000    0.000    0.000    0.000 {built-in method numpy.core._multiarray_umath.implement_array_function}\n",
      "     1045    0.000    0.000    0.000    0.000 hex.py:86(get_board)\n",
      "      322    0.000    0.000    0.000    0.000 hexagonal_grid.py:15(add_neighbour)\n",
      "       19    0.000    0.000    0.000    0.000 {built-in method numpy.array}\n",
      "       10    0.000    0.000    0.000    0.000 <__array_function__ internals>:2(expand_dims)\n",
      "        1    0.000    0.000    0.000    0.000 dispatch.py:198(wrapper)\n",
      "        1    0.000    0.000    0.000    0.000 ops.py:1340(convert_to_tensor_v2_with_dispatch)\n",
      "        1    0.000    0.000    0.000    0.000 ops.py:1408(convert_to_tensor_v2)\n",
      "        3    0.000    0.000    0.000    0.000 encoder.py:76(player_stones_encoding)\n",
      "        1    0.000    0.000    0.000    0.000 trace.py:158(wrapped)\n",
      "        1    0.000    0.000    0.000    0.000 ops.py:1481(convert_to_tensor)\n",
      "       72    0.000    0.000    0.000    0.000 hex.py:196(set_piece)\n",
      "       10    0.000    0.000    0.000    0.000 shape_base.py:512(expand_dims)\n",
      "        1    0.000    0.000    0.000    0.000 tensor_conversion_registry.py:50(_default_conversion_function)\n",
      "      722    0.000    0.000    0.000    0.000 hexagonal_grid.py:36(get_piece)\n",
      "        1    0.000    0.000    0.000    0.000 constant_op.py:166(constant)\n",
      "        1    0.000    0.000    0.000    0.000 constant_op.py:268(_constant_impl)\n",
      "      104    0.000    0.000    0.000    0.000 encoder.py:45(get_bridge_end_points)\n",
      "        1    0.000    0.000    0.000    0.000 <__array_function__ internals>:2(concatenate)\n",
      "        2    0.000    0.000    0.000    0.000 encoder.py:96(to_play_endocing)\n",
      "       64    0.000    0.000    0.000    0.000 hexagonal_grid.py:108(get_neighbouring_indecies)\n",
      "      322    0.000    0.000    0.000    0.000 hexagonal_grid.py:30(get_neighbours)\n",
      "        1    0.000    0.000    0.000    0.000 constant_op.py:299(_constant_eager_impl)\n",
      "        1    0.000    0.000    0.000    0.000 constant_op.py:70(convert_to_eager_tensor)\n",
      "      378    0.000    0.000    0.000    0.000 {method 'append' of 'list' objects}\n",
      "       64    0.000    0.000    0.000    0.000 hexagonal_grid.py:8(__init__)\n",
      "        4    0.000    0.000    0.000    0.000 encoder.py:114(<listcomp>)\n",
      "       10    0.000    0.000    0.000    0.000 numeric.py:1308(normalize_axis_tuple)\n",
      "        1    0.000    0.000    0.000    0.000 context.py:815(executing_eagerly)\n",
      "      136    0.000    0.000    0.000    0.000 hexagonal_grid.py:33(set_piece)\n",
      "        3    0.000    0.000    0.000    0.000 hex.py:182(get_state)\n",
      "        2    0.000    0.000    0.000    0.000 encoder.py:101(<listcomp>)\n",
      "       13    0.000    0.000    0.000    0.000 {method 'reshape' of 'numpy.ndarray' objects}\n",
      "       80    0.000    0.000    0.000    0.000 hexagonal_grid.py:24(get_row)\n",
      "        3    0.000    0.000    0.000    0.000 hex.py:187(<listcomp>)\n",
      "      156    0.000    0.000    0.000    0.000 {built-in method builtins.abs}\n",
      "        3    0.000    0.000    0.000    0.000 encoder.py:92(<listcomp>)\n",
      "       80    0.000    0.000    0.000    0.000 hexagonal_grid.py:27(get_column)\n",
      "       64    0.000    0.000    0.000    0.000 hexagonal_grid.py:39(__hash__)\n",
      "       10    0.000    0.000    0.000    0.000 shape_base.py:600(<listcomp>)\n",
      "       10    0.000    0.000    0.000    0.000 numeric.py:1358(<listcomp>)\n",
      "        2    0.000    0.000    0.000    0.000 hex.py:102(get_NW_coordinates)\n",
      "       10    0.000    0.000    0.000    0.000 _asarray.py:86(asanyarray)\n",
      "        2    0.000    0.000    0.000    0.000 hex.py:123(get_SE_coordinates)\n",
      "        2    0.000    0.000    0.000    0.000 hex.py:116(get_SW_coordinates)\n",
      "        2    0.000    0.000    0.000    0.000 hex.py:109(get_NE_coordinates)\n",
      "        6    0.000    0.000    0.000    0.000 hexagonal_grid.py:73(get_cells)\n",
      "        1    0.000    0.000    0.000    0.000 {method 'astype' of 'numpy.ndarray' objects}\n",
      "       16    0.000    0.000    0.000    0.000 encoder.py:22(<lambda>)\n",
      "       14    0.000    0.000    0.000    0.000 {built-in method builtins.isinstance}\n",
      "       31    0.000    0.000    0.000    0.000 {built-in method builtins.len}\n",
      "       10    0.000    0.000    0.000    0.000 {built-in method numpy.core._multiarray_umath.normalize_axis_index}\n",
      "        1    0.000    0.000    0.000    0.000 tensor_conversion_registry.py:114(get)\n",
      "        1    0.000    0.000    0.000    0.000 context.py:837(device_name)\n",
      "       21    0.000    0.000    0.000    0.000 {built-in method builtins.next}\n",
      "       10    0.000    0.000    0.000    0.000 shape_base.py:508(_expand_dims_dispatcher)\n",
      "        1    0.000    0.000    0.000    0.000 {built-in method builtins.getattr}\n",
      "        1    0.000    0.000    0.000    0.000 hexagonal_grid.py:45(__init__)\n",
      "       10    0.000    0.000    0.000    0.000 {built-in method builtins.iter}\n",
      "        6    0.000    0.000    0.000    0.000 {method 'values' of 'dict' objects}\n",
      "        1    0.000    0.000    0.000    0.000 context.py:1849(context_safe)\n",
      "        1    0.000    0.000    0.000    0.000 context.py:501(ensure_initialized)\n",
      "        3    0.000    0.000    0.000    0.000 hex.py:89(get_size)\n",
      "        1    0.000    0.000    0.000    0.000 context.py:773(_handle)\n",
      "        1    0.000    0.000    0.000    0.000 multiarray.py:143(concatenate)\n",
      "        1    0.000    0.000    0.000    0.000 {method 'disable' of '_lsprof.Profiler' objects}\n",
      "        1    0.000    0.000    0.000    0.000 {built-in method builtins.issubclass}\n",
      "\n",
      "\n"
     ]
    }
   ],
   "source": [
    "cProfile.run('encoder.encode(h)', sort='cumtime')"
   ]
  },
  {
   "cell_type": "code",
   "execution_count": 21,
   "metadata": {},
   "outputs": [],
   "source": [
    "actor = Actor(learning_rate=0.001,\n",
    "             epsilon=0.25,\n",
    "             end_epsilon=0.05,\n",
    "             nn_shape=(155,128,25),\n",
    "             filters=(128, 128, 64),\n",
    "             kernel_sizes=((5,5),(3,3),(1,1)),\n",
    "                nn_opt='Adam',\n",
    "              nn_activation='relu',\n",
    "              nn_last_activation='softmax',\n",
    "              nn_loss= 'categorical_crossentropy',\n",
    "              encoder=encoder\n",
    "             )"
   ]
  },
  {
   "cell_type": "code",
   "execution_count": 22,
   "metadata": {},
   "outputs": [
    {
     "ename": "ValueError",
     "evalue": "This model has not yet been built. Build the model first by calling `build()` or calling `fit()` with some data, or specify an `input_shape` argument in the first layer(s) for automatic build.",
     "output_type": "error",
     "traceback": [
      "\u001b[0;31m---------------------------------------------------------------------------\u001b[0m",
      "\u001b[0;31mValueError\u001b[0m                                Traceback (most recent call last)",
      "\u001b[0;32m<ipython-input-22-74392ace26df>\u001b[0m in \u001b[0;36m<module>\u001b[0;34m\u001b[0m\n\u001b[0;32m----> 1\u001b[0;31m \u001b[0mactor\u001b[0m\u001b[0;34m.\u001b[0m\u001b[0mmodel\u001b[0m\u001b[0;34m.\u001b[0m\u001b[0msummary\u001b[0m\u001b[0;34m(\u001b[0m\u001b[0;34m)\u001b[0m\u001b[0;34m\u001b[0m\u001b[0;34m\u001b[0m\u001b[0m\n\u001b[0m",
      "\u001b[0;32m~/opt/anaconda3/lib/python3.8/site-packages/tensorflow/python/keras/engine/training.py\u001b[0m in \u001b[0;36msummary\u001b[0;34m(self, line_length, positions, print_fn)\u001b[0m\n\u001b[1;32m   2374\u001b[0m     \"\"\"\n\u001b[1;32m   2375\u001b[0m     \u001b[0;32mif\u001b[0m \u001b[0;32mnot\u001b[0m \u001b[0mself\u001b[0m\u001b[0;34m.\u001b[0m\u001b[0mbuilt\u001b[0m\u001b[0;34m:\u001b[0m\u001b[0;34m\u001b[0m\u001b[0;34m\u001b[0m\u001b[0m\n\u001b[0;32m-> 2376\u001b[0;31m       raise ValueError('This model has not yet been built. '\n\u001b[0m\u001b[1;32m   2377\u001b[0m                        \u001b[0;34m'Build the model first by calling `build()` or calling '\u001b[0m\u001b[0;34m\u001b[0m\u001b[0;34m\u001b[0m\u001b[0m\n\u001b[1;32m   2378\u001b[0m                        \u001b[0;34m'`fit()` with some data, or specify '\u001b[0m\u001b[0;34m\u001b[0m\u001b[0;34m\u001b[0m\u001b[0m\n",
      "\u001b[0;31mValueError\u001b[0m: This model has not yet been built. Build the model first by calling `build()` or calling `fit()` with some data, or specify an `input_shape` argument in the first layer(s) for automatic build."
     ]
    }
   ],
   "source": []
  },
  {
   "cell_type": "code",
   "execution_count": null,
   "metadata": {},
   "outputs": [],
   "source": []
  }
 ],
 "metadata": {
  "kernelspec": {
   "display_name": "Python 3",
   "language": "python",
   "name": "python3"
  },
  "language_info": {
   "codemirror_mode": {
    "name": "ipython",
    "version": 3
   },
   "file_extension": ".py",
   "mimetype": "text/x-python",
   "name": "python",
   "nbconvert_exporter": "python",
   "pygments_lexer": "ipython3",
   "version": "3.8.5"
  }
 },
 "nbformat": 4,
 "nbformat_minor": 4
}
