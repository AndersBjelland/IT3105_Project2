{
 "cells": [
  {
   "cell_type": "code",
   "execution_count": 1,
   "metadata": {},
   "outputs": [],
   "source": [
    "from src import *"
   ]
  },
  {
   "cell_type": "code",
   "execution_count": 2,
   "metadata": {},
   "outputs": [],
   "source": [
    "encoder = HexEncoder(padding=2)\n",
    "actor1 = Actor(learning_rate=0.01,\n",
    "             epsilon=0,\n",
    "             end_epsilon=0,\n",
    "              encoder=encoder,\n",
    "               load_from='Models/first6_6120.h5'\n",
    "             )\n",
    "actor2 = Actor(learning_rate=0.01,\n",
    "             epsilon=0,\n",
    "             end_epsilon=0,\n",
    "              encoder=encoder,\n",
    "               load_from='Models/third6_680.h5'\n",
    "             )\n",
    "\n",
    "agent1 = Agent(actor1)\n",
    "agent2 = Agent(actor2)"
   ]
  },
  {
   "cell_type": "code",
   "execution_count": 10,
   "metadata": {},
   "outputs": [],
   "source": [
    "topp = Topp(agents=[agent1, agent2], env=Hex((6,6)), number_of_games=1000)"
   ]
  },
  {
   "cell_type": "code",
   "execution_count": 12,
   "metadata": {},
   "outputs": [
    {
     "data": {
      "text/plain": [
       "{<src.agent.Agent at 0x102812970>: 469, <src.agent.Agent at 0x102812ca0>: 531}"
      ]
     },
     "execution_count": 12,
     "metadata": {},
     "output_type": "execute_result"
    }
   ],
   "source": [
    "topp.topp()"
   ]
  },
  {
   "cell_type": "code",
   "execution_count": null,
   "metadata": {},
   "outputs": [],
   "source": []
  }
 ],
 "metadata": {
  "kernelspec": {
   "display_name": "Python 3",
   "language": "python",
   "name": "python3"
  },
  "language_info": {
   "codemirror_mode": {
    "name": "ipython",
    "version": 3
   },
   "file_extension": ".py",
   "mimetype": "text/x-python",
   "name": "python",
   "nbconvert_exporter": "python",
   "pygments_lexer": "ipython3",
   "version": "3.8.5"
  }
 },
 "nbformat": 4,
 "nbformat_minor": 4
}
