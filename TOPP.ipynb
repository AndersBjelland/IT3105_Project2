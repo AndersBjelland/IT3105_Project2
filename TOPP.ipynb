{
 "cells": [
  {
   "cell_type": "code",
   "execution_count": 1,
   "metadata": {},
   "outputs": [],
   "source": [
    "from src import *"
   ]
  },
  {
   "cell_type": "code",
   "execution_count": 2,
   "metadata": {},
   "outputs": [],
   "source": [
    "encoder = SimpleHexEncoder(padding=0)\n",
    "actor1 = Actor(learning_rate=0.01,\n",
    "             epsilon=0,\n",
    "             end_epsilon=0,\n",
    "              encoder=encoder,\n",
    "               load_from='test_4_4sim/0.h5'\n",
    "             )\n",
    "critic1 = Critic(learning_rate=0.01,\n",
    "             nn_loss = 'mse',\n",
    "              encoder=encoder,\n",
    "               load_from='test_4_4sim/_critic_0.h5'\n",
    "             )\n",
    "\n",
    "encoder = DemoEncoder()\n",
    "actor2 = Actor(learning_rate=0.01,\n",
    "             epsilon=0,\n",
    "             end_epsilon=0,\n",
    "              encoder=encoder,\n",
    "               load_from='test_4_4sim/10.h5'\n",
    "             )\n",
    "\n",
    "critic2 = Critic(learning_rate=0.01,\n",
    "             nn_loss = 'mse',\n",
    "              encoder=encoder,\n",
    "               load_from='test_4_4sim/_critic_10.h5'\n",
    "             )\n",
    "\n",
    "agent1 = Agent(actor1, critic1)\n",
    "agent2 = Agent(actor2, critic2)"
   ]
  },
  {
   "cell_type": "code",
   "execution_count": 3,
   "metadata": {},
   "outputs": [],
   "source": [
    "hex = Hex((4,4))\n",
    "encoder = SimpleHexEncoder(padding=0)\n",
    "hex.set_encoder(encoder)"
   ]
  },
  {
   "cell_type": "code",
   "execution_count": 15,
   "metadata": {},
   "outputs": [],
   "source": [
    "hex = Hex((4,4))\n",
    "encoder = HexEncoder(padding=2)\n",
    "hex.set_encoder(encoder)\n",
    "\n",
    "actor = Actor(learning_rate=0.001,\n",
    "             epsilon=0,\n",
    "             end_epsilon=0,\n",
    "              encoder=encoder,\n",
    "               load_from='test4_4/10.h5'\n",
    "             )\n",
    "\n",
    "\n",
    "#agent1 = Agent(actor1)\n",
    "agent1 = Agent(actor)"
   ]
  },
  {
   "cell_type": "code",
   "execution_count": 16,
   "metadata": {},
   "outputs": [],
   "source": [
    "actor = Actor(learning_rate=0.001,\n",
    "             epsilon=0,\n",
    "             end_epsilon=0,\n",
    "              encoder=encoder,\n",
    "               load_from='test4_4/0.h5'\n",
    "             )\n",
    "\n",
    "\n",
    "#agent1 = Agent(actor1)\n",
    "agent2 = Agent(actor)"
   ]
  },
  {
   "cell_type": "code",
   "execution_count": 11,
   "metadata": {},
   "outputs": [
    {
     "data": {
      "text/plain": [
       "(0, 3)"
      ]
     },
     "execution_count": 11,
     "metadata": {},
     "output_type": "execute_result"
    }
   ],
   "source": [
    "e = Hex((4,4))\n",
    "\n",
    "actor1.get_action(e)"
   ]
  },
  {
   "cell_type": "code",
   "execution_count": 7,
   "metadata": {},
   "outputs": [
    {
     "ename": "ValueError",
     "evalue": "Input 0 of layer sequential_8 is incompatible with the layer: expected axis -1 of input shape to have value 32 but received input with shape (1, 4, 4, 4)",
     "output_type": "error",
     "traceback": [
      "\u001b[0;31m---------------------------------------------------------------------------\u001b[0m",
      "\u001b[0;31mValueError\u001b[0m                                Traceback (most recent call last)",
      "\u001b[0;32m<ipython-input-7-3badd3453d0e>\u001b[0m in \u001b[0;36m<module>\u001b[0;34m\u001b[0m\n\u001b[0;32m----> 1\u001b[0;31m \u001b[0mactor2\u001b[0m\u001b[0;34m.\u001b[0m\u001b[0mget_action\u001b[0m\u001b[0;34m(\u001b[0m\u001b[0me\u001b[0m\u001b[0;34m)\u001b[0m\u001b[0;34m\u001b[0m\u001b[0;34m\u001b[0m\u001b[0m\n\u001b[0m",
      "\u001b[0;32m~/vscodeProjects/IT3105/Project2/src/actor.py\u001b[0m in \u001b[0;36mget_action\u001b[0;34m(self, env)\u001b[0m\n\u001b[1;32m     60\u001b[0m         \u001b[0mfeature_maps\u001b[0m \u001b[0;34m=\u001b[0m \u001b[0mself\u001b[0m\u001b[0;34m.\u001b[0m\u001b[0mencoder\u001b[0m\u001b[0;34m.\u001b[0m\u001b[0mencode\u001b[0m\u001b[0;34m(\u001b[0m\u001b[0menv\u001b[0m\u001b[0;34m)\u001b[0m \u001b[0;31m# env.encoder.get_encoding()\u001b[0m\u001b[0;34m\u001b[0m\u001b[0;34m\u001b[0m\u001b[0m\n\u001b[1;32m     61\u001b[0m \u001b[0;34m\u001b[0m\u001b[0m\n\u001b[0;32m---> 62\u001b[0;31m         \u001b[0mprob_dist\u001b[0m \u001b[0;34m=\u001b[0m \u001b[0mself\u001b[0m\u001b[0;34m.\u001b[0m\u001b[0mmodel\u001b[0m\u001b[0;34m(\u001b[0m\u001b[0mfeature_maps\u001b[0m\u001b[0;34m)\u001b[0m\u001b[0;34m.\u001b[0m\u001b[0mnumpy\u001b[0m\u001b[0;34m(\u001b[0m\u001b[0;34m)\u001b[0m\u001b[0;34m.\u001b[0m\u001b[0mreshape\u001b[0m\u001b[0;34m(\u001b[0m\u001b[0;34m(\u001b[0m\u001b[0;34m-\u001b[0m\u001b[0;36m1\u001b[0m\u001b[0;34m,\u001b[0m\u001b[0;34m)\u001b[0m\u001b[0;34m)\u001b[0m\u001b[0;34m\u001b[0m\u001b[0;34m\u001b[0m\u001b[0m\n\u001b[0m\u001b[1;32m     63\u001b[0m \u001b[0;34m\u001b[0m\u001b[0m\n\u001b[1;32m     64\u001b[0m         \u001b[0;31m# legal moves is a list with tuples like [ (1, (1,2)), (0,(0,0)) ]\u001b[0m\u001b[0;34m\u001b[0m\u001b[0;34m\u001b[0m\u001b[0;34m\u001b[0m\u001b[0m\n",
      "\u001b[0;32m~/opt/anaconda3/lib/python3.8/site-packages/tensorflow/python/keras/engine/base_layer.py\u001b[0m in \u001b[0;36m__call__\u001b[0;34m(self, *args, **kwargs)\u001b[0m\n\u001b[1;32m    996\u001b[0m         \u001b[0minputs\u001b[0m \u001b[0;34m=\u001b[0m \u001b[0mself\u001b[0m\u001b[0;34m.\u001b[0m\u001b[0m_maybe_cast_inputs\u001b[0m\u001b[0;34m(\u001b[0m\u001b[0minputs\u001b[0m\u001b[0;34m,\u001b[0m \u001b[0minput_list\u001b[0m\u001b[0;34m)\u001b[0m\u001b[0;34m\u001b[0m\u001b[0;34m\u001b[0m\u001b[0m\n\u001b[1;32m    997\u001b[0m \u001b[0;34m\u001b[0m\u001b[0m\n\u001b[0;32m--> 998\u001b[0;31m       \u001b[0minput_spec\u001b[0m\u001b[0;34m.\u001b[0m\u001b[0massert_input_compatibility\u001b[0m\u001b[0;34m(\u001b[0m\u001b[0mself\u001b[0m\u001b[0;34m.\u001b[0m\u001b[0minput_spec\u001b[0m\u001b[0;34m,\u001b[0m \u001b[0minputs\u001b[0m\u001b[0;34m,\u001b[0m \u001b[0mself\u001b[0m\u001b[0;34m.\u001b[0m\u001b[0mname\u001b[0m\u001b[0;34m)\u001b[0m\u001b[0;34m\u001b[0m\u001b[0;34m\u001b[0m\u001b[0m\n\u001b[0m\u001b[1;32m    999\u001b[0m       \u001b[0;32mif\u001b[0m \u001b[0meager\u001b[0m\u001b[0;34m:\u001b[0m\u001b[0;34m\u001b[0m\u001b[0;34m\u001b[0m\u001b[0m\n\u001b[1;32m   1000\u001b[0m         \u001b[0mcall_fn\u001b[0m \u001b[0;34m=\u001b[0m \u001b[0mself\u001b[0m\u001b[0;34m.\u001b[0m\u001b[0mcall\u001b[0m\u001b[0;34m\u001b[0m\u001b[0;34m\u001b[0m\u001b[0m\n",
      "\u001b[0;32m~/opt/anaconda3/lib/python3.8/site-packages/tensorflow/python/keras/engine/input_spec.py\u001b[0m in \u001b[0;36massert_input_compatibility\u001b[0;34m(input_spec, inputs, layer_name)\u001b[0m\n\u001b[1;32m    253\u001b[0m           \u001b[0mvalue\u001b[0m \u001b[0;34m=\u001b[0m \u001b[0mvalue\u001b[0m\u001b[0;34m.\u001b[0m\u001b[0mvalue\u001b[0m\u001b[0;34m\u001b[0m\u001b[0;34m\u001b[0m\u001b[0m\n\u001b[1;32m    254\u001b[0m         \u001b[0;32mif\u001b[0m \u001b[0mvalue\u001b[0m \u001b[0;32mis\u001b[0m \u001b[0;32mnot\u001b[0m \u001b[0;32mNone\u001b[0m \u001b[0;32mand\u001b[0m \u001b[0mshape_as_list\u001b[0m\u001b[0;34m[\u001b[0m\u001b[0mint\u001b[0m\u001b[0;34m(\u001b[0m\u001b[0maxis\u001b[0m\u001b[0;34m)\u001b[0m\u001b[0;34m]\u001b[0m \u001b[0;32mnot\u001b[0m \u001b[0;32min\u001b[0m \u001b[0;34m{\u001b[0m\u001b[0mvalue\u001b[0m\u001b[0;34m,\u001b[0m \u001b[0;32mNone\u001b[0m\u001b[0;34m}\u001b[0m\u001b[0;34m:\u001b[0m\u001b[0;34m\u001b[0m\u001b[0;34m\u001b[0m\u001b[0m\n\u001b[0;32m--> 255\u001b[0;31m           raise ValueError(\n\u001b[0m\u001b[1;32m    256\u001b[0m               \u001b[0;34m'Input '\u001b[0m \u001b[0;34m+\u001b[0m \u001b[0mstr\u001b[0m\u001b[0;34m(\u001b[0m\u001b[0minput_index\u001b[0m\u001b[0;34m)\u001b[0m \u001b[0;34m+\u001b[0m \u001b[0;34m' of layer '\u001b[0m \u001b[0;34m+\u001b[0m \u001b[0mlayer_name\u001b[0m \u001b[0;34m+\u001b[0m \u001b[0;34m' is'\u001b[0m\u001b[0;34m\u001b[0m\u001b[0;34m\u001b[0m\u001b[0m\n\u001b[1;32m    257\u001b[0m               \u001b[0;34m' incompatible with the layer: expected axis '\u001b[0m \u001b[0;34m+\u001b[0m \u001b[0mstr\u001b[0m\u001b[0;34m(\u001b[0m\u001b[0maxis\u001b[0m\u001b[0;34m)\u001b[0m \u001b[0;34m+\u001b[0m\u001b[0;34m\u001b[0m\u001b[0;34m\u001b[0m\u001b[0m\n",
      "\u001b[0;31mValueError\u001b[0m: Input 0 of layer sequential_8 is incompatible with the layer: expected axis -1 of input shape to have value 32 but received input with shape (1, 4, 4, 4)"
     ]
    }
   ],
   "source": [
    "actor2.get_action(e)"
   ]
  },
  {
   "cell_type": "code",
   "execution_count": 4,
   "metadata": {},
   "outputs": [],
   "source": [
    "topp = Topp(agents=[agent1, agent2], env=hex, number_of_games=100)"
   ]
  },
  {
   "cell_type": "code",
   "execution_count": 5,
   "metadata": {},
   "outputs": [
    {
     "data": {
      "text/plain": [
       "{<src.agent.Agent at 0x13655f220>: 50, <src.agent.Agent at 0x136575f10>: 50}"
      ]
     },
     "execution_count": 5,
     "metadata": {},
     "output_type": "execute_result"
    }
   ],
   "source": [
    "topp.topp()"
   ]
  },
  {
   "cell_type": "code",
   "execution_count": 20,
   "metadata": {},
   "outputs": [],
   "source": [
    "with open('test_4_4dem/replay_buffer_6_6.pkl','rb') as f:\n",
    "    replay = pickle.load(f)\n",
    "    "
   ]
  },
  {
   "cell_type": "code",
   "execution_count": 21,
   "metadata": {},
   "outputs": [
    {
     "data": {
      "text/plain": [
       "103"
      ]
     },
     "execution_count": 21,
     "metadata": {},
     "output_type": "execute_result"
    }
   ],
   "source": [
    "len(replay)"
   ]
  },
  {
   "cell_type": "code",
   "execution_count": 23,
   "metadata": {},
   "outputs": [
    {
     "data": {
      "text/plain": [
       "[(<src.hex.Hex at 0x144ab69d0>,\n",
       "  {(1, 0): 0.01,\n",
       "   (2, 0): 0.01,\n",
       "   (0, 2): 0.01,\n",
       "   (3, 0): 0.03,\n",
       "   (2, 3): 0.01,\n",
       "   (1, 2): 0.01,\n",
       "   (1, 3): 0.15,\n",
       "   (2, 1): 0.32,\n",
       "   (3, 1): 0.01,\n",
       "   (1, 1): 0.01,\n",
       "   (0, 1): 0.01,\n",
       "   (3, 2): 0.01,\n",
       "   (0, 0): 0.03,\n",
       "   (3, 3): 0.01,\n",
       "   (0, 3): 0.14,\n",
       "   (2, 2): 0.23},\n",
       "  1),\n",
       " (<src.hex.Hex at 0x145256eb0>,\n",
       "  {(2, 3): 0.06557377049180328,\n",
       "   (2, 1): 0.19672131147540983,\n",
       "   (3, 1): 0.01639344262295082,\n",
       "   (0, 0): 0.01639344262295082,\n",
       "   (0, 1): 0.01639344262295082,\n",
       "   (0, 2): 0.09836065573770492,\n",
       "   (1, 3): 0.22950819672131148,\n",
       "   (0, 3): 0.0819672131147541,\n",
       "   (1, 1): 0.00819672131147541,\n",
       "   (1, 2): 0.00819672131147541,\n",
       "   (3, 0): 0.03278688524590164,\n",
       "   (3, 3): 0.00819672131147541,\n",
       "   (2, 0): 0.20491803278688525,\n",
       "   (3, 2): 0.00819672131147541,\n",
       "   (1, 0): 0.00819672131147541},\n",
       "  0),\n",
       " (<src.hex.Hex at 0x1453af490>,\n",
       "  {(1, 2): 0.15748031496062992,\n",
       "   (1, 0): 0.007874015748031496,\n",
       "   (2, 3): 0.25196850393700787,\n",
       "   (3, 1): 0.007874015748031496,\n",
       "   (3, 3): 0.007874015748031496,\n",
       "   (3, 0): 0.3307086614173228,\n",
       "   (0, 3): 0.007874015748031496,\n",
       "   (3, 2): 0.007874015748031496,\n",
       "   (2, 0): 0.007874015748031496,\n",
       "   (1, 1): 0.031496062992125984,\n",
       "   (0, 0): 0.007874015748031496,\n",
       "   (0, 2): 0.007874015748031496,\n",
       "   (2, 1): 0.007874015748031496,\n",
       "   (0, 1): 0.15748031496062992},\n",
       "  1),\n",
       " (<src.hex.Hex at 0x1452d6430>,\n",
       "  {(0, 0): 0.19148936170212766,\n",
       "   (2, 0): 0.06382978723404255,\n",
       "   (0, 2): 0.1347517730496454,\n",
       "   (1, 0): 0.02127659574468085,\n",
       "   (3, 3): 0.04964539007092199,\n",
       "   (1, 1): 0.02127659574468085,\n",
       "   (2, 1): 0.02127659574468085,\n",
       "   (2, 3): 0.0851063829787234,\n",
       "   (1, 2): 0.02127659574468085,\n",
       "   (0, 3): 0.04964539007092199,\n",
       "   (3, 1): 0.2978723404255319,\n",
       "   (0, 1): 0.02127659574468085,\n",
       "   (3, 2): 0.02127659574468085},\n",
       "  0),\n",
       " (<src.hex.Hex at 0x1452d6070>,\n",
       "  {(2, 1): 0.007936507936507936,\n",
       "   (1, 2): 0.007936507936507936,\n",
       "   (0, 2): 0.10317460317460317,\n",
       "   (3, 3): 0.007936507936507936,\n",
       "   (0, 1): 0.007936507936507936,\n",
       "   (0, 3): 0.07142857142857142,\n",
       "   (2, 3): 0.25396825396825395,\n",
       "   (2, 0): 0.007936507936507936,\n",
       "   (1, 1): 0.007936507936507936,\n",
       "   (3, 2): 0.007936507936507936,\n",
       "   (3, 1): 0.38888888888888884,\n",
       "   (1, 0): 0.12698412698412698},\n",
       "  1),\n",
       " (<src.hex.Hex at 0x145136c70>,\n",
       "  {(0, 2): 0.018518518518518517,\n",
       "   (3, 2): 0.018518518518518517,\n",
       "   (3, 1): 0.25,\n",
       "   (1, 1): 0.1388888888888889,\n",
       "   (0, 1): 0.018518518518518517,\n",
       "   (3, 3): 0.037037037037037035,\n",
       "   (1, 2): 0.2037037037037037,\n",
       "   (1, 0): 0.06481481481481481,\n",
       "   (2, 0): 0.17592592592592593,\n",
       "   (2, 3): 0.037037037037037035,\n",
       "   (2, 1): 0.037037037037037035},\n",
       "  0),\n",
       " (<src.hex.Hex at 0x144a75c70>,\n",
       "  {(3, 3): 0.00847457627118644,\n",
       "   (2, 1): 0.00847457627118644,\n",
       "   (0, 1): 0.00847457627118644,\n",
       "   (2, 3): 0.13559322033898305,\n",
       "   (3, 2): 0.00847457627118644,\n",
       "   (3, 1): 0.0423728813559322,\n",
       "   (0, 2): 0.00847457627118644,\n",
       "   (1, 1): 0.00847457627118644,\n",
       "   (1, 2): 0.7627118644067796,\n",
       "   (1, 0): 0.00847457627118644},\n",
       "  1),\n",
       " (<src.hex.Hex at 0x1451363a0>,\n",
       "  {(2, 3): 0.12698412698412698,\n",
       "   (0, 2): 0.10582010582010581,\n",
       "   (3, 1): 0.1693121693121693,\n",
       "   (2, 1): 0.12698412698412698,\n",
       "   (1, 0): 0.10582010582010581,\n",
       "   (0, 1): 0.07936507936507936,\n",
       "   (3, 3): 0.07936507936507936,\n",
       "   (1, 1): 0.12698412698412698,\n",
       "   (3, 2): 0.07936507936507936},\n",
       "  0),\n",
       " (<src.hex.Hex at 0x1453b6a60>,\n",
       "  {(2, 1): 0.2520325203252033,\n",
       "   (0, 2): 0.008130081300813009,\n",
       "   (3, 2): 0.008130081300813009,\n",
       "   (3, 3): 0.10569105691056911,\n",
       "   (0, 1): 0.008130081300813009,\n",
       "   (1, 0): 0.15447154471544716,\n",
       "   (3, 1): 0.2520325203252033,\n",
       "   (1, 1): 0.21138211382113822},\n",
       "  1),\n",
       " (<src.hex.Hex at 0x1453b6a30>,\n",
       "  {(1, 2): 0.01,\n",
       "   (3, 3): 0.1,\n",
       "   (2, 0): 0.01,\n",
       "   (0, 1): 0.07,\n",
       "   (2, 1): 0.29,\n",
       "   (0, 0): 0.03,\n",
       "   (1, 0): 0.09,\n",
       "   (1, 1): 0.01,\n",
       "   (3, 1): 0.15,\n",
       "   (2, 2): 0.01,\n",
       "   (0, 2): 0.01,\n",
       "   (3, 2): 0.01,\n",
       "   (1, 3): 0.01,\n",
       "   (3, 0): 0.01,\n",
       "   (2, 3): 0.07,\n",
       "   (0, 3): 0.12},\n",
       "  0),\n",
       " (<src.hex.Hex at 0x1453b6bb0>,\n",
       "  {(3, 1): 0.0859375,\n",
       "   (3, 0): 0.046875,\n",
       "   (2, 0): 0.0234375,\n",
       "   (0, 1): 0.1015625,\n",
       "   (3, 3): 0.0234375,\n",
       "   (1, 0): 0.046875,\n",
       "   (0, 3): 0.15625,\n",
       "   (1, 3): 0.0703125,\n",
       "   (0, 0): 0.0234375,\n",
       "   (2, 3): 0.15625,\n",
       "   (2, 2): 0.1484375,\n",
       "   (1, 2): 0.0234375,\n",
       "   (1, 1): 0.0234375,\n",
       "   (0, 2): 0.0234375,\n",
       "   (3, 2): 0.046875},\n",
       "  1),\n",
       " (<src.hex.Hex at 0x1453a7040>,\n",
       "  {(3, 1): 0.00847457627118644,\n",
       "   (1, 0): 0.00847457627118644,\n",
       "   (1, 2): 0.288135593220339,\n",
       "   (0, 0): 0.00847457627118644,\n",
       "   (3, 2): 0.1271186440677966,\n",
       "   (1, 3): 0.00847457627118644,\n",
       "   (2, 0): 0.1440677966101695,\n",
       "   (0, 2): 0.13559322033898305,\n",
       "   (2, 3): 0.06779661016949153,\n",
       "   (0, 3): 0.03389830508474576,\n",
       "   (3, 3): 0.03389830508474576,\n",
       "   (1, 1): 0.00847457627118644,\n",
       "   (3, 0): 0.00847457627118644,\n",
       "   (0, 1): 0.11864406779661017},\n",
       "  0)]"
      ]
     },
     "execution_count": 23,
     "metadata": {},
     "output_type": "execute_result"
    }
   ],
   "source": [
    "replay[:12]"
   ]
  },
  {
   "cell_type": "code",
   "execution_count": 28,
   "metadata": {},
   "outputs": [
    {
     "data": {
      "image/png": "[encoded data removed]",
      "text/plain": [
       "<Figure size 432x288 with 1 Axes>"
      ]
     },
     "metadata": {},
     "output_type": "display_data"
    }
   ],
   "source": [
    "replay[8][0].display_board()"
   ]
  },
  {
   "cell_type": "code",
   "execution_count": 29,
   "metadata": {},
   "outputs": [
    {
     "data": {
      "text/plain": [
       "{(2, 1): 0.2520325203252033,\n",
       " (0, 2): 0.008130081300813009,\n",
       " (3, 2): 0.008130081300813009,\n",
       " (3, 3): 0.10569105691056911,\n",
       " (0, 1): 0.008130081300813009,\n",
       " (1, 0): 0.15447154471544716,\n",
       " (3, 1): 0.2520325203252033,\n",
       " (1, 1): 0.21138211382113822}"
      ]
     },
     "execution_count": 29,
     "metadata": {},
     "output_type": "execute_result"
    }
   ],
   "source": [
    "replay[8][1]"
   ]
  },
  {
   "cell_type": "code",
   "execution_count": 52,
   "metadata": {},
   "outputs": [
    {
     "name": "stdout",
     "output_type": "stream",
     "text": [
      "first replay:  3\n",
      "Epoch 1/10\n",
      "1/1 [==============================] - 0s 390ms/step - loss: 0.2591 - accuracy: 0.4444\n",
      "Epoch 2/10\n",
      "1/1 [==============================] - 0s 4ms/step - loss: 0.2590 - accuracy: 0.5556\n",
      "Epoch 3/10\n",
      "1/1 [==============================] - 0s 7ms/step - loss: 0.2590 - accuracy: 0.5556\n",
      "Epoch 4/10\n",
      "1/1 [==============================] - 0s 6ms/step - loss: 0.2589 - accuracy: 0.5556\n",
      "Epoch 5/10\n",
      "1/1 [==============================] - 0s 35ms/step - loss: 0.2589 - accuracy: 0.5556\n",
      "Epoch 6/10\n",
      "1/1 [==============================] - 0s 34ms/step - loss: 0.2588 - accuracy: 0.5556\n",
      "Epoch 7/10\n",
      "1/1 [==============================] - 0s 30ms/step - loss: 0.2587 - accuracy: 0.5556\n",
      "Epoch 8/10\n",
      "1/1 [==============================] - 0s 13ms/step - loss: 0.2587 - accuracy: 0.5556\n",
      "Epoch 9/10\n",
      "1/1 [==============================] - 0s 7ms/step - loss: 0.2586 - accuracy: 0.5556\n",
      "Epoch 10/10\n",
      "1/1 [==============================] - 0s 7ms/step - loss: 0.2586 - accuracy: 0.5556\n"
     ]
    },
    {
     "data": {
      "text/plain": [
       "<tensorflow.python.keras.callbacks.History at 0x146c41640>"
      ]
     },
     "execution_count": 52,
     "metadata": {},
     "output_type": "execute_result"
    }
   ],
   "source": [
    "critic = Critic(learning_rate=0.001,\n",
    "             epsilon=0,\n",
    "             end_epsilon=0,\n",
    "             nn_shape=(32,256,128,1),\n",
    "             filters=(),\n",
    "             kernel_sizes=(),\n",
    "                nn_opt='SGD',\n",
    "              nn_activation='relu',\n",
    "              nn_last_activation='sigmoid',\n",
    "              nn_loss= 'mse',\n",
    "              encoder=encoder\n",
    "             )\n",
    "critic.end_of_episode(replay[:9], epochs=10)"
   ]
  },
  {
   "cell_type": "code",
   "execution_count": 35,
   "metadata": {},
   "outputs": [
    {
     "data": {
      "text/plain": [
       "<tf.Tensor: shape=(1, 32), dtype=int64, numpy=\n",
       "array([[0, 0, 0, 0, 0, 0, 0, 0, 0, 0, 0, 0, 0, 0, 0, 0, 0, 0, 0, 0, 0, 0,\n",
       "        0, 0, 0, 0, 0, 0, 0, 0, 0, 0]])>"
      ]
     },
     "execution_count": 35,
     "metadata": {},
     "output_type": "execute_result"
    }
   ],
   "source": [
    "replay[0][0].encoder.get_encoding()"
   ]
  },
  {
   "cell_type": "code",
   "execution_count": null,
   "metadata": {},
   "outputs": [],
   "source": []
  }
 ],
 "metadata": {
  "kernelspec": {
   "display_name": "Python 3",
   "language": "python",
   "name": "python3"
  },
  "language_info": {
   "codemirror_mode": {
    "name": "ipython",
    "version": 3
   },
   "file_extension": ".py",
   "mimetype": "text/x-python",
   "name": "python",
   "nbconvert_exporter": "python",
   "pygments_lexer": "ipython3",
   "version": "3.8.5"
  }
 },
 "nbformat": 4,
 "nbformat_minor": 4
}
